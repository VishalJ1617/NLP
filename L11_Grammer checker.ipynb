{
 "cells": [
  {
   "cell_type": "code",
   "execution_count": 1,
   "id": "b009b1b1",
   "metadata": {},
   "outputs": [
    {
     "name": "stdout",
     "output_type": "stream",
     "text": [
      "Collecting language-tool-python\n",
      "  Downloading language_tool_python-2.7.1-py3-none-any.whl (34 kB)\n",
      "Requirement already satisfied: requests in /home/dai/anaconda3/lib/python3.11/site-packages (from language-tool-python) (2.31.0)\n",
      "Requirement already satisfied: tqdm in /home/dai/anaconda3/lib/python3.11/site-packages (from language-tool-python) (4.65.0)\n",
      "Requirement already satisfied: charset-normalizer<4,>=2 in /home/dai/anaconda3/lib/python3.11/site-packages (from requests->language-tool-python) (2.0.4)\n",
      "Requirement already satisfied: idna<4,>=2.5 in /home/dai/anaconda3/lib/python3.11/site-packages (from requests->language-tool-python) (3.4)\n",
      "Requirement already satisfied: urllib3<3,>=1.21.1 in /home/dai/anaconda3/lib/python3.11/site-packages (from requests->language-tool-python) (1.26.18)\n",
      "Requirement already satisfied: certifi>=2017.4.17 in /home/dai/anaconda3/lib/python3.11/site-packages (from requests->language-tool-python) (2023.11.17)\n",
      "Installing collected packages: language-tool-python\n",
      "Successfully installed language-tool-python-2.7.1\n"
     ]
    }
   ],
   "source": [
    "#!pip install language-tool-python"
   ]
  },
  {
   "cell_type": "code",
   "execution_count": 2,
   "id": "0835316f",
   "metadata": {},
   "outputs": [],
   "source": [
    "#Import the library\n",
    "import language_tool_python"
   ]
  },
  {
   "cell_type": "code",
   "execution_count": 3,
   "id": "d476c7ca",
   "metadata": {},
   "outputs": [
    {
     "name": "stderr",
     "output_type": "stream",
     "text": [
      "Downloading LanguageTool 5.7: 100%|██████████| 225M/225M [00:03<00:00, 61.4MB/s]\n",
      "Unzipping /tmp/tmpg4a37rew.zip to /home/dai/.cache/language_tool_python.\n",
      "Downloaded https://www.languagetool.org/download/LanguageTool-5.7.zip to /home/dai/.cache/language_tool_python.\n"
     ]
    }
   ],
   "source": [
    "#using the tool\n",
    "my_tool=language_tool_python.LanguageTool('en-US')"
   ]
  },
  {
   "cell_type": "code",
   "execution_count": 4,
   "id": "91871756",
   "metadata": {},
   "outputs": [],
   "source": [
    "#given text\n",
    "my_text=\"\"\"He have collected an documents.I is there.\"\"\""
   ]
  },
  {
   "cell_type": "code",
   "execution_count": 5,
   "id": "1568f9b3",
   "metadata": {},
   "outputs": [
    {
     "name": "stdout",
     "output_type": "stream",
     "text": [
      "Offset 3, length 4, Rule ID: HE_VERB_AGR\n",
      "Message: The pronoun ‘He’ is usually used with a third-person or a past tense verb.\n",
      "Suggestion: has; had\n",
      "He have collected an documents.I is there.\n",
      "   ^^^^\n",
      "Offset 18, length 12, Rule ID: A_NNS\n",
      "Message: The plural noun “documents” cannot be used with the article “an”. Did you mean “an document” or “documents”?\n",
      "Suggestion: an document; documents\n",
      "He have collected an documents.I is there.\n",
      "                  ^^^^^^^^^^^^\n",
      "Offset 31, length 1, Rule ID: SENTENCE_WHITESPACE\n",
      "Message: Add a space between sentences.\n",
      "Suggestion:  I\n",
      "He have collected an documents.I is there.\n",
      "                               ^\n",
      "Offset 33, length 2, Rule ID: PERS_PRONOUN_AGREEMENT\n",
      "Message: Did you mean “am” or “will be”?\n",
      "Suggestion: am; will be\n",
      "He have collected an documents.I is there.\n",
      "                                 ^^\n"
     ]
    }
   ],
   "source": [
    "#getting the matches\n",
    "my_matches=my_tool.check(my_text)\n",
    "\n",
    "#Printing matches\n",
    "for m in my_matches:\n",
    "    print(m)"
   ]
  },
  {
   "cell_type": "code",
   "execution_count": 6,
   "id": "e877fac1",
   "metadata": {},
   "outputs": [
    {
     "data": {
      "text/plain": [
       "'He has collected an document. I am there.'"
      ]
     },
     "execution_count": 6,
     "metadata": {},
     "output_type": "execute_result"
    }
   ],
   "source": [
    "my_tool.correct(my_text)"
   ]
  },
  {
   "cell_type": "code",
   "execution_count": 10,
   "id": "2b2f23e0",
   "metadata": {},
   "outputs": [
    {
     "ename": "AttributeError",
     "evalue": "'LanguageTool' object has no attribute 'python_LanguageTools'",
     "output_type": "error",
     "traceback": [
      "\u001b[0;31m---------------------------------------------------------------------------\u001b[0m",
      "\u001b[0;31mAttributeError\u001b[0m                            Traceback (most recent call last)",
      "Cell \u001b[0;32mIn[10], line 1\u001b[0m\n\u001b[0;32m----> 1\u001b[0m help(my_tool\u001b[38;5;241m.\u001b[39mpython_LanguageTools)\n",
      "\u001b[0;31mAttributeError\u001b[0m: 'LanguageTool' object has no attribute 'python_LanguageTools'"
     ]
    }
   ],
   "source": [
    "help(my_tool.python_LanguageTools)"
   ]
  },
  {
   "cell_type": "code",
   "execution_count": null,
   "id": "370b06bf",
   "metadata": {},
   "outputs": [],
   "source": []
  }
 ],
 "metadata": {
  "kernelspec": {
   "display_name": "Python 3 (ipykernel)",
   "language": "python",
   "name": "python3"
  },
  "language_info": {
   "codemirror_mode": {
    "name": "ipython",
    "version": 3
   },
   "file_extension": ".py",
   "mimetype": "text/x-python",
   "name": "python",
   "nbconvert_exporter": "python",
   "pygments_lexer": "ipython3",
   "version": "3.11.5"
  }
 },
 "nbformat": 4,
 "nbformat_minor": 5
}
