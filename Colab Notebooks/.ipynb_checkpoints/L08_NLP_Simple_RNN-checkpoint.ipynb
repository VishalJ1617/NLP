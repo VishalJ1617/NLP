{
 "cells": [
  {
   "cell_type": "code",
   "execution_count": 1,
   "metadata": {
    "executionInfo": {
     "elapsed": 7575,
     "status": "ok",
     "timestamp": 1702884544043,
     "user": {
      "displayName": "Vishal Jagadale",
      "userId": "11393755916970364780"
     },
     "user_tz": -330
    },
    "id": "9fm-9XqFqjXm"
   },
   "outputs": [],
   "source": [
    "import numpy as np\n",
    "import tensorflow as tf\n",
    "import tensorflow_datasets as tfds"
   ]
  },
  {
   "cell_type": "code",
   "execution_count": 2,
   "metadata": {
    "executionInfo": {
     "elapsed": 728,
     "status": "ok",
     "timestamp": 1702884544762,
     "user": {
      "displayName": "Vishal Jagadale",
      "userId": "11393755916970364780"
     },
     "user_tz": -330
    },
    "id": "ENxxK_8Yq-0x"
   },
   "outputs": [],
   "source": [
    "imdb,info=tfds.load('imdb_reviews',with_info=True,as_supervised=True)"
   ]
  },
  {
   "cell_type": "code",
   "execution_count": 3,
   "metadata": {
    "executionInfo": {
     "elapsed": 10,
     "status": "ok",
     "timestamp": 1702884544763,
     "user": {
      "displayName": "Vishal Jagadale",
      "userId": "11393755916970364780"
     },
     "user_tz": -330
    },
    "id": "vsJCqm2Lro78"
   },
   "outputs": [],
   "source": [
    "train_data,test_data=imdb['train'],imdb['test']"
   ]
  },
  {
   "cell_type": "code",
   "execution_count": 4,
   "metadata": {
    "executionInfo": {
     "elapsed": 39861,
     "status": "ok",
     "timestamp": 1702884584617,
     "user": {
      "displayName": "Vishal Jagadale",
      "userId": "11393755916970364780"
     },
     "user_tz": -330
    },
    "id": "1ct3zzSMrnov"
   },
   "outputs": [],
   "source": [
    "training_sentences=[]\n",
    "testing_sentences=[]\n",
    "training_labels=[]\n",
    "testing_labels=[]\n",
    "for s,l in train_data:\n",
    "  training_sentences.append(str(s.numpy()))\n",
    "  training_labels.append(l.numpy())\n",
    "\n",
    "for s,l in test_data:\n",
    "  testing_sentences.append(str(s.numpy()))\n",
    "  testing_labels.append(l.numpy())\n"
   ]
  },
  {
   "cell_type": "code",
   "execution_count": 5,
   "metadata": {
    "colab": {
     "base_uri": "https://localhost:8080/",
     "height": 87
    },
    "executionInfo": {
     "elapsed": 31,
     "status": "ok",
     "timestamp": 1702884584618,
     "user": {
      "displayName": "Vishal Jagadale",
      "userId": "11393755916970364780"
     },
     "user_tz": -330
    },
    "id": "TzZVlWdYtHle",
    "outputId": "4f3d786d-6e88-48f8-f152-f5437c72dded"
   },
   "outputs": [
    {
     "data": {
      "application/vnd.google.colaboratory.intrinsic+json": {
       "type": "string"
      },
      "text/plain": [
       "'b\"This was an absolutely terrible movie. Don\\'t be lured in by Christopher Walken or Michael Ironside. Both are great actors, but this must simply be their worst role in history. Even their great acting could not redeem this movie\\'s ridiculous storyline. This movie is an early nineties US propaganda piece. The most pathetic scenes were those when the Columbian rebels were making their cases for revolutions. Maria Conchita Alonso appeared phony, and her pseudo-love affair with Walken was nothing but a pathetic emotional plug in a movie that was devoid of any real meaning. I am disappointed that there are movies like this, ruining actor\\'s like Christopher Walken\\'s good name. I could barely sit through it.\"'"
      ]
     },
     "execution_count": 5,
     "metadata": {},
     "output_type": "execute_result"
    }
   ],
   "source": [
    "training_sentences[0]"
   ]
  },
  {
   "cell_type": "code",
   "execution_count": 6,
   "metadata": {
    "colab": {
     "base_uri": "https://localhost:8080/"
    },
    "executionInfo": {
     "elapsed": 26,
     "status": "ok",
     "timestamp": 1702884584618,
     "user": {
      "displayName": "Vishal Jagadale",
      "userId": "11393755916970364780"
     },
     "user_tz": -330
    },
    "id": "n2jqyKP4tejw",
    "outputId": "c37863cc-558a-4bd6-c77e-0b583a667b84"
   },
   "outputs": [
    {
     "data": {
      "text/plain": [
       "0"
      ]
     },
     "execution_count": 6,
     "metadata": {},
     "output_type": "execute_result"
    }
   ],
   "source": [
    "training_labels[0]"
   ]
  },
  {
   "cell_type": "code",
   "execution_count": 7,
   "metadata": {
    "colab": {
     "base_uri": "https://localhost:8080/"
    },
    "executionInfo": {
     "elapsed": 22,
     "status": "ok",
     "timestamp": 1702884584618,
     "user": {
      "displayName": "Vishal Jagadale",
      "userId": "11393755916970364780"
     },
     "user_tz": -330
    },
    "id": "0hWmXRGVth8J",
    "outputId": "f3edfec0-73d0-46d6-9fd2-a4974f7d4711"
   },
   "outputs": [
    {
     "data": {
      "text/plain": [
       "(25000, 25000)"
      ]
     },
     "execution_count": 7,
     "metadata": {},
     "output_type": "execute_result"
    }
   ],
   "source": [
    "len(training_sentences),len(testing_sentences)"
   ]
  },
  {
   "cell_type": "code",
   "execution_count": 8,
   "metadata": {
    "executionInfo": {
     "elapsed": 20,
     "status": "ok",
     "timestamp": 1702884584619,
     "user": {
      "displayName": "Vishal Jagadale",
      "userId": "11393755916970364780"
     },
     "user_tz": -330
    },
    "id": "aDvmYFzptsxf"
   },
   "outputs": [],
   "source": [
    "from collections import Counter"
   ]
  },
  {
   "cell_type": "code",
   "execution_count": 9,
   "metadata": {
    "colab": {
     "base_uri": "https://localhost:8080/"
    },
    "executionInfo": {
     "elapsed": 19,
     "status": "ok",
     "timestamp": 1702884584619,
     "user": {
      "displayName": "Vishal Jagadale",
      "userId": "11393755916970364780"
     },
     "user_tz": -330
    },
    "id": "oppsVuSJt1A9",
    "outputId": "e1425c3d-cf0d-4a40-8f42-b73d8ccbbaae"
   },
   "outputs": [
    {
     "data": {
      "text/plain": [
       "Counter({0: 12500, 1: 12500})"
      ]
     },
     "execution_count": 9,
     "metadata": {},
     "output_type": "execute_result"
    }
   ],
   "source": [
    "Counter(training_labels)"
   ]
  },
  {
   "cell_type": "code",
   "execution_count": 10,
   "metadata": {
    "colab": {
     "base_uri": "https://localhost:8080/"
    },
    "executionInfo": {
     "elapsed": 16,
     "status": "ok",
     "timestamp": 1702884584619,
     "user": {
      "displayName": "Vishal Jagadale",
      "userId": "11393755916970364780"
     },
     "user_tz": -330
    },
    "id": "EbkrPUE1uI0x",
    "outputId": "06167591-5feb-4145-c16a-f26faa568a39"
   },
   "outputs": [
    {
     "data": {
      "text/plain": [
       "Counter({1: 12500, 0: 12500})"
      ]
     },
     "execution_count": 10,
     "metadata": {},
     "output_type": "execute_result"
    }
   ],
   "source": [
    "Counter(testing_labels)"
   ]
  },
  {
   "cell_type": "code",
   "execution_count": 11,
   "metadata": {
    "executionInfo": {
     "elapsed": 14,
     "status": "ok",
     "timestamp": 1702884584620,
     "user": {
      "displayName": "Vishal Jagadale",
      "userId": "11393755916970364780"
     },
     "user_tz": -330
    },
    "id": "lCKDvPlDuNOu"
   },
   "outputs": [],
   "source": [
    "training_labels_final=np.array(training_labels)\n",
    "testing_labels_final=np.array(testing_labels)"
   ]
  },
  {
   "cell_type": "code",
   "execution_count": 12,
   "metadata": {
    "executionInfo": {
     "elapsed": 13,
     "status": "ok",
     "timestamp": 1702884584620,
     "user": {
      "displayName": "Vishal Jagadale",
      "userId": "11393755916970364780"
     },
     "user_tz": -330
    },
    "id": "JwK2cV9MujD-"
   },
   "outputs": [],
   "source": [
    "vocab_size=10000\n",
    "embedded_dim=16\n",
    "max_lenght=120\n",
    "trunc_type='post'"
   ]
  },
  {
   "cell_type": "code",
   "execution_count": 13,
   "metadata": {
    "colab": {
     "base_uri": "https://localhost:8080/"
    },
    "executionInfo": {
     "elapsed": 5883,
     "status": "ok",
     "timestamp": 1702884590491,
     "user": {
      "displayName": "Vishal Jagadale",
      "userId": "11393755916970364780"
     },
     "user_tz": -330
    },
    "id": "dj-sHHJXu0ve",
    "outputId": "d26c445c-ee36-4ba4-ee7b-372bb4f2eb2b"
   },
   "outputs": [
    {
     "name": "stdout",
     "output_type": "stream",
     "text": [
      "Requirement already satisfied: keras_preprocessing in /usr/local/lib/python3.10/dist-packages (1.1.2)\n",
      "Requirement already satisfied: numpy>=1.9.1 in /usr/local/lib/python3.10/dist-packages (from keras_preprocessing) (1.23.5)\n",
      "Requirement already satisfied: six>=1.9.0 in /usr/local/lib/python3.10/dist-packages (from keras_preprocessing) (1.16.0)\n"
     ]
    }
   ],
   "source": [
    "pip install keras_preprocessing"
   ]
  },
  {
   "cell_type": "code",
   "execution_count": 14,
   "metadata": {
    "colab": {
     "base_uri": "https://localhost:8080/"
    },
    "executionInfo": {
     "elapsed": 7624,
     "status": "ok",
     "timestamp": 1702884598107,
     "user": {
      "displayName": "Vishal Jagadale",
      "userId": "11393755916970364780"
     },
     "user_tz": -330
    },
    "id": "Mxi-BoIJvQH_",
    "outputId": "e53cf323-a34d-440f-95da-b229a2873b6b"
   },
   "outputs": [
    {
     "data": {
      "text/plain": [
       "86538"
      ]
     },
     "execution_count": 14,
     "metadata": {},
     "output_type": "execute_result"
    }
   ],
   "source": [
    "from keras.preprocessing.text import Tokenizer\n",
    "from keras.preprocessing.sequence import pad_sequences\n",
    "tokenizer=Tokenizer(num_words=vocab_size)\n",
    "tokenizer.fit_on_texts(training_sentences)\n",
    "word_index=tokenizer.word_index\n",
    "word_index;\n",
    "len(word_index)"
   ]
  },
  {
   "cell_type": "code",
   "execution_count": 15,
   "metadata": {
    "executionInfo": {
     "elapsed": 7822,
     "status": "ok",
     "timestamp": 1702884605920,
     "user": {
      "displayName": "Vishal Jagadale",
      "userId": "11393755916970364780"
     },
     "user_tz": -330
    },
    "id": "f88wMCSEwD1_"
   },
   "outputs": [],
   "source": [
    "sequences=tokenizer.texts_to_sequences(training_sentences)\n",
    "padded=pad_sequences(sequences,maxlen=max_lenght,truncating=trunc_type)\n",
    "\n",
    "testing_sequences=tokenizer.texts_to_sequences(testing_sentences)\n",
    "testing_padded=pad_sequences(testing_sequences,maxlen=max_lenght)"
   ]
  },
  {
   "cell_type": "code",
   "execution_count": 16,
   "metadata": {
    "colab": {
     "base_uri": "https://localhost:8080/"
    },
    "executionInfo": {
     "elapsed": 44,
     "status": "ok",
     "timestamp": 1702884605921,
     "user": {
      "displayName": "Vishal Jagadale",
      "userId": "11393755916970364780"
     },
     "user_tz": -330
    },
    "id": "b854dGeQxEQD",
    "outputId": "24954216-9eea-46a7-bafa-db41a42dd62d"
   },
   "outputs": [
    {
     "data": {
      "text/plain": [
       "(25000, 120)"
      ]
     },
     "execution_count": 16,
     "metadata": {},
     "output_type": "execute_result"
    }
   ],
   "source": [
    "padded.shape"
   ]
  },
  {
   "cell_type": "code",
   "execution_count": 17,
   "metadata": {
    "colab": {
     "base_uri": "https://localhost:8080/"
    },
    "executionInfo": {
     "elapsed": 29,
     "status": "ok",
     "timestamp": 1702884605922,
     "user": {
      "displayName": "Vishal Jagadale",
      "userId": "11393755916970364780"
     },
     "user_tz": -330
    },
    "id": "4dFytsOSxJTA",
    "outputId": "af786a28-8822-42d8-d0da-de0b78706916"
   },
   "outputs": [
    {
     "data": {
      "text/plain": [
       "(25000, 120)"
      ]
     },
     "execution_count": 17,
     "metadata": {},
     "output_type": "execute_result"
    }
   ],
   "source": [
    "testing_padded.shape"
   ]
  },
  {
   "cell_type": "code",
   "execution_count": 18,
   "metadata": {
    "colab": {
     "base_uri": "https://localhost:8080/"
    },
    "executionInfo": {
     "elapsed": 23,
     "status": "ok",
     "timestamp": 1702884605922,
     "user": {
      "displayName": "Vishal Jagadale",
      "userId": "11393755916970364780"
     },
     "user_tz": -330
    },
    "id": "t0GFyjq0xNEO",
    "outputId": "cae48bdd-9b55-46f8-fd77-e65343bf3ef4"
   },
   "outputs": [
    {
     "data": {
      "text/plain": [
       "array([[   0,    0,    0, ...,  873,  144,    9],\n",
       "       [   0,    0,    0, ...,   31,   30,   46],\n",
       "       [6174,    1, 4915, ...,    8, 6175,   46],\n",
       "       ...,\n",
       "       [7628,   36,   10, ...,  167,    5,   28],\n",
       "       [2676,   10,  215, ...,    1,   88,   10],\n",
       "       [3874,    4,   30, ...,    5,  994, 5125]], dtype=int32)"
      ]
     },
     "execution_count": 18,
     "metadata": {},
     "output_type": "execute_result"
    }
   ],
   "source": [
    "padded"
   ]
  },
  {
   "cell_type": "code",
   "execution_count": 19,
   "metadata": {
    "colab": {
     "base_uri": "https://localhost:8080/"
    },
    "executionInfo": {
     "elapsed": 18,
     "status": "ok",
     "timestamp": 1702884605922,
     "user": {
      "displayName": "Vishal Jagadale",
      "userId": "11393755916970364780"
     },
     "user_tz": -330
    },
    "id": "r-dgfVYaxWrQ",
    "outputId": "bae23fef-8bac-42b9-dd37-0845dc5aefac"
   },
   "outputs": [
    {
     "data": {
      "text/plain": [
       "{'the': 1,\n",
       " 'and': 2,\n",
       " 'a': 3,\n",
       " 'of': 4,\n",
       " 'to': 5,\n",
       " 'is': 6,\n",
       " 'br': 7,\n",
       " 'in': 8,\n",
       " 'it': 9,\n",
       " 'i': 10,\n",
       " 'this': 11,\n",
       " 'that': 12,\n",
       " 'was': 13,\n",
       " 'as': 14,\n",
       " 'for': 15,\n",
       " 'with': 16,\n",
       " 'movie': 17,\n",
       " 'but': 18,\n",
       " 'film': 19,\n",
       " \"'s\": 20,\n",
       " 'on': 21,\n",
       " 'you': 22,\n",
       " 'not': 23,\n",
       " 'are': 24,\n",
       " 'his': 25,\n",
       " 'he': 26,\n",
       " 'have': 27,\n",
       " 'be': 28,\n",
       " 'one': 29,\n",
       " 'all': 30,\n",
       " 'at': 31,\n",
       " 'by': 32,\n",
       " 'they': 33,\n",
       " 'an': 34,\n",
       " 'who': 35,\n",
       " 'so': 36,\n",
       " 'from': 37,\n",
       " 'like': 38,\n",
       " 'her': 39,\n",
       " \"'t\": 40,\n",
       " 'or': 41,\n",
       " 'just': 42,\n",
       " 'there': 43,\n",
       " 'about': 44,\n",
       " 'out': 45,\n",
       " \"'\": 46,\n",
       " 'has': 47,\n",
       " 'if': 48,\n",
       " 'some': 49,\n",
       " 'what': 50,\n",
       " 'good': 51,\n",
       " 'more': 52,\n",
       " 'very': 53,\n",
       " 'when': 54,\n",
       " 'she': 55,\n",
       " 'up': 56,\n",
       " 'can': 57,\n",
       " 'b': 58,\n",
       " 'time': 59,\n",
       " 'no': 60,\n",
       " 'even': 61,\n",
       " 'my': 62,\n",
       " 'would': 63,\n",
       " 'which': 64,\n",
       " 'story': 65,\n",
       " 'only': 66,\n",
       " 'really': 67,\n",
       " 'see': 68,\n",
       " 'their': 69,\n",
       " 'had': 70,\n",
       " 'were': 71,\n",
       " 'me': 72,\n",
       " 'well': 73,\n",
       " 'we': 74,\n",
       " 'than': 75,\n",
       " 'much': 76,\n",
       " 'been': 77,\n",
       " 'get': 78,\n",
       " 'bad': 79,\n",
       " 'will': 80,\n",
       " 'people': 81,\n",
       " 'do': 82,\n",
       " 'also': 83,\n",
       " 'other': 84,\n",
       " 'into': 85,\n",
       " 'because': 86,\n",
       " 'great': 87,\n",
       " 'first': 88,\n",
       " 'him': 89,\n",
       " 'how': 90,\n",
       " 'most': 91,\n",
       " 'made': 92,\n",
       " 'its': 93,\n",
       " 'then': 94,\n",
       " 'way': 95,\n",
       " 'make': 96,\n",
       " 'them': 97,\n",
       " 'could': 98,\n",
       " 'too': 99,\n",
       " 'movies': 100,\n",
       " 'any': 101,\n",
       " \"it's\": 102,\n",
       " 'after': 103,\n",
       " 'think': 104,\n",
       " 'characters': 105,\n",
       " 'watch': 106,\n",
       " 'two': 107,\n",
       " 'films': 108,\n",
       " 'character': 109,\n",
       " 'seen': 110,\n",
       " 'many': 111,\n",
       " 'life': 112,\n",
       " 'being': 113,\n",
       " 'plot': 114,\n",
       " 'acting': 115,\n",
       " 'never': 116,\n",
       " 'little': 117,\n",
       " 'love': 118,\n",
       " 'best': 119,\n",
       " 'where': 120,\n",
       " 'over': 121,\n",
       " 'did': 122,\n",
       " 'show': 123,\n",
       " 'know': 124,\n",
       " 'off': 125,\n",
       " 'ever': 126,\n",
       " 'does': 127,\n",
       " 'man': 128,\n",
       " 'better': 129,\n",
       " 'your': 130,\n",
       " 'here': 131,\n",
       " 'end': 132,\n",
       " 'still': 133,\n",
       " 'these': 134,\n",
       " 'say': 135,\n",
       " 'scene': 136,\n",
       " 'why': 137,\n",
       " 'while': 138,\n",
       " 'scenes': 139,\n",
       " 'go': 140,\n",
       " 'such': 141,\n",
       " 'something': 142,\n",
       " 'should': 143,\n",
       " 'through': 144,\n",
       " 'back': 145,\n",
       " 'don': 146,\n",
       " 'real': 147,\n",
       " 'those': 148,\n",
       " 'now': 149,\n",
       " 'watching': 150,\n",
       " 'though': 151,\n",
       " 'thing': 152,\n",
       " 'old': 153,\n",
       " 'years': 154,\n",
       " 'actors': 155,\n",
       " 'work': 156,\n",
       " 'director': 157,\n",
       " 'new': 158,\n",
       " 'another': 159,\n",
       " 'before': 160,\n",
       " 'funny': 161,\n",
       " 'nothing': 162,\n",
       " 'actually': 163,\n",
       " 'makes': 164,\n",
       " 'look': 165,\n",
       " 'find': 166,\n",
       " 'going': 167,\n",
       " 'few': 168,\n",
       " 'same': 169,\n",
       " 'part': 170,\n",
       " 'again': 171,\n",
       " 'lot': 172,\n",
       " \"don't\": 173,\n",
       " 'every': 174,\n",
       " '10': 175,\n",
       " 'cast': 176,\n",
       " 'us': 177,\n",
       " 'world': 178,\n",
       " 'quite': 179,\n",
       " 'down': 180,\n",
       " 'want': 181,\n",
       " 'things': 182,\n",
       " 'pretty': 183,\n",
       " 'young': 184,\n",
       " 'seems': 185,\n",
       " 'around': 186,\n",
       " 'got': 187,\n",
       " 'horror': 188,\n",
       " 'however': 189,\n",
       " 'fact': 190,\n",
       " 'take': 191,\n",
       " 'big': 192,\n",
       " 'enough': 193,\n",
       " 'long': 194,\n",
       " 'thought': 195,\n",
       " 'both': 196,\n",
       " 'series': 197,\n",
       " 'between': 198,\n",
       " 'may': 199,\n",
       " 'give': 200,\n",
       " 'original': 201,\n",
       " 'own': 202,\n",
       " 'action': 203,\n",
       " 'right': 204,\n",
       " 'without': 205,\n",
       " 'times': 206,\n",
       " 'always': 207,\n",
       " 'comedy': 208,\n",
       " 'point': 209,\n",
       " 'must': 210,\n",
       " 'gets': 211,\n",
       " 'role': 212,\n",
       " 'come': 213,\n",
       " 'family': 214,\n",
       " 'saw': 215,\n",
       " 'almost': 216,\n",
       " 'interesting': 217,\n",
       " 'least': 218,\n",
       " 'done': 219,\n",
       " 'whole': 220,\n",
       " 'bit': 221,\n",
       " 'music': 222,\n",
       " 'script': 223,\n",
       " 'guy': 224,\n",
       " 'far': 225,\n",
       " 'xc2': 226,\n",
       " 'anything': 227,\n",
       " 'making': 228,\n",
       " 'minutes': 229,\n",
       " 'feel': 230,\n",
       " 'last': 231,\n",
       " 'might': 232,\n",
       " 'performance': 233,\n",
       " 'since': 234,\n",
       " '2': 235,\n",
       " 'probably': 236,\n",
       " 'girl': 237,\n",
       " 'kind': 238,\n",
       " 'am': 239,\n",
       " 'away': 240,\n",
       " 'tv': 241,\n",
       " 'yet': 242,\n",
       " 'woman': 243,\n",
       " 'rather': 244,\n",
       " 'day': 245,\n",
       " \"'ve\": 246,\n",
       " 'worst': 247,\n",
       " 'fun': 248,\n",
       " 'sure': 249,\n",
       " 'hard': 250,\n",
       " \"'m\": 251,\n",
       " 'doesn': 252,\n",
       " 'anyone': 253,\n",
       " 'played': 254,\n",
       " \"b'i\": 255,\n",
       " 'each': 256,\n",
       " 'found': 257,\n",
       " 'xc3': 258,\n",
       " 'especially': 259,\n",
       " 'course': 260,\n",
       " 'our': 261,\n",
       " 'having': 262,\n",
       " 'believe': 263,\n",
       " 'comes': 264,\n",
       " 'screen': 265,\n",
       " 'looking': 266,\n",
       " 'although': 267,\n",
       " 'trying': 268,\n",
       " 'goes': 269,\n",
       " 'set': 270,\n",
       " 'looks': 271,\n",
       " 'place': 272,\n",
       " 'book': 273,\n",
       " 'different': 274,\n",
       " 'put': 275,\n",
       " 'money': 276,\n",
       " 'actor': 277,\n",
       " 'ending': 278,\n",
       " 'maybe': 279,\n",
       " 'year': 280,\n",
       " 'sense': 281,\n",
       " 'reason': 282,\n",
       " 'true': 283,\n",
       " 'everything': 284,\n",
       " 'dvd': 285,\n",
       " 'shows': 286,\n",
       " 'once': 287,\n",
       " 'didn': 288,\n",
       " 'someone': 289,\n",
       " 'three': 290,\n",
       " 'worth': 291,\n",
       " 'job': 292,\n",
       " \"'re\": 293,\n",
       " 'main': 294,\n",
       " 'together': 295,\n",
       " 'play': 296,\n",
       " 'watched': 297,\n",
       " 'american': 298,\n",
       " 'plays': 299,\n",
       " '1': 300,\n",
       " 'effects': 301,\n",
       " 'later': 302,\n",
       " 'said': 303,\n",
       " 'takes': 304,\n",
       " 'instead': 305,\n",
       " 'audience': 306,\n",
       " 'seem': 307,\n",
       " 'john': 308,\n",
       " 'beautiful': 309,\n",
       " 'everyone': 310,\n",
       " 'himself': 311,\n",
       " 'version': 312,\n",
       " 'house': 313,\n",
       " 'high': 314,\n",
       " 'night': 315,\n",
       " 'during': 316,\n",
       " 'left': 317,\n",
       " \"i'm\": 318,\n",
       " 'special': 319,\n",
       " 'wife': 320,\n",
       " 'seeing': 321,\n",
       " 'half': 322,\n",
       " 'let': 323,\n",
       " 'star': 324,\n",
       " 'father': 325,\n",
       " 'excellent': 326,\n",
       " 'shot': 327,\n",
       " 'war': 328,\n",
       " \"didn't\": 329,\n",
       " 'idea': 330,\n",
       " 'black': 331,\n",
       " 'nice': 332,\n",
       " 'less': 333,\n",
       " 'mind': 334,\n",
       " 'else': 335,\n",
       " 'read': 336,\n",
       " \"doesn't\": 337,\n",
       " 'second': 338,\n",
       " 'simply': 339,\n",
       " 'fan': 340,\n",
       " 'help': 341,\n",
       " 'death': 342,\n",
       " 'poor': 343,\n",
       " 'completely': 344,\n",
       " '3': 345,\n",
       " 'men': 346,\n",
       " 'used': 347,\n",
       " 'home': 348,\n",
       " 'either': 349,\n",
       " 'short': 350,\n",
       " 'hollywood': 351,\n",
       " 'line': 352,\n",
       " 'dead': 353,\n",
       " 'given': 354,\n",
       " 'top': 355,\n",
       " 'budget': 356,\n",
       " 'kids': 357,\n",
       " 'try': 358,\n",
       " \"b'this\": 359,\n",
       " 'performances': 360,\n",
       " 'wrong': 361,\n",
       " 'classic': 362,\n",
       " 'enjoy': 363,\n",
       " 'boring': 364,\n",
       " 'need': 365,\n",
       " 'rest': 366,\n",
       " 'use': 367,\n",
       " 'low': 368,\n",
       " 'women': 369,\n",
       " 'production': 370,\n",
       " 'isn': 371,\n",
       " 'friends': 372,\n",
       " 'until': 373,\n",
       " 'camera': 374,\n",
       " 'along': 375,\n",
       " 'full': 376,\n",
       " 'truly': 377,\n",
       " 'video': 378,\n",
       " 'awful': 379,\n",
       " 'next': 380,\n",
       " 'tell': 381,\n",
       " 'couple': 382,\n",
       " 'start': 383,\n",
       " 'stupid': 384,\n",
       " 'remember': 385,\n",
       " 'mean': 386,\n",
       " 'sex': 387,\n",
       " 'stars': 388,\n",
       " 'perhaps': 389,\n",
       " 'came': 390,\n",
       " 'recommend': 391,\n",
       " 'moments': 392,\n",
       " 'episode': 393,\n",
       " 'wonderful': 394,\n",
       " 'school': 395,\n",
       " 'understand': 396,\n",
       " 'small': 397,\n",
       " 'face': 398,\n",
       " 'terrible': 399,\n",
       " 'playing': 400,\n",
       " \"i've\": 401,\n",
       " 'getting': 402,\n",
       " 'written': 403,\n",
       " \"'ll\": 404,\n",
       " 'early': 405,\n",
       " 'doing': 406,\n",
       " 'often': 407,\n",
       " 'name': 408,\n",
       " 'keep': 409,\n",
       " 'perfect': 410,\n",
       " 'style': 411,\n",
       " 'human': 412,\n",
       " 'others': 413,\n",
       " 'gives': 414,\n",
       " 'definitely': 415,\n",
       " 'person': 416,\n",
       " 'itself': 417,\n",
       " 'lines': 418,\n",
       " 'live': 419,\n",
       " 'become': 420,\n",
       " \"can't\": 421,\n",
       " 'dialogue': 422,\n",
       " 'head': 423,\n",
       " 'lost': 424,\n",
       " 'piece': 425,\n",
       " 'case': 426,\n",
       " 'felt': 427,\n",
       " 'finally': 428,\n",
       " 'boy': 429,\n",
       " 'supposed': 430,\n",
       " 'liked': 431,\n",
       " 'title': 432,\n",
       " 'yes': 433,\n",
       " 'white': 434,\n",
       " 'cinema': 435,\n",
       " 'picture': 436,\n",
       " 'against': 437,\n",
       " 'absolutely': 438,\n",
       " 'mother': 439,\n",
       " 'sort': 440,\n",
       " 'worse': 441,\n",
       " 'entire': 442,\n",
       " 'certainly': 443,\n",
       " 'went': 444,\n",
       " 'waste': 445,\n",
       " 'problem': 446,\n",
       " 'hope': 447,\n",
       " 'entertaining': 448,\n",
       " 'evil': 449,\n",
       " 'mr': 450,\n",
       " 'overall': 451,\n",
       " 'called': 452,\n",
       " 'children': 453,\n",
       " 'loved': 454,\n",
       " 'based': 455,\n",
       " 'killer': 456,\n",
       " 'several': 457,\n",
       " 'friend': 458,\n",
       " 'fans': 459,\n",
       " \"that's\": 460,\n",
       " 'drama': 461,\n",
       " \"isn't\": 462,\n",
       " 'beginning': 463,\n",
       " 'lives': 464,\n",
       " 'direction': 465,\n",
       " '5': 466,\n",
       " 'care': 467,\n",
       " 'becomes': 468,\n",
       " 'already': 469,\n",
       " \"'d\": 470,\n",
       " 'laugh': 471,\n",
       " 'example': 472,\n",
       " 'oh': 473,\n",
       " 'dark': 474,\n",
       " 'under': 475,\n",
       " 'seemed': 476,\n",
       " 'throughout': 477,\n",
       " 'turn': 478,\n",
       " '4': 479,\n",
       " 'wanted': 480,\n",
       " 'unfortunately': 481,\n",
       " 'x96': 482,\n",
       " 'son': 483,\n",
       " 'despite': 484,\n",
       " 'history': 485,\n",
       " 'fine': 486,\n",
       " 'final': 487,\n",
       " 'sound': 488,\n",
       " 'heart': 489,\n",
       " 'amazing': 490,\n",
       " 'guess': 491,\n",
       " 'lead': 492,\n",
       " 'humor': 493,\n",
       " 'totally': 494,\n",
       " 'michael': 495,\n",
       " 'writing': 496,\n",
       " 'quality': 497,\n",
       " \"there's\": 498,\n",
       " 'guys': 499,\n",
       " 'close': 500,\n",
       " 'wants': 501,\n",
       " 'child': 502,\n",
       " 'behind': 503,\n",
       " 'works': 504,\n",
       " 'tries': 505,\n",
       " 'side': 506,\n",
       " 'art': 507,\n",
       " 'game': 508,\n",
       " 'past': 509,\n",
       " 'town': 510,\n",
       " 'days': 511,\n",
       " 'able': 512,\n",
       " 'flick': 513,\n",
       " 'hand': 514,\n",
       " 'turns': 515,\n",
       " 'genre': 516,\n",
       " 'act': 517,\n",
       " 'enjoyed': 518,\n",
       " 'viewer': 519,\n",
       " 'favorite': 520,\n",
       " 'kill': 521,\n",
       " 'car': 522,\n",
       " 'soon': 523,\n",
       " 'starts': 524,\n",
       " 'gave': 525,\n",
       " 'run': 526,\n",
       " 'sometimes': 527,\n",
       " 'etc': 528,\n",
       " 'actress': 529,\n",
       " 'eyes': 530,\n",
       " 'late': 531,\n",
       " 'directed': 532,\n",
       " 'horrible': 533,\n",
       " 'parts': 534,\n",
       " 'brilliant': 535,\n",
       " 'wasn': 536,\n",
       " 'girls': 537,\n",
       " 'themselves': 538,\n",
       " 'hour': 539,\n",
       " 'self': 540,\n",
       " 'stories': 541,\n",
       " 'thinking': 542,\n",
       " 'expect': 543,\n",
       " 'city': 544,\n",
       " 'stuff': 545,\n",
       " 'kid': 546,\n",
       " 'god': 547,\n",
       " 'won': 548,\n",
       " 'blood': 549,\n",
       " 'obviously': 550,\n",
       " 'decent': 551,\n",
       " 'voice': 552,\n",
       " 'highly': 553,\n",
       " 'myself': 554,\n",
       " 'feeling': 555,\n",
       " 'fight': 556,\n",
       " 'today': 557,\n",
       " 'matter': 558,\n",
       " 'except': 559,\n",
       " 'writer': 560,\n",
       " \"wasn't\": 561,\n",
       " 'slow': 562,\n",
       " 'type': 563,\n",
       " \"he's\": 564,\n",
       " 'anyway': 565,\n",
       " 'roles': 566,\n",
       " 'age': 567,\n",
       " 'killed': 568,\n",
       " 'heard': 569,\n",
       " 'says': 570,\n",
       " 'moment': 571,\n",
       " 'daughter': 572,\n",
       " 'took': 573,\n",
       " 'leave': 574,\n",
       " 'strong': 575,\n",
       " 'cannot': 576,\n",
       " 'violence': 577,\n",
       " 's': 578,\n",
       " 'hit': 579,\n",
       " 'police': 580,\n",
       " 'stop': 581,\n",
       " 'happens': 582,\n",
       " 'particularly': 583,\n",
       " 'known': 584,\n",
       " 'happened': 585,\n",
       " 'involved': 586,\n",
       " 'brother': 587,\n",
       " 'obvious': 588,\n",
       " 'extremely': 589,\n",
       " 'chance': 590,\n",
       " 'told': 591,\n",
       " 'living': 592,\n",
       " 'experience': 593,\n",
       " 'lack': 594,\n",
       " 'coming': 595,\n",
       " 'alone': 596,\n",
       " 'james': 597,\n",
       " 'including': 598,\n",
       " 'murder': 599,\n",
       " 'attempt': 600,\n",
       " 'happen': 601,\n",
       " 'please': 602,\n",
       " 'wonder': 603,\n",
       " 'gore': 604,\n",
       " 'crap': 605,\n",
       " 'ago': 606,\n",
       " 'group': 607,\n",
       " 'complete': 608,\n",
       " 'none': 609,\n",
       " 'interest': 610,\n",
       " 'score': 611,\n",
       " 'cut': 612,\n",
       " 'simple': 613,\n",
       " 'hell': 614,\n",
       " 'save': 615,\n",
       " 'hero': 616,\n",
       " 'looked': 617,\n",
       " 'number': 618,\n",
       " 'song': 619,\n",
       " 'career': 620,\n",
       " 'husband': 621,\n",
       " 'possible': 622,\n",
       " 'annoying': 623,\n",
       " 'shown': 624,\n",
       " 'sad': 625,\n",
       " 'exactly': 626,\n",
       " 'seriously': 627,\n",
       " 'running': 628,\n",
       " 'musical': 629,\n",
       " 'serious': 630,\n",
       " 'yourself': 631,\n",
       " 'david': 632,\n",
       " 'whose': 633,\n",
       " 'taken': 634,\n",
       " 'cinematography': 635,\n",
       " 'released': 636,\n",
       " 'ends': 637,\n",
       " 'scary': 638,\n",
       " 'hours': 639,\n",
       " 'reality': 640,\n",
       " 'english': 641,\n",
       " 'usually': 642,\n",
       " 'light': 643,\n",
       " 'opening': 644,\n",
       " 'jokes': 645,\n",
       " 'across': 646,\n",
       " 'body': 647,\n",
       " 'hilarious': 648,\n",
       " 'somewhat': 649,\n",
       " 'relationship': 650,\n",
       " 'started': 651,\n",
       " 'usual': 652,\n",
       " 'view': 653,\n",
       " 'cool': 654,\n",
       " 'level': 655,\n",
       " 'ridiculous': 656,\n",
       " 'change': 657,\n",
       " 'opinion': 658,\n",
       " 'happy': 659,\n",
       " 'wish': 660,\n",
       " 'king': 661,\n",
       " 'middle': 662,\n",
       " 'novel': 663,\n",
       " 'taking': 664,\n",
       " 'ones': 665,\n",
       " 'talking': 666,\n",
       " 'ok': 667,\n",
       " 'finds': 668,\n",
       " 'order': 669,\n",
       " 'shots': 670,\n",
       " 'documentary': 671,\n",
       " 'saying': 672,\n",
       " 'female': 673,\n",
       " 'huge': 674,\n",
       " 'room': 675,\n",
       " 'mostly': 676,\n",
       " 'power': 677,\n",
       " 'episodes': 678,\n",
       " 'robert': 679,\n",
       " 'important': 680,\n",
       " 'talent': 681,\n",
       " 'rating': 682,\n",
       " 'word': 683,\n",
       " 'turned': 684,\n",
       " 'strange': 685,\n",
       " 'major': 686,\n",
       " 'five': 687,\n",
       " 'modern': 688,\n",
       " 'call': 689,\n",
       " 'single': 690,\n",
       " 'disappointed': 691,\n",
       " 'country': 692,\n",
       " 'apparently': 693,\n",
       " 'events': 694,\n",
       " 'due': 695,\n",
       " 'songs': 696,\n",
       " 'attention': 697,\n",
       " 'earth': 698,\n",
       " '7': 699,\n",
       " 'four': 700,\n",
       " 'television': 701,\n",
       " 'jack': 702,\n",
       " 'knows': 703,\n",
       " 'comic': 704,\n",
       " 'supporting': 705,\n",
       " 'basically': 706,\n",
       " 'non': 707,\n",
       " 'clearly': 708,\n",
       " 'knew': 709,\n",
       " 'british': 710,\n",
       " 'future': 711,\n",
       " 'fast': 712,\n",
       " '8': 713,\n",
       " 'class': 714,\n",
       " 'cheap': 715,\n",
       " 'thriller': 716,\n",
       " 'silly': 717,\n",
       " 'problems': 718,\n",
       " 'tells': 719,\n",
       " 'easily': 720,\n",
       " 'miss': 721,\n",
       " 'local': 722,\n",
       " 'paul': 723,\n",
       " 'words': 724,\n",
       " 'sequence': 725,\n",
       " 'entertainment': 726,\n",
       " 'bring': 727,\n",
       " 'beyond': 728,\n",
       " 'rock': 729,\n",
       " 'upon': 730,\n",
       " 'oscar': 731,\n",
       " 'straight': 732,\n",
       " 'whether': 733,\n",
       " 'sets': 734,\n",
       " 'moving': 735,\n",
       " 'predictable': 736,\n",
       " 'similar': 737,\n",
       " 'romantic': 738,\n",
       " 'review': 739,\n",
       " 'falls': 740,\n",
       " 'george': 741,\n",
       " 'mystery': 742,\n",
       " 'needs': 743,\n",
       " 'appears': 744,\n",
       " 'enjoyable': 745,\n",
       " 'eye': 746,\n",
       " 'giving': 747,\n",
       " 'clich': 748,\n",
       " 'talk': 749,\n",
       " 'lady': 750,\n",
       " 'within': 751,\n",
       " 'richard': 752,\n",
       " \"b'\": 753,\n",
       " 'ten': 754,\n",
       " 'animation': 755,\n",
       " 'message': 756,\n",
       " 'theater': 757,\n",
       " 'near': 758,\n",
       " 'couldn': 759,\n",
       " 'above': 760,\n",
       " 'theme': 761,\n",
       " 'team': 762,\n",
       " 'nearly': 763,\n",
       " 'sequel': 764,\n",
       " 'points': 765,\n",
       " 'dull': 766,\n",
       " 'stand': 767,\n",
       " \"you're\": 768,\n",
       " 'bunch': 769,\n",
       " 'mention': 770,\n",
       " 'herself': 771,\n",
       " 'add': 772,\n",
       " 'feels': 773,\n",
       " 'release': 774,\n",
       " \"b'the\": 775,\n",
       " 'storyline': 776,\n",
       " 'ways': 777,\n",
       " 'sister': 778,\n",
       " 'surprised': 779,\n",
       " 'red': 780,\n",
       " 'named': 781,\n",
       " 'using': 782,\n",
       " 'york': 783,\n",
       " 'lots': 784,\n",
       " 'fantastic': 785,\n",
       " 'easy': 786,\n",
       " 'begins': 787,\n",
       " 'actual': 788,\n",
       " 't': 789,\n",
       " 'working': 790,\n",
       " 'effort': 791,\n",
       " 'lee': 792,\n",
       " 'tale': 793,\n",
       " 'die': 794,\n",
       " 'minute': 795,\n",
       " 'hate': 796,\n",
       " 'clear': 797,\n",
       " 'french': 798,\n",
       " 'stay': 799,\n",
       " 'feature': 800,\n",
       " 'elements': 801,\n",
       " 'viewers': 802,\n",
       " 'among': 803,\n",
       " '9': 804,\n",
       " 'follow': 805,\n",
       " 're': 806,\n",
       " 'comments': 807,\n",
       " 'showing': 808,\n",
       " 'avoid': 809,\n",
       " 'editing': 810,\n",
       " 'tried': 811,\n",
       " 'typical': 812,\n",
       " 'famous': 813,\n",
       " 'fall': 814,\n",
       " 'dialog': 815,\n",
       " 'tom': 816,\n",
       " 'season': 817,\n",
       " 'period': 818,\n",
       " 'check': 819,\n",
       " 'form': 820,\n",
       " 'soundtrack': 821,\n",
       " 'certain': 822,\n",
       " 'filmed': 823,\n",
       " 'sorry': 824,\n",
       " 'means': 825,\n",
       " 'buy': 826,\n",
       " 'material': 827,\n",
       " 'peter': 828,\n",
       " 'weak': 829,\n",
       " 'realistic': 830,\n",
       " 'figure': 831,\n",
       " 'crime': 832,\n",
       " 'doubt': 833,\n",
       " 'somehow': 834,\n",
       " 'gone': 835,\n",
       " 'general': 836,\n",
       " 'kept': 837,\n",
       " 'parents': 838,\n",
       " 'leads': 839,\n",
       " 'viewing': 840,\n",
       " 'space': 841,\n",
       " 'greatest': 842,\n",
       " 'suspense': 843,\n",
       " 'dance': 844,\n",
       " 'lame': 845,\n",
       " 'third': 846,\n",
       " 'brought': 847,\n",
       " 'atmosphere': 848,\n",
       " 'hear': 849,\n",
       " 'particular': 850,\n",
       " 'imagine': 851,\n",
       " 'sequences': 852,\n",
       " 'move': 853,\n",
       " 'whatever': 854,\n",
       " 'indeed': 855,\n",
       " 'rent': 856,\n",
       " 'eventually': 857,\n",
       " 'learn': 858,\n",
       " 'de': 859,\n",
       " 'deal': 860,\n",
       " 'reviews': 861,\n",
       " 'zombie': 862,\n",
       " 'wait': 863,\n",
       " 'japanese': 864,\n",
       " 'average': 865,\n",
       " 'sexual': 866,\n",
       " 'note': 867,\n",
       " 'premise': 868,\n",
       " 'forget': 869,\n",
       " 'poorly': 870,\n",
       " 'surprise': 871,\n",
       " 'believable': 872,\n",
       " 'sit': 873,\n",
       " 'disney': 874,\n",
       " 'stage': 875,\n",
       " 'nature': 876,\n",
       " 'possibly': 877,\n",
       " 'decided': 878,\n",
       " 'subject': 879,\n",
       " 'expected': 880,\n",
       " 'became': 881,\n",
       " 'truth': 882,\n",
       " 'free': 883,\n",
       " 'screenplay': 884,\n",
       " 'america': 885,\n",
       " 'difficult': 886,\n",
       " 'killing': 887,\n",
       " 'xa9': 888,\n",
       " 'romance': 889,\n",
       " 'imdb': 890,\n",
       " '20': 891,\n",
       " 'nor': 892,\n",
       " 'dr': 893,\n",
       " 'question': 894,\n",
       " 'street': 895,\n",
       " 'leaves': 896,\n",
       " 'needed': 897,\n",
       " 'baby': 898,\n",
       " 'reading': 899,\n",
       " \"couldn't\": 900,\n",
       " 'hot': 901,\n",
       " 'begin': 902,\n",
       " 'meets': 903,\n",
       " 'dog': 904,\n",
       " 'directors': 905,\n",
       " 'credits': 906,\n",
       " 'unless': 907,\n",
       " 'joe': 908,\n",
       " 'write': 909,\n",
       " 'otherwise': 910,\n",
       " 'superb': 911,\n",
       " 'society': 912,\n",
       " 'shame': 913,\n",
       " 'okay': 914,\n",
       " 'situation': 915,\n",
       " 'dramatic': 916,\n",
       " 'memorable': 917,\n",
       " 'weird': 918,\n",
       " 'open': 919,\n",
       " 'badly': 920,\n",
       " 'earlier': 921,\n",
       " 'male': 922,\n",
       " 'meet': 923,\n",
       " 'acted': 924,\n",
       " 'forced': 925,\n",
       " 'emotional': 926,\n",
       " 'sci': 927,\n",
       " 'fi': 928,\n",
       " 'dream': 929,\n",
       " 'laughs': 930,\n",
       " 'writers': 931,\n",
       " 'older': 932,\n",
       " 'realize': 933,\n",
       " 'interested': 934,\n",
       " 'forward': 935,\n",
       " 'footage': 936,\n",
       " 'comment': 937,\n",
       " 'crazy': 938,\n",
       " 'beauty': 939,\n",
       " 'fantasy': 940,\n",
       " 'deep': 941,\n",
       " 'whom': 942,\n",
       " 'sounds': 943,\n",
       " 'plus': 944,\n",
       " 'monster': 945,\n",
       " 'directing': 946,\n",
       " 'keeps': 947,\n",
       " 'ask': 948,\n",
       " 'development': 949,\n",
       " 'features': 950,\n",
       " 'air': 951,\n",
       " 'mess': 952,\n",
       " 'quickly': 953,\n",
       " 'mark': 954,\n",
       " 'd': 955,\n",
       " 'creepy': 956,\n",
       " 'box': 957,\n",
       " 'perfectly': 958,\n",
       " 'towards': 959,\n",
       " 'worked': 960,\n",
       " 'setting': 961,\n",
       " 'result': 962,\n",
       " 'cheesy': 963,\n",
       " 'unique': 964,\n",
       " 'e': 965,\n",
       " 'brings': 966,\n",
       " 'plenty': 967,\n",
       " 'hands': 968,\n",
       " 'effect': 969,\n",
       " 'total': 970,\n",
       " 'previous': 971,\n",
       " 'jane': 972,\n",
       " 'girlfriend': 973,\n",
       " 'fire': 974,\n",
       " 'personal': 975,\n",
       " 'rate': 976,\n",
       " 'bill': 977,\n",
       " 'incredibly': 978,\n",
       " 'business': 979,\n",
       " 'leading': 980,\n",
       " 'joke': 981,\n",
       " 'admit': 982,\n",
       " 'casting': 983,\n",
       " 'appear': 984,\n",
       " 'background': 985,\n",
       " 'powerful': 986,\n",
       " 'apart': 987,\n",
       " 'present': 988,\n",
       " 'telling': 989,\n",
       " 'christmas': 990,\n",
       " 'meant': 991,\n",
       " 'potential': 992,\n",
       " 'battle': 993,\n",
       " 'create': 994,\n",
       " 'break': 995,\n",
       " 'hardly': 996,\n",
       " 'return': 997,\n",
       " 'era': 998,\n",
       " \"you'll\": 999,\n",
       " 'masterpiece': 1000,\n",
       " ...}"
      ]
     },
     "execution_count": 19,
     "metadata": {},
     "output_type": "execute_result"
    }
   ],
   "source": [
    "word_index"
   ]
  },
  {
   "cell_type": "code",
   "execution_count": 20,
   "metadata": {
    "executionInfo": {
     "elapsed": 12,
     "status": "ok",
     "timestamp": 1702884605922,
     "user": {
      "displayName": "Vishal Jagadale",
      "userId": "11393755916970364780"
     },
     "user_tz": -330
    },
    "id": "8zAzpdU_x9pf"
   },
   "outputs": [],
   "source": [
    "from keras.models import Sequential\n",
    "from keras.layers import Dense,SimpleRNN,Embedding"
   ]
  },
  {
   "cell_type": "code",
   "execution_count": 21,
   "metadata": {
    "colab": {
     "base_uri": "https://localhost:8080/"
    },
    "executionInfo": {
     "elapsed": 687,
     "status": "ok",
     "timestamp": 1702884606598,
     "user": {
      "displayName": "Vishal Jagadale",
      "userId": "11393755916970364780"
     },
     "user_tz": -330
    },
    "id": "mARpy3yLyOe-",
    "outputId": "881cbbdf-2cc1-458d-f656-9e96376803ab"
   },
   "outputs": [
    {
     "name": "stdout",
     "output_type": "stream",
     "text": [
      "Model: \"sequential\"\n",
      "_________________________________________________________________\n",
      " Layer (type)                Output Shape              Param #   \n",
      "=================================================================\n",
      " embedding (Embedding)       (None, 120, 16)           160000    \n",
      "                                                                 \n",
      " simple_rnn (SimpleRNN)      (None, 32)                1568      \n",
      "                                                                 \n",
      " dense (Dense)               (None, 10)                330       \n",
      "                                                                 \n",
      " dense_1 (Dense)             (None, 1)                 11        \n",
      "                                                                 \n",
      "=================================================================\n",
      "Total params: 161909 (632.46 KB)\n",
      "Trainable params: 161909 (632.46 KB)\n",
      "Non-trainable params: 0 (0.00 Byte)\n",
      "_________________________________________________________________\n"
     ]
    }
   ],
   "source": [
    "model_rnn=Sequential([\n",
    "    Embedding(vocab_size,embedded_dim,input_length=max_lenght),\n",
    "    SimpleRNN(32),\n",
    "    Dense(10,activation='relu'),\n",
    "    Dense(1,activation='sigmoid')\n",
    "])\n",
    "\n",
    "model_rnn.summary()"
   ]
  },
  {
   "cell_type": "code",
   "execution_count": 22,
   "metadata": {
    "executionInfo": {
     "elapsed": 13,
     "status": "ok",
     "timestamp": 1702884606599,
     "user": {
      "displayName": "Vishal Jagadale",
      "userId": "11393755916970364780"
     },
     "user_tz": -330
    },
    "id": "1KU3lsnA0JOM"
   },
   "outputs": [],
   "source": [
    "model_rnn.compile(loss='binary_crossentropy',optimizer='adam',metrics=['accuracy'])"
   ]
  },
  {
   "cell_type": "code",
   "execution_count": 23,
   "metadata": {
    "colab": {
     "base_uri": "https://localhost:8080/"
    },
    "executionInfo": {
     "elapsed": 207485,
     "status": "ok",
     "timestamp": 1702884814073,
     "user": {
      "displayName": "Vishal Jagadale",
      "userId": "11393755916970364780"
     },
     "user_tz": -330
    },
    "id": "iirTgrAizBzA",
    "outputId": "a2d57429-0ad6-47b7-ab8a-bb4a701e7d6e"
   },
   "outputs": [
    {
     "name": "stdout",
     "output_type": "stream",
     "text": [
      "Epoch 1/5\n",
      "782/782 [==============================] - 42s 47ms/step - loss: 0.6934 - accuracy: 0.5079 - val_loss: 0.6919 - val_accuracy: 0.5186\n",
      "Epoch 2/5\n",
      "782/782 [==============================] - 35s 45ms/step - loss: 0.6361 - accuracy: 0.6424 - val_loss: 0.5105 - val_accuracy: 0.7650\n",
      "Epoch 3/5\n",
      "782/782 [==============================] - 29s 37ms/step - loss: 0.4773 - accuracy: 0.7738 - val_loss: 0.6695 - val_accuracy: 0.6281\n",
      "Epoch 4/5\n",
      "782/782 [==============================] - 30s 38ms/step - loss: 0.2470 - accuracy: 0.9011 - val_loss: 0.7338 - val_accuracy: 0.7100\n",
      "Epoch 5/5\n",
      "782/782 [==============================] - 30s 38ms/step - loss: 0.1206 - accuracy: 0.9571 - val_loss: 0.9417 - val_accuracy: 0.6969\n"
     ]
    }
   ],
   "source": [
    "history=model_rnn.fit(padded,training_labels_final,epochs=5,validation_data=(testing_padded,testing_labels_final))"
   ]
  },
  {
   "cell_type": "code",
   "execution_count": 25,
   "metadata": {
    "executionInfo": {
     "elapsed": 419,
     "status": "ok",
     "timestamp": 1702888843558,
     "user": {
      "displayName": "Vishal Jagadale",
      "userId": "11393755916970364780"
     },
     "user_tz": -330
    },
    "id": "Q-nZT8wfFYrF"
   },
   "outputs": [],
   "source": [
    "import pandas as pd"
   ]
  },
  {
   "cell_type": "code",
   "execution_count": 26,
   "metadata": {
    "executionInfo": {
     "elapsed": 6,
     "status": "ok",
     "timestamp": 1702888845003,
     "user": {
      "displayName": "Vishal Jagadale",
      "userId": "11393755916970364780"
     },
     "user_tz": -330
    },
    "id": "YSh4QacAz_Ye"
   },
   "outputs": [],
   "source": [
    "res_df = pd.DataFrame(history.history)"
   ]
  },
  {
   "cell_type": "code",
   "execution_count": 27,
   "metadata": {
    "colab": {
     "base_uri": "https://localhost:8080/",
     "height": 206
    },
    "executionInfo": {
     "elapsed": 677,
     "status": "ok",
     "timestamp": 1702888856619,
     "user": {
      "displayName": "Vishal Jagadale",
      "userId": "11393755916970364780"
     },
     "user_tz": -330
    },
    "id": "fM8KLhHbFash",
    "outputId": "953e423c-9ce2-49bf-c938-b564bf4780ac"
   },
   "outputs": [
    {
     "data": {
      "text/html": [
       "\n",
       "  <div id=\"df-6d4382eb-e1f4-4dc2-b24d-3f34776e52b2\" class=\"colab-df-container\">\n",
       "    <div>\n",
       "<style scoped>\n",
       "    .dataframe tbody tr th:only-of-type {\n",
       "        vertical-align: middle;\n",
       "    }\n",
       "\n",
       "    .dataframe tbody tr th {\n",
       "        vertical-align: top;\n",
       "    }\n",
       "\n",
       "    .dataframe thead th {\n",
       "        text-align: right;\n",
       "    }\n",
       "</style>\n",
       "<table border=\"1\" class=\"dataframe\">\n",
       "  <thead>\n",
       "    <tr style=\"text-align: right;\">\n",
       "      <th></th>\n",
       "      <th>loss</th>\n",
       "      <th>accuracy</th>\n",
       "      <th>val_loss</th>\n",
       "      <th>val_accuracy</th>\n",
       "    </tr>\n",
       "  </thead>\n",
       "  <tbody>\n",
       "    <tr>\n",
       "      <th>0</th>\n",
       "      <td>0.693444</td>\n",
       "      <td>0.50788</td>\n",
       "      <td>0.691872</td>\n",
       "      <td>0.51860</td>\n",
       "    </tr>\n",
       "    <tr>\n",
       "      <th>1</th>\n",
       "      <td>0.636075</td>\n",
       "      <td>0.64240</td>\n",
       "      <td>0.510537</td>\n",
       "      <td>0.76500</td>\n",
       "    </tr>\n",
       "    <tr>\n",
       "      <th>2</th>\n",
       "      <td>0.477312</td>\n",
       "      <td>0.77384</td>\n",
       "      <td>0.669459</td>\n",
       "      <td>0.62808</td>\n",
       "    </tr>\n",
       "    <tr>\n",
       "      <th>3</th>\n",
       "      <td>0.247037</td>\n",
       "      <td>0.90112</td>\n",
       "      <td>0.733809</td>\n",
       "      <td>0.70996</td>\n",
       "    </tr>\n",
       "    <tr>\n",
       "      <th>4</th>\n",
       "      <td>0.120564</td>\n",
       "      <td>0.95712</td>\n",
       "      <td>0.941729</td>\n",
       "      <td>0.69692</td>\n",
       "    </tr>\n",
       "  </tbody>\n",
       "</table>\n",
       "</div>\n",
       "    <div class=\"colab-df-buttons\">\n",
       "\n",
       "  <div class=\"colab-df-container\">\n",
       "    <button class=\"colab-df-convert\" onclick=\"convertToInteractive('df-6d4382eb-e1f4-4dc2-b24d-3f34776e52b2')\"\n",
       "            title=\"Convert this dataframe to an interactive table.\"\n",
       "            style=\"display:none;\">\n",
       "\n",
       "  <svg xmlns=\"http://www.w3.org/2000/svg\" height=\"24px\" viewBox=\"0 -960 960 960\">\n",
       "    <path d=\"M120-120v-720h720v720H120Zm60-500h600v-160H180v160Zm220 220h160v-160H400v160Zm0 220h160v-160H400v160ZM180-400h160v-160H180v160Zm440 0h160v-160H620v160ZM180-180h160v-160H180v160Zm440 0h160v-160H620v160Z\"/>\n",
       "  </svg>\n",
       "    </button>\n",
       "\n",
       "  <style>\n",
       "    .colab-df-container {\n",
       "      display:flex;\n",
       "      gap: 12px;\n",
       "    }\n",
       "\n",
       "    .colab-df-convert {\n",
       "      background-color: #E8F0FE;\n",
       "      border: none;\n",
       "      border-radius: 50%;\n",
       "      cursor: pointer;\n",
       "      display: none;\n",
       "      fill: #1967D2;\n",
       "      height: 32px;\n",
       "      padding: 0 0 0 0;\n",
       "      width: 32px;\n",
       "    }\n",
       "\n",
       "    .colab-df-convert:hover {\n",
       "      background-color: #E2EBFA;\n",
       "      box-shadow: 0px 1px 2px rgba(60, 64, 67, 0.3), 0px 1px 3px 1px rgba(60, 64, 67, 0.15);\n",
       "      fill: #174EA6;\n",
       "    }\n",
       "\n",
       "    .colab-df-buttons div {\n",
       "      margin-bottom: 4px;\n",
       "    }\n",
       "\n",
       "    [theme=dark] .colab-df-convert {\n",
       "      background-color: #3B4455;\n",
       "      fill: #D2E3FC;\n",
       "    }\n",
       "\n",
       "    [theme=dark] .colab-df-convert:hover {\n",
       "      background-color: #434B5C;\n",
       "      box-shadow: 0px 1px 3px 1px rgba(0, 0, 0, 0.15);\n",
       "      filter: drop-shadow(0px 1px 2px rgba(0, 0, 0, 0.3));\n",
       "      fill: #FFFFFF;\n",
       "    }\n",
       "  </style>\n",
       "\n",
       "    <script>\n",
       "      const buttonEl =\n",
       "        document.querySelector('#df-6d4382eb-e1f4-4dc2-b24d-3f34776e52b2 button.colab-df-convert');\n",
       "      buttonEl.style.display =\n",
       "        google.colab.kernel.accessAllowed ? 'block' : 'none';\n",
       "\n",
       "      async function convertToInteractive(key) {\n",
       "        const element = document.querySelector('#df-6d4382eb-e1f4-4dc2-b24d-3f34776e52b2');\n",
       "        const dataTable =\n",
       "          await google.colab.kernel.invokeFunction('convertToInteractive',\n",
       "                                                    [key], {});\n",
       "        if (!dataTable) return;\n",
       "\n",
       "        const docLinkHtml = 'Like what you see? Visit the ' +\n",
       "          '<a target=\"_blank\" href=https://colab.research.google.com/notebooks/data_table.ipynb>data table notebook</a>'\n",
       "          + ' to learn more about interactive tables.';\n",
       "        element.innerHTML = '';\n",
       "        dataTable['output_type'] = 'display_data';\n",
       "        await google.colab.output.renderOutput(dataTable, element);\n",
       "        const docLink = document.createElement('div');\n",
       "        docLink.innerHTML = docLinkHtml;\n",
       "        element.appendChild(docLink);\n",
       "      }\n",
       "    </script>\n",
       "  </div>\n",
       "\n",
       "\n",
       "<div id=\"df-d29b580e-8206-42c3-95fc-7b7ab03d7e47\">\n",
       "  <button class=\"colab-df-quickchart\" onclick=\"quickchart('df-d29b580e-8206-42c3-95fc-7b7ab03d7e47')\"\n",
       "            title=\"Suggest charts\"\n",
       "            style=\"display:none;\">\n",
       "\n",
       "<svg xmlns=\"http://www.w3.org/2000/svg\" height=\"24px\"viewBox=\"0 0 24 24\"\n",
       "     width=\"24px\">\n",
       "    <g>\n",
       "        <path d=\"M19 3H5c-1.1 0-2 .9-2 2v14c0 1.1.9 2 2 2h14c1.1 0 2-.9 2-2V5c0-1.1-.9-2-2-2zM9 17H7v-7h2v7zm4 0h-2V7h2v10zm4 0h-2v-4h2v4z\"/>\n",
       "    </g>\n",
       "</svg>\n",
       "  </button>\n",
       "\n",
       "<style>\n",
       "  .colab-df-quickchart {\n",
       "      --bg-color: #E8F0FE;\n",
       "      --fill-color: #1967D2;\n",
       "      --hover-bg-color: #E2EBFA;\n",
       "      --hover-fill-color: #174EA6;\n",
       "      --disabled-fill-color: #AAA;\n",
       "      --disabled-bg-color: #DDD;\n",
       "  }\n",
       "\n",
       "  [theme=dark] .colab-df-quickchart {\n",
       "      --bg-color: #3B4455;\n",
       "      --fill-color: #D2E3FC;\n",
       "      --hover-bg-color: #434B5C;\n",
       "      --hover-fill-color: #FFFFFF;\n",
       "      --disabled-bg-color: #3B4455;\n",
       "      --disabled-fill-color: #666;\n",
       "  }\n",
       "\n",
       "  .colab-df-quickchart {\n",
       "    background-color: var(--bg-color);\n",
       "    border: none;\n",
       "    border-radius: 50%;\n",
       "    cursor: pointer;\n",
       "    display: none;\n",
       "    fill: var(--fill-color);\n",
       "    height: 32px;\n",
       "    padding: 0;\n",
       "    width: 32px;\n",
       "  }\n",
       "\n",
       "  .colab-df-quickchart:hover {\n",
       "    background-color: var(--hover-bg-color);\n",
       "    box-shadow: 0 1px 2px rgba(60, 64, 67, 0.3), 0 1px 3px 1px rgba(60, 64, 67, 0.15);\n",
       "    fill: var(--button-hover-fill-color);\n",
       "  }\n",
       "\n",
       "  .colab-df-quickchart-complete:disabled,\n",
       "  .colab-df-quickchart-complete:disabled:hover {\n",
       "    background-color: var(--disabled-bg-color);\n",
       "    fill: var(--disabled-fill-color);\n",
       "    box-shadow: none;\n",
       "  }\n",
       "\n",
       "  .colab-df-spinner {\n",
       "    border: 2px solid var(--fill-color);\n",
       "    border-color: transparent;\n",
       "    border-bottom-color: var(--fill-color);\n",
       "    animation:\n",
       "      spin 1s steps(1) infinite;\n",
       "  }\n",
       "\n",
       "  @keyframes spin {\n",
       "    0% {\n",
       "      border-color: transparent;\n",
       "      border-bottom-color: var(--fill-color);\n",
       "      border-left-color: var(--fill-color);\n",
       "    }\n",
       "    20% {\n",
       "      border-color: transparent;\n",
       "      border-left-color: var(--fill-color);\n",
       "      border-top-color: var(--fill-color);\n",
       "    }\n",
       "    30% {\n",
       "      border-color: transparent;\n",
       "      border-left-color: var(--fill-color);\n",
       "      border-top-color: var(--fill-color);\n",
       "      border-right-color: var(--fill-color);\n",
       "    }\n",
       "    40% {\n",
       "      border-color: transparent;\n",
       "      border-right-color: var(--fill-color);\n",
       "      border-top-color: var(--fill-color);\n",
       "    }\n",
       "    60% {\n",
       "      border-color: transparent;\n",
       "      border-right-color: var(--fill-color);\n",
       "    }\n",
       "    80% {\n",
       "      border-color: transparent;\n",
       "      border-right-color: var(--fill-color);\n",
       "      border-bottom-color: var(--fill-color);\n",
       "    }\n",
       "    90% {\n",
       "      border-color: transparent;\n",
       "      border-bottom-color: var(--fill-color);\n",
       "    }\n",
       "  }\n",
       "</style>\n",
       "\n",
       "  <script>\n",
       "    async function quickchart(key) {\n",
       "      const quickchartButtonEl =\n",
       "        document.querySelector('#' + key + ' button');\n",
       "      quickchartButtonEl.disabled = true;  // To prevent multiple clicks.\n",
       "      quickchartButtonEl.classList.add('colab-df-spinner');\n",
       "      try {\n",
       "        const charts = await google.colab.kernel.invokeFunction(\n",
       "            'suggestCharts', [key], {});\n",
       "      } catch (error) {\n",
       "        console.error('Error during call to suggestCharts:', error);\n",
       "      }\n",
       "      quickchartButtonEl.classList.remove('colab-df-spinner');\n",
       "      quickchartButtonEl.classList.add('colab-df-quickchart-complete');\n",
       "    }\n",
       "    (() => {\n",
       "      let quickchartButtonEl =\n",
       "        document.querySelector('#df-d29b580e-8206-42c3-95fc-7b7ab03d7e47 button');\n",
       "      quickchartButtonEl.style.display =\n",
       "        google.colab.kernel.accessAllowed ? 'block' : 'none';\n",
       "    })();\n",
       "  </script>\n",
       "</div>\n",
       "\n",
       "  <div id=\"id_a797a68a-cffe-43ea-84e7-8c6718f05d74\">\n",
       "    <style>\n",
       "      .colab-df-generate {\n",
       "        background-color: #E8F0FE;\n",
       "        border: none;\n",
       "        border-radius: 50%;\n",
       "        cursor: pointer;\n",
       "        display: none;\n",
       "        fill: #1967D2;\n",
       "        height: 32px;\n",
       "        padding: 0 0 0 0;\n",
       "        width: 32px;\n",
       "      }\n",
       "\n",
       "      .colab-df-generate:hover {\n",
       "        background-color: #E2EBFA;\n",
       "        box-shadow: 0px 1px 2px rgba(60, 64, 67, 0.3), 0px 1px 3px 1px rgba(60, 64, 67, 0.15);\n",
       "        fill: #174EA6;\n",
       "      }\n",
       "\n",
       "      [theme=dark] .colab-df-generate {\n",
       "        background-color: #3B4455;\n",
       "        fill: #D2E3FC;\n",
       "      }\n",
       "\n",
       "      [theme=dark] .colab-df-generate:hover {\n",
       "        background-color: #434B5C;\n",
       "        box-shadow: 0px 1px 3px 1px rgba(0, 0, 0, 0.15);\n",
       "        filter: drop-shadow(0px 1px 2px rgba(0, 0, 0, 0.3));\n",
       "        fill: #FFFFFF;\n",
       "      }\n",
       "    </style>\n",
       "    <button class=\"colab-df-generate\" onclick=\"generateWithVariable('res_df')\"\n",
       "            title=\"Generate code using this dataframe.\"\n",
       "            style=\"display:none;\">\n",
       "\n",
       "  <svg xmlns=\"http://www.w3.org/2000/svg\" height=\"24px\"viewBox=\"0 0 24 24\"\n",
       "       width=\"24px\">\n",
       "    <path d=\"M7,19H8.4L18.45,9,17,7.55,7,17.6ZM5,21V16.75L18.45,3.32a2,2,0,0,1,2.83,0l1.4,1.43a1.91,1.91,0,0,1,.58,1.4,1.91,1.91,0,0,1-.58,1.4L9.25,21ZM18.45,9,17,7.55Zm-12,3A5.31,5.31,0,0,0,4.9,8.1,5.31,5.31,0,0,0,1,6.5,5.31,5.31,0,0,0,4.9,4.9,5.31,5.31,0,0,0,6.5,1,5.31,5.31,0,0,0,8.1,4.9,5.31,5.31,0,0,0,12,6.5,5.46,5.46,0,0,0,6.5,12Z\"/>\n",
       "  </svg>\n",
       "    </button>\n",
       "    <script>\n",
       "      (() => {\n",
       "      const buttonEl =\n",
       "        document.querySelector('#id_a797a68a-cffe-43ea-84e7-8c6718f05d74 button.colab-df-generate');\n",
       "      buttonEl.style.display =\n",
       "        google.colab.kernel.accessAllowed ? 'block' : 'none';\n",
       "\n",
       "      buttonEl.onclick = () => {\n",
       "        google.colab.notebook.generateWithVariable('res_df');\n",
       "      }\n",
       "      })();\n",
       "    </script>\n",
       "  </div>\n",
       "\n",
       "    </div>\n",
       "  </div>\n"
      ],
      "text/plain": [
       "       loss  accuracy  val_loss  val_accuracy\n",
       "0  0.693444   0.50788  0.691872       0.51860\n",
       "1  0.636075   0.64240  0.510537       0.76500\n",
       "2  0.477312   0.77384  0.669459       0.62808\n",
       "3  0.247037   0.90112  0.733809       0.70996\n",
       "4  0.120564   0.95712  0.941729       0.69692"
      ]
     },
     "execution_count": 27,
     "metadata": {},
     "output_type": "execute_result"
    }
   ],
   "source": [
    "res_df"
   ]
  },
  {
   "cell_type": "code",
   "execution_count": 28,
   "metadata": {
    "executionInfo": {
     "elapsed": 421,
     "status": "ok",
     "timestamp": 1702888898377,
     "user": {
      "displayName": "Vishal Jagadale",
      "userId": "11393755916970364780"
     },
     "user_tz": -330
    },
    "id": "Hni986U4FdZx"
   },
   "outputs": [],
   "source": [
    "from keras.layers import Bidirectional, GRU"
   ]
  },
  {
   "cell_type": "code",
   "execution_count": 31,
   "metadata": {
    "colab": {
     "base_uri": "https://localhost:8080/"
    },
    "executionInfo": {
     "elapsed": 1904,
     "status": "ok",
     "timestamp": 1702889111125,
     "user": {
      "displayName": "Vishal Jagadale",
      "userId": "11393755916970364780"
     },
     "user_tz": -330
    },
    "id": "sp7IhsQzFnsD",
    "outputId": "5926ece3-1270-42eb-b511-a4ecee2cdd70"
   },
   "outputs": [
    {
     "name": "stdout",
     "output_type": "stream",
     "text": [
      "Model: \"sequential_1\"\n",
      "_________________________________________________________________\n",
      " Layer (type)                Output Shape              Param #   \n",
      "=================================================================\n",
      " embedding_1 (Embedding)     (None, 120, 16)           160000    \n",
      "                                                                 \n",
      " bidirectional (Bidirection  (None, 64)                9600      \n",
      " al)                                                             \n",
      "                                                                 \n",
      " dense_2 (Dense)             (None, 10)                650       \n",
      "                                                                 \n",
      " dense_3 (Dense)             (None, 1)                 11        \n",
      "                                                                 \n",
      "=================================================================\n",
      "Total params: 170261 (665.08 KB)\n",
      "Trainable params: 170261 (665.08 KB)\n",
      "Non-trainable params: 0 (0.00 Byte)\n",
      "_________________________________________________________________\n"
     ]
    }
   ],
   "source": [
    "model_gru = Sequential([\n",
    "    Embedding(vocab_size, embedded_dim,\n",
    "              input_length = max_lenght),\n",
    "\n",
    "    Bidirectional(GRU(32)),\n",
    "\n",
    "    Dense(10, activation = 'relu'),\n",
    "\n",
    "    Dense(1, activation = 'sigmoid')\n",
    "])\n",
    "\n",
    "model_gru.summary()"
   ]
  },
  {
   "cell_type": "code",
   "execution_count": 32,
   "metadata": {
    "colab": {
     "base_uri": "https://localhost:8080/"
    },
    "executionInfo": {
     "elapsed": 327524,
     "status": "ok",
     "timestamp": 1702889626465,
     "user": {
      "displayName": "Vishal Jagadale",
      "userId": "11393755916970364780"
     },
     "user_tz": -330
    },
    "id": "kIcWeG4nGPVU",
    "outputId": "7080bd4a-1125-4031-829e-f54251318052"
   },
   "outputs": [
    {
     "name": "stdout",
     "output_type": "stream",
     "text": [
      "Epoch 1/3\n",
      "782/782 [==============================] - 105s 127ms/step - loss: 0.4972 - accuracy: 0.7370 - val_loss: 0.3468 - val_accuracy: 0.8521\n",
      "Epoch 2/3\n",
      "782/782 [==============================] - 108s 138ms/step - loss: 0.2984 - accuracy: 0.8814 - val_loss: 0.3472 - val_accuracy: 0.8489\n",
      "Epoch 3/3\n",
      "782/782 [==============================] - 89s 114ms/step - loss: 0.2351 - accuracy: 0.9107 - val_loss: 0.3698 - val_accuracy: 0.8399\n"
     ]
    }
   ],
   "source": [
    "model_gru.compile(loss = 'binary_crossentropy',\n",
    "                  optimizer = 'adam', metrics = ['accuracy'])\n",
    "\n",
    "\n",
    "history = model_gru.fit(padded, training_labels_final, epochs = 3,\n",
    "                        validation_data = (testing_padded, testing_labels_final))"
   ]
  },
  {
   "cell_type": "code",
   "execution_count": 33,
   "metadata": {
    "executionInfo": {
     "elapsed": 8,
     "status": "ok",
     "timestamp": 1702889627985,
     "user": {
      "displayName": "Vishal Jagadale",
      "userId": "11393755916970364780"
     },
     "user_tz": -330
    },
    "id": "PO4Msj7tHJZj"
   },
   "outputs": [],
   "source": [
    "from keras.layers import LSTM"
   ]
  },
  {
   "cell_type": "code",
   "execution_count": 34,
   "metadata": {
    "executionInfo": {
     "elapsed": 748,
     "status": "ok",
     "timestamp": 1702889628729,
     "user": {
      "displayName": "Vishal Jagadale",
      "userId": "11393755916970364780"
     },
     "user_tz": -330
    },
    "id": "DDDOnPuFHgN6"
   },
   "outputs": [],
   "source": [
    "model_lstm = Sequential([\n",
    "    Embedding(vocab_size, embedded_dim,\n",
    "              input_length = max_lenght),\n",
    "\n",
    "    Bidirectional(LSTM(32)),\n",
    "\n",
    "    Dense(10, activation = 'relu'),\n",
    "\n",
    "    Dense(1, activation = 'sigmoid')\n",
    "])"
   ]
  },
  {
   "cell_type": "code",
   "execution_count": 35,
   "metadata": {
    "colab": {
     "base_uri": "https://localhost:8080/"
    },
    "executionInfo": {
     "elapsed": 278168,
     "status": "ok",
     "timestamp": 1702889906892,
     "user": {
      "displayName": "Vishal Jagadale",
      "userId": "11393755916970364780"
     },
     "user_tz": -330
    },
    "id": "UtjMXCemHoOj",
    "outputId": "12860017-1711-484e-8ebf-f3e49fb3720d"
   },
   "outputs": [
    {
     "name": "stdout",
     "output_type": "stream",
     "text": [
      "Epoch 1/3\n",
      "782/782 [==============================] - 107s 130ms/step - loss: 0.5135 - accuracy: 0.7269 - val_loss: 0.3545 - val_accuracy: 0.8486\n",
      "Epoch 2/3\n",
      "782/782 [==============================] - 85s 109ms/step - loss: 0.2999 - accuracy: 0.8802 - val_loss: 0.3537 - val_accuracy: 0.8492\n",
      "Epoch 3/3\n",
      "782/782 [==============================] - 86s 110ms/step - loss: 0.2348 - accuracy: 0.9112 - val_loss: 0.3874 - val_accuracy: 0.8428\n"
     ]
    }
   ],
   "source": [
    "model_lstm.compile(loss = 'binary_crossentropy',\n",
    "                  optimizer = 'adam', metrics = ['accuracy'])\n",
    "\n",
    "\n",
    "history = model_lstm.fit(padded, training_labels_final, epochs = 3,\n",
    "                        validation_data = (testing_padded, testing_labels_final))"
   ]
  },
  {
   "cell_type": "code",
   "execution_count": 36,
   "metadata": {
    "executionInfo": {
     "elapsed": 12,
     "status": "ok",
     "timestamp": 1702889908373,
     "user": {
      "displayName": "Vishal Jagadale",
      "userId": "11393755916970364780"
     },
     "user_tz": -330
    },
    "id": "zo95CIqaHxZ6"
   },
   "outputs": [],
   "source": [
    "new_1 = 'The was worst movie. Please do not watch it. Waste of money and time.'\n",
    "new_2 = 'A must watch movie. I loved to watch it. It was so amazing!'"
   ]
  },
  {
   "cell_type": "code",
   "execution_count": 64,
   "metadata": {
    "executionInfo": {
     "elapsed": 597,
     "status": "ok",
     "timestamp": 1702891215039,
     "user": {
      "displayName": "Vishal Jagadale",
      "userId": "11393755916970364780"
     },
     "user_tz": -330
    },
    "id": "6txtpHgIIsq2"
   },
   "outputs": [],
   "source": [
    "def pred_preprocessing(text):\n",
    "  testing_sequences=tokenizer.texts_to_sequences(text)\n",
    "  testing_padded=pad_sequences(testing_sequences,maxlen=max_lenght,truncating=trunc_type)\n",
    "  return testing_padded"
   ]
  },
  {
   "cell_type": "code",
   "execution_count": 65,
   "metadata": {
    "executionInfo": {
     "elapsed": 582,
     "status": "ok",
     "timestamp": 1702891217472,
     "user": {
      "displayName": "Vishal Jagadale",
      "userId": "11393755916970364780"
     },
     "user_tz": -330
    },
    "id": "2pV9Na0qK1PU"
   },
   "outputs": [],
   "source": [
    "x_test=pred_preprocessing(new_1)"
   ]
  },
  {
   "cell_type": "code",
   "execution_count": 66,
   "metadata": {
    "colab": {
     "base_uri": "https://localhost:8080/"
    },
    "executionInfo": {
     "elapsed": 7,
     "status": "ok",
     "timestamp": 1702891219300,
     "user": {
      "displayName": "Vishal Jagadale",
      "userId": "11393755916970364780"
     },
     "user_tz": -330
    },
    "id": "zFB3Vv6oNOdV",
    "outputId": "2be09bdd-5188-47e5-8bba-4b7bf0041542"
   },
   "outputs": [
    {
     "name": "stdout",
     "output_type": "stream",
     "text": [
      "[[ 0  0  0 ...  0  0  1]\n",
      " [ 0  0  0 ...  0  0 10]\n",
      " [ 0  0  0 ...  0  0  2]\n",
      " ...\n",
      " [ 0  0  0 ...  0  0  7]\n",
      " [ 0  0  0 ...  0  0  2]\n",
      " [ 0  0  0 ...  0  0  0]]\n"
     ]
    }
   ],
   "source": [
    "print(x_test)"
   ]
  },
  {
   "cell_type": "code",
   "execution_count": 67,
   "metadata": {
    "colab": {
     "base_uri": "https://localhost:8080/"
    },
    "executionInfo": {
     "elapsed": 9,
     "status": "ok",
     "timestamp": 1702891220956,
     "user": {
      "displayName": "Vishal Jagadale",
      "userId": "11393755916970364780"
     },
     "user_tz": -330
    },
    "id": "Wt-0YiLeMpgH",
    "outputId": "4e58c8f2-fb60-469e-e1a2-89373157c92f"
   },
   "outputs": [
    {
     "data": {
      "text/plain": [
       "{'t': 1,\n",
       " 'e': 2,\n",
       " 'o': 3,\n",
       " 'a': 4,\n",
       " 'w': 5,\n",
       " 's': 6,\n",
       " 'm': 7,\n",
       " 'i': 8,\n",
       " 'n': 9,\n",
       " 'h': 10,\n",
       " 'd': 11,\n",
       " 'r': 12,\n",
       " 'v': 13,\n",
       " 'p': 14,\n",
       " 'l': 15,\n",
       " 'c': 16,\n",
       " 'f': 17,\n",
       " 'y': 18}"
      ]
     },
     "execution_count": 67,
     "metadata": {},
     "output_type": "execute_result"
    }
   ],
   "source": [
    "word_index"
   ]
  },
  {
   "cell_type": "code",
   "execution_count": 68,
   "metadata": {
    "executionInfo": {
     "elapsed": 5,
     "status": "ok",
     "timestamp": 1702891222856,
     "user": {
      "displayName": "Vishal Jagadale",
      "userId": "11393755916970364780"
     },
     "user_tz": -330
    },
    "id": "vCzqN3_bL-zz"
   },
   "outputs": [],
   "source": [
    "y_pred=model_lstm.predict(x_test,verbose=False)"
   ]
  },
  {
   "cell_type": "code",
   "execution_count": 69,
   "metadata": {
    "colab": {
     "base_uri": "https://localhost:8080/"
    },
    "executionInfo": {
     "elapsed": 6,
     "status": "ok",
     "timestamp": 1702891225886,
     "user": {
      "displayName": "Vishal Jagadale",
      "userId": "11393755916970364780"
     },
     "user_tz": -330
    },
    "id": "ov_19Rt8MQXY",
    "outputId": "c86d8b6b-e858-4acf-aa25-5e7ad76cd5b4"
   },
   "outputs": [
    {
     "name": "stdout",
     "output_type": "stream",
     "text": [
      "0.37845975\n"
     ]
    }
   ],
   "source": [
    "percent_pos=y_pred[0,0]\n",
    "print(percent_pos)"
   ]
  },
  {
   "cell_type": "code",
   "execution_count": 70,
   "metadata": {
    "colab": {
     "base_uri": "https://localhost:8080/"
    },
    "executionInfo": {
     "elapsed": 435,
     "status": "ok",
     "timestamp": 1702891321774,
     "user": {
      "displayName": "Vishal Jagadale",
      "userId": "11393755916970364780"
     },
     "user_tz": -330
    },
    "id": "vzZfXJRDOPAT",
    "outputId": "11605e21-6785-48a5-9309-f8052688669c"
   },
   "outputs": [
    {
     "name": "stdout",
     "output_type": "stream",
     "text": [
      "0.35555494\n"
     ]
    }
   ],
   "source": [
    "x_test=pred_preprocessing(new_2)\n",
    "y_pred=model_lstm.predict(x_test,verbose=False)\n",
    "percent_pos=y_pred[0,0]\n",
    "print(percent_pos)"
   ]
  },
  {
   "cell_type": "code",
   "execution_count": null,
   "metadata": {
    "id": "MRj8uLfeO3Vi"
   },
   "outputs": [],
   "source": []
  }
 ],
 "metadata": {
  "colab": {
   "authorship_tag": "ABX9TyNEYmeMRXTin7nOcecnrYZk",
   "provenance": []
  },
  "kernelspec": {
   "display_name": "Python 3 (ipykernel)",
   "language": "python",
   "name": "python3"
  },
  "language_info": {
   "codemirror_mode": {
    "name": "ipython",
    "version": 3
   },
   "file_extension": ".py",
   "mimetype": "text/x-python",
   "name": "python",
   "nbconvert_exporter": "python",
   "pygments_lexer": "ipython3",
   "version": "3.11.5"
  }
 },
 "nbformat": 4,
 "nbformat_minor": 1
}
