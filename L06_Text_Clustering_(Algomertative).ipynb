{
 "cells": [
  {
   "cell_type": "markdown",
   "id": "9d708c98",
   "metadata": {},
   "source": [
    "Date : 14/12/2023"
   ]
  },
  {
   "cell_type": "markdown",
   "id": "5725b5b8",
   "metadata": {},
   "source": [
    "## Text Clustering"
   ]
  },
  {
   "cell_type": "markdown",
   "id": "8ddbd055",
   "metadata": {},
   "source": [
    "<img src=\"applsci-13-00342-g001.webp\" alt=\"text_clustering\">"
   ]
  },
  {
   "cell_type": "markdown",
   "id": "27dc9b1d",
   "metadata": {},
   "source": [
    "### Imports"
   ]
  },
  {
   "cell_type": "code",
   "execution_count": 1,
   "id": "ad9bb388",
   "metadata": {},
   "outputs": [],
   "source": [
    "# !pip install kneed"
   ]
  },
  {
   "cell_type": "code",
   "execution_count": 18,
   "id": "9cf12a9d",
   "metadata": {},
   "outputs": [],
   "source": [
    "### -------------------\n",
    "### Importing libraries\n",
    "### -------------------\n",
    "\n",
    "import pandas as pd\n",
    "import numpy as np\n",
    "import matplotlib.pyplot as plt\n",
    "import seaborn as sns\n",
    "\n",
    "from sklearn.feature_extraction.text import TfidfVectorizer\n",
    "\n",
    "from sklearn.cluster import AgglomerativeClustering\n",
    "from sklearn.metrics import silhouette_score\n",
    "\n",
    "\n",
    "from kneed import KneeLocator\n",
    "\n",
    "from nltk.tokenize import word_tokenize\n",
    "from nltk.corpus import stopwords\n",
    "from nltk import FreqDist\n",
    "\n",
    "import string\n",
    "\n",
    "from scipy.cluster.hierarchy import linkage"
   ]
  },
  {
   "cell_type": "markdown",
   "id": "be6cec1f",
   "metadata": {},
   "source": [
    "## Input data"
   ]
  },
  {
   "cell_type": "markdown",
   "id": "e232e999",
   "metadata": {},
   "source": [
    "Dataset : bbc-news-data.txt\n",
    "\n",
    "location : https://mitu.co.in/dataset"
   ]
  },
  {
   "cell_type": "code",
   "execution_count": 3,
   "id": "e2bf3b75",
   "metadata": {},
   "outputs": [
    {
     "name": "stdout",
     "output_type": "stream",
     "text": [
      "2225\n"
     ]
    }
   ],
   "source": [
    "### ----------\n",
    "### input data\n",
    "### ----------\n",
    "\n",
    "\n",
    "\n",
    "with open ('bbc-text-data.csv', 'r') as fh:\n",
    "    \n",
    "    data = fh.readlines()\n",
    "\n",
    "\n",
    "    \n",
    "print(len(data))"
   ]
  },
  {
   "cell_type": "code",
   "execution_count": 4,
   "id": "f65edee5",
   "metadata": {},
   "outputs": [],
   "source": [
    "# Initializing the TfidfVectorizer\n",
    "\n",
    "tfidf = TfidfVectorizer(stop_words = 'english')"
   ]
  },
  {
   "cell_type": "code",
   "execution_count": 5,
   "id": "4bff3c61",
   "metadata": {},
   "outputs": [
    {
     "data": {
      "text/plain": [
       "(2225, 29126)"
      ]
     },
     "execution_count": 5,
     "metadata": {},
     "output_type": "execute_result"
    }
   ],
   "source": [
    "# Tranforming the data\n",
    "\n",
    "x_vect = tfidf.fit_transform(data)\n",
    "\n",
    "\n",
    "\n",
    "x_vect.shape"
   ]
  },
  {
   "cell_type": "code",
   "execution_count": 6,
   "id": "8b2bec4b",
   "metadata": {},
   "outputs": [],
   "source": [
    "# # clustering the data \n",
    "\n",
    "# sse = []\n",
    "\n",
    "# for i in range(1,15):\n",
    "    \n",
    "#     agm_clust = AgglomerativeClustering(n_clusters = i)\n",
    "    \n",
    "#     agm_clust.fit_predict(x_vect.toarray())\n",
    "    \n",
    "#     if i>1:\n",
    "        \n",
    "#         score = silhouette_score(x_vect, agm_clust.labels_)\n",
    "\n",
    "#         sse.append(score)"
   ]
  },
  {
   "cell_type": "markdown",
   "id": "b63938dd",
   "metadata": {},
   "source": [
    "# Build the model"
   ]
  },
  {
   "cell_type": "code",
   "execution_count": 8,
   "id": "89ffab2d",
   "metadata": {},
   "outputs": [],
   "source": [
    "agm_clust = AgglomerativeClustering(n_clusters=5)"
   ]
  },
  {
   "cell_type": "code",
   "execution_count": 10,
   "id": "1824bf1a",
   "metadata": {},
   "outputs": [],
   "source": [
    "labels = agm_clust.fit_predict(x_vect.toarray())"
   ]
  },
  {
   "cell_type": "code",
   "execution_count": 11,
   "id": "dda53b09",
   "metadata": {},
   "outputs": [
    {
     "data": {
      "text/plain": [
       "array([4, 0, 0, ..., 0, 0, 0])"
      ]
     },
     "execution_count": 11,
     "metadata": {},
     "output_type": "execute_result"
    }
   ],
   "source": [
    "labels"
   ]
  },
  {
   "cell_type": "code",
   "execution_count": 13,
   "id": "cd715017",
   "metadata": {},
   "outputs": [
    {
     "data": {
      "text/plain": [
       "array([4, 0, 0, ..., 0, 0, 0])"
      ]
     },
     "execution_count": 13,
     "metadata": {},
     "output_type": "execute_result"
    }
   ],
   "source": [
    "agm_clust.labels_"
   ]
  },
  {
   "cell_type": "code",
   "execution_count": 14,
   "id": "100217ae",
   "metadata": {},
   "outputs": [
    {
     "data": {
      "text/plain": [
       "2225"
      ]
     },
     "execution_count": 14,
     "metadata": {},
     "output_type": "execute_result"
    }
   ],
   "source": [
    "len(labels)"
   ]
  },
  {
   "cell_type": "code",
   "execution_count": 15,
   "id": "8a236000",
   "metadata": {},
   "outputs": [
    {
     "data": {
      "text/html": [
       "<div>\n",
       "<style scoped>\n",
       "    .dataframe tbody tr th:only-of-type {\n",
       "        vertical-align: middle;\n",
       "    }\n",
       "\n",
       "    .dataframe tbody tr th {\n",
       "        vertical-align: top;\n",
       "    }\n",
       "\n",
       "    .dataframe thead th {\n",
       "        text-align: right;\n",
       "    }\n",
       "</style>\n",
       "<table border=\"1\" class=\"dataframe\">\n",
       "  <thead>\n",
       "    <tr style=\"text-align: right;\">\n",
       "      <th></th>\n",
       "      <th>text</th>\n",
       "    </tr>\n",
       "  </thead>\n",
       "  <tbody>\n",
       "    <tr>\n",
       "      <th>0</th>\n",
       "      <td>tv future in the hands of viewers with home th...</td>\n",
       "    </tr>\n",
       "    <tr>\n",
       "      <th>1</th>\n",
       "      <td>worldcom boss  left books alone  former worldc...</td>\n",
       "    </tr>\n",
       "    <tr>\n",
       "      <th>2</th>\n",
       "      <td>tigers wary of farrell  gamble  leicester say ...</td>\n",
       "    </tr>\n",
       "    <tr>\n",
       "      <th>3</th>\n",
       "      <td>yeading face newcastle in fa cup premiership s...</td>\n",
       "    </tr>\n",
       "    <tr>\n",
       "      <th>4</th>\n",
       "      <td>ocean s twelve raids box office ocean s twelve...</td>\n",
       "    </tr>\n",
       "    <tr>\n",
       "      <th>...</th>\n",
       "      <td>...</td>\n",
       "    </tr>\n",
       "    <tr>\n",
       "      <th>2220</th>\n",
       "      <td>cars pull down us retail figures us retail sal...</td>\n",
       "    </tr>\n",
       "    <tr>\n",
       "      <th>2221</th>\n",
       "      <td>kilroy unveils immigration policy ex-chatshow ...</td>\n",
       "    </tr>\n",
       "    <tr>\n",
       "      <th>2222</th>\n",
       "      <td>rem announce new glasgow concert us band rem h...</td>\n",
       "    </tr>\n",
       "    <tr>\n",
       "      <th>2223</th>\n",
       "      <td>how political squabbles snowball it s become c...</td>\n",
       "    </tr>\n",
       "    <tr>\n",
       "      <th>2224</th>\n",
       "      <td>souness delight at euro progress boss graeme s...</td>\n",
       "    </tr>\n",
       "  </tbody>\n",
       "</table>\n",
       "<p>2225 rows × 1 columns</p>\n",
       "</div>"
      ],
      "text/plain": [
       "                                                   text\n",
       "0     tv future in the hands of viewers with home th...\n",
       "1     worldcom boss  left books alone  former worldc...\n",
       "2     tigers wary of farrell  gamble  leicester say ...\n",
       "3     yeading face newcastle in fa cup premiership s...\n",
       "4     ocean s twelve raids box office ocean s twelve...\n",
       "...                                                 ...\n",
       "2220  cars pull down us retail figures us retail sal...\n",
       "2221  kilroy unveils immigration policy ex-chatshow ...\n",
       "2222  rem announce new glasgow concert us band rem h...\n",
       "2223  how political squabbles snowball it s become c...\n",
       "2224  souness delight at euro progress boss graeme s...\n",
       "\n",
       "[2225 rows x 1 columns]"
      ]
     },
     "execution_count": 15,
     "metadata": {},
     "output_type": "execute_result"
    }
   ],
   "source": [
    "df=pd.DataFrame(data,columns=[\"text\"])\n",
    "df"
   ]
  },
  {
   "cell_type": "code",
   "execution_count": 16,
   "id": "ae2d49cb",
   "metadata": {},
   "outputs": [
    {
     "name": "stdout",
     "output_type": "stream",
     "text": [
      "0: 1121\n",
      "1: 225\n",
      "2: 365\n",
      "3: 146\n",
      "4: 368\n"
     ]
    }
   ],
   "source": [
    "print('0:',len(df[labels==0]))\n",
    "print('1:',len(df[labels==1]))\n",
    "print('2:',len(df[labels==2]))\n",
    "print('3:',len(df[labels==3]))\n",
    "print('4:',len(df[labels==4]))"
   ]
  },
  {
   "cell_type": "markdown",
   "id": "1186d45c",
   "metadata": {},
   "source": [
    "## Build model\n"
   ]
  },
  {
   "cell_type": "code",
   "execution_count": 19,
   "id": "be2eaf15",
   "metadata": {},
   "outputs": [],
   "source": [
    "km = AgglomerativeClustering(n_clusters=5)"
   ]
  },
  {
   "cell_type": "code",
   "execution_count": 20,
   "id": "6a082eab",
   "metadata": {},
   "outputs": [],
   "source": [
    "labels = km.fit_predict(x_vect.toarray())"
   ]
  },
  {
   "cell_type": "code",
   "execution_count": 22,
   "id": "f878cad5",
   "metadata": {},
   "outputs": [
    {
     "data": {
      "text/plain": [
       "{0: 1121, 4: 368, 2: 365, 1: 225, 3: 146}"
      ]
     },
     "execution_count": 22,
     "metadata": {},
     "output_type": "execute_result"
    }
   ],
   "source": [
    "pd.Series(labels).value_counts().to_dict()"
   ]
  },
  {
   "cell_type": "code",
   "execution_count": 23,
   "id": "e5ac9d5f",
   "metadata": {},
   "outputs": [],
   "source": [
    "df = pd.DataFrame(data, columns=['text'])"
   ]
  },
  {
   "cell_type": "code",
   "execution_count": 24,
   "id": "ac7ac6e6",
   "metadata": {},
   "outputs": [
    {
     "name": "stdout",
     "output_type": "stream",
     "text": [
      "0: 1121\n",
      "1: 225\n",
      "2: 365\n",
      "3: 146\n",
      "4: 368\n"
     ]
    }
   ],
   "source": [
    "print('0:',len(df[labels==0]))\n",
    "print('1:',len(df[labels==1]))\n",
    "print('2:',len(df[labels==2]))\n",
    "print('3:',len(df[labels==3]))\n",
    "print('4:',len(df[labels==4]))"
   ]
  },
  {
   "cell_type": "code",
   "execution_count": null,
   "id": "d6bad5be",
   "metadata": {},
   "outputs": [],
   "source": []
  }
 ],
 "metadata": {
  "kernelspec": {
   "display_name": "Python 3 (ipykernel)",
   "language": "python",
   "name": "python3"
  },
  "language_info": {
   "codemirror_mode": {
    "name": "ipython",
    "version": 3
   },
   "file_extension": ".py",
   "mimetype": "text/x-python",
   "name": "python",
   "nbconvert_exporter": "python",
   "pygments_lexer": "ipython3",
   "version": "3.11.5"
  }
 },
 "nbformat": 4,
 "nbformat_minor": 5
}
