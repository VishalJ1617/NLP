{
 "cells": [
  {
   "cell_type": "markdown",
   "id": "9d708c98",
   "metadata": {},
   "source": [
    "Date : 13/12/2023"
   ]
  },
  {
   "cell_type": "markdown",
   "id": "5725b5b8",
   "metadata": {},
   "source": [
    "## N-Grams"
   ]
  },
  {
   "cell_type": "markdown",
   "id": "27dc9b1d",
   "metadata": {},
   "source": [
    "### Imports"
   ]
  },
  {
   "cell_type": "code",
   "execution_count": 11,
   "id": "9cf12a9d",
   "metadata": {},
   "outputs": [],
   "source": [
    "### -------------------\n",
    "### Importing libraries\n",
    "### -------------------\n",
    "import pandas as pd\n",
    "# import numpy as np\n",
    "# import matplotlib.pyplot as plt\n",
    "# import seaborn as sns\n",
    "\n",
    "from sklearn.feature_extraction.text import CountVectorizer"
   ]
  },
  {
   "cell_type": "markdown",
   "id": "523f60ff",
   "metadata": {},
   "source": [
    "### Global variables"
   ]
  },
  {
   "cell_type": "markdown",
   "id": "be6cec1f",
   "metadata": {},
   "source": [
    "### Input data"
   ]
  },
  {
   "cell_type": "code",
   "execution_count": 2,
   "id": "e2bf3b75",
   "metadata": {},
   "outputs": [],
   "source": [
    "### ----------\n",
    "### input data\n",
    "### ----------\n",
    "\n",
    "sentence_1=\"The quick brown fox jumps on the lazy dogs.\"\n",
    "\n",
    "sentence_2=\"The cat chases the mouse and it squeaks loudly.\""
   ]
  },
  {
   "cell_type": "code",
   "execution_count": 8,
   "id": "a9bbe667",
   "metadata": {},
   "outputs": [],
   "source": [
    "cv=CountVectorizer(ngram_range=(1,2))"
   ]
  },
  {
   "cell_type": "code",
   "execution_count": 13,
   "id": "8cc85c12",
   "metadata": {},
   "outputs": [
    {
     "data": {
      "text/plain": [
       "<2x31 sparse matrix of type '<class 'numpy.int64'>'\n",
       "\twith 32 stored elements in Compressed Sparse Row format>"
      ]
     },
     "execution_count": 13,
     "metadata": {},
     "output_type": "execute_result"
    }
   ],
   "source": [
    "x_vect=cv.fit_transform([sentence_1,sentence_2])\n",
    "x_vect"
   ]
  },
  {
   "cell_type": "code",
   "execution_count": 10,
   "id": "01f55e70",
   "metadata": {},
   "outputs": [
    {
     "data": {
      "text/plain": [
       "array(['and', 'and it', 'brown', 'brown fox', 'cat', 'cat chases',\n",
       "       'chases', 'chases the', 'dogs', 'fox', 'fox jumps', 'it',\n",
       "       'it squeaks', 'jumps', 'jumps on', 'lazy', 'lazy dogs', 'loudly',\n",
       "       'mouse', 'mouse and', 'on', 'on the', 'quick', 'quick brown',\n",
       "       'squeaks', 'squeaks loudly', 'the', 'the cat', 'the lazy',\n",
       "       'the mouse', 'the quick'], dtype=object)"
      ]
     },
     "execution_count": 10,
     "metadata": {},
     "output_type": "execute_result"
    }
   ],
   "source": [
    "cv.get_feature_names_out()"
   ]
  },
  {
   "cell_type": "code",
   "execution_count": 15,
   "id": "f9a7de85",
   "metadata": {},
   "outputs": [],
   "source": [
    "df=pd.DataFrame(x_vect.toarray(),\n",
    "               columns=cv.get_feature_names_out())"
   ]
  },
  {
   "cell_type": "code",
   "execution_count": 16,
   "id": "84a8d34e",
   "metadata": {},
   "outputs": [
    {
     "data": {
      "text/html": [
       "<div>\n",
       "<style scoped>\n",
       "    .dataframe tbody tr th:only-of-type {\n",
       "        vertical-align: middle;\n",
       "    }\n",
       "\n",
       "    .dataframe tbody tr th {\n",
       "        vertical-align: top;\n",
       "    }\n",
       "\n",
       "    .dataframe thead th {\n",
       "        text-align: right;\n",
       "    }\n",
       "</style>\n",
       "<table border=\"1\" class=\"dataframe\">\n",
       "  <thead>\n",
       "    <tr style=\"text-align: right;\">\n",
       "      <th></th>\n",
       "      <th>and</th>\n",
       "      <th>and it</th>\n",
       "      <th>brown</th>\n",
       "      <th>brown fox</th>\n",
       "      <th>cat</th>\n",
       "      <th>cat chases</th>\n",
       "      <th>chases</th>\n",
       "      <th>chases the</th>\n",
       "      <th>dogs</th>\n",
       "      <th>fox</th>\n",
       "      <th>...</th>\n",
       "      <th>on the</th>\n",
       "      <th>quick</th>\n",
       "      <th>quick brown</th>\n",
       "      <th>squeaks</th>\n",
       "      <th>squeaks loudly</th>\n",
       "      <th>the</th>\n",
       "      <th>the cat</th>\n",
       "      <th>the lazy</th>\n",
       "      <th>the mouse</th>\n",
       "      <th>the quick</th>\n",
       "    </tr>\n",
       "  </thead>\n",
       "  <tbody>\n",
       "    <tr>\n",
       "      <th>0</th>\n",
       "      <td>0</td>\n",
       "      <td>0</td>\n",
       "      <td>1</td>\n",
       "      <td>1</td>\n",
       "      <td>0</td>\n",
       "      <td>0</td>\n",
       "      <td>0</td>\n",
       "      <td>0</td>\n",
       "      <td>1</td>\n",
       "      <td>1</td>\n",
       "      <td>...</td>\n",
       "      <td>1</td>\n",
       "      <td>1</td>\n",
       "      <td>1</td>\n",
       "      <td>0</td>\n",
       "      <td>0</td>\n",
       "      <td>2</td>\n",
       "      <td>0</td>\n",
       "      <td>1</td>\n",
       "      <td>0</td>\n",
       "      <td>1</td>\n",
       "    </tr>\n",
       "    <tr>\n",
       "      <th>1</th>\n",
       "      <td>1</td>\n",
       "      <td>1</td>\n",
       "      <td>0</td>\n",
       "      <td>0</td>\n",
       "      <td>1</td>\n",
       "      <td>1</td>\n",
       "      <td>1</td>\n",
       "      <td>1</td>\n",
       "      <td>0</td>\n",
       "      <td>0</td>\n",
       "      <td>...</td>\n",
       "      <td>0</td>\n",
       "      <td>0</td>\n",
       "      <td>0</td>\n",
       "      <td>1</td>\n",
       "      <td>1</td>\n",
       "      <td>2</td>\n",
       "      <td>1</td>\n",
       "      <td>0</td>\n",
       "      <td>1</td>\n",
       "      <td>0</td>\n",
       "    </tr>\n",
       "  </tbody>\n",
       "</table>\n",
       "<p>2 rows × 31 columns</p>\n",
       "</div>"
      ],
      "text/plain": [
       "   and  and it  brown  brown fox  cat  cat chases  chases  chases the  dogs  \\\n",
       "0    0       0      1          1    0           0       0           0     1   \n",
       "1    1       1      0          0    1           1       1           1     0   \n",
       "\n",
       "   fox  ...  on the  quick  quick brown  squeaks  squeaks loudly  the  \\\n",
       "0    1  ...       1      1            1        0               0    2   \n",
       "1    0  ...       0      0            0        1               1    2   \n",
       "\n",
       "   the cat  the lazy  the mouse  the quick  \n",
       "0        0         1          0          1  \n",
       "1        1         0          1          0  \n",
       "\n",
       "[2 rows x 31 columns]"
      ]
     },
     "execution_count": 16,
     "metadata": {},
     "output_type": "execute_result"
    }
   ],
   "source": [
    "df"
   ]
  },
  {
   "cell_type": "code",
   "execution_count": null,
   "id": "4b9c24af",
   "metadata": {},
   "outputs": [],
   "source": []
  }
 ],
 "metadata": {
  "kernelspec": {
   "display_name": "Python 3 (ipykernel)",
   "language": "python",
   "name": "python3"
  },
  "language_info": {
   "codemirror_mode": {
    "name": "ipython",
    "version": 3
   },
   "file_extension": ".py",
   "mimetype": "text/x-python",
   "name": "python",
   "nbconvert_exporter": "python",
   "pygments_lexer": "ipython3",
   "version": "3.11.5"
  }
 },
 "nbformat": 4,
 "nbformat_minor": 5
}
