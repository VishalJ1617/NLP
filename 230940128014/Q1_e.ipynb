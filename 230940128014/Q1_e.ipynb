{
 "cells": [
  {
   "cell_type": "markdown",
   "id": "35c2aec9",
   "metadata": {},
   "source": [
    "## Q1. e. Random Forest Classifier"
   ]
  },
  {
   "cell_type": "markdown",
   "id": "880c3463",
   "metadata": {},
   "source": [
    "###  n_estimators : [5,10,20,25,40,50]"
   ]
  },
  {
   "cell_type": "markdown",
   "id": "b4e36171",
   "metadata": {},
   "source": [
    "- best suitable values for digit data of n_estimators is  **50**\n",
    "    - accuracy score = **0.96** \n",
    "    - log loss = **0.2859** "
   ]
  },
  {
   "cell_type": "code",
   "execution_count": 1,
   "id": "960b1d99",
   "metadata": {},
   "outputs": [],
   "source": [
    "import pandas as pd\n",
    "from sklearn.ensemble import RandomForestClassifier\n",
    "from sklearn.model_selection import StratifiedKFold, GridSearchCV\n",
    "import numpy as np \n",
    "import matplotlib.pyplot as plt\n",
    "from sklearn.metrics import accuracy_score, log_loss, confusion_matrix, ConfusionMatrixDisplay, classification_report\n",
    "from sklearn.model_selection import train_test_split, StratifiedKFold"
   ]
  },
  {
   "cell_type": "code",
   "execution_count": 2,
   "id": "76633b6c",
   "metadata": {},
   "outputs": [],
   "source": [
    "digit_df = pd.read_csv('full_mnist_digits.csv')"
   ]
  },
  {
   "cell_type": "code",
   "execution_count": 3,
   "id": "e841ab1e",
   "metadata": {},
   "outputs": [],
   "source": [
    "X = digit_df.drop('label',axis=1)\n",
    "y = digit_df['label']"
   ]
  },
  {
   "cell_type": "code",
   "execution_count": 5,
   "id": "a48bd7d1",
   "metadata": {},
   "outputs": [],
   "source": [
    "X_train, X_test, y_train, y_test = train_test_split(X,y,train_size=0.7, random_state=23, stratify=y)"
   ]
  },
  {
   "cell_type": "markdown",
   "id": "5157c100",
   "metadata": {},
   "source": [
    "### Desiginig the model\n"
   ]
  },
  {
   "cell_type": "code",
   "execution_count": 6,
   "id": "2644fd32",
   "metadata": {},
   "outputs": [],
   "source": [
    "rf = RandomForestClassifier(random_state=23)"
   ]
  },
  {
   "cell_type": "code",
   "execution_count": 10,
   "id": "606f90d5",
   "metadata": {},
   "outputs": [
    {
     "data": {
      "text/plain": [
       "{'bootstrap': True,\n",
       " 'ccp_alpha': 0.0,\n",
       " 'class_weight': None,\n",
       " 'criterion': 'gini',\n",
       " 'max_depth': None,\n",
       " 'max_features': 'sqrt',\n",
       " 'max_leaf_nodes': None,\n",
       " 'max_samples': None,\n",
       " 'min_impurity_decrease': 0.0,\n",
       " 'min_samples_leaf': 1,\n",
       " 'min_samples_split': 2,\n",
       " 'min_weight_fraction_leaf': 0.0,\n",
       " 'n_estimators': 100,\n",
       " 'n_jobs': None,\n",
       " 'oob_score': False,\n",
       " 'random_state': 23,\n",
       " 'verbose': 0,\n",
       " 'warm_start': False}"
      ]
     },
     "execution_count": 10,
     "metadata": {},
     "output_type": "execute_result"
    }
   ],
   "source": [
    "rf.get_params()"
   ]
  },
  {
   "cell_type": "code",
   "execution_count": 11,
   "id": "014d9a2a",
   "metadata": {},
   "outputs": [],
   "source": [
    "params = {'n_estimators' : [5,10,20,25,40,50]}"
   ]
  },
  {
   "cell_type": "code",
   "execution_count": 15,
   "id": "aac97076",
   "metadata": {},
   "outputs": [
    {
     "name": "stdout",
     "output_type": "stream",
     "text": [
      "Fitting 5 folds for each of 6 candidates, totalling 30 fits\n",
      "[CV 1/5] END ...................n_estimators=5;, score=-1.073 total time=   1.6s\n",
      "[CV 2/5] END ...................n_estimators=5;, score=-0.993 total time=   1.5s\n",
      "[CV 3/5] END ...................n_estimators=5;, score=-1.004 total time=   1.4s\n",
      "[CV 4/5] END ...................n_estimators=5;, score=-1.018 total time=   1.4s\n",
      "[CV 5/5] END ...................n_estimators=5;, score=-0.992 total time=   1.4s\n",
      "[CV 1/5] END ..................n_estimators=10;, score=-0.506 total time=   2.6s\n",
      "[CV 2/5] END ..................n_estimators=10;, score=-0.480 total time=   2.6s\n",
      "[CV 3/5] END ..................n_estimators=10;, score=-0.462 total time=   2.6s\n",
      "[CV 4/5] END ..................n_estimators=10;, score=-0.479 total time=   2.5s\n",
      "[CV 5/5] END ..................n_estimators=10;, score=-0.473 total time=   2.5s\n",
      "[CV 1/5] END ..................n_estimators=20;, score=-0.368 total time=   4.8s\n",
      "[CV 2/5] END ..................n_estimators=20;, score=-0.332 total time=   5.0s\n",
      "[CV 3/5] END ..................n_estimators=20;, score=-0.324 total time=   4.9s\n",
      "[CV 4/5] END ..................n_estimators=20;, score=-0.341 total time=   4.8s\n",
      "[CV 5/5] END ..................n_estimators=20;, score=-0.327 total time=   4.7s\n",
      "[CV 1/5] END ..................n_estimators=25;, score=-0.345 total time=   6.3s\n",
      "[CV 2/5] END ..................n_estimators=25;, score=-0.313 total time=   6.1s\n",
      "[CV 3/5] END ..................n_estimators=25;, score=-0.322 total time=   6.2s\n",
      "[CV 4/5] END ..................n_estimators=25;, score=-0.323 total time=   6.2s\n",
      "[CV 5/5] END ..................n_estimators=25;, score=-0.305 total time=   6.5s\n",
      "[CV 1/5] END ..................n_estimators=40;, score=-0.314 total time=   9.9s\n",
      "[CV 2/5] END ..................n_estimators=40;, score=-0.301 total time=   9.5s\n",
      "[CV 3/5] END ..................n_estimators=40;, score=-0.309 total time=   9.9s\n",
      "[CV 4/5] END ..................n_estimators=40;, score=-0.307 total time=  10.0s\n",
      "[CV 5/5] END ..................n_estimators=40;, score=-0.289 total time=   9.9s\n",
      "[CV 1/5] END ..................n_estimators=50;, score=-0.309 total time=  12.6s\n",
      "[CV 2/5] END ..................n_estimators=50;, score=-0.294 total time=  12.1s\n",
      "[CV 3/5] END ..................n_estimators=50;, score=-0.306 total time=  12.2s\n",
      "[CV 4/5] END ..................n_estimators=50;, score=-0.299 total time=  12.1s\n",
      "[CV 5/5] END ..................n_estimators=50;, score=-0.287 total time=  12.3s\n"
     ]
    },
    {
     "data": {
      "text/html": [
       "<style>#sk-container-id-1 {color: black;}#sk-container-id-1 pre{padding: 0;}#sk-container-id-1 div.sk-toggleable {background-color: white;}#sk-container-id-1 label.sk-toggleable__label {cursor: pointer;display: block;width: 100%;margin-bottom: 0;padding: 0.3em;box-sizing: border-box;text-align: center;}#sk-container-id-1 label.sk-toggleable__label-arrow:before {content: \"▸\";float: left;margin-right: 0.25em;color: #696969;}#sk-container-id-1 label.sk-toggleable__label-arrow:hover:before {color: black;}#sk-container-id-1 div.sk-estimator:hover label.sk-toggleable__label-arrow:before {color: black;}#sk-container-id-1 div.sk-toggleable__content {max-height: 0;max-width: 0;overflow: hidden;text-align: left;background-color: #f0f8ff;}#sk-container-id-1 div.sk-toggleable__content pre {margin: 0.2em;color: black;border-radius: 0.25em;background-color: #f0f8ff;}#sk-container-id-1 input.sk-toggleable__control:checked~div.sk-toggleable__content {max-height: 200px;max-width: 100%;overflow: auto;}#sk-container-id-1 input.sk-toggleable__control:checked~label.sk-toggleable__label-arrow:before {content: \"▾\";}#sk-container-id-1 div.sk-estimator input.sk-toggleable__control:checked~label.sk-toggleable__label {background-color: #d4ebff;}#sk-container-id-1 div.sk-label input.sk-toggleable__control:checked~label.sk-toggleable__label {background-color: #d4ebff;}#sk-container-id-1 input.sk-hidden--visually {border: 0;clip: rect(1px 1px 1px 1px);clip: rect(1px, 1px, 1px, 1px);height: 1px;margin: -1px;overflow: hidden;padding: 0;position: absolute;width: 1px;}#sk-container-id-1 div.sk-estimator {font-family: monospace;background-color: #f0f8ff;border: 1px dotted black;border-radius: 0.25em;box-sizing: border-box;margin-bottom: 0.5em;}#sk-container-id-1 div.sk-estimator:hover {background-color: #d4ebff;}#sk-container-id-1 div.sk-parallel-item::after {content: \"\";width: 100%;border-bottom: 1px solid gray;flex-grow: 1;}#sk-container-id-1 div.sk-label:hover label.sk-toggleable__label {background-color: #d4ebff;}#sk-container-id-1 div.sk-serial::before {content: \"\";position: absolute;border-left: 1px solid gray;box-sizing: border-box;top: 0;bottom: 0;left: 50%;z-index: 0;}#sk-container-id-1 div.sk-serial {display: flex;flex-direction: column;align-items: center;background-color: white;padding-right: 0.2em;padding-left: 0.2em;position: relative;}#sk-container-id-1 div.sk-item {position: relative;z-index: 1;}#sk-container-id-1 div.sk-parallel {display: flex;align-items: stretch;justify-content: center;background-color: white;position: relative;}#sk-container-id-1 div.sk-item::before, #sk-container-id-1 div.sk-parallel-item::before {content: \"\";position: absolute;border-left: 1px solid gray;box-sizing: border-box;top: 0;bottom: 0;left: 50%;z-index: -1;}#sk-container-id-1 div.sk-parallel-item {display: flex;flex-direction: column;z-index: 1;position: relative;background-color: white;}#sk-container-id-1 div.sk-parallel-item:first-child::after {align-self: flex-end;width: 50%;}#sk-container-id-1 div.sk-parallel-item:last-child::after {align-self: flex-start;width: 50%;}#sk-container-id-1 div.sk-parallel-item:only-child::after {width: 0;}#sk-container-id-1 div.sk-dashed-wrapped {border: 1px dashed gray;margin: 0 0.4em 0.5em 0.4em;box-sizing: border-box;padding-bottom: 0.4em;background-color: white;}#sk-container-id-1 div.sk-label label {font-family: monospace;font-weight: bold;display: inline-block;line-height: 1.2em;}#sk-container-id-1 div.sk-label-container {text-align: center;}#sk-container-id-1 div.sk-container {/* jupyter's `normalize.less` sets `[hidden] { display: none; }` but bootstrap.min.css set `[hidden] { display: none !important; }` so we also need the `!important` here to be able to override the default hidden behavior on the sphinx rendered scikit-learn.org. See: https://github.com/scikit-learn/scikit-learn/issues/21755 */display: inline-block !important;position: relative;}#sk-container-id-1 div.sk-text-repr-fallback {display: none;}</style><div id=\"sk-container-id-1\" class=\"sk-top-container\"><div class=\"sk-text-repr-fallback\"><pre>GridSearchCV(estimator=RandomForestClassifier(random_state=23),\n",
       "             param_grid={&#x27;n_estimators&#x27;: [5, 10, 20, 25, 40, 50]},\n",
       "             scoring=&#x27;neg_log_loss&#x27;, verbose=3)</pre><b>In a Jupyter environment, please rerun this cell to show the HTML representation or trust the notebook. <br />On GitHub, the HTML representation is unable to render, please try loading this page with nbviewer.org.</b></div><div class=\"sk-container\" hidden><div class=\"sk-item sk-dashed-wrapped\"><div class=\"sk-label-container\"><div class=\"sk-label sk-toggleable\"><input class=\"sk-toggleable__control sk-hidden--visually\" id=\"sk-estimator-id-1\" type=\"checkbox\" ><label for=\"sk-estimator-id-1\" class=\"sk-toggleable__label sk-toggleable__label-arrow\">GridSearchCV</label><div class=\"sk-toggleable__content\"><pre>GridSearchCV(estimator=RandomForestClassifier(random_state=23),\n",
       "             param_grid={&#x27;n_estimators&#x27;: [5, 10, 20, 25, 40, 50]},\n",
       "             scoring=&#x27;neg_log_loss&#x27;, verbose=3)</pre></div></div></div><div class=\"sk-parallel\"><div class=\"sk-parallel-item\"><div class=\"sk-item\"><div class=\"sk-label-container\"><div class=\"sk-label sk-toggleable\"><input class=\"sk-toggleable__control sk-hidden--visually\" id=\"sk-estimator-id-2\" type=\"checkbox\" ><label for=\"sk-estimator-id-2\" class=\"sk-toggleable__label sk-toggleable__label-arrow\">estimator: RandomForestClassifier</label><div class=\"sk-toggleable__content\"><pre>RandomForestClassifier(random_state=23)</pre></div></div></div><div class=\"sk-serial\"><div class=\"sk-item\"><div class=\"sk-estimator sk-toggleable\"><input class=\"sk-toggleable__control sk-hidden--visually\" id=\"sk-estimator-id-3\" type=\"checkbox\" ><label for=\"sk-estimator-id-3\" class=\"sk-toggleable__label sk-toggleable__label-arrow\">RandomForestClassifier</label><div class=\"sk-toggleable__content\"><pre>RandomForestClassifier(random_state=23)</pre></div></div></div></div></div></div></div></div></div></div>"
      ],
      "text/plain": [
       "GridSearchCV(estimator=RandomForestClassifier(random_state=23),\n",
       "             param_grid={'n_estimators': [5, 10, 20, 25, 40, 50]},\n",
       "             scoring='neg_log_loss', verbose=3)"
      ]
     },
     "execution_count": 15,
     "metadata": {},
     "output_type": "execute_result"
    }
   ],
   "source": [
    "gcv_rf = GridSearchCV(rf, \n",
    "                      param_grid=params,\n",
    "                      scoring='neg_log_loss',  \n",
    "                      verbose=3)\n",
    "gcv_rf.fit(X_train, y_train)"
   ]
  },
  {
   "cell_type": "code",
   "execution_count": 16,
   "id": "99324363",
   "metadata": {},
   "outputs": [],
   "source": [
    "model_rf = gcv_rf.best_estimator_"
   ]
  },
  {
   "cell_type": "code",
   "execution_count": 28,
   "id": "a4e12bd3",
   "metadata": {},
   "outputs": [
    {
     "name": "stdout",
     "output_type": "stream",
     "text": [
      "best suitable values for digit data is  {'n_estimators': 50}\n"
     ]
    }
   ],
   "source": [
    "print(f\"best suitable values for digit data is \",gcv_rf.best_params_)"
   ]
  },
  {
   "cell_type": "markdown",
   "id": "77e22164",
   "metadata": {},
   "source": [
    "### Accuracy score"
   ]
  },
  {
   "cell_type": "code",
   "execution_count": 17,
   "id": "79fa0288",
   "metadata": {},
   "outputs": [],
   "source": [
    "y_pred = model_rf.predict(X_test)"
   ]
  },
  {
   "cell_type": "code",
   "execution_count": 18,
   "id": "1f18c5a7",
   "metadata": {},
   "outputs": [],
   "source": [
    "y_pred_proba = model_rf.predict_proba(X_test)"
   ]
  },
  {
   "cell_type": "code",
   "execution_count": 21,
   "id": "d902db75",
   "metadata": {},
   "outputs": [
    {
     "data": {
      "text/plain": [
       "0.2859456029383579"
      ]
     },
     "execution_count": 21,
     "metadata": {},
     "output_type": "execute_result"
    }
   ],
   "source": [
    "loss = log_loss(y_test,y_pred_proba)\n",
    "loss"
   ]
  },
  {
   "cell_type": "code",
   "execution_count": 22,
   "id": "be1ea24d",
   "metadata": {},
   "outputs": [
    {
     "data": {
      "text/plain": [
       "0.9637222222222223"
      ]
     },
     "execution_count": 22,
     "metadata": {},
     "output_type": "execute_result"
    }
   ],
   "source": [
    "score = accuracy_score(y_test,y_pred)\n",
    "score"
   ]
  },
  {
   "cell_type": "markdown",
   "id": "01ff0b82",
   "metadata": {},
   "source": [
    "### Classification report"
   ]
  },
  {
   "cell_type": "code",
   "execution_count": 23,
   "id": "4ee6a58e",
   "metadata": {},
   "outputs": [
    {
     "name": "stdout",
     "output_type": "stream",
     "text": [
      "              precision    recall  f1-score   support\n",
      "\n",
      "           0       0.98      0.99      0.98      1777\n",
      "           1       0.98      0.98      0.98      2023\n",
      "           2       0.95      0.96      0.96      1787\n",
      "           3       0.96      0.94      0.95      1839\n",
      "           4       0.96      0.97      0.96      1753\n",
      "           5       0.96      0.95      0.96      1626\n",
      "           6       0.97      0.98      0.98      1775\n",
      "           7       0.98      0.97      0.97      1880\n",
      "           8       0.95      0.94      0.95      1755\n",
      "           9       0.94      0.95      0.95      1785\n",
      "\n",
      "    accuracy                           0.96     18000\n",
      "   macro avg       0.96      0.96      0.96     18000\n",
      "weighted avg       0.96      0.96      0.96     18000\n",
      "\n"
     ]
    }
   ],
   "source": [
    "print(classification_report(y_test, y_pred))"
   ]
  },
  {
   "cell_type": "markdown",
   "id": "ff7543f2",
   "metadata": {},
   "source": [
    "### Confusion matrix"
   ]
  },
  {
   "cell_type": "code",
   "execution_count": 24,
   "id": "e7ae39ee",
   "metadata": {},
   "outputs": [
    {
     "name": "stdout",
     "output_type": "stream",
     "text": [
      "[[1757    0    4    1    1    1    5    0    7    1]\n",
      " [   0 1992   17    1    3    1    0    5    3    1]\n",
      " [   8    5 1719   12    6    3    6   10   12    6]\n",
      " [   4    1   27 1733    2   18    5   15   23   11]\n",
      " [   4    3    3    1 1693    1   11    2    6   29]\n",
      " [   7    2    5   28    5 1543   12    1   14    9]\n",
      " [   6    4    1    0    5   13 1743    0    3    0]\n",
      " [   1    6   19    3    9    0    0 1819    5   18]\n",
      " [   4   11    6   14   10   13   13    0 1654   30]\n",
      " [   7    2    8   16   30    7    0    9   12 1694]]\n"
     ]
    }
   ],
   "source": [
    "cm = confusion_matrix(y_test, y_pred)\n",
    "print(cm)"
   ]
  },
  {
   "cell_type": "code",
   "execution_count": 25,
   "id": "2eccd78b",
   "metadata": {},
   "outputs": [
    {
     "data": {
      "image/png": "[encoded data removed]",
      "text/plain": [
       "<Figure size 640x480 with 2 Axes>"
      ]
     },
     "metadata": {},
     "output_type": "display_data"
    }
   ],
   "source": [
    "vis = ConfusionMatrixDisplay(confusion_matrix=cm)\n",
    "vis.plot()\n",
    "plt.show()"
   ]
  }
 ],
 "metadata": {
  "kernelspec": {
   "display_name": "Python 3 (ipykernel)",
   "language": "python",
   "name": "python3"
  },
  "language_info": {
   "codemirror_mode": {
    "name": "ipython",
    "version": 3
   },
   "file_extension": ".py",
   "mimetype": "text/x-python",
   "name": "python",
   "nbconvert_exporter": "python",
   "pygments_lexer": "ipython3",
   "version": "3.11.5"
  }
 },
 "nbformat": 4,
 "nbformat_minor": 5
}
