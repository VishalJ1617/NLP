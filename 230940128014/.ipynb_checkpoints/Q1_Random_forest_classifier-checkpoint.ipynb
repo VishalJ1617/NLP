{
 "cells": [
  {
   "cell_type": "markdown",
   "id": "3758756b",
   "metadata": {},
   "source": [
    "##  Random forest Classifier "
   ]
  },
  {
   "cell_type": "markdown",
   "id": "e0092452",
   "metadata": {},
   "source": [
    "- ${1.0}$ accuracy score\n",
    "- ${0.0992}$ log loss"
   ]
  },
  {
   "cell_type": "code",
   "execution_count": 22,
   "id": "54bc12e7",
   "metadata": {},
   "outputs": [],
   "source": [
    "import pandas as pd\n",
    "from sklearn.ensemble import RandomForestClassifier\n",
    "from sklearn.model_selection import StratifiedKFold, GridSearchCV\n",
    "import numpy as np \n",
    "import matplotlib.pyplot as plt\n",
    "from sklearn.metrics import accuracy_score, log_loss, confusion_matrix, ConfusionMatrixDisplay, classification_report\n",
    "from sklearn.model_selection import train_test_split, StratifiedKFold"
   ]
  },
  {
   "cell_type": "code",
   "execution_count": 4,
   "id": "6a6052b4",
   "metadata": {},
   "outputs": [],
   "source": [
    "digit_df = pd.read_csv('full_mnist_digits.csv')\n",
    "\n",
    "X = digit_df.drop('label',axis=1)\n",
    "\n",
    "y = digit_df['label']"
   ]
  },
  {
   "cell_type": "code",
   "execution_count": 5,
   "id": "d99c6931",
   "metadata": {},
   "outputs": [],
   "source": [
    "X_train, X_test, y_train, y_test = train_test_split(X,y,train_size=0.7, random_state=23, stratify=y)"
   ]
  },
  {
   "cell_type": "markdown",
   "id": "ee21bc6f",
   "metadata": {},
   "source": [
    "###  Desiginig the model"
   ]
  },
  {
   "cell_type": "code",
   "execution_count": 6,
   "id": "ad57fdec",
   "metadata": {},
   "outputs": [
    {
     "name": "stdout",
     "output_type": "stream",
     "text": [
      "Fitting 5 folds for each of 4 candidates, totalling 20 fits\n",
      "[CV 1/5] END ...................max_features=3;, score=-0.402 total time=   7.9s\n",
      "[CV 2/5] END ...................max_features=3;, score=-0.400 total time=   7.7s\n",
      "[CV 3/5] END ...................max_features=3;, score=-0.407 total time=   7.7s\n",
      "[CV 4/5] END ...................max_features=3;, score=-0.403 total time=   7.7s\n",
      "[CV 5/5] END ...................max_features=3;, score=-0.416 total time=   8.2s\n",
      "[CV 1/5] END ...................max_features=4;, score=-0.385 total time=   8.6s\n",
      "[CV 2/5] END ...................max_features=4;, score=-0.381 total time=   8.5s\n",
      "[CV 3/5] END ...................max_features=4;, score=-0.389 total time=   8.6s\n",
      "[CV 4/5] END ...................max_features=4;, score=-0.385 total time=   8.6s\n",
      "[CV 5/5] END ...................max_features=4;, score=-0.395 total time=   8.7s\n",
      "[CV 1/5] END ...................max_features=5;, score=-0.368 total time=   9.6s\n",
      "[CV 2/5] END ...................max_features=5;, score=-0.365 total time=   9.7s\n",
      "[CV 3/5] END ...................max_features=5;, score=-0.370 total time=   9.9s\n",
      "[CV 4/5] END ...................max_features=5;, score=-0.370 total time=  10.2s\n",
      "[CV 5/5] END ...................max_features=5;, score=-0.375 total time=  10.1s\n",
      "[CV 1/5] END ...................max_features=6;, score=-0.354 total time=  11.0s\n",
      "[CV 2/5] END ...................max_features=6;, score=-0.353 total time=  10.6s\n",
      "[CV 3/5] END ...................max_features=6;, score=-0.362 total time=  10.9s\n",
      "[CV 4/5] END ...................max_features=6;, score=-0.356 total time=  11.0s\n",
      "[CV 5/5] END ...................max_features=6;, score=-0.361 total time=  10.8s\n"
     ]
    },
    {
     "data": {
      "text/html": [
       "<style>#sk-container-id-1 {color: black;}#sk-container-id-1 pre{padding: 0;}#sk-container-id-1 div.sk-toggleable {background-color: white;}#sk-container-id-1 label.sk-toggleable__label {cursor: pointer;display: block;width: 100%;margin-bottom: 0;padding: 0.3em;box-sizing: border-box;text-align: center;}#sk-container-id-1 label.sk-toggleable__label-arrow:before {content: \"▸\";float: left;margin-right: 0.25em;color: #696969;}#sk-container-id-1 label.sk-toggleable__label-arrow:hover:before {color: black;}#sk-container-id-1 div.sk-estimator:hover label.sk-toggleable__label-arrow:before {color: black;}#sk-container-id-1 div.sk-toggleable__content {max-height: 0;max-width: 0;overflow: hidden;text-align: left;background-color: #f0f8ff;}#sk-container-id-1 div.sk-toggleable__content pre {margin: 0.2em;color: black;border-radius: 0.25em;background-color: #f0f8ff;}#sk-container-id-1 input.sk-toggleable__control:checked~div.sk-toggleable__content {max-height: 200px;max-width: 100%;overflow: auto;}#sk-container-id-1 input.sk-toggleable__control:checked~label.sk-toggleable__label-arrow:before {content: \"▾\";}#sk-container-id-1 div.sk-estimator input.sk-toggleable__control:checked~label.sk-toggleable__label {background-color: #d4ebff;}#sk-container-id-1 div.sk-label input.sk-toggleable__control:checked~label.sk-toggleable__label {background-color: #d4ebff;}#sk-container-id-1 input.sk-hidden--visually {border: 0;clip: rect(1px 1px 1px 1px);clip: rect(1px, 1px, 1px, 1px);height: 1px;margin: -1px;overflow: hidden;padding: 0;position: absolute;width: 1px;}#sk-container-id-1 div.sk-estimator {font-family: monospace;background-color: #f0f8ff;border: 1px dotted black;border-radius: 0.25em;box-sizing: border-box;margin-bottom: 0.5em;}#sk-container-id-1 div.sk-estimator:hover {background-color: #d4ebff;}#sk-container-id-1 div.sk-parallel-item::after {content: \"\";width: 100%;border-bottom: 1px solid gray;flex-grow: 1;}#sk-container-id-1 div.sk-label:hover label.sk-toggleable__label {background-color: #d4ebff;}#sk-container-id-1 div.sk-serial::before {content: \"\";position: absolute;border-left: 1px solid gray;box-sizing: border-box;top: 0;bottom: 0;left: 50%;z-index: 0;}#sk-container-id-1 div.sk-serial {display: flex;flex-direction: column;align-items: center;background-color: white;padding-right: 0.2em;padding-left: 0.2em;position: relative;}#sk-container-id-1 div.sk-item {position: relative;z-index: 1;}#sk-container-id-1 div.sk-parallel {display: flex;align-items: stretch;justify-content: center;background-color: white;position: relative;}#sk-container-id-1 div.sk-item::before, #sk-container-id-1 div.sk-parallel-item::before {content: \"\";position: absolute;border-left: 1px solid gray;box-sizing: border-box;top: 0;bottom: 0;left: 50%;z-index: -1;}#sk-container-id-1 div.sk-parallel-item {display: flex;flex-direction: column;z-index: 1;position: relative;background-color: white;}#sk-container-id-1 div.sk-parallel-item:first-child::after {align-self: flex-end;width: 50%;}#sk-container-id-1 div.sk-parallel-item:last-child::after {align-self: flex-start;width: 50%;}#sk-container-id-1 div.sk-parallel-item:only-child::after {width: 0;}#sk-container-id-1 div.sk-dashed-wrapped {border: 1px dashed gray;margin: 0 0.4em 0.5em 0.4em;box-sizing: border-box;padding-bottom: 0.4em;background-color: white;}#sk-container-id-1 div.sk-label label {font-family: monospace;font-weight: bold;display: inline-block;line-height: 1.2em;}#sk-container-id-1 div.sk-label-container {text-align: center;}#sk-container-id-1 div.sk-container {/* jupyter's `normalize.less` sets `[hidden] { display: none; }` but bootstrap.min.css set `[hidden] { display: none !important; }` so we also need the `!important` here to be able to override the default hidden behavior on the sphinx rendered scikit-learn.org. See: https://github.com/scikit-learn/scikit-learn/issues/21755 */display: inline-block !important;position: relative;}#sk-container-id-1 div.sk-text-repr-fallback {display: none;}</style><div id=\"sk-container-id-1\" class=\"sk-top-container\"><div class=\"sk-text-repr-fallback\"><pre>GridSearchCV(cv=StratifiedKFold(n_splits=5, random_state=23, shuffle=True),\n",
       "             estimator=RandomForestClassifier(random_state=23),\n",
       "             param_grid={&#x27;max_features&#x27;: [3, 4, 5, 6]}, scoring=&#x27;neg_log_loss&#x27;,\n",
       "             verbose=3)</pre><b>In a Jupyter environment, please rerun this cell to show the HTML representation or trust the notebook. <br />On GitHub, the HTML representation is unable to render, please try loading this page with nbviewer.org.</b></div><div class=\"sk-container\" hidden><div class=\"sk-item sk-dashed-wrapped\"><div class=\"sk-label-container\"><div class=\"sk-label sk-toggleable\"><input class=\"sk-toggleable__control sk-hidden--visually\" id=\"sk-estimator-id-1\" type=\"checkbox\" ><label for=\"sk-estimator-id-1\" class=\"sk-toggleable__label sk-toggleable__label-arrow\">GridSearchCV</label><div class=\"sk-toggleable__content\"><pre>GridSearchCV(cv=StratifiedKFold(n_splits=5, random_state=23, shuffle=True),\n",
       "             estimator=RandomForestClassifier(random_state=23),\n",
       "             param_grid={&#x27;max_features&#x27;: [3, 4, 5, 6]}, scoring=&#x27;neg_log_loss&#x27;,\n",
       "             verbose=3)</pre></div></div></div><div class=\"sk-parallel\"><div class=\"sk-parallel-item\"><div class=\"sk-item\"><div class=\"sk-label-container\"><div class=\"sk-label sk-toggleable\"><input class=\"sk-toggleable__control sk-hidden--visually\" id=\"sk-estimator-id-2\" type=\"checkbox\" ><label for=\"sk-estimator-id-2\" class=\"sk-toggleable__label sk-toggleable__label-arrow\">estimator: RandomForestClassifier</label><div class=\"sk-toggleable__content\"><pre>RandomForestClassifier(random_state=23)</pre></div></div></div><div class=\"sk-serial\"><div class=\"sk-item\"><div class=\"sk-estimator sk-toggleable\"><input class=\"sk-toggleable__control sk-hidden--visually\" id=\"sk-estimator-id-3\" type=\"checkbox\" ><label for=\"sk-estimator-id-3\" class=\"sk-toggleable__label sk-toggleable__label-arrow\">RandomForestClassifier</label><div class=\"sk-toggleable__content\"><pre>RandomForestClassifier(random_state=23)</pre></div></div></div></div></div></div></div></div></div></div>"
      ],
      "text/plain": [
       "GridSearchCV(cv=StratifiedKFold(n_splits=5, random_state=23, shuffle=True),\n",
       "             estimator=RandomForestClassifier(random_state=23),\n",
       "             param_grid={'max_features': [3, 4, 5, 6]}, scoring='neg_log_loss',\n",
       "             verbose=3)"
      ]
     },
     "execution_count": 6,
     "metadata": {},
     "output_type": "execute_result"
    }
   ],
   "source": [
    "rf = RandomForestClassifier(random_state=23)\n",
    "params = {'max_features': [3,4,5,6]}\n",
    "kfold = StratifiedKFold(n_splits=5, shuffle=True,random_state=23)\n",
    "gcv_rf = GridSearchCV(rf, param_grid=params,scoring='neg_log_loss', \n",
    "                   cv=kfold, verbose=3)\n",
    "gcv_rf.fit(X, y)"
   ]
  },
  {
   "cell_type": "code",
   "execution_count": 13,
   "id": "c1b9e1d4",
   "metadata": {},
   "outputs": [],
   "source": [
    "y_pred = gcv_rf.predict(X_test)"
   ]
  },
  {
   "cell_type": "markdown",
   "id": "f9ad06a6",
   "metadata": {},
   "source": [
    "###  Accuracy score for the random forest classifier"
   ]
  },
  {
   "cell_type": "code",
   "execution_count": 24,
   "id": "7156781c",
   "metadata": {},
   "outputs": [],
   "source": [
    "y_pred_proba = gcv_rf.predict_proba(X_test)"
   ]
  },
  {
   "cell_type": "code",
   "execution_count": 27,
   "id": "e4785931",
   "metadata": {},
   "outputs": [
    {
     "data": {
      "text/plain": [
       "0.09920956348786399"
      ]
     },
     "execution_count": 27,
     "metadata": {},
     "output_type": "execute_result"
    }
   ],
   "source": [
    "loss = log_loss(y_test,y_pred_proba)\n",
    "loss"
   ]
  },
  {
   "cell_type": "code",
   "execution_count": 20,
   "id": "05fd5b1e",
   "metadata": {},
   "outputs": [
    {
     "data": {
      "text/plain": [
       "1.0"
      ]
     },
     "execution_count": 20,
     "metadata": {},
     "output_type": "execute_result"
    }
   ],
   "source": [
    "score  = accuracy_score(y_test,y_pred)\n",
    "score"
   ]
  },
  {
   "cell_type": "markdown",
   "id": "e02a9a1e",
   "metadata": {},
   "source": [
    "###  Classification report"
   ]
  },
  {
   "cell_type": "code",
   "execution_count": 23,
   "id": "5ff7828c",
   "metadata": {},
   "outputs": [
    {
     "name": "stdout",
     "output_type": "stream",
     "text": [
      "              precision    recall  f1-score   support\n",
      "\n",
      "           0       1.00      1.00      1.00      1777\n",
      "           1       1.00      1.00      1.00      2023\n",
      "           2       1.00      1.00      1.00      1787\n",
      "           3       1.00      1.00      1.00      1839\n",
      "           4       1.00      1.00      1.00      1753\n",
      "           5       1.00      1.00      1.00      1626\n",
      "           6       1.00      1.00      1.00      1775\n",
      "           7       1.00      1.00      1.00      1880\n",
      "           8       1.00      1.00      1.00      1755\n",
      "           9       1.00      1.00      1.00      1785\n",
      "\n",
      "    accuracy                           1.00     18000\n",
      "   macro avg       1.00      1.00      1.00     18000\n",
      "weighted avg       1.00      1.00      1.00     18000\n",
      "\n"
     ]
    }
   ],
   "source": [
    "print(classification_report(y_test, y_pred))"
   ]
  },
  {
   "cell_type": "markdown",
   "id": "605e13e5",
   "metadata": {},
   "source": [
    "###  Confusion matrix"
   ]
  },
  {
   "cell_type": "code",
   "execution_count": 16,
   "id": "2a5101e4",
   "metadata": {},
   "outputs": [
    {
     "name": "stdout",
     "output_type": "stream",
     "text": [
      "[[1777    0    0    0    0    0    0    0    0    0]\n",
      " [   0 2023    0    0    0    0    0    0    0    0]\n",
      " [   0    0 1787    0    0    0    0    0    0    0]\n",
      " [   0    0    0 1839    0    0    0    0    0    0]\n",
      " [   0    0    0    0 1753    0    0    0    0    0]\n",
      " [   0    0    0    0    0 1626    0    0    0    0]\n",
      " [   0    0    0    0    0    0 1775    0    0    0]\n",
      " [   0    0    0    0    0    0    0 1880    0    0]\n",
      " [   0    0    0    0    0    0    0    0 1755    0]\n",
      " [   0    0    0    0    0    0    0    0    0 1785]]\n"
     ]
    }
   ],
   "source": [
    "cm = confusion_matrix(y_test, y_pred)\n",
    "print(cm)"
   ]
  },
  {
   "cell_type": "code",
   "execution_count": 19,
   "id": "dcb9f3de",
   "metadata": {},
   "outputs": [
    {
     "data": {
      "image/png": "[encoded data removed]",
      "text/plain": [
       "<Figure size 640x480 with 2 Axes>"
      ]
     },
     "metadata": {},
     "output_type": "display_data"
    }
   ],
   "source": [
    "vis = ConfusionMatrixDisplay(confusion_matrix=cm)\n",
    "vis.plot()\n",
    "plt.show()"
   ]
  },
  {
   "cell_type": "code",
   "execution_count": null,
   "id": "7790fefb",
   "metadata": {},
   "outputs": [],
   "source": []
  }
 ],
 "metadata": {
  "kernelspec": {
   "display_name": "Python 3 (ipykernel)",
   "language": "python",
   "name": "python3"
  },
  "language_info": {
   "codemirror_mode": {
    "name": "ipython",
    "version": 3
   },
   "file_extension": ".py",
   "mimetype": "text/x-python",
   "name": "python",
   "nbconvert_exporter": "python",
   "pygments_lexer": "ipython3",
   "version": "3.11.5"
  }
 },
 "nbformat": 4,
 "nbformat_minor": 5
}
