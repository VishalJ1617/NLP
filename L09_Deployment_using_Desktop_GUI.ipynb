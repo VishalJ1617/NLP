{
 "cells": [
  {
   "cell_type": "markdown",
   "id": "9d708c98",
   "metadata": {},
   "source": [
    "Date : 20/12/2023"
   ]
  },
  {
   "cell_type": "markdown",
   "id": "5725b5b8",
   "metadata": {},
   "source": [
    "## Deployment using desktop GUI"
   ]
  },
  {
   "cell_type": "markdown",
   "id": "5453f72b",
   "metadata": {},
   "source": [
    "1. Tkinter is the defualt library in the python for GUI"
   ]
  },
  {
   "cell_type": "markdown",
   "id": "27dc9b1d",
   "metadata": {},
   "source": [
    "### Imports"
   ]
  },
  {
   "cell_type": "code",
   "execution_count": 1,
   "id": "9cf12a9d",
   "metadata": {},
   "outputs": [],
   "source": [
    "### -------------------\n",
    "### Importing libraries\n",
    "### -------------------\n",
    "\n",
    "# import pandas as pd\n",
    "# import numpy as np\n",
    "# import matplotlib.pyplot as plt\n",
    "# import seaborn as sns\n",
    "\n",
    "from tkinter import *"
   ]
  },
  {
   "cell_type": "markdown",
   "id": "c35ea164",
   "metadata": {},
   "source": [
    "## 1. Basic window"
   ]
  },
  {
   "cell_type": "code",
   "execution_count": 2,
   "id": "a9bbe667",
   "metadata": {},
   "outputs": [],
   "source": [
    "top = Tk()\n",
    "\n",
    "top.mainloop()"
   ]
  },
  {
   "cell_type": "markdown",
   "id": "2346449c",
   "metadata": {},
   "source": [
    "## 2. Title and size"
   ]
  },
  {
   "cell_type": "code",
   "execution_count": 26,
   "id": "cf7544a9",
   "metadata": {},
   "outputs": [],
   "source": [
    "top = Tk()\n",
    "top.title('My first application')  # Title of the window\n",
    "top.geometry('400x300')   # size of the window, 400 - width, 300 - height\n",
    "top.mainloop()"
   ]
  },
  {
   "cell_type": "markdown",
   "id": "6a20aec9",
   "metadata": {},
   "source": [
    "## 3. Add the widget"
   ]
  },
  {
   "cell_type": "code",
   "execution_count": 27,
   "id": "a746591d",
   "metadata": {},
   "outputs": [],
   "source": [
    "top = Tk()\n",
    "top.title('My first application')  # Title of the window\n",
    "top.geometry('400x300')   # size of the window, 400 - width, 300 - height\n",
    "\n",
    "l = Label(top, text = 'Hello World')\n",
    "t = Entry(top)\n",
    "b = Button(top, text = 'submit')\n",
    "\n",
    "\n",
    "# the l,t,b are shown in same sequence in which the pack statements  are written\n",
    "\n",
    "l.pack()\n",
    "t.pack()\n",
    "b.pack()\n",
    "top.mainloop()"
   ]
  },
  {
   "cell_type": "markdown",
   "id": "e0e3624f",
   "metadata": {},
   "source": [
    "## 4. Event Handling"
   ]
  },
  {
   "cell_type": "code",
   "execution_count": 34,
   "id": "248b935e",
   "metadata": {},
   "outputs": [],
   "source": [
    "top = Tk()\n",
    "top.title('My first application')  # Title of the window\n",
    "top.geometry('400x300')   # size of the window, 400 - width, 300 - height\n",
    "\n",
    "\n",
    "def find():\n",
    "    \n",
    "    try:\n",
    "        n = num.get()\n",
    "        result.config(text = 'Square is : %d'%(n*n))\n",
    "        \n",
    "        \n",
    "    except Exception as e:\n",
    "        \n",
    "        error = Label(text = 'error id %s' %(e))\n",
    "        error.pack()\n",
    "\n",
    "\n",
    "num = IntVar()\n",
    "\n",
    "l = Label(top, text = 'Hello World')\n",
    "t = Entry(top, textvariable = num)  # whatever the data is entered in the box is stored in num varible\n",
    "b = Button(top, text = 'Find Square', command = find)\n",
    "result = Label(text = 'Square is : ')\n",
    "\n",
    "# the l,t,b are shown in same sequence in which the pack statements  are written\n",
    "\n",
    "l.pack()\n",
    "t.pack()\n",
    "b.pack()\n",
    "result.pack()\n",
    "top.mainloop()"
   ]
  },
  {
   "cell_type": "code",
   "execution_count": 71,
   "id": "fe244add",
   "metadata": {},
   "outputs": [],
   "source": [
    "top = Tk()\n",
    "top.title('My first application')  # Title of the window\n",
    "top.geometry('400x300')   # size of the window, 400 - width, 300 - height\n",
    "\n",
    "\n",
    "def find(event):\n",
    "    \n",
    "    try:\n",
    "        n = num.get()\n",
    "        result.config(text = 'Square is : %d'%(n*n))\n",
    "        \n",
    "        \n",
    "    except Exception as e:\n",
    "        \n",
    "        error.config(text = 'error id %s' %(e))\n",
    "        \n",
    "\n",
    "\n",
    "num = IntVar()\n",
    "\n",
    "l = Label(top, text = 'Hello World')\n",
    "t = Entry(top, textvariable = num)  # whatever the data is entered in the box is stored in num varible\n",
    "t.bind('<Return>', find)\n",
    "result = Label(text = 'Square is : ')\n",
    "error = Label(text = '')\n",
    "\n",
    "# the l,t,b are shown in same sequence in which the pack statements  are written\n",
    "\n",
    "l.pack()\n",
    "t.pack()\n",
    "result.pack()\n",
    "error.pack()\n",
    "top.mainloop()"
   ]
  },
  {
   "cell_type": "code",
   "execution_count": 73,
   "id": "41d99681",
   "metadata": {},
   "outputs": [],
   "source": [
    "top = Tk()\n",
    "top.title('My first application')  # Title of the window\n",
    "top.geometry('400x300')   # size of the window, 400 - width, 300 - height\n",
    "\n",
    "\n",
    "def find(event):\n",
    "    \n",
    "    try:\n",
    "        n = num.get()\n",
    "        result.config(text = 'Square is : %d'%(n*n))\n",
    "        \n",
    "        \n",
    "    except Exception as e:\n",
    "        \n",
    "        error = Label(text = 'error id %s' %(e))\n",
    "        error.pack()\n",
    "\n",
    "\n",
    "num = IntVar()\n",
    "\n",
    "l = Label(top, text = 'Enter a number')\n",
    "t = Entry(top, textvariable = num)  # whatever the data is entered in the box is stored in num varible\n",
    "t.bind('<Return>', find)\n",
    "result = Label(text = 'Square is : ')\n",
    "\n",
    "# the l,t,b are shown in same sequence in which the pack statements  are written\n",
    "\n",
    "l.place(x = 50, y = 30)\n",
    "t.place(x = 50, y = 60)\n",
    "result.place(x = 50, y = 90)\n",
    "top.mainloop()"
   ]
  },
  {
   "cell_type": "code",
   "execution_count": 74,
   "id": "eb344d67",
   "metadata": {},
   "outputs": [],
   "source": [
    "top = Tk()\n",
    "top.title('My first application')  # Title of the window\n",
    "top.geometry('400x300')   # size of the window, 400 - width, 300 - height\n",
    "\n",
    "\n",
    "def find(event):\n",
    "    \n",
    "    try:\n",
    "        n = num.get()\n",
    "        result.config(text = 'Square is : %d'%(n*n))\n",
    "        \n",
    "        \n",
    "    except Exception as e:\n",
    "        \n",
    "        error = Label(text = 'error id %s' %(e))\n",
    "        error.pack()\n",
    "\n",
    "\n",
    "num = IntVar()\n",
    "\n",
    "Label(top, text = 'Enter a number').place(x = 50, y = 30)\n",
    "t = Entry(top, textvariable = num)  # whatever the data is entered in the box is stored in num varible\n",
    "t.bind('<Return>', find)\n",
    "result = Label(text = 'Square is : ')\n",
    "\n",
    "# the t,b are shown in same sequence in which the pack statements  are written\n",
    "\n",
    "t.place(x = 50, y = 60)\n",
    "result.place(x = 50, y = 90)\n",
    "top.mainloop()"
   ]
  },
  {
   "cell_type": "markdown",
   "id": "c48d7ec3",
   "metadata": {},
   "source": [
    "### Calculator using Tkinter"
   ]
  },
  {
   "cell_type": "code",
   "execution_count": 76,
   "id": "6e991241",
   "metadata": {},
   "outputs": [],
   "source": [
    "top = Tk()\n",
    "top.title('Basic Calculator')\n",
    "top.geometry('400x300')\n",
    "\n",
    "\n",
    "def summation():\n",
    "    \n",
    "    n1 = num1.get()\n",
    "    n2 = num2.get()\n",
    "    \n",
    "    resu_sum = Label(text = 'summation is : %d'%(n1+n2))\n",
    "    resu_sum.place(x = 50, y = 160)\n",
    "    \n",
    "def subtraction():\n",
    "    \n",
    "    n1 = num1.get()\n",
    "    n2 = num2.get()\n",
    "    \n",
    "    resu_sum = Label(text = 'subtraction is : %d'%(n1-n2))\n",
    "    resu_sum.place(x = 50, y = 160)\n",
    "\n",
    "    \n",
    "def multiplaction():\n",
    "    \n",
    "    n1 = num1.get()\n",
    "    n2 = num2.get()\n",
    "    \n",
    "    resu_sum = Label(text = 'multiplication is : %d'%(n1*n2))\n",
    "    resu_sum.place(x = 50, y = 160)\n",
    "    \n",
    "def division():\n",
    "    \n",
    "    n1 = num1.get()\n",
    "    n2 = num2.get()\n",
    "    \n",
    "    resu_sum = Label(text = 'division is : %d'%(n1/n2))\n",
    "    resu_sum.place(x = 50, y = 160)\n",
    "    \n",
    "    \n",
    "num1 = IntVar()\n",
    "num2 = IntVar()\n",
    "\n",
    "Label(top, text = 'Enter numbers').place(x = 50, y = 30)  # placement of the instruction\n",
    "Label(top, text = 'Number 1').place(x = 50, y = 50)\n",
    "Label(top, text = 'Number 2').place(x = 200, y = 50)\n",
    "sum1 = Button(top, text = '+', command = summation) \n",
    "sub1 = Button(top, text = '-', command = subtraction) \n",
    "mul1 = Button(top, text = '*', command = multiplaction) \n",
    "div1 = Button(top, text = '/', command = division) \n",
    "\n",
    "t1 = Entry(top, textvariable = num1)\n",
    "t2 = Entry(top, textvariable = num2)\n",
    "\n",
    "t1.place(x = 50, y = 70)\n",
    "t2.place(x = 200, y = 70)\n",
    "sum1.place(x = 70, y = 110)\n",
    "sub1.place(x = 140, y = 110)\n",
    "mul1.place(x = 210, y = 110)\n",
    "div1.place(x = 280, y = 110)\n",
    "\n",
    "\n",
    "top.mainloop()"
   ]
  },
  {
   "cell_type": "markdown",
   "id": "7ac9be33",
   "metadata": {},
   "source": [
    "#### Deploying the model"
   ]
  },
  {
   "cell_type": "code",
   "execution_count": 91,
   "id": "28bb3fe6",
   "metadata": {},
   "outputs": [],
   "source": [
    "import joblib\n",
    "from nltk.tokenize import word_tokenize\n",
    "from nltk.stem import WordNetLemmatizer\n",
    "from nltk.corpus import stopwords\n",
    "import string\n",
    "from nltk import pos_tag"
   ]
  },
  {
   "cell_type": "code",
   "execution_count": 96,
   "id": "b8eb2b7f",
   "metadata": {},
   "outputs": [],
   "source": [
    "stop=stopwords.words('english')\n",
    "wnl=WordNetLemmatizer()"
   ]
  },
  {
   "cell_type": "code",
   "execution_count": 97,
   "id": "42644794",
   "metadata": {},
   "outputs": [],
   "source": [
    "def clean_text(text):\n",
    "    tokens1=word_tokenize(text)\n",
    "    tokens2=[i.lower() for i in tokens1 if i.isalpha() or i.isdigit()]\n",
    "    tokens3=[i for i in tokens2 if i not in stop]\n",
    "    tokens4=[]\n",
    "    tags=pos_tag(tokens3)\n",
    "    for word in tags:\n",
    "        if word[1].startswith('N'):\n",
    "            tokens4.append(wnl.lemmatize(word[0],pos='n'))\n",
    "        if word[1].startswith('V'):\n",
    "            tokens4.append(wnl.lemmatize(word[0],pos='v'))\n",
    "        if word[1].startswith('R'):\n",
    "            tokens4.append(wnl.lemmatize(word[0],pos='r'))\n",
    "        if word[1].startswith('J'):\n",
    "            tokens4.append(wnl.lemmatize(word[0],pos='a'))\n",
    "    return tokens4"
   ]
  },
  {
   "cell_type": "code",
   "execution_count": 98,
   "id": "ccfffe2d",
   "metadata": {},
   "outputs": [],
   "source": [
    "classifier=joblib.load('model.bin')\n",
    "tfidf=joblib.load('vectorizer.bin')"
   ]
  },
  {
   "cell_type": "code",
   "execution_count": 108,
   "id": "1fa4825e",
   "metadata": {},
   "outputs": [],
   "source": [
    "top=Tk()\n",
    "\n",
    "def display(event):\n",
    "    global message\n",
    "    m1=message.get()\n",
    "    m1=tfidf.transform([m1])\n",
    "    result=classifier.predict(m1)[0]\n",
    "    if result=='ham':\n",
    "        Label(text='NOT Spam Message').place(x=100,y=200)\n",
    "    else:\n",
    "        Label(text='Spam Message').place(x=100,y=200)\n",
    "        \n",
    "message=StringVar()\n",
    "Label(top,text=\"Enter Message:\").place(x=50,y=50)\n",
    "e=Entry(top,width=100,textvariable=message)\n",
    "e.place(x=200,y=50)\n",
    "e.bind('<Return>',display)\n",
    "\n",
    "top.title('Spam message Detector!')\n",
    "top.geometry('1200x300')\n",
    "top.mainloop()"
   ]
  },
  {
   "cell_type": "code",
   "execution_count": null,
   "id": "63321762",
   "metadata": {},
   "outputs": [],
   "source": []
  }
 ],
 "metadata": {
  "kernelspec": {
   "display_name": "Python 3 (ipykernel)",
   "language": "python",
   "name": "python3"
  },
  "language_info": {
   "codemirror_mode": {
    "name": "ipython",
    "version": 3
   },
   "file_extension": ".py",
   "mimetype": "text/x-python",
   "name": "python",
   "nbconvert_exporter": "python",
   "pygments_lexer": "ipython3",
   "version": "3.11.5"
  }
 },
 "nbformat": 4,
 "nbformat_minor": 5
}
