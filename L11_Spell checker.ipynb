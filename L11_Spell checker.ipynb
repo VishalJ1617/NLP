{
 "cells": [
  {
   "cell_type": "code",
   "execution_count": 1,
   "id": "5fad814f",
   "metadata": {},
   "outputs": [
    {
     "name": "stdout",
     "output_type": "stream",
     "text": [
      "Requirement already satisfied: textblob in /home/dai/anaconda3/lib/python3.11/site-packages (0.17.1)\n",
      "Requirement already satisfied: nltk>=3.1 in /home/dai/anaconda3/lib/python3.11/site-packages (from textblob) (3.8.1)\n",
      "Requirement already satisfied: click in /home/dai/anaconda3/lib/python3.11/site-packages (from nltk>=3.1->textblob) (8.1.7)\n",
      "Requirement already satisfied: joblib in /home/dai/anaconda3/lib/python3.11/site-packages (from nltk>=3.1->textblob) (1.2.0)\n",
      "Requirement already satisfied: regex>=2021.8.3 in /home/dai/anaconda3/lib/python3.11/site-packages (from nltk>=3.1->textblob) (2023.10.3)\n",
      "Requirement already satisfied: tqdm in /home/dai/anaconda3/lib/python3.11/site-packages (from nltk>=3.1->textblob) (4.65.0)\n"
     ]
    }
   ],
   "source": [
    "#!pip install textblob"
   ]
  },
  {
   "cell_type": "code",
   "execution_count": 9,
   "id": "7bf72e9b",
   "metadata": {},
   "outputs": [],
   "source": [
    "#import libraries\n",
    "from textblob import TextBlob #This library is available for english"
   ]
  },
  {
   "cell_type": "code",
   "execution_count": 10,
   "id": "c01ff790",
   "metadata": {},
   "outputs": [],
   "source": [
    "word=\"computar\"\n",
    "blob=TextBlob(word)"
   ]
  },
  {
   "cell_type": "code",
   "execution_count": 11,
   "id": "4b1954c8",
   "metadata": {},
   "outputs": [
    {
     "data": {
      "text/plain": [
       "TextBlob(\"computer\")"
      ]
     },
     "execution_count": 11,
     "metadata": {},
     "output_type": "execute_result"
    }
   ],
   "source": [
    "blob.correct()"
   ]
  },
  {
   "cell_type": "code",
   "execution_count": 12,
   "id": "5d6d4d0a",
   "metadata": {},
   "outputs": [
    {
     "data": {
      "text/plain": [
       "TextBlob(\"computer\")"
      ]
     },
     "execution_count": 12,
     "metadata": {},
     "output_type": "execute_result"
    }
   ],
   "source": [
    "word=\"komputar\"\n",
    "blob=TextBlob(word)\n",
    "blob.correct()"
   ]
  },
  {
   "cell_type": "code",
   "execution_count": 13,
   "id": "ef5df4a5",
   "metadata": {},
   "outputs": [
    {
     "data": {
      "text/plain": [
       "defaultdict(int, {'komputar': 1})"
      ]
     },
     "execution_count": 13,
     "metadata": {},
     "output_type": "execute_result"
    }
   ],
   "source": [
    "blob.word_counts"
   ]
  },
  {
   "cell_type": "markdown",
   "id": "15e47012",
   "metadata": {},
   "source": [
    "# Sentence Correction"
   ]
  },
  {
   "cell_type": "code",
   "execution_count": 21,
   "id": "cf121e3b",
   "metadata": {},
   "outputs": [],
   "source": [
    "sent='It was a graet day.When they playde on grouns'"
   ]
  },
  {
   "cell_type": "code",
   "execution_count": 22,
   "id": "01cc93af",
   "metadata": {},
   "outputs": [
    {
     "data": {
      "text/plain": [
       "TextBlob(\"It was a great day.When they played on ground\")"
      ]
     },
     "execution_count": 22,
     "metadata": {},
     "output_type": "execute_result"
    }
   ],
   "source": [
    "blob=TextBlob(sent)\n",
    "blob.correct()"
   ]
  },
  {
   "cell_type": "code",
   "execution_count": 23,
   "id": "759c2128",
   "metadata": {},
   "outputs": [
    {
     "data": {
      "text/plain": [
       "defaultdict(int,\n",
       "            {'it': 1,\n",
       "             'was': 1,\n",
       "             'a': 1,\n",
       "             'graet': 1,\n",
       "             'day.when': 1,\n",
       "             'they': 1,\n",
       "             'playde': 1,\n",
       "             'on': 1,\n",
       "             'grouns': 1})"
      ]
     },
     "execution_count": 23,
     "metadata": {},
     "output_type": "execute_result"
    }
   ],
   "source": [
    "blob.word_counts"
   ]
  },
  {
   "cell_type": "code",
   "execution_count": 24,
   "id": "78dd898a",
   "metadata": {},
   "outputs": [
    {
     "data": {
      "text/plain": [
       "[('It', 'PRP'),\n",
       " ('was', 'VBD'),\n",
       " ('a', 'DT'),\n",
       " ('graet', 'NN'),\n",
       " ('day.When', 'NN'),\n",
       " ('they', 'PRP'),\n",
       " ('playde', 'VBP'),\n",
       " ('on', 'IN'),\n",
       " ('grouns', 'NNS')]"
      ]
     },
     "execution_count": 24,
     "metadata": {},
     "output_type": "execute_result"
    }
   ],
   "source": [
    "blob.pos_tags"
   ]
  },
  {
   "cell_type": "code",
   "execution_count": 25,
   "id": "7f9ac0a2",
   "metadata": {},
   "outputs": [
    {
     "data": {
      "text/plain": [
       "TextBlob(\"C'était une journée Graet. Quand ils jouent sur des grouns\")"
      ]
     },
     "execution_count": 25,
     "metadata": {},
     "output_type": "execute_result"
    }
   ],
   "source": [
    "blob.translate(from_lang='en',to='fr')"
   ]
  },
  {
   "cell_type": "code",
   "execution_count": 26,
   "id": "f33d3db1",
   "metadata": {},
   "outputs": [
    {
     "data": {
      "text/plain": [
       "TextBlob(\"यह एक दिन था। जब वे ग्रोन्स पर खेलते हैं\")"
      ]
     },
     "execution_count": 26,
     "metadata": {},
     "output_type": "execute_result"
    }
   ],
   "source": [
    "blob.translate(from_lang='en',to='hi')"
   ]
  },
  {
   "cell_type": "code",
   "execution_count": 27,
   "id": "254b95ec",
   "metadata": {},
   "outputs": [
    {
     "data": {
      "text/plain": [
       "TextBlob(\"तो एक ग्रेट डे होता. जेव्हा ते ग्रॉन्सवर प्लेडे करतात\")"
      ]
     },
     "execution_count": 27,
     "metadata": {},
     "output_type": "execute_result"
    }
   ],
   "source": [
    "blob.translate(from_lang='en',to='mr')"
   ]
  },
  {
   "cell_type": "code",
   "execution_count": 28,
   "id": "383076f8",
   "metadata": {},
   "outputs": [
    {
     "data": {
      "text/plain": [
       "WordList(['It', 'was', 'a', 'graet', 'day.When', 'they', 'playde', 'on', 'grouns'])"
      ]
     },
     "execution_count": 28,
     "metadata": {},
     "output_type": "execute_result"
    }
   ],
   "source": [
    "blob.tokens"
   ]
  },
  {
   "cell_type": "code",
   "execution_count": 29,
   "id": "8f71b655",
   "metadata": {},
   "outputs": [
    {
     "data": {
      "text/plain": [
       "[Sentence(\"It was a graet day.When they playde on grouns\")]"
      ]
     },
     "execution_count": 29,
     "metadata": {},
     "output_type": "execute_result"
    }
   ],
   "source": [
    "blob.sentences"
   ]
  },
  {
   "cell_type": "code",
   "execution_count": null,
   "id": "2a817dd4",
   "metadata": {},
   "outputs": [],
   "source": []
  }
 ],
 "metadata": {
  "kernelspec": {
   "display_name": "Python 3 (ipykernel)",
   "language": "python",
   "name": "python3"
  },
  "language_info": {
   "codemirror_mode": {
    "name": "ipython",
    "version": 3
   },
   "file_extension": ".py",
   "mimetype": "text/x-python",
   "name": "python",
   "nbconvert_exporter": "python",
   "pygments_lexer": "ipython3",
   "version": "3.11.5"
  }
 },
 "nbformat": 4,
 "nbformat_minor": 5
}
