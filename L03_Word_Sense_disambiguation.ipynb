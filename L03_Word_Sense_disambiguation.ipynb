{
 "cells": [
  {
   "cell_type": "markdown",
   "id": "6a647ee4",
   "metadata": {},
   "source": [
    "## Word Sense Disambiguation"
   ]
  },
  {
   "cell_type": "code",
   "execution_count": 1,
   "id": "dc6bb78a",
   "metadata": {},
   "outputs": [],
   "source": [
    "\n",
    "\n",
    "from nltk.wsd import lesk\n",
    "from nltk.tokenize import word_tokenize"
   ]
  },
  {
   "cell_type": "code",
   "execution_count": 2,
   "id": "0be891c0",
   "metadata": {},
   "outputs": [
    {
     "data": {
      "text/plain": [
       "'deliberate radiation or reflection of electromagnetic energy for the purpose of disrupting enemy use of electronic devices or systems'"
      ]
     },
     "execution_count": 2,
     "metadata": {},
     "output_type": "execute_result"
    }
   ],
   "source": [
    "a1=lesk(word_tokenize('This device is used to jam the signal'),'jam')\n",
    "\n",
    "a1.definition()"
   ]
  },
  {
   "cell_type": "code",
   "execution_count": 3,
   "id": "45979b18",
   "metadata": {},
   "outputs": [
    {
     "data": {
      "text/plain": [
       "'get stuck and immobilized'"
      ]
     },
     "execution_count": 3,
     "metadata": {},
     "output_type": "execute_result"
    }
   ],
   "source": [
    "a2=lesk(word_tokenize('I am stuck in a traffic jam'),'jam')\n",
    "\n",
    "a2.definition()"
   ]
  },
  {
   "cell_type": "code",
   "execution_count": 4,
   "id": "a7f406af",
   "metadata": {},
   "outputs": [
    {
     "name": "stdout",
     "output_type": "stream",
     "text": [
      "Synset('season.v.01') lend flavor to\n",
      "Synset('season.n.01') a period of the year marked by special events or activities in some field\n"
     ]
    }
   ],
   "source": [
    "b1=lesk(word_tokenize(\"Apply spices to the chicken to season it\"),'season')\n",
    "print(b1,b1.definition())\n",
    "\n",
    "b2=lesk(word_tokenize(\"India recieve a lot of rain in rainy season.\"),'season')\n",
    "print(b2,b2.definition())"
   ]
  },
  {
   "cell_type": "code",
   "execution_count": 8,
   "id": "bd3ca065",
   "metadata": {},
   "outputs": [
    {
     "name": "stdout",
     "output_type": "stream",
     "text": [
      "Synset('luminosity.n.01') the quality of being luminous; emitting or reflecting light\n",
      "Synset('sparkle.n.01') merriment expressed by a brightness or gleam or animation of countenance\n",
      "Synset('unaccented.s.02') (used of vowels or syllables) pronounced with little or no stress\n"
     ]
    }
   ],
   "source": [
    "b1=lesk(word_tokenize(\"The new lamp has good light to read\"),'light')\n",
    "print(b1,b1.definition())\n",
    "\n",
    "b2=lesk(word_tokenize(\"Magnesium is a light metal.\"),'light')\n",
    "print(b2,b2.definition())\n",
    "\n",
    "b3=lesk(word_tokenize(\"Rahul likes to travel with light things.\"),'light')\n",
    "print(b3,b3.definition())"
   ]
  },
  {
   "cell_type": "code",
   "execution_count": null,
   "id": "68773046",
   "metadata": {},
   "outputs": [],
   "source": []
  }
 ],
 "metadata": {
  "kernelspec": {
   "display_name": "Python 3 (ipykernel)",
   "language": "python",
   "name": "python3"
  },
  "language_info": {
   "codemirror_mode": {
    "name": "ipython",
    "version": 3
   },
   "file_extension": ".py",
   "mimetype": "text/x-python",
   "name": "python",
   "nbconvert_exporter": "python",
   "pygments_lexer": "ipython3",
   "version": "3.11.5"
  }
 },
 "nbformat": 4,
 "nbformat_minor": 5
}
