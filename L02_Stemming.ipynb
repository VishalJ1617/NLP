{
 "cells": [
  {
   "cell_type": "markdown",
   "id": "1735268c",
   "metadata": {},
   "source": [
    " Date : 08/12/2023"
   ]
  },
  {
   "cell_type": "markdown",
   "id": "f257cfd7",
   "metadata": {},
   "source": [
    "## Stemming"
   ]
  },
  {
   "cell_type": "markdown",
   "id": "9311f954",
   "metadata": {},
   "source": [
    "1. Stemming reduces the word to it's root form by removing prefixes and suffixes.\n",
    "2. The root form is known as \"lemmas\"\n",
    "3. Search engines uses stemmers."
   ]
  },
  {
   "cell_type": "markdown",
   "id": "ba86a930",
   "metadata": {},
   "source": [
    "### Porter Stemmer"
   ]
  },
  {
   "cell_type": "code",
   "execution_count": 23,
   "id": "23b14ce2",
   "metadata": {},
   "outputs": [],
   "source": [
    "### -------------------\n",
    "### importing libraries\n",
    "### -------------------\n",
    "\n",
    "from nltk.stem import PorterStemmer, LancasterStemmer"
   ]
  },
  {
   "cell_type": "code",
   "execution_count": 14,
   "id": "1b00f835",
   "metadata": {},
   "outputs": [],
   "source": [
    "word1 = 'cat', 'catty', 'catlike', 'cats'\n",
    "\n",
    "word2 = 'playing', 'plays', 'played', 'players'\n",
    "\n",
    "word3 = 'go', 'went', 'gone', 'going', 'goes'\n",
    "\n",
    "word4 = 'goods', 'better', 'best', 'fasting', 'reachable'\n",
    "\n",
    "word5 = 'program', 'programmed', 'programmming', 'programatic'"
   ]
  },
  {
   "cell_type": "code",
   "execution_count": 4,
   "id": "3b53167d",
   "metadata": {},
   "outputs": [],
   "source": [
    "ps = PorterStemmer()"
   ]
  },
  {
   "cell_type": "code",
   "execution_count": 10,
   "id": "e8ae17f8",
   "metadata": {},
   "outputs": [
    {
     "data": {
      "text/plain": [
       "'go'"
      ]
     },
     "execution_count": 10,
     "metadata": {},
     "output_type": "execute_result"
    }
   ],
   "source": [
    "ps.stem(word3[3])"
   ]
  },
  {
   "cell_type": "code",
   "execution_count": 21,
   "id": "ee68328d",
   "metadata": {},
   "outputs": [
    {
     "name": "stdout",
     "output_type": "stream",
     "text": [
      "cat\n",
      "catti\n",
      "catlik\n",
      "cat\n",
      "\n",
      "play\n",
      "play\n",
      "play\n",
      "player\n",
      "\n",
      "go\n",
      "went\n",
      "gone\n",
      "go\n",
      "goe\n",
      "\n",
      "good\n",
      "better\n",
      "best\n",
      "fast\n",
      "reachabl\n",
      "\n",
      "program\n",
      "program\n",
      "programm\n",
      "programat\n",
      "\n"
     ]
    }
   ],
   "source": [
    "# Iterating over the tuple : word2, to filter root words from the word\n",
    "\n",
    "words_tuple = [word1, word2, word3, word4, word5]\n",
    "\n",
    "for tupl in words_tuple: \n",
    "    \n",
    "    for word in tupl:\n",
    "        \n",
    "        print(ps.stem(word))  # .stem method performs the stemming process\n",
    "        \n",
    "    print()"
   ]
  },
  {
   "cell_type": "markdown",
   "id": "02e6e40c",
   "metadata": {},
   "source": [
    "###  Lancaster Stemmer"
   ]
  },
  {
   "cell_type": "code",
   "execution_count": 19,
   "id": "c4a37069",
   "metadata": {},
   "outputs": [],
   "source": [
    "ls=LancasterStemmer()"
   ]
  },
  {
   "cell_type": "code",
   "execution_count": 22,
   "id": "0b5f38ed",
   "metadata": {},
   "outputs": [
    {
     "name": "stdout",
     "output_type": "stream",
     "text": [
      "cat\n",
      "catty\n",
      "catlik\n",
      "cat\n",
      "\n",
      "play\n",
      "play\n",
      "play\n",
      "play\n",
      "\n",
      "go\n",
      "went\n",
      "gon\n",
      "going\n",
      "goe\n",
      "\n",
      "good\n",
      "bet\n",
      "best\n",
      "fast\n",
      "reach\n",
      "\n",
      "program\n",
      "program\n",
      "programm\n",
      "program\n",
      "\n"
     ]
    }
   ],
   "source": [
    "for tupl in words_tuple:\n",
    "    \n",
    "    for word in tupl:\n",
    "        \n",
    "        print(ls.stem(word))\n",
    "        \n",
    "    print()"
   ]
  },
  {
   "cell_type": "code",
   "execution_count": null,
   "id": "14e85c52",
   "metadata": {},
   "outputs": [],
   "source": []
  }
 ],
 "metadata": {
  "kernelspec": {
   "display_name": "Python 3 (ipykernel)",
   "language": "python",
   "name": "python3"
  },
  "language_info": {
   "codemirror_mode": {
    "name": "ipython",
    "version": 3
   },
   "file_extension": ".py",
   "mimetype": "text/x-python",
   "name": "python",
   "nbconvert_exporter": "python",
   "pygments_lexer": "ipython3",
   "version": "3.11.5"
  }
 },
 "nbformat": 4,
 "nbformat_minor": 5
}
