{
 "cells": [
  {
   "cell_type": "markdown",
   "id": "517a03cc",
   "metadata": {},
   "source": [
    "Date : 22/12/2023"
   ]
  },
  {
   "cell_type": "markdown",
   "id": "0ef825b8",
   "metadata": {},
   "source": [
    "## Immutable datatype"
   ]
  },
  {
   "cell_type": "markdown",
   "id": "7ffc3ff8",
   "metadata": {},
   "source": [
    "<img src=\"Copy-of-Copy-of-Copy-of-Copy-of-Untitled-Design.png\" alt=\"data_type_in_python\">"
   ]
  },
  {
   "cell_type": "code",
   "execution_count": 1,
   "id": "152b26bb",
   "metadata": {},
   "outputs": [
    {
     "name": "stdout",
     "output_type": "stream",
     "text": [
      "8885448\n"
     ]
    }
   ],
   "source": [
    "num = 5\n",
    "\n",
    "print(id(num))"
   ]
  },
  {
   "cell_type": "code",
   "execution_count": 2,
   "id": "c40f3b93",
   "metadata": {},
   "outputs": [
    {
     "name": "stdout",
     "output_type": "stream",
     "text": [
      "8885448\n"
     ]
    }
   ],
   "source": [
    "print(id(num))"
   ]
  },
  {
   "cell_type": "code",
   "execution_count": 3,
   "id": "c1096f21",
   "metadata": {},
   "outputs": [
    {
     "name": "stdout",
     "output_type": "stream",
     "text": [
      "8885480\n"
     ]
    },
    {
     "data": {
      "text/plain": [
       "6"
      ]
     },
     "execution_count": 3,
     "metadata": {},
     "output_type": "execute_result"
    }
   ],
   "source": [
    "num += 1\n",
    "\n",
    "print(id(num))\n",
    "num"
   ]
  },
  {
   "cell_type": "code",
   "execution_count": 4,
   "id": "f94577f8",
   "metadata": {},
   "outputs": [
    {
     "name": "stdout",
     "output_type": "stream",
     "text": [
      "8885480\n"
     ]
    }
   ],
   "source": [
    "num = 6\n",
    "\n",
    "print(id(num))"
   ]
  },
  {
   "cell_type": "code",
   "execution_count": 5,
   "id": "31a225cc",
   "metadata": {},
   "outputs": [
    {
     "name": "stdout",
     "output_type": "stream",
     "text": [
      "8885448\n"
     ]
    }
   ],
   "source": [
    "a = 5\n",
    "\n",
    "print(id(a))"
   ]
  },
  {
   "cell_type": "code",
   "execution_count": 6,
   "id": "77124987",
   "metadata": {},
   "outputs": [
    {
     "name": "stdout",
     "output_type": "stream",
     "text": [
      "8885480\n"
     ]
    }
   ],
   "source": [
    "b = 6\n",
    "\n",
    "print(id(b))"
   ]
  },
  {
   "cell_type": "code",
   "execution_count": 7,
   "id": "364563d1",
   "metadata": {},
   "outputs": [
    {
     "name": "stdout",
     "output_type": "stream",
     "text": [
      "8885512\n"
     ]
    }
   ],
   "source": [
    "b = 7\n",
    "\n",
    "print(id(b))"
   ]
  },
  {
   "cell_type": "code",
   "execution_count": 8,
   "id": "023b246e",
   "metadata": {},
   "outputs": [
    {
     "data": {
      "text/plain": [
       "8"
      ]
     },
     "execution_count": 8,
     "metadata": {},
     "output_type": "execute_result"
    }
   ],
   "source": [
    "b += 1\n",
    "\n",
    "b"
   ]
  },
  {
   "cell_type": "code",
   "execution_count": null,
   "id": "2e2776b6",
   "metadata": {},
   "outputs": [],
   "source": []
  }
 ],
 "metadata": {
  "kernelspec": {
   "display_name": "Python 3 (ipykernel)",
   "language": "python",
   "name": "python3"
  },
  "language_info": {
   "codemirror_mode": {
    "name": "ipython",
    "version": 3
   },
   "file_extension": ".py",
   "mimetype": "text/x-python",
   "name": "python",
   "nbconvert_exporter": "python",
   "pygments_lexer": "ipython3",
   "version": "3.11.5"
  }
 },
 "nbformat": 4,
 "nbformat_minor": 5
}
