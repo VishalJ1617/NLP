{
 "cells": [
  {
   "cell_type": "code",
   "execution_count": 1,
   "id": "9bea791a",
   "metadata": {},
   "outputs": [],
   "source": [
    "import zipfile"
   ]
  },
  {
   "cell_type": "code",
   "execution_count": 2,
   "id": "7c67e48d",
   "metadata": {},
   "outputs": [],
   "source": [
    "zip_file_path = '/home/dai/7. NLP & CV/NLP/Colab Notebooks-20231224T055134Z-001.zip'"
   ]
  },
  {
   "cell_type": "code",
   "execution_count": 3,
   "id": "459df4af",
   "metadata": {},
   "outputs": [],
   "source": [
    "with zipfile.ZipFile(zip_file_path, 'r') as zip_fh :\n",
    "    \n",
    "    zip_fh.extractall()"
   ]
  },
  {
   "cell_type": "code",
   "execution_count": 5,
   "id": "997c9bf1",
   "metadata": {},
   "outputs": [
    {
     "data": {
      "text/plain": [
       "'/home/dai/7. NLP & CV/NLP/Practise_NLP'"
      ]
     },
     "execution_count": 5,
     "metadata": {},
     "output_type": "execute_result"
    }
   ],
   "source": [
    "import os\n",
    "os.getcwd()"
   ]
  },
  {
   "cell_type": "code",
   "execution_count": null,
   "id": "71c074b1",
   "metadata": {},
   "outputs": [],
   "source": []
  }
 ],
 "metadata": {
  "kernelspec": {
   "display_name": "Python 3 (ipykernel)",
   "language": "python",
   "name": "python3"
  },
  "language_info": {
   "codemirror_mode": {
    "name": "ipython",
    "version": 3
   },
   "file_extension": ".py",
   "mimetype": "text/x-python",
   "name": "python",
   "nbconvert_exporter": "python",
   "pygments_lexer": "ipython3",
   "version": "3.11.5"
  }
 },
 "nbformat": 4,
 "nbformat_minor": 5
}
