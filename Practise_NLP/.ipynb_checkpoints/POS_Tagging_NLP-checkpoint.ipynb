{
 "cells": [
  {
   "cell_type": "markdown",
   "id": "ebf5d243",
   "metadata": {},
   "source": [
    "## POS_tagging_NLP"
   ]
  },
  {
   "cell_type": "code",
   "execution_count": 14,
   "id": "6b923a34",
   "metadata": {},
   "outputs": [],
   "source": [
    "### -------------------\n",
    "### Importing libraries\n",
    "### -------------------\n",
    "\n",
    "from nltk import pos_tag\n",
    "from nltk.tokenize import word_tokenize\n",
    "\n",
    "import regex as re\n",
    "\n",
    "import string"
   ]
  },
  {
   "cell_type": "markdown",
   "id": "2152f992",
   "metadata": {},
   "source": [
    "Input data has been taken from Wikipedia : https://en.wikipedia.org/wiki/Tesla_(unit)"
   ]
  },
  {
   "cell_type": "code",
   "execution_count": 18,
   "id": "cfa7c6b4",
   "metadata": {},
   "outputs": [
    {
     "data": {
      "text/plain": [
       "1191"
      ]
     },
     "execution_count": 18,
     "metadata": {},
     "output_type": "execute_result"
    }
   ],
   "source": [
    "### ----------\n",
    "### Input data\n",
    "### ----------\n",
    "\n",
    "text = '''In the production of the Lorentz force, the difference between electric fields and magnetic fields is that a force from a magnetic field on a charged particle is generally due to the charged particle's movement,[3] while the force imparted by an electric field on a charged particle is not due to the charged particle's movement. This may be appreciated by looking at the units for each. The unit of electric field in the MKS system of units is newtons per coulomb, N/C, while the magnetic field (in teslas) can be written as N/(C⋅m/s). The dividing factor between the two types of field is metres per second (m/s), which is velocity. This relationship immediately highlights the fact that whether a static electromagnetic field is seen as purely magnetic, or purely electric, or some combination of these, is dependent upon one's reference frame (that is, one's velocity relative to the field).[4][5]\n",
    "\n",
    "In ferromagnets, the movement creating the magnetic field is the electron spin[6] (and to a lesser extent electron orbital angular momentum). In a current-carrying wire (electromagnets) the movement is due to electrons moving through the wire (whether the wire is straight or circular). \n",
    "'''\n",
    "\n",
    "len(text)"
   ]
  },
  {
   "cell_type": "markdown",
   "id": "5e913282",
   "metadata": {},
   "source": [
    "### 1. Removing references"
   ]
  },
  {
   "cell_type": "code",
   "execution_count": 12,
   "id": "7489ee13",
   "metadata": {},
   "outputs": [
    {
     "data": {
      "text/plain": [
       "1179"
      ]
     },
     "execution_count": 12,
     "metadata": {},
     "output_type": "execute_result"
    }
   ],
   "source": [
    "# Using regex for removing refrences\n",
    "\n",
    "ref_count = text.count('[')\n",
    "\n",
    "for i in range(ref_count):\n",
    "    \n",
    "    re_obj = re.search(r'\\[', text)\n",
    "    \n",
    "    indices = re_obj.start()\n",
    "    \n",
    "    text = text[:indices] + text[indices + 3 :]\n",
    "    \n",
    "len(text)"
   ]
  },
  {
   "cell_type": "markdown",
   "id": "a1c7db4b",
   "metadata": {},
   "source": [
    "### 2. Tokenize the input data"
   ]
  },
  {
   "cell_type": "code",
   "execution_count": 13,
   "id": "70aff536",
   "metadata": {},
   "outputs": [
    {
     "data": {
      "text/plain": [
       "228"
      ]
     },
     "execution_count": 13,
     "metadata": {},
     "output_type": "execute_result"
    }
   ],
   "source": [
    "word_tokens = word_tokenize(text)\n",
    "\n",
    "len(word_tokens)"
   ]
  },
  {
   "cell_type": "markdown",
   "id": "cec0ea53",
   "metadata": {},
   "source": [
    "### 3. Removing numerical values and punctutation "
   ]
  },
  {
   "cell_type": "code",
   "execution_count": 17,
   "id": "b8cc2ca0",
   "metadata": {},
   "outputs": [],
   "source": [
    "# retrieving all the punctuations from String module\n",
    "\n",
    "punc = string.punctuation\n",
    "\n",
    "# iterating over the tokenized word to remove punctuations\n",
    "\n",
    "clean_text_list = [word for word in word_tokens if word not in punc]\n",
    "\n",
    "# iterating over the tokenized word to remove numerical value\n",
    "\n"
   ]
  },
  {
   "cell_type": "code",
   "execution_count": null,
   "id": "7d837aee",
   "metadata": {},
   "outputs": [],
   "source": []
  }
 ],
 "metadata": {
  "kernelspec": {
   "display_name": "Python 3 (ipykernel)",
   "language": "python",
   "name": "python3"
  },
  "language_info": {
   "codemirror_mode": {
    "name": "ipython",
    "version": 3
   },
   "file_extension": ".py",
   "mimetype": "text/x-python",
   "name": "python",
   "nbconvert_exporter": "python",
   "pygments_lexer": "ipython3",
   "version": "3.11.5"
  }
 },
 "nbformat": 4,
 "nbformat_minor": 5
}
