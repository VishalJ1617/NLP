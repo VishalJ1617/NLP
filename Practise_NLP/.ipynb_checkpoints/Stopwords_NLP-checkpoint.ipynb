{
 "cells": [
  {
   "cell_type": "markdown",
   "id": "4b77cf8b",
   "metadata": {},
   "source": [
    "## StopWord removal - NLP"
   ]
  },
  {
   "cell_type": "markdown",
   "id": "8b1f5d3b",
   "metadata": {},
   "source": [
    "1. Stopwords are the words in language which do not add any information.\n",
    "2. Stopwords are the most frequently occuring words.\n",
    "3. examples of the stopwords are **'The', 'a', 'an'** etc.\n"
   ]
  },
  {
   "cell_type": "markdown",
   "id": "cb61c3a0",
   "metadata": {},
   "source": [
    "<img src=\"cfeb9180-6dde-11e9-85b6-e79357766310.jpeg\" alt=\"Stopwords\">"
   ]
  },
  {
   "cell_type": "markdown",
   "id": "deb8cf5c",
   "metadata": {},
   "source": [
    "## Code - Stopwrod"
   ]
  },
  {
   "cell_type": "code",
   "execution_count": 1,
   "id": "9810b694",
   "metadata": {},
   "outputs": [],
   "source": [
    "### -------------------\n",
    "### Importing Libraries\n",
    "### -------------------\n",
    "\n",
    "from nltk.corpus import stopwords\n",
    "from nltk.tokenize import word_tokenize\n",
    "\n",
    "import regex as re\n",
    "\n",
    "import string"
   ]
  },
  {
   "cell_type": "markdown",
   "id": "d3531e55",
   "metadata": {},
   "source": [
    "Input data has been taken from wikipedia : https://en.wikipedia.org/wiki/Dell"
   ]
  },
  {
   "cell_type": "code",
   "execution_count": 13,
   "id": "7d7773c4",
   "metadata": {},
   "outputs": [],
   "source": [
    "### -------------\n",
    "### Input dataset\n",
    "### -------------\n",
    "\n",
    "text = '''Dell Inc. is an American-based technology company. It develops, sells, repairs, and supports computers and related products and services. Dell is owned by its parent company, Dell Technologies.[4][5]\n",
    "\n",
    "Dell sells personal computers (PCs), servers, data storage devices, network switches, software, computer peripherals, HDTVs, cameras, printers, and electronics built by other manufacturers. The company is known for how it manages its supply chain and electronic commerce. This includes Dell selling directly to customers and delivering PCs that the customer wants.[6][5] Dell was a pure hardware vendor until 2009 when it acquired Perot Systems. Dell then entered the market for IT services. The company has expanded storage and networking systems. It is now expanding from offering computers only to delivering a range of technology for enterprise customers.[7][8]\n",
    "\n",
    "Dell is a subsidiary of Dell Technologies, Inc., a publicly traded company (Nasdaq: DELL), as well as a component of the NASDAQ-100 and S&P 500. It is the third-largest personal computer vendor as of January 2021.[9][10] Dell is ranked 31st on the Fortune 500 list in 2022,[11] up from 76th in 2021.[12] It is also the sixth-largest company in Texas by total revenue, according to Fortune magazine. It is the second-largest non-oil company in Texas.[13][14]\n",
    "\n",
    "In 2015, Dell acquired the enterprise technology firm EMC Corporation. Dell and EMC became divisions of Dell Technologies. Dell EMC sells data storage, information security, virtualization, analytics, and cloud computing.[15] '''"
   ]
  },
  {
   "cell_type": "code",
   "execution_count": 3,
   "id": "c2d99fe6",
   "metadata": {},
   "outputs": [
    {
     "name": "stdout",
     "output_type": "stream",
     "text": [
      "No. of References in input data =  0\n"
     ]
    }
   ],
   "source": [
    "# Removing the references from input dataset, with regex\n",
    "\n",
    "ref_count = text.count('[')\n",
    "\n",
    "for i in range(ref_count):\n",
    "    \n",
    "    re_obj = re.search(r'\\[', text)\n",
    "    \n",
    "    indices = re_obj.start()\n",
    "    \n",
    "    text = text[:indices] + text[indices + 3 :]\n",
    "    \n",
    "# Checking for any references\n",
    "\n",
    "print('No. of References in input data = ',text.count('['))"
   ]
  },
  {
   "cell_type": "code",
   "execution_count": 4,
   "id": "03360759",
   "metadata": {},
   "outputs": [
    {
     "data": {
      "text/plain": [
       "284"
      ]
     },
     "execution_count": 4,
     "metadata": {},
     "output_type": "execute_result"
    }
   ],
   "source": [
    "# Cnoverting input text data into word tokens.\n",
    "\n",
    "word_tokens = word_tokenize(text)\n",
    "\n",
    "len(word_tokens)"
   ]
  },
  {
   "cell_type": "code",
   "execution_count": 5,
   "id": "20c9f02f",
   "metadata": {},
   "outputs": [],
   "source": [
    "# String of punctuations\n",
    "\n",
    "punc = string.punctuation"
   ]
  },
  {
   "cell_type": "code",
   "execution_count": 6,
   "id": "387e6b5d",
   "metadata": {},
   "outputs": [
    {
     "data": {
      "text/plain": [
       "224"
      ]
     },
     "execution_count": 6,
     "metadata": {},
     "output_type": "execute_result"
    }
   ],
   "source": [
    "# cleaning the word tokens of any numeric value and punctuations\n",
    "\n",
    "clean_text = [word for word in word_tokens if word not in punc]\n",
    "\n",
    "clean_text = [word for word in clean_text if not word.isnumeric()]\n",
    "\n",
    "len(clean_text)"
   ]
  },
  {
   "cell_type": "code",
   "execution_count": 12,
   "id": "13925af9",
   "metadata": {},
   "outputs": [],
   "source": [
    "# retrieveing the list of all the stop words in english language\n",
    "\n",
    "stop_word_list = stopwords.words('english')"
   ]
  },
  {
   "cell_type": "code",
   "execution_count": 11,
   "id": "4e3cbb9f",
   "metadata": {},
   "outputs": [
    {
     "data": {
      "text/plain": [
       "['Dell',\n",
       " 'Inc.',\n",
       " 'American-based',\n",
       " 'technology',\n",
       " 'company',\n",
       " 'develops',\n",
       " 'sells',\n",
       " 'repairs',\n",
       " 'supports',\n",
       " 'computers',\n",
       " 'related',\n",
       " 'products',\n",
       " 'services',\n",
       " 'Dell',\n",
       " 'owned',\n",
       " 'parent',\n",
       " 'company',\n",
       " 'Dell',\n",
       " 'Technologies',\n",
       " 'Dell',\n",
       " 'sells',\n",
       " 'personal',\n",
       " 'computers',\n",
       " 'PCs',\n",
       " 'servers',\n",
       " 'data',\n",
       " 'storage',\n",
       " 'devices',\n",
       " 'network',\n",
       " 'switches',\n",
       " 'software',\n",
       " 'computer',\n",
       " 'peripherals',\n",
       " 'HDTVs',\n",
       " 'cameras',\n",
       " 'printers',\n",
       " 'electronics',\n",
       " 'built',\n",
       " 'manufacturers',\n",
       " 'company',\n",
       " 'known',\n",
       " 'manages',\n",
       " 'supply',\n",
       " 'chain',\n",
       " 'electronic',\n",
       " 'commerce',\n",
       " 'includes',\n",
       " 'Dell',\n",
       " 'selling',\n",
       " 'directly',\n",
       " 'customers',\n",
       " 'delivering',\n",
       " 'PCs',\n",
       " 'customer',\n",
       " 'wants',\n",
       " 'Dell',\n",
       " 'pure',\n",
       " 'hardware',\n",
       " 'vendor',\n",
       " 'acquired',\n",
       " 'Perot',\n",
       " 'Systems',\n",
       " 'Dell',\n",
       " 'entered',\n",
       " 'market',\n",
       " 'services',\n",
       " 'company',\n",
       " 'expanded',\n",
       " 'storage',\n",
       " 'networking',\n",
       " 'systems',\n",
       " 'expanding',\n",
       " 'offering',\n",
       " 'computers',\n",
       " 'delivering',\n",
       " 'range',\n",
       " 'technology',\n",
       " 'enterprise',\n",
       " 'customers',\n",
       " 'Dell',\n",
       " 'subsidiary',\n",
       " 'Dell',\n",
       " 'Technologies',\n",
       " 'Inc.',\n",
       " 'publicly',\n",
       " 'traded',\n",
       " 'company',\n",
       " 'Nasdaq',\n",
       " 'DELL',\n",
       " 'well',\n",
       " 'component',\n",
       " 'NASDAQ-100',\n",
       " 'P',\n",
       " 'third-largest',\n",
       " 'personal',\n",
       " 'computer',\n",
       " 'vendor',\n",
       " 'January',\n",
       " 'Dell',\n",
       " 'ranked',\n",
       " '31st',\n",
       " 'Fortune',\n",
       " 'list',\n",
       " '76th',\n",
       " 'also',\n",
       " 'sixth-largest',\n",
       " 'company',\n",
       " 'Texas',\n",
       " 'total',\n",
       " 'revenue',\n",
       " 'according',\n",
       " 'Fortune',\n",
       " 'magazine',\n",
       " 'second-largest',\n",
       " 'non-oil',\n",
       " 'company',\n",
       " 'Texas',\n",
       " 'Dell',\n",
       " 'acquired',\n",
       " 'enterprise',\n",
       " 'technology',\n",
       " 'firm',\n",
       " 'EMC',\n",
       " 'Corporation',\n",
       " 'Dell',\n",
       " 'EMC',\n",
       " 'became',\n",
       " 'divisions',\n",
       " 'Dell',\n",
       " 'Technologies',\n",
       " 'Dell',\n",
       " 'EMC',\n",
       " 'sells',\n",
       " 'data',\n",
       " 'storage',\n",
       " 'information',\n",
       " 'security',\n",
       " 'virtualization',\n",
       " 'analytics',\n",
       " 'cloud',\n",
       " 'computing']"
      ]
     },
     "execution_count": 11,
     "metadata": {},
     "output_type": "execute_result"
    }
   ],
   "source": [
    "# Filtering the clean_text of any stop words\n",
    "\n",
    "final_text = [word for word in clean_text if word.lower() not in stop_word_list]\n",
    "\n",
    "final_text"
   ]
  },
  {
   "cell_type": "code",
   "execution_count": null,
   "id": "ec5f3df0",
   "metadata": {},
   "outputs": [],
   "source": []
  }
 ],
 "metadata": {
  "kernelspec": {
   "display_name": "Python 3 (ipykernel)",
   "language": "python",
   "name": "python3"
  },
  "language_info": {
   "codemirror_mode": {
    "name": "ipython",
    "version": 3
   },
   "file_extension": ".py",
   "mimetype": "text/x-python",
   "name": "python",
   "nbconvert_exporter": "python",
   "pygments_lexer": "ipython3",
   "version": "3.11.5"
  }
 },
 "nbformat": 4,
 "nbformat_minor": 5
}
