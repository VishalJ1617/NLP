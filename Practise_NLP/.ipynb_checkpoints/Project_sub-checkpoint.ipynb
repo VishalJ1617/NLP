{
 "cells": [
  {
   "cell_type": "markdown",
   "id": "eb3bf0c5",
   "metadata": {},
   "source": [
    "Date : 22/12/2023"
   ]
  },
  {
   "cell_type": "markdown",
   "id": "a3daa415",
   "metadata": {},
   "source": [
    "## Madan - Live feed from Twitter"
   ]
  },
  {
   "cell_type": "markdown",
   "id": "53e46845",
   "metadata": {},
   "source": [
    "!pip install tweepy"
   ]
  },
  {
   "cell_type": "code",
   "execution_count": 4,
   "id": "f2ea407d",
   "metadata": {},
   "outputs": [],
   "source": [
    "# API for twitter\n",
    "\n",
    "import tweepy"
   ]
  },
  {
   "cell_type": "code",
   "execution_count": null,
   "id": "a0e65de0",
   "metadata": {},
   "outputs": [],
   "source": [
    "import requests\n",
    "\n",
    "# Define the URL for the Twitter API endpoint\n",
    "url = 'https://api.twitter.com/2/tweets/sample/stream'\n",
    "\n",
    "# Define the headers for the API request\n",
    "headers = {\n",
    "   'Authorization': 'mF_9.B5f-4.1JqM',\n",
    "}\n",
    "\n",
    "# Make a POST request to the Twitter API\n",
    "response = requests.post(url, headers=headers, stream=True)\n",
    "\n",
    "# Iterate over the response\n",
    "for line in response.iter_lines():\n",
    "   if line:\n",
    "       print(line.decode())"
   ]
  },
  {
   "cell_type": "markdown",
   "id": "9117216f",
   "metadata": {},
   "source": [
    "## Suhas - Language Identification"
   ]
  },
  {
   "cell_type": "code",
   "execution_count": 6,
   "id": "b27f7dc8",
   "metadata": {},
   "outputs": [
    {
     "name": "stdout",
     "output_type": "stream",
     "text": [
      "Requirement already satisfied: langdetect in /home/dai/anaconda3/lib/python3.11/site-packages (1.0.9)\r\n",
      "Requirement already satisfied: six in /home/dai/anaconda3/lib/python3.11/site-packages (from langdetect) (1.16.0)\r\n"
     ]
    }
   ],
   "source": [
    "get_ipython().system('pip install langdetect')\n",
    "\n",
    "from langdetect import detect, detect_langs\n",
    "\n",
    "def language_detection(text, method = \"single\"):\n",
    "\n",
    "  \"\"\"\n",
    "  @desc: \n",
    "    - detects the language of a text\n",
    "  @params:\n",
    "    - text: the text which language needs to be detected\n",
    "    - method: detection method: \n",
    "      single: if the detection is based on the first option (detect)\n",
    "  @return:\n",
    "    - the langue/list of languages\n",
    "  \"\"\"\n",
    "\n",
    "  if(method.lower() != \"single\"):\n",
    "    result = detect_langs(text)\n",
    "\n",
    "  else:\n",
    "    result = detect(text)\n",
    "\n",
    "  return result\n"
   ]
  },
  {
   "cell_type": "code",
   "execution_count": 9,
   "id": "22fe1917",
   "metadata": {},
   "outputs": [
    {
     "name": "stdout",
     "output_type": "stream",
     "text": [
      "Hindi\n"
     ]
    }
   ],
   "source": [
    "text = 'मेरा नाम सुहास  सदाशिव  कोलेकर है.'\n",
    "\n",
    "lang =  language_detection(text)\n",
    "\n",
    "if lang == 'hi':\n",
    "    \n",
    "    print('Hindi')\n"
   ]
  },
  {
   "cell_type": "code",
   "execution_count": 8,
   "id": "4e411ac8",
   "metadata": {},
   "outputs": [
    {
     "data": {
      "text/plain": [
       "'mr'"
      ]
     },
     "execution_count": 8,
     "metadata": {},
     "output_type": "execute_result"
    }
   ],
   "source": [
    "Text ='माझं नाव विशाल जगदाळे राहणार सातारा. '\n",
    "\n",
    "language_detection(Text)\n"
   ]
  },
  {
   "cell_type": "code",
   "execution_count": 10,
   "id": "ced71e2a",
   "metadata": {},
   "outputs": [
    {
     "name": "stdout",
     "output_type": "stream",
     "text": [
      "\u001b[31mERROR: pip's dependency resolver does not currently take into account all the packages that are installed. This behaviour is the source of the following dependency conflicts.\r\n",
      "s3fs 2023.4.0 requires fsspec==2023.4.0, but you have fsspec 2023.12.2 which is incompatible.\u001b[0m\u001b[31m\r\n",
      "\u001b[0m"
     ]
    }
   ],
   "source": [
    "!pip install transformers -U -q"
   ]
  },
  {
   "cell_type": "code",
   "execution_count": null,
   "id": "25af5370",
   "metadata": {},
   "outputs": [],
   "source": []
  }
 ],
 "metadata": {
  "kernelspec": {
   "display_name": "Python 3 (ipykernel)",
   "language": "python",
   "name": "python3"
  },
  "language_info": {
   "codemirror_mode": {
    "name": "ipython",
    "version": 3
   },
   "file_extension": ".py",
   "mimetype": "text/x-python",
   "name": "python",
   "nbconvert_exporter": "python",
   "pygments_lexer": "ipython3",
   "version": "3.11.5"
  }
 },
 "nbformat": 4,
 "nbformat_minor": 5
}
