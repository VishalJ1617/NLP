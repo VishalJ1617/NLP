{
 "cells": [
  {
   "cell_type": "markdown",
   "id": "63df78a7",
   "metadata": {},
   "source": [
    "Date : 24/12/2023"
   ]
  },
  {
   "cell_type": "markdown",
   "id": "a6bc5cd3",
   "metadata": {},
   "source": [
    "# Sentiment analysis"
   ]
  },
  {
   "cell_type": "code",
   "execution_count": 5,
   "id": "17842e28",
   "metadata": {},
   "outputs": [],
   "source": [
    "### -----------------\n",
    "### Import statements\n",
    "### -----------------\n",
    "\n",
    "import os"
   ]
  },
  {
   "cell_type": "code",
   "execution_count": 13,
   "id": "5d539e98",
   "metadata": {},
   "outputs": [],
   "source": [
    "# File path to the train and test data directory\n",
    "\n",
    "\n",
    "dataDir = '/home/dai/7. NLP & CV/NLP/review_polarity/review_polarity/txt_sentoken'"
   ]
  },
  {
   "cell_type": "code",
   "execution_count": null,
   "id": "8bd929d4",
   "metadata": {},
   "outputs": [],
   "source": []
  }
 ],
 "metadata": {
  "kernelspec": {
   "display_name": "Python 3 (ipykernel)",
   "language": "python",
   "name": "python3"
  },
  "language_info": {
   "codemirror_mode": {
    "name": "ipython",
    "version": 3
   },
   "file_extension": ".py",
   "mimetype": "text/x-python",
   "name": "python",
   "nbconvert_exporter": "python",
   "pygments_lexer": "ipython3",
   "version": "3.11.5"
  }
 },
 "nbformat": 4,
 "nbformat_minor": 5
}
