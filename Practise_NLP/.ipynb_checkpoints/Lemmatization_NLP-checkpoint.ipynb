{
 "cells": [
  {
   "cell_type": "markdown",
   "id": "79c90353",
   "metadata": {},
   "source": [
    "Date : 10/12/2023"
   ]
  },
  {
   "cell_type": "markdown",
   "id": "6efd6712",
   "metadata": {},
   "source": [
    "## Lemmatization"
   ]
  },
  {
   "cell_type": "markdown",
   "id": "581cd335",
   "metadata": {},
   "source": [
    "<img src=\"re-learning-english-multiple1.png\" alt=\"Lemmatization\">"
   ]
  },
  {
   "cell_type": "markdown",
   "id": "ab32ba70",
   "metadata": {},
   "source": [
    "1. **Lemmatization** is the process of **reducing the word to it's root form**.\n",
    "2. The reduced form is known as **'Lemma'**\n",
    "3. Lemmatization method is more accurate than stemming.\n",
    "4. Lemmatization method takes an extra parameter, i.e., **part of speech** (pos)\n",
    "5. Method of Lemmatization, is in **'nltk.stem'** module"
   ]
  },
  {
   "cell_type": "code",
   "execution_count": 3,
   "id": "8e30d4ed",
   "metadata": {},
   "outputs": [],
   "source": [
    "### -------------------\n",
    "### Importing libraries\n",
    "### -------------------\n",
    "\n",
    "from nltk.stem import WordNetLemmatizer"
   ]
  },
  {
   "cell_type": "code",
   "execution_count": 2,
   "id": "903b3aec",
   "metadata": {},
   "outputs": [],
   "source": [
    "### ----------\n",
    "### Input Data\n",
    "### ----------\n",
    "\n",
    "word1 = 'cat', 'catty', 'catlike', 'cats'\n",
    "\n",
    "word2 = 'playing', 'plays', 'played', 'players'\n",
    "\n",
    "word3 = 'go', 'went', 'gone', 'going', 'goes'\n",
    "\n",
    "word4 = 'goods', 'better', 'best', 'fasting', 'reachable'\n",
    "\n",
    "word5 = 'program', 'programmed', 'programmming', 'programatic'"
   ]
  },
  {
   "cell_type": "code",
   "execution_count": 6,
   "id": "bdb026ed",
   "metadata": {},
   "outputs": [],
   "source": [
    "# Initializing the Lemmatizer\n",
    "\n",
    "wn_lemmatizer = WordNetLemmatizer()"
   ]
  },
  {
   "cell_type": "code",
   "execution_count": 10,
   "id": "abe67e65",
   "metadata": {},
   "outputs": [
    {
     "name": "stdout",
     "output_type": "stream",
     "text": [
      "go\n"
     ]
    }
   ],
   "source": [
    "print(wn_lemmatizer.lemmatize(word3[1], pos = 'v'))"
   ]
  },
  {
   "cell_type": "code",
   "execution_count": 15,
   "id": "c01d39a7",
   "metadata": {},
   "outputs": [
    {
     "data": {
      "text/plain": [
       "['go', 'go', 'go', 'go', 'go']"
      ]
     },
     "execution_count": 15,
     "metadata": {},
     "output_type": "execute_result"
    }
   ],
   "source": [
    "# Iterating over each word\n",
    "\n",
    "lemma = [wn_lemmatizer.lemmatize(word, pos='v') for word in word3]\n",
    "\n",
    "lemma"
   ]
  },
  {
   "cell_type": "code",
   "execution_count": null,
   "id": "ff532069",
   "metadata": {},
   "outputs": [],
   "source": []
  }
 ],
 "metadata": {
  "kernelspec": {
   "display_name": "Python 3 (ipykernel)",
   "language": "python",
   "name": "python3"
  },
  "language_info": {
   "codemirror_mode": {
    "name": "ipython",
    "version": 3
   },
   "file_extension": ".py",
   "mimetype": "text/x-python",
   "name": "python",
   "nbconvert_exporter": "python",
   "pygments_lexer": "ipython3",
   "version": "3.11.5"
  }
 },
 "nbformat": 4,
 "nbformat_minor": 5
}
