{
 "cells": [
  {
   "cell_type": "markdown",
   "id": "2509ed46",
   "metadata": {},
   "source": [
    "Date : 10/12/2023"
   ]
  },
  {
   "cell_type": "markdown",
   "id": "7f860e14",
   "metadata": {},
   "source": [
    "## Stemming"
   ]
  },
  {
   "cell_type": "markdown",
   "id": "4ff8df09",
   "metadata": {},
   "source": [
    "<img src=\"1.jpg\" alt=\"Stemming\">"
   ]
  },
  {
   "cell_type": "markdown",
   "id": "026c6fd1",
   "metadata": {},
   "source": [
    "1. Stemming is the process of reducing the word to it's root form.\n",
    "2. The root form of word is known as the **'Lemma'**\n",
    "3. There are two methods for stemming **1) PorterStemmer**, **2) LancasterStemmer**"
   ]
  },
  {
   "cell_type": "markdown",
   "id": "8f54047d",
   "metadata": {},
   "source": [
    "# Code for Stemming"
   ]
  },
  {
   "cell_type": "markdown",
   "id": "ab9674e8",
   "metadata": {},
   "source": [
    "## 1. Porter Stemmer method"
   ]
  },
  {
   "cell_type": "code",
   "execution_count": 1,
   "id": "5dbde8ae",
   "metadata": {},
   "outputs": [],
   "source": [
    "### -------------------\n",
    "### Importing libraries\n",
    "### -------------------\n",
    "\n",
    "from nltk.stem import PorterStemmer, LancasterStemmer"
   ]
  },
  {
   "cell_type": "code",
   "execution_count": 2,
   "id": "fc500faf",
   "metadata": {},
   "outputs": [],
   "source": [
    "word1 = \"chocolates\", \"chocolatey\", \"choco\" \n",
    "\n",
    "word2 = \"retrieval\", \"retrieved\", \"retrieves\"\n",
    "\n",
    "word3 = \"fishing\", \"fished\", \"fisher\"\n",
    "\n",
    "word4 = \"argue\", \"argued\", \"argues\", \"arguing\", \"argus\""
   ]
  },
  {
   "cell_type": "code",
   "execution_count": 3,
   "id": "b30f9415",
   "metadata": {},
   "outputs": [],
   "source": [
    "# Initializing the Stemmer\n",
    "\n",
    "por_stem = PorterStemmer()"
   ]
  },
  {
   "cell_type": "code",
   "execution_count": 4,
   "id": "9ef4fb8a",
   "metadata": {},
   "outputs": [
    {
     "name": "stdout",
     "output_type": "stream",
     "text": [
      "chocol\n",
      "chocolatey\n",
      "choco\n",
      "\n",
      "retriev\n",
      "retriev\n",
      "retriev\n",
      "\n",
      "fish\n",
      "fish\n",
      "fisher\n",
      "\n",
      "argu\n",
      "argu\n",
      "argu\n",
      "argu\n",
      "argu\n",
      "\n"
     ]
    }
   ],
   "source": [
    "# Iterating over each word to reduce it to root form\n",
    "\n",
    "word_list = [word1, word2, word3, word4]\n",
    "\n",
    "for element in word_list:\n",
    "    \n",
    "    for word in element:\n",
    "        \n",
    "        stem_word = por_stem.stem(word)\n",
    "                                  \n",
    "        print(stem_word)\n",
    "    \n",
    "    print()"
   ]
  },
  {
   "cell_type": "markdown",
   "id": "fe3d347f",
   "metadata": {},
   "source": [
    "## 2. Lancaster Stemmer Method"
   ]
  },
  {
   "cell_type": "code",
   "execution_count": 5,
   "id": "dac3827b",
   "metadata": {},
   "outputs": [],
   "source": [
    "# Inirializing the Lancaster Stemmer\n",
    "\n",
    "lan_stemmer = LancasterStemmer()"
   ]
  },
  {
   "cell_type": "code",
   "execution_count": 6,
   "id": "532eb81a",
   "metadata": {},
   "outputs": [
    {
     "name": "stdout",
     "output_type": "stream",
     "text": [
      "chocol\n",
      "chocolatey\n",
      "choco\n",
      "\n",
      "retriev\n",
      "retriev\n",
      "retriev\n",
      "\n",
      "fish\n",
      "fish\n",
      "fish\n",
      "\n",
      "argu\n",
      "argu\n",
      "argu\n",
      "argu\n",
      "arg\n",
      "\n"
     ]
    }
   ],
   "source": [
    "# Iterating over each word to reduce it to root form\n",
    "\n",
    "word_list = [word1, word2, word3, word4]\n",
    "\n",
    "for element in word_list:\n",
    "    \n",
    "    for word in element:\n",
    "        \n",
    "        stem_word = lan_stemmer.stem(word)\n",
    "                                  \n",
    "        print(stem_word)\n",
    "    \n",
    "    print()"
   ]
  }
 ],
 "metadata": {
  "kernelspec": {
   "display_name": "Python 3 (ipykernel)",
   "language": "python",
   "name": "python3"
  },
  "language_info": {
   "codemirror_mode": {
    "name": "ipython",
    "version": 3
   },
   "file_extension": ".py",
   "mimetype": "text/x-python",
   "name": "python",
   "nbconvert_exporter": "python",
   "pygments_lexer": "ipython3",
   "version": "3.11.5"
  }
 },
 "nbformat": 4,
 "nbformat_minor": 5
}
