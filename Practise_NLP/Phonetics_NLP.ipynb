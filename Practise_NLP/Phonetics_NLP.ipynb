{
 "cells": [
  {
   "cell_type": "markdown",
   "id": "a2fdc726",
   "metadata": {},
   "source": [
    "# Linguistic Analysis"
   ]
  },
  {
   "cell_type": "markdown",
   "id": "1ce7f5a1",
   "metadata": {},
   "source": [
    "## 1. Phonetics"
   ]
  },
  {
   "cell_type": "markdown",
   "id": "c489c503",
   "metadata": {},
   "source": [
    "1. Branch of **'Linguistic Analysis'**\n",
    "2. It is study of how humans generate and perceive sound.\n",
    "3. In case of sign language, study of equivalent aspect of sound.\n",
    "4. Phonetics is sub-divided in 3 "
   ]
  },
  {
   "cell_type": "markdown",
   "id": "cdf8c123",
   "metadata": {},
   "source": [
    "<img src=\"Phonemic-Chart.jpg\" alt=\"Phonetic chart\">"
   ]
  },
  {
   "cell_type": "code",
   "execution_count": null,
   "id": "44dbb614",
   "metadata": {},
   "outputs": [],
   "source": []
  }
 ],
 "metadata": {
  "kernelspec": {
   "display_name": "Python 3 (ipykernel)",
   "language": "python",
   "name": "python3"
  },
  "language_info": {
   "codemirror_mode": {
    "name": "ipython",
    "version": 3
   },
   "file_extension": ".py",
   "mimetype": "text/x-python",
   "name": "python",
   "nbconvert_exporter": "python",
   "pygments_lexer": "ipython3",
   "version": "3.11.5"
  }
 },
 "nbformat": 4,
 "nbformat_minor": 5
}
