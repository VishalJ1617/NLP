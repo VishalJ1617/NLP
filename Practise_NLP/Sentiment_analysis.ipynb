{
 "cells": [
  {
   "cell_type": "markdown",
   "id": "d243beef",
   "metadata": {},
   "source": [
    "Date : 24/12/2023"
   ]
  },
  {
   "cell_type": "markdown",
   "id": "a83a26ac",
   "metadata": {},
   "source": [
    "# Sentiment analysis"
   ]
  },
  {
   "cell_type": "code",
   "execution_count": 2,
   "id": "15916e71",
   "metadata": {},
   "outputs": [],
   "source": [
    "### -----------------\n",
    "### Import statements\n",
    "### -----------------\n",
    "\n",
    "import os\n",
    "from  os import listdir"
   ]
  },
  {
   "cell_type": "code",
   "execution_count": 3,
   "id": "7033e660",
   "metadata": {},
   "outputs": [],
   "source": [
    "# File path to the train and test data directory\n",
    "\n",
    "\n",
    "dataDir = '/home/dai/7. NLP & CV/NLP/review_polarity/review_polarity/txt_sentoken'"
   ]
  },
  {
   "cell_type": "code",
   "execution_count": 5,
   "id": "54f4523e",
   "metadata": {},
   "outputs": [
    {
     "data": {
      "text/plain": [
       "['neg', 'pos']"
      ]
     },
     "execution_count": 5,
     "metadata": {},
     "output_type": "execute_result"
    }
   ],
   "source": [
    "sentiments = os.listdir(dataDir)\n",
    "\n",
    "sentiments"
   ]
  },
  {
   "cell_type": "code",
   "execution_count": 5,
   "id": "57b54638",
   "metadata": {},
   "outputs": [],
   "source": [
    "def load_all_docs():\n",
    "    \n",
    "    neg = '/home/dai/77. NLP & CV/NLP/review_polarity/neg'\n",
    "    \n",
    "    pos = '/home/dai/77. NLP & CV/NLP/review_polarity/pos'\n",
    "    \n",
    "    "
   ]
  }
 ],
 "metadata": {
  "kernelspec": {
   "display_name": "Python 3 (ipykernel)",
   "language": "python",
   "name": "python3"
  },
  "language_info": {
   "codemirror_mode": {
    "name": "ipython",
    "version": 3
   },
   "file_extension": ".py",
   "mimetype": "text/x-python",
   "name": "python",
   "nbconvert_exporter": "python",
   "pygments_lexer": "ipython3",
   "version": "3.11.5"
  }
 },
 "nbformat": 4,
 "nbformat_minor": 5
}
