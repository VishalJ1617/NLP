{
 "cells": [
  {
   "cell_type": "markdown",
   "id": "d243beef",
   "metadata": {},
   "source": [
    "Date : 24/12/2023"
   ]
  },
  {
   "cell_type": "markdown",
   "id": "a83a26ac",
   "metadata": {},
   "source": [
    "# Sentiment analysis"
   ]
  },
  {
   "cell_type": "code",
   "execution_count": 5,
   "id": "15916e71",
   "metadata": {},
   "outputs": [],
   "source": [
    "### -----------------\n",
    "### Import statements\n",
    "### -----------------\n",
    "\n",
    "import os"
   ]
  },
  {
   "cell_type": "code",
   "execution_count": 16,
   "id": "7033e660",
   "metadata": {},
   "outputs": [],
   "source": [
    "# File path to the train and test data directory\n",
    "\n",
    "\n",
    "dataDir = '/home/dai/7. NLP & CV/NLP/review_polarity/review_polarity/txt_sentoken'"
   ]
  },
  {
   "cell_type": "code",
   "execution_count": 17,
   "id": "54f4523e",
   "metadata": {},
   "outputs": [],
   "source": [
    "sentiments = os.listdir(dataDir)"
   ]
  },
  {
   "cell_type": "code",
   "execution_count": 18,
   "id": "9524c840",
   "metadata": {},
   "outputs": [
    {
     "data": {
      "text/plain": [
       "list"
      ]
     },
     "execution_count": 18,
     "metadata": {},
     "output_type": "execute_result"
    }
   ],
   "source": [
    "type(sentiments)"
   ]
  },
  {
   "cell_type": "code",
   "execution_count": null,
   "id": "57b54638",
   "metadata": {},
   "outputs": [],
   "source": []
  }
 ],
 "metadata": {
  "kernelspec": {
   "display_name": "Python 3 (ipykernel)",
   "language": "python",
   "name": "python3"
  },
  "language_info": {
   "codemirror_mode": {
    "name": "ipython",
    "version": 3
   },
   "file_extension": ".py",
   "mimetype": "text/x-python",
   "name": "python",
   "nbconvert_exporter": "python",
   "pygments_lexer": "ipython3",
   "version": "3.11.5"
  }
 },
 "nbformat": 4,
 "nbformat_minor": 5
}
