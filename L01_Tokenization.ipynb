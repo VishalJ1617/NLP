{
 "cells": [
  {
   "cell_type": "markdown",
   "id": "a8eb1f64",
   "metadata": {},
   "source": [
    "###  Test example"
   ]
  },
  {
   "cell_type": "code",
   "execution_count": 1,
   "id": "2358a99f",
   "metadata": {},
   "outputs": [],
   "source": [
    "sent = 'They told that their ages are 25 26 and 31 respectively.'"
   ]
  },
  {
   "cell_type": "code",
   "execution_count": 2,
   "id": "f4ae91d7",
   "metadata": {},
   "outputs": [],
   "source": [
    "# Find the average of ages mentioned in the statement"
   ]
  },
  {
   "cell_type": "code",
   "execution_count": 3,
   "id": "3b85acb0",
   "metadata": {},
   "outputs": [],
   "source": [
    "lst = sent.split(' ')"
   ]
  },
  {
   "cell_type": "code",
   "execution_count": 4,
   "id": "73cd20f1",
   "metadata": {},
   "outputs": [
    {
     "data": {
      "text/plain": [
       "['They',\n",
       " 'told',\n",
       " 'that',\n",
       " 'their',\n",
       " 'ages',\n",
       " 'are',\n",
       " '25',\n",
       " '26',\n",
       " 'and',\n",
       " '31',\n",
       " 'respectively.']"
      ]
     },
     "execution_count": 4,
     "metadata": {},
     "output_type": "execute_result"
    }
   ],
   "source": [
    "lst"
   ]
  },
  {
   "cell_type": "code",
   "execution_count": 5,
   "id": "f67c4943",
   "metadata": {},
   "outputs": [],
   "source": [
    "num = 0\n",
    "a = 0\n",
    "for i  in lst:\n",
    "    if i.isnumeric():\n",
    "        num += int(i)\n",
    "        a += 1\n",
    "avg = num/a"
   ]
  },
  {
   "cell_type": "code",
   "execution_count": 6,
   "id": "e2b52f31",
   "metadata": {},
   "outputs": [
    {
     "data": {
      "text/plain": [
       "27.333333333333332"
      ]
     },
     "execution_count": 6,
     "metadata": {},
     "output_type": "execute_result"
    }
   ],
   "source": [
    "avg"
   ]
  },
  {
   "cell_type": "markdown",
   "id": "1176d224",
   "metadata": {},
   "source": [
    "#### another method"
   ]
  },
  {
   "cell_type": "code",
   "execution_count": 7,
   "id": "d3d8b81c",
   "metadata": {},
   "outputs": [],
   "source": [
    "age = [int(x) for x in lst if x.isnumeric()]"
   ]
  },
  {
   "cell_type": "code",
   "execution_count": 8,
   "id": "33c9ff8e",
   "metadata": {},
   "outputs": [
    {
     "data": {
      "text/plain": [
       "[25, 26, 31]"
      ]
     },
     "execution_count": 8,
     "metadata": {},
     "output_type": "execute_result"
    }
   ],
   "source": [
    "age"
   ]
  },
  {
   "cell_type": "code",
   "execution_count": 9,
   "id": "8529dee7",
   "metadata": {},
   "outputs": [],
   "source": [
    "avg = sum(age)/len(age)"
   ]
  },
  {
   "cell_type": "code",
   "execution_count": 10,
   "id": "16769780",
   "metadata": {},
   "outputs": [
    {
     "data": {
      "text/plain": [
       "27.333333333333332"
      ]
     },
     "execution_count": 10,
     "metadata": {},
     "output_type": "execute_result"
    }
   ],
   "source": [
    "avg"
   ]
  },
  {
   "cell_type": "markdown",
   "id": "1bc344e7",
   "metadata": {},
   "source": [
    "###  Que 2: "
   ]
  },
  {
   "cell_type": "code",
   "execution_count": 11,
   "id": "27bf5d1e",
   "metadata": {},
   "outputs": [],
   "source": [
    "sents = '''Hello friends!\n",
    "How are you? Welcome to Python Programming.'''"
   ]
  },
  {
   "cell_type": "code",
   "execution_count": 12,
   "id": "53e70cdc",
   "metadata": {},
   "outputs": [],
   "source": [
    "# Find how many sentences are there"
   ]
  },
  {
   "cell_type": "code",
   "execution_count": 13,
   "id": "2cfb691a",
   "metadata": {},
   "outputs": [],
   "source": [
    "lst1= list(sents)"
   ]
  },
  {
   "cell_type": "code",
   "execution_count": 14,
   "id": "03a250ee",
   "metadata": {},
   "outputs": [],
   "source": [
    "separtor = ['.', '?', '!']"
   ]
  },
  {
   "cell_type": "code",
   "execution_count": 15,
   "id": "54a40374",
   "metadata": {},
   "outputs": [],
   "source": [
    "a = 0\n",
    "for i in lst1:\n",
    "    if i in separtor:\n",
    "        a += 1"
   ]
  },
  {
   "cell_type": "code",
   "execution_count": 16,
   "id": "a212c98e",
   "metadata": {},
   "outputs": [
    {
     "name": "stdout",
     "output_type": "stream",
     "text": [
      "no. of setense are =  3\n"
     ]
    }
   ],
   "source": [
    "print('no. of setense are = ',a)"
   ]
  },
  {
   "cell_type": "markdown",
   "id": "8ddeb332",
   "metadata": {},
   "source": [
    "###  Que 3:"
   ]
  },
  {
   "cell_type": "code",
   "execution_count": 17,
   "id": "09611e00",
   "metadata": {},
   "outputs": [],
   "source": [
    "# Capitalize first word of every sentense"
   ]
  },
  {
   "cell_type": "code",
   "execution_count": 18,
   "id": "1eb4b7bc",
   "metadata": {},
   "outputs": [],
   "source": [
    "sents = '''hello friends!\n",
    "how are you? welcome to Python Programming.'''"
   ]
  },
  {
   "cell_type": "code",
   "execution_count": 19,
   "id": "eea0c3fa",
   "metadata": {},
   "outputs": [],
   "source": [
    "lst1= list(sents)"
   ]
  },
  {
   "cell_type": "code",
   "execution_count": 20,
   "id": "0fe4b711",
   "metadata": {},
   "outputs": [],
   "source": [
    "separtor = ['?', '!']"
   ]
  },
  {
   "cell_type": "code",
   "execution_count": 33,
   "id": "a4f0a7c0",
   "metadata": {},
   "outputs": [],
   "source": [
    "lst2 = lst1\n",
    "for i in range(len(lst1)):\n",
    "    if i == 0:\n",
    "        a = lst2[i].capitalize()\n",
    "        lst2[i] = a\n",
    "    if lst1[i] in separtor:\n",
    "        a = lst2[i+2].capitalize()\n",
    "        lst2[i+2] = a"
   ]
  },
  {
   "cell_type": "code",
   "execution_count": 31,
   "id": "edc3c6cb",
   "metadata": {},
   "outputs": [],
   "source": [
    "str_a = str(''.join(lst2))"
   ]
  },
  {
   "cell_type": "code",
   "execution_count": 35,
   "id": "5a908de6",
   "metadata": {},
   "outputs": [
    {
     "name": "stdout",
     "output_type": "stream",
     "text": [
      "Hello friends!\n",
      "How are you? Welcome to Python Programming.\n"
     ]
    }
   ],
   "source": [
    "print(str_a)"
   ]
  },
  {
   "cell_type": "code",
   "execution_count": 1,
   "id": "8e240321",
   "metadata": {
    "scrolled": true
   },
   "outputs": [
    {
     "name": "stdout",
     "output_type": "stream",
     "text": [
      "Requirement already satisfied: nltk in /home/dai/anaconda3/lib/python3.11/site-packages (3.8.1)\n",
      "Requirement already satisfied: click in /home/dai/anaconda3/lib/python3.11/site-packages (from nltk) (8.1.7)\n",
      "Requirement already satisfied: joblib in /home/dai/anaconda3/lib/python3.11/site-packages (from nltk) (1.2.0)\n",
      "Requirement already satisfied: regex>=2021.8.3 in /home/dai/anaconda3/lib/python3.11/site-packages (from nltk) (2023.10.3)\n",
      "Requirement already satisfied: tqdm in /home/dai/anaconda3/lib/python3.11/site-packages (from nltk) (4.65.0)\n"
     ]
    }
   ],
   "source": [
    "!pip install nltk -U"
   ]
  },
  {
   "cell_type": "code",
   "execution_count": 2,
   "id": "4cc9584e",
   "metadata": {},
   "outputs": [],
   "source": [
    "import nltk"
   ]
  },
  {
   "cell_type": "code",
   "execution_count": 3,
   "id": "430aa839",
   "metadata": {},
   "outputs": [
    {
     "name": "stdout",
     "output_type": "stream",
     "text": [
      "showing info https://raw.githubusercontent.com/nltk/nltk_data/gh-pages/index.xml\n"
     ]
    },
    {
     "data": {
      "text/plain": [
       "True"
      ]
     },
     "execution_count": 3,
     "metadata": {},
     "output_type": "execute_result"
    }
   ],
   "source": [
    "nltk.download()"
   ]
  },
  {
   "cell_type": "code",
   "execution_count": 4,
   "id": "9c6462c7",
   "metadata": {},
   "outputs": [
    {
     "name": "stderr",
     "output_type": "stream",
     "text": [
      "[nltk_data] Downloading package stopwords to /home/dai/nltk_data...\n",
      "[nltk_data]   Package stopwords is already up-to-date!\n",
      "[nltk_data] Downloading package averaged_perceptron_tagger to\n",
      "[nltk_data]     /home/dai/nltk_data...\n",
      "[nltk_data]   Package averaged_perceptron_tagger is already up-to-\n",
      "[nltk_data]       date!\n",
      "[nltk_data] Downloading package wordnet to /home/dai/nltk_data...\n",
      "[nltk_data]   Package wordnet is already up-to-date!\n",
      "[nltk_data] Downloading package omw-1.4 to /home/dai/nltk_data...\n",
      "[nltk_data]   Package omw-1.4 is already up-to-date!\n",
      "[nltk_data] Downloading package indian to /home/dai/nltk_data...\n",
      "[nltk_data]   Package indian is already up-to-date!\n",
      "[nltk_data] Downloading package maxent_ne_chunker to\n",
      "[nltk_data]     /home/dai/nltk_data...\n",
      "[nltk_data]   Package maxent_ne_chunker is already up-to-date!\n",
      "[nltk_data] Downloading package punkt to /home/dai/nltk_data...\n",
      "[nltk_data]   Package punkt is already up-to-date!\n",
      "[nltk_data] Downloading package words to /home/dai/nltk_data...\n",
      "[nltk_data]   Package words is already up-to-date!\n"
     ]
    },
    {
     "data": {
      "text/plain": [
       "True"
      ]
     },
     "execution_count": 4,
     "metadata": {},
     "output_type": "execute_result"
    }
   ],
   "source": [
    "nltk.download('stopwords')\n",
    "nltk.download('averaged_perceptron_tagger')\n",
    "nltk.download('wordnet')\n",
    "nltk.download('omw-1.4')\n",
    "nltk.download('indian')\n",
    "nltk.download('maxent_ne_chunker')\n",
    "nltk.download('punkt')\n",
    "nltk.download('words')"
   ]
  },
  {
   "cell_type": "code",
   "execution_count": 5,
   "id": "cca42e7d",
   "metadata": {},
   "outputs": [
    {
     "name": "stderr",
     "output_type": "stream",
     "text": [
      "[nltk_data] Downloading package wordnet to /home/dai/nltk_data...\n",
      "[nltk_data]   Package wordnet is already up-to-date!\n"
     ]
    },
    {
     "data": {
      "text/plain": [
       "True"
      ]
     },
     "execution_count": 5,
     "metadata": {},
     "output_type": "execute_result"
    }
   ],
   "source": [
    "nltk.download('wordnet')"
   ]
  },
  {
   "cell_type": "code",
   "execution_count": 6,
   "id": "ede7c3dd",
   "metadata": {},
   "outputs": [
    {
     "name": "stderr",
     "output_type": "stream",
     "text": [
      "[nltk_data] Downloading package omw-1.4 to /home/dai/nltk_data...\n",
      "[nltk_data]   Package omw-1.4 is already up-to-date!\n",
      "[nltk_data] Downloading package indian to /home/dai/nltk_data...\n",
      "[nltk_data]   Package indian is already up-to-date!\n",
      "[nltk_data] Downloading package maxent_ne_chunker to\n",
      "[nltk_data]     /home/dai/nltk_data...\n",
      "[nltk_data]   Package maxent_ne_chunker is already up-to-date!\n"
     ]
    },
    {
     "data": {
      "text/plain": [
       "True"
      ]
     },
     "execution_count": 6,
     "metadata": {},
     "output_type": "execute_result"
    }
   ],
   "source": [
    "nltk.download('omw-1.4')\n",
    "nltk.download('indian')\n",
    "nltk.download('maxent_ne_chunker')"
   ]
  },
  {
   "cell_type": "code",
   "execution_count": 7,
   "id": "051e5d20",
   "metadata": {},
   "outputs": [
    {
     "name": "stderr",
     "output_type": "stream",
     "text": [
      "[nltk_data] Downloading package omw-1.4 to /home/dai/nltk_data...\n",
      "[nltk_data]   Package omw-1.4 is already up-to-date!\n",
      "[nltk_data] Downloading package indian to /home/dai/nltk_data...\n",
      "[nltk_data]   Package indian is already up-to-date!\n"
     ]
    },
    {
     "data": {
      "text/plain": [
       "True"
      ]
     },
     "execution_count": 7,
     "metadata": {},
     "output_type": "execute_result"
    }
   ],
   "source": [
    "nltk.download('omw-1.4')\n",
    "nltk.download('indian')\n"
   ]
  },
  {
   "cell_type": "code",
   "execution_count": 8,
   "id": "f3d296a1",
   "metadata": {},
   "outputs": [
    {
     "name": "stderr",
     "output_type": "stream",
     "text": [
      "[nltk_data] Downloading package maxent_ne_chunker to\n",
      "[nltk_data]     /home/dai/nltk_data...\n",
      "[nltk_data]   Package maxent_ne_chunker is already up-to-date!\n"
     ]
    },
    {
     "data": {
      "text/plain": [
       "True"
      ]
     },
     "execution_count": 8,
     "metadata": {},
     "output_type": "execute_result"
    }
   ],
   "source": [
    "\n",
    "nltk.download('maxent_ne_chunker')"
   ]
  },
  {
   "cell_type": "markdown",
   "id": "b6d83732",
   "metadata": {},
   "source": [
    "# Sentence tokenizer"
   ]
  },
  {
   "cell_type": "code",
   "execution_count": 9,
   "id": "4c76dfa4",
   "metadata": {},
   "outputs": [],
   "source": [
    "sents = '''Hello friends!\n",
    "How are you? Welcome to Python Programming.'''"
   ]
  },
  {
   "cell_type": "code",
   "execution_count": 10,
   "id": "63a6259a",
   "metadata": {},
   "outputs": [],
   "source": [
    "from nltk.tokenize import sent_tokenize"
   ]
  },
  {
   "cell_type": "code",
   "execution_count": 11,
   "id": "2ced19e3",
   "metadata": {},
   "outputs": [],
   "source": [
    "sent_list=sent_tokenize(sents)"
   ]
  },
  {
   "cell_type": "code",
   "execution_count": 12,
   "id": "566221a1",
   "metadata": {},
   "outputs": [
    {
     "data": {
      "text/plain": [
       "['Hello friends!', 'How are you?', 'Welcome to Python Programming.']"
      ]
     },
     "execution_count": 12,
     "metadata": {},
     "output_type": "execute_result"
    }
   ],
   "source": [
    "sent_list"
   ]
  },
  {
   "cell_type": "markdown",
   "id": "42799f4e",
   "metadata": {},
   "source": [
    "# Word tokenizer"
   ]
  },
  {
   "cell_type": "code",
   "execution_count": 13,
   "id": "900fa74b",
   "metadata": {},
   "outputs": [],
   "source": [
    "from nltk.tokenize import word_tokenize"
   ]
  },
  {
   "cell_type": "code",
   "execution_count": 14,
   "id": "625b1e7a",
   "metadata": {},
   "outputs": [],
   "source": [
    "words=word_tokenize(sents)"
   ]
  },
  {
   "cell_type": "code",
   "execution_count": 15,
   "id": "416fa0f0",
   "metadata": {},
   "outputs": [
    {
     "data": {
      "text/plain": [
       "['Hello',\n",
       " 'friends',\n",
       " '!',\n",
       " 'How',\n",
       " 'are',\n",
       " 'you',\n",
       " '?',\n",
       " 'Welcome',\n",
       " 'to',\n",
       " 'Python',\n",
       " 'Programming',\n",
       " '.']"
      ]
     },
     "execution_count": 15,
     "metadata": {},
     "output_type": "execute_result"
    }
   ],
   "source": [
    "words"
   ]
  },
  {
   "cell_type": "code",
   "execution_count": 16,
   "id": "74e1c822",
   "metadata": {},
   "outputs": [],
   "source": [
    "import string\n",
    "lst1=list(string.punctuation)"
   ]
  },
  {
   "cell_type": "code",
   "execution_count": 17,
   "id": "fb665637",
   "metadata": {},
   "outputs": [],
   "source": [
    "a=len(sents)\n"
   ]
  },
  {
   "cell_type": "code",
   "execution_count": 18,
   "id": "cf560335",
   "metadata": {},
   "outputs": [
    {
     "data": {
      "text/plain": [
       "['!', '?', '.']"
      ]
     },
     "execution_count": 18,
     "metadata": {},
     "output_type": "execute_result"
    }
   ],
   "source": [
    "lst2=[]\n",
    "for i in sents:\n",
    "    if i in lst1:\n",
    "        lst2.append(i)\n",
    "lst2        "
   ]
  },
  {
   "cell_type": "code",
   "execution_count": 19,
   "id": "7f5864fb",
   "metadata": {},
   "outputs": [
    {
     "data": {
      "text/plain": [
       "3"
      ]
     },
     "execution_count": 19,
     "metadata": {},
     "output_type": "execute_result"
    }
   ],
   "source": [
    "b=len(lst2)\n",
    "b"
   ]
  },
  {
   "cell_type": "code",
   "execution_count": 20,
   "id": "7377720f",
   "metadata": {},
   "outputs": [
    {
     "data": {
      "text/plain": [
       "0.05172413793103448"
      ]
     },
     "execution_count": 20,
     "metadata": {},
     "output_type": "execute_result"
    }
   ],
   "source": [
    "percentage=b/a\n",
    "percentage"
   ]
  },
  {
   "cell_type": "code",
   "execution_count": 21,
   "id": "63983856",
   "metadata": {},
   "outputs": [],
   "source": [
    "a=len(words)"
   ]
  },
  {
   "cell_type": "code",
   "execution_count": 22,
   "id": "190afa88",
   "metadata": {},
   "outputs": [
    {
     "data": {
      "text/plain": [
       "0.25"
      ]
     },
     "execution_count": 22,
     "metadata": {},
     "output_type": "execute_result"
    }
   ],
   "source": [
    "percentage=b/a\n",
    "percentage"
   ]
  },
  {
   "cell_type": "markdown",
   "id": "1c9ae720",
   "metadata": {},
   "source": [
    "###  ASCII value generator"
   ]
  },
  {
   "cell_type": "code",
   "execution_count": 23,
   "id": "4c596591",
   "metadata": {},
   "outputs": [
    {
     "data": {
      "text/plain": [
       "49"
      ]
     },
     "execution_count": 23,
     "metadata": {},
     "output_type": "execute_result"
    }
   ],
   "source": [
    "ord('1')"
   ]
  },
  {
   "cell_type": "code",
   "execution_count": 24,
   "id": "b7b85ce6",
   "metadata": {},
   "outputs": [
    {
     "data": {
      "text/plain": [
       "96"
      ]
     },
     "execution_count": 24,
     "metadata": {},
     "output_type": "execute_result"
    }
   ],
   "source": [
    "ord('`')"
   ]
  },
  {
   "cell_type": "code",
   "execution_count": 25,
   "id": "30fbdc85",
   "metadata": {},
   "outputs": [
    {
     "data": {
      "text/plain": [
       "126"
      ]
     },
     "execution_count": 25,
     "metadata": {},
     "output_type": "execute_result"
    }
   ],
   "source": [
    "ord('~')"
   ]
  },
  {
   "cell_type": "code",
   "execution_count": 26,
   "id": "8f7c9c44",
   "metadata": {},
   "outputs": [
    {
     "data": {
      "text/plain": [
       "97"
      ]
     },
     "execution_count": 26,
     "metadata": {},
     "output_type": "execute_result"
    }
   ],
   "source": [
    "ord('a')"
   ]
  },
  {
   "cell_type": "code",
   "execution_count": 27,
   "id": "209caf8b",
   "metadata": {},
   "outputs": [
    {
     "data": {
      "text/plain": [
       "'h'"
      ]
     },
     "execution_count": 27,
     "metadata": {},
     "output_type": "execute_result"
    }
   ],
   "source": [
    "chr(104)"
   ]
  },
  {
   "cell_type": "code",
   "execution_count": 28,
   "id": "06781535",
   "metadata": {},
   "outputs": [
    {
     "data": {
      "text/plain": [
       "'a'"
      ]
     },
     "execution_count": 28,
     "metadata": {},
     "output_type": "execute_result"
    }
   ],
   "source": [
    "chr(97)"
   ]
  },
  {
   "cell_type": "code",
   "execution_count": 29,
   "id": "aa5133c9",
   "metadata": {},
   "outputs": [
    {
     "data": {
      "text/plain": [
       "'½'"
      ]
     },
     "execution_count": 29,
     "metadata": {},
     "output_type": "execute_result"
    }
   ],
   "source": [
    "chr(189)"
   ]
  },
  {
   "cell_type": "code",
   "execution_count": 30,
   "id": "b4789224",
   "metadata": {},
   "outputs": [
    {
     "data": {
      "text/plain": [
       "'4'"
      ]
     },
     "execution_count": 30,
     "metadata": {},
     "output_type": "execute_result"
    }
   ],
   "source": [
    "chr(0x34)"
   ]
  },
  {
   "cell_type": "code",
   "execution_count": 31,
   "id": "5eb24c49",
   "metadata": {},
   "outputs": [
    {
     "data": {
      "text/plain": [
       "'ÿ'"
      ]
     },
     "execution_count": 31,
     "metadata": {},
     "output_type": "execute_result"
    }
   ],
   "source": [
    "chr(0xff)"
   ]
  },
  {
   "cell_type": "code",
   "execution_count": 32,
   "id": "3ea15e7a",
   "metadata": {},
   "outputs": [
    {
     "data": {
      "text/plain": [
       "128527"
      ]
     },
     "execution_count": 32,
     "metadata": {},
     "output_type": "execute_result"
    }
   ],
   "source": [
    "ord('😏')"
   ]
  },
  {
   "cell_type": "code",
   "execution_count": 33,
   "id": "1a264e14",
   "metadata": {},
   "outputs": [
    {
     "data": {
      "text/plain": [
       "'😏'"
      ]
     },
     "execution_count": 33,
     "metadata": {},
     "output_type": "execute_result"
    }
   ],
   "source": [
    "chr(128527)"
   ]
  },
  {
   "cell_type": "code",
   "execution_count": 34,
   "id": "3f07319a",
   "metadata": {},
   "outputs": [
    {
     "data": {
      "text/plain": [
       "'क'"
      ]
     },
     "execution_count": 34,
     "metadata": {},
     "output_type": "execute_result"
    }
   ],
   "source": [
    "chr(0x0915)"
   ]
  },
  {
   "cell_type": "code",
   "execution_count": 35,
   "id": "21863627",
   "metadata": {},
   "outputs": [
    {
     "data": {
      "text/plain": [
       "'ख'"
      ]
     },
     "execution_count": 35,
     "metadata": {},
     "output_type": "execute_result"
    }
   ],
   "source": [
    "chr(0x0916)"
   ]
  },
  {
   "cell_type": "code",
   "execution_count": 36,
   "id": "51e51678",
   "metadata": {},
   "outputs": [
    {
     "data": {
      "text/plain": [
       "'ग'"
      ]
     },
     "execution_count": 36,
     "metadata": {},
     "output_type": "execute_result"
    }
   ],
   "source": [
    "chr(0x0917)"
   ]
  },
  {
   "cell_type": "code",
   "execution_count": 37,
   "id": "3c945326",
   "metadata": {},
   "outputs": [
    {
     "data": {
      "text/plain": [
       "2325"
      ]
     },
     "execution_count": 37,
     "metadata": {},
     "output_type": "execute_result"
    }
   ],
   "source": [
    "ord('क')"
   ]
  },
  {
   "cell_type": "code",
   "execution_count": 38,
   "id": "8ec9735b",
   "metadata": {},
   "outputs": [
    {
     "data": {
      "text/plain": [
       "'क'"
      ]
     },
     "execution_count": 38,
     "metadata": {},
     "output_type": "execute_result"
    }
   ],
   "source": [
    "chr(2325)"
   ]
  },
  {
   "cell_type": "code",
   "execution_count": 39,
   "id": "7d618aad",
   "metadata": {},
   "outputs": [
    {
     "data": {
      "text/plain": [
       "'ळ'"
      ]
     },
     "execution_count": 39,
     "metadata": {},
     "output_type": "execute_result"
    }
   ],
   "source": [
    "chr(0x0933)"
   ]
  },
  {
   "cell_type": "code",
   "execution_count": 40,
   "id": "59f6c01a",
   "metadata": {},
   "outputs": [
    {
     "data": {
      "text/plain": [
       "'ख'"
      ]
     },
     "execution_count": 40,
     "metadata": {},
     "output_type": "execute_result"
    }
   ],
   "source": [
    "chr(2326)"
   ]
  },
  {
   "cell_type": "code",
   "execution_count": null,
   "id": "de597807",
   "metadata": {},
   "outputs": [],
   "source": [
    "'\\u0935\\u093F\\u0936\\u0906'"
   ]
  },
  {
   "cell_type": "code",
   "execution_count": null,
   "id": "51947a5c",
   "metadata": {},
   "outputs": [],
   "source": [
    "chr(2687)"
   ]
  },
  {
   "cell_type": "code",
   "execution_count": null,
   "id": "b8b4a179",
   "metadata": {},
   "outputs": [],
   "source": [
    "names = ['सुहास' ,'मदन' ,'साहिल', 'आदित्य']"
   ]
  },
  {
   "cell_type": "code",
   "execution_count": null,
   "id": "41578158",
   "metadata": {},
   "outputs": [],
   "source": [
    "names"
   ]
  },
  {
   "cell_type": "code",
   "execution_count": null,
   "id": "4a18aa1a",
   "metadata": {},
   "outputs": [],
   "source": [
    "sa_name = [name for name in names if name.startswith('स')]"
   ]
  },
  {
   "cell_type": "code",
   "execution_count": null,
   "id": "c4c71ff1",
   "metadata": {},
   "outputs": [],
   "source": [
    "sa_name"
   ]
  },
  {
   "cell_type": "code",
   "execution_count": null,
   "id": "9c76a92a",
   "metadata": {},
   "outputs": [],
   "source": [
    "name2=['ਅਗਮ','ਸਾਹਿਲ','ਮਦਨ' ]\n",
    "name2"
   ]
  },
  {
   "cell_type": "code",
   "execution_count": null,
   "id": "a7071a08",
   "metadata": {},
   "outputs": [],
   "source": [
    "sa_name2 = [name for name in name2 if name.startswith('ਅ')]"
   ]
  },
  {
   "cell_type": "code",
   "execution_count": null,
   "id": "66e04523",
   "metadata": {},
   "outputs": [],
   "source": [
    "sa_name2"
   ]
  },
  {
   "cell_type": "code",
   "execution_count": null,
   "id": "cc6a4018",
   "metadata": {},
   "outputs": [],
   "source": [
    "'\\u0940'"
   ]
  },
  {
   "cell_type": "code",
   "execution_count": null,
   "id": "b673c774",
   "metadata": {},
   "outputs": [],
   "source": [
    "for name in names:\n",
    "    print(name.replace('ि', 'ी'))"
   ]
  },
  {
   "cell_type": "code",
   "execution_count": null,
   "id": "c4ecf964",
   "metadata": {},
   "outputs": [],
   "source": [
    "text='नाही म्हटले तरी, संघभूमीतील अधिवेशनावर विजयी कमळाचे कवित्व जाणवेल. काँग्रेसने जिंकलेले तेलंगण विदर्भालगत आहे. महाराष्ट्राच्या सीमेजवळ आमची सरशी झाल्याचा काँग्रेसी नेत्यांचा दावा आहे.'"
   ]
  },
  {
   "cell_type": "code",
   "execution_count": null,
   "id": "fd3e6515",
   "metadata": {},
   "outputs": [],
   "source": [
    "word_tokenize(text).count('आहे')"
   ]
  },
  {
   "cell_type": "code",
   "execution_count": null,
   "id": "758c9951",
   "metadata": {},
   "outputs": [],
   "source": [
    "sent_tokenize(text)"
   ]
  },
  {
   "cell_type": "markdown",
   "id": "a396b661",
   "metadata": {},
   "source": [
    "### White-space tokenizer"
   ]
  },
  {
   "cell_type": "code",
   "execution_count": null,
   "id": "5229d0ab",
   "metadata": {},
   "outputs": [],
   "source": [
    "from nltk.tokenize import WhitespaceTokenizer"
   ]
  },
  {
   "cell_type": "markdown",
   "id": "adb28fa7",
   "metadata": {},
   "source": [
    "WhitespaceTokenizer is a class"
   ]
  },
  {
   "cell_type": "code",
   "execution_count": null,
   "id": "45d418f5",
   "metadata": {},
   "outputs": [],
   "source": [
    "tk = WhitespaceTokenizer()"
   ]
  },
  {
   "cell_type": "code",
   "execution_count": null,
   "id": "f7343487",
   "metadata": {},
   "outputs": [],
   "source": [
    "tk.tokenize(sents)"
   ]
  },
  {
   "cell_type": "markdown",
   "id": "d210052f",
   "metadata": {},
   "source": [
    "### Space tokenizer"
   ]
  },
  {
   "cell_type": "code",
   "execution_count": null,
   "id": "1ef0e45e",
   "metadata": {},
   "outputs": [],
   "source": [
    "from nltk.tokenize import SpaceTokenizer"
   ]
  },
  {
   "cell_type": "markdown",
   "id": "a4be76f3",
   "metadata": {},
   "source": [
    "1. It is a class\n",
    "2. Object has to be initiated \n",
    "3. and methods of the class are to be applied"
   ]
  },
  {
   "cell_type": "code",
   "execution_count": null,
   "id": "396143f8",
   "metadata": {},
   "outputs": [],
   "source": [
    "spc_tk = SpaceTokenizer()"
   ]
  },
  {
   "cell_type": "code",
   "execution_count": null,
   "id": "c91c8fa2",
   "metadata": {},
   "outputs": [],
   "source": [
    "spc_tk.tokenize(sents)"
   ]
  },
  {
   "cell_type": "markdown",
   "id": "56a53df0",
   "metadata": {},
   "source": [
    "###  Line tokenizer"
   ]
  },
  {
   "cell_type": "code",
   "execution_count": null,
   "id": "af83be8c",
   "metadata": {},
   "outputs": [],
   "source": [
    "from nltk.tokenize import LineTokenizer"
   ]
  },
  {
   "cell_type": "markdown",
   "id": "500acd56",
   "metadata": {},
   "source": [
    "1. Tokenizes the sentences based on the new line character (\\n)"
   ]
  },
  {
   "cell_type": "code",
   "execution_count": null,
   "id": "62ebca58",
   "metadata": {},
   "outputs": [],
   "source": [
    "ln_tk = LineTokenizer()"
   ]
  },
  {
   "cell_type": "code",
   "execution_count": null,
   "id": "aa9f3a3f",
   "metadata": {},
   "outputs": [],
   "source": [
    "ln_tk.tokenize(sents)"
   ]
  },
  {
   "cell_type": "markdown",
   "id": "bf0916a2",
   "metadata": {},
   "source": [
    "###  Tab tokenizer"
   ]
  },
  {
   "cell_type": "code",
   "execution_count": null,
   "id": "62170c10",
   "metadata": {},
   "outputs": [],
   "source": [
    "sents = '''Hello friends!\n",
    "How are you? Welcome to\\tPython Programming.'''"
   ]
  },
  {
   "cell_type": "code",
   "execution_count": null,
   "id": "e5ff632c",
   "metadata": {},
   "outputs": [],
   "source": [
    "print(sents)"
   ]
  },
  {
   "cell_type": "code",
   "execution_count": null,
   "id": "8d7d7139",
   "metadata": {},
   "outputs": [],
   "source": [
    "from nltk.tokenize import TabTokenizer"
   ]
  },
  {
   "cell_type": "markdown",
   "id": "d396dc2f",
   "metadata": {},
   "source": [
    "1. Tokenizes the sentence at tab (\\t)"
   ]
  },
  {
   "cell_type": "code",
   "execution_count": null,
   "id": "5cfd0e81",
   "metadata": {},
   "outputs": [],
   "source": [
    "tb_tk = TabTokenizer()"
   ]
  },
  {
   "cell_type": "code",
   "execution_count": null,
   "id": "6bd18ae1",
   "metadata": {},
   "outputs": [],
   "source": [
    "tb_tk.tokenize(sents)"
   ]
  },
  {
   "cell_type": "markdown",
   "id": "e66284e4",
   "metadata": {},
   "source": [
    "# Tweet tokenizer"
   ]
  },
  {
   "cell_type": "code",
   "execution_count": null,
   "id": "912e9d23",
   "metadata": {},
   "outputs": [],
   "source": [
    "sent='''Hello friends!😀:!\n",
    "How are you? Welcome to #Python Programming😣\n",
    "Check my web: https://python.org'''"
   ]
  },
  {
   "cell_type": "code",
   "execution_count": null,
   "id": "116bdc6d",
   "metadata": {},
   "outputs": [],
   "source": [
    "print(sent)"
   ]
  },
  {
   "cell_type": "code",
   "execution_count": null,
   "id": "489ae43c",
   "metadata": {},
   "outputs": [],
   "source": [
    "from nltk.tokenize import TweetTokenizer"
   ]
  },
  {
   "cell_type": "code",
   "execution_count": null,
   "id": "7c597559",
   "metadata": {},
   "outputs": [],
   "source": [
    "tw_tk=TweetTokenizer()\n",
    "tw_tk.tokenize(sent)"
   ]
  },
  {
   "cell_type": "code",
   "execution_count": null,
   "id": "9d78bbd8",
   "metadata": {},
   "outputs": [],
   "source": [
    "words=word_tokenize(sent)\n",
    "words"
   ]
  },
  {
   "cell_type": "markdown",
   "id": "98ac824a",
   "metadata": {},
   "source": [
    "# Multi word expression Tokenizer"
   ]
  },
  {
   "cell_type": "code",
   "execution_count": null,
   "id": "2c1b2e94",
   "metadata": {},
   "outputs": [],
   "source": [
    "from nltk.tokenize import MWETokenizer"
   ]
  },
  {
   "cell_type": "code",
   "execution_count": null,
   "id": "2dc11ad0",
   "metadata": {},
   "outputs": [],
   "source": [
    "sent='Van Rossom is in pune today. We welcome Rossom Van here'"
   ]
  },
  {
   "cell_type": "code",
   "execution_count": null,
   "id": "b6770332",
   "metadata": {},
   "outputs": [],
   "source": [
    "tk=MWETokenizer(separator=' ')"
   ]
  },
  {
   "cell_type": "code",
   "execution_count": null,
   "id": "c7b2b499",
   "metadata": {},
   "outputs": [],
   "source": [
    "tk.add_mwe(('Van','Rossom'))"
   ]
  },
  {
   "cell_type": "code",
   "execution_count": null,
   "id": "8940883e",
   "metadata": {},
   "outputs": [],
   "source": [
    "tk.tokenize(word_tokenize(sent))"
   ]
  },
  {
   "cell_type": "markdown",
   "id": "1db5ad80",
   "metadata": {},
   "source": [
    "###  Custom tokenizer"
   ]
  },
  {
   "cell_type": "code",
   "execution_count": 42,
   "id": "f293ef36",
   "metadata": {},
   "outputs": [],
   "source": [
    "import regex as re"
   ]
  },
  {
   "cell_type": "code",
   "execution_count": 43,
   "id": "2e5d912f",
   "metadata": {},
   "outputs": [],
   "source": [
    "def custom_tokenizer(text):\n",
    "    return re.split(r\"[.,;?!\\s]+\", text)"
   ]
  },
  {
   "cell_type": "code",
   "execution_count": 44,
   "id": "6b5ec840",
   "metadata": {},
   "outputs": [],
   "source": [
    "sents = '''Hello friends!\n",
    "How-are you? Wel.come to\\tPython Programming.'''"
   ]
  },
  {
   "cell_type": "code",
   "execution_count": 45,
   "id": "ed976991",
   "metadata": {},
   "outputs": [
    {
     "data": {
      "text/plain": [
       "['Hello',\n",
       " 'friends',\n",
       " 'How-are',\n",
       " 'you',\n",
       " 'Wel',\n",
       " 'come',\n",
       " 'to',\n",
       " 'Python',\n",
       " 'Programming',\n",
       " '']"
      ]
     },
     "execution_count": 45,
     "metadata": {},
     "output_type": "execute_result"
    }
   ],
   "source": [
    "custom_tokenizer(sents)"
   ]
  },
  {
   "cell_type": "code",
   "execution_count": 46,
   "id": "aa7efb60",
   "metadata": {},
   "outputs": [],
   "source": [
    "# link : https://mitu.co.in/dataset\n",
    "# file : student3.tsv"
   ]
  },
  {
   "cell_type": "code",
   "execution_count": 47,
   "id": "2740a13f",
   "metadata": {},
   "outputs": [],
   "source": [
    "lst = []\n",
    "with open('student3.tsv','r') as f:\n",
    "    lst = f.read()\n",
    "    data = f.read()"
   ]
  },
  {
   "cell_type": "code",
   "execution_count": 55,
   "id": "b305a892",
   "metadata": {},
   "outputs": [
    {
     "data": {
      "text/plain": [
       "'roll\\tname\\tclass\\tmarks\\tage\\n1\\tanil\\tTE\\t56.77\\t22\\n2\\tamit\\tTE\\t59.77\\t21\\n3\\taniket\\tBE\\t76.88\\t19\\n4\\tajinkya\\tTE\\t69.66\\t20\\n5\\tasha\\tTE\\t63.28\\t20\\n6\\tayesha\\tBE\\t49.55\\t20\\n7\\tamar\\tBE\\t65.34\\t19\\n8\\tamita\\tBE\\t68.33\\t23\\n9\\tamol\\tTE\\t56.75\\t20\\n10\\tanmol\\tBE\\t78.66\\t21\\n'"
      ]
     },
     "execution_count": 55,
     "metadata": {},
     "output_type": "execute_result"
    }
   ],
   "source": [
    "lst"
   ]
  },
  {
   "cell_type": "code",
   "execution_count": 48,
   "id": "8dcb19b7",
   "metadata": {},
   "outputs": [
    {
     "name": "stdout",
     "output_type": "stream",
     "text": [
      "roll\tname\tclass\tmarks\tage\n",
      "1\tanil\tTE\t56.77\t22\n",
      "2\tamit\tTE\t59.77\t21\n",
      "3\taniket\tBE\t76.88\t19\n",
      "4\tajinkya\tTE\t69.66\t20\n",
      "5\tasha\tTE\t63.28\t20\n",
      "6\tayesha\tBE\t49.55\t20\n",
      "7\tamar\tBE\t65.34\t19\n",
      "8\tamita\tBE\t68.33\t23\n",
      "9\tamol\tTE\t56.75\t20\n",
      "10\tanmol\tBE\t78.66\t21\n",
      "\n"
     ]
    }
   ],
   "source": [
    "print(lst)"
   ]
  },
  {
   "cell_type": "code",
   "execution_count": 49,
   "id": "e467c487",
   "metadata": {},
   "outputs": [],
   "source": [
    "def custom_tokenizer(text):\n",
    "    return re.split(r\"[.,;?!\\s]+\", text)"
   ]
  },
  {
   "cell_type": "code",
   "execution_count": 50,
   "id": "41741408",
   "metadata": {},
   "outputs": [],
   "source": [
    "data_1 = custom_tokenizer(lst)"
   ]
  },
  {
   "cell_type": "code",
   "execution_count": 51,
   "id": "107c4a4d",
   "metadata": {},
   "outputs": [
    {
     "data": {
      "text/plain": [
       "('1', '59')"
      ]
     },
     "execution_count": 51,
     "metadata": {},
     "output_type": "execute_result"
    }
   ],
   "source": [
    "data_1[5], data_1[11+3]"
   ]
  },
  {
   "cell_type": "code",
   "execution_count": 52,
   "id": "1462f827",
   "metadata": {},
   "outputs": [],
   "source": [
    "a = 0\n",
    "max_marks = 0\n",
    "for i in range(1,11):\n",
    "    if i!=0 and i%6==0 and int(data_1[i+3])>=max_marks:\n",
    "        max_marks = int(data_1[i+3])\n",
    "        a = i"
   ]
  },
  {
   "cell_type": "code",
   "execution_count": 53,
   "id": "1a4167ab",
   "metadata": {},
   "outputs": [
    {
     "data": {
      "text/plain": [
       "77"
      ]
     },
     "execution_count": 53,
     "metadata": {},
     "output_type": "execute_result"
    }
   ],
   "source": [
    "max_marks"
   ]
  },
  {
   "cell_type": "code",
   "execution_count": 54,
   "id": "9b5d067c",
   "metadata": {},
   "outputs": [
    {
     "data": {
      "text/plain": [
       "10"
      ]
     },
     "execution_count": 54,
     "metadata": {},
     "output_type": "execute_result"
    }
   ],
   "source": [
    "i"
   ]
  },
  {
   "cell_type": "code",
   "execution_count": null,
   "id": "e849c98f",
   "metadata": {},
   "outputs": [],
   "source": []
  },
  {
   "cell_type": "code",
   "execution_count": 1,
   "id": "7255a2a4",
   "metadata": {
    "scrolled": true
   },
   "outputs": [
    {
     "name": "stdout",
     "output_type": "stream",
     "text": [
      "Requirement already satisfied: nltk in /home/dai/anaconda3/lib/python3.11/site-packages (3.8.1)\n",
      "Requirement already satisfied: click in /home/dai/anaconda3/lib/python3.11/site-packages (from nltk) (8.1.7)\n",
      "Requirement already satisfied: joblib in /home/dai/anaconda3/lib/python3.11/site-packages (from nltk) (1.2.0)\n",
      "Requirement already satisfied: regex>=2021.8.3 in /home/dai/anaconda3/lib/python3.11/site-packages (from nltk) (2023.10.3)\n",
      "Requirement already satisfied: tqdm in /home/dai/anaconda3/lib/python3.11/site-packages (from nltk) (4.65.0)\n"
     ]
    }
   ],
   "source": [
    "!pip install nltk -U"
   ]
  },
  {
   "cell_type": "code",
   "execution_count": 2,
   "id": "9a66de87",
   "metadata": {},
   "outputs": [],
   "source": [
    "import nltk"
   ]
  },
  {
   "cell_type": "code",
   "execution_count": 3,
   "id": "7e71a9b7",
   "metadata": {},
   "outputs": [
    {
     "name": "stdout",
     "output_type": "stream",
     "text": [
      "showing info https://raw.githubusercontent.com/nltk/nltk_data/gh-pages/index.xml\n"
     ]
    },
    {
     "data": {
      "text/plain": [
       "True"
      ]
     },
     "execution_count": 3,
     "metadata": {},
     "output_type": "execute_result"
    }
   ],
   "source": [
    "nltk.download()"
   ]
  },
  {
   "cell_type": "code",
   "execution_count": 4,
   "id": "b351bc19",
   "metadata": {},
   "outputs": [
    {
     "name": "stderr",
     "output_type": "stream",
     "text": [
      "[nltk_data] Downloading package stopwords to /home/dai/nltk_data...\n",
      "[nltk_data]   Package stopwords is already up-to-date!\n",
      "[nltk_data] Downloading package averaged_perceptron_tagger to\n",
      "[nltk_data]     /home/dai/nltk_data...\n",
      "[nltk_data]   Package averaged_perceptron_tagger is already up-to-\n",
      "[nltk_data]       date!\n",
      "[nltk_data] Downloading package wordnet to /home/dai/nltk_data...\n",
      "[nltk_data]   Package wordnet is already up-to-date!\n",
      "[nltk_data] Downloading package omw-1.4 to /home/dai/nltk_data...\n",
      "[nltk_data]   Package omw-1.4 is already up-to-date!\n",
      "[nltk_data] Downloading package indian to /home/dai/nltk_data...\n",
      "[nltk_data]   Package indian is already up-to-date!\n",
      "[nltk_data] Downloading package maxent_ne_chunker to\n",
      "[nltk_data]     /home/dai/nltk_data...\n",
      "[nltk_data]   Package maxent_ne_chunker is already up-to-date!\n",
      "[nltk_data] Downloading package punkt to /home/dai/nltk_data...\n",
      "[nltk_data]   Package punkt is already up-to-date!\n",
      "[nltk_data] Downloading package words to /home/dai/nltk_data...\n",
      "[nltk_data]   Package words is already up-to-date!\n"
     ]
    },
    {
     "data": {
      "text/plain": [
       "True"
      ]
     },
     "execution_count": 4,
     "metadata": {},
     "output_type": "execute_result"
    }
   ],
   "source": [
    "nltk.download('stopwords')\n",
    "nltk.download('averaged_perceptron_tagger')\n",
    "nltk.download('wordnet')\n",
    "nltk.download('omw-1.4')\n",
    "nltk.download('indian')\n",
    "nltk.download('maxent_ne_chunker')\n",
    "nltk.download('punkt')\n",
    "nltk.download('words')"
   ]
  },
  {
   "cell_type": "code",
   "execution_count": 5,
   "id": "c982153e",
   "metadata": {},
   "outputs": [
    {
     "name": "stderr",
     "output_type": "stream",
     "text": [
      "[nltk_data] Downloading package wordnet to /home/dai/nltk_data...\n",
      "[nltk_data]   Package wordnet is already up-to-date!\n"
     ]
    },
    {
     "data": {
      "text/plain": [
       "True"
      ]
     },
     "execution_count": 5,
     "metadata": {},
     "output_type": "execute_result"
    }
   ],
   "source": [
    "nltk.download('wordnet')"
   ]
  },
  {
   "cell_type": "code",
   "execution_count": 6,
   "id": "e65fb612",
   "metadata": {},
   "outputs": [
    {
     "name": "stderr",
     "output_type": "stream",
     "text": [
      "[nltk_data] Downloading package omw-1.4 to /home/dai/nltk_data...\n",
      "[nltk_data]   Package omw-1.4 is already up-to-date!\n",
      "[nltk_data] Downloading package indian to /home/dai/nltk_data...\n",
      "[nltk_data]   Package indian is already up-to-date!\n",
      "[nltk_data] Downloading package maxent_ne_chunker to\n",
      "[nltk_data]     /home/dai/nltk_data...\n",
      "[nltk_data]   Package maxent_ne_chunker is already up-to-date!\n"
     ]
    },
    {
     "data": {
      "text/plain": [
       "True"
      ]
     },
     "execution_count": 6,
     "metadata": {},
     "output_type": "execute_result"
    }
   ],
   "source": [
    "nltk.download('omw-1.4')\n",
    "nltk.download('indian')\n",
    "nltk.download('maxent_ne_chunker')"
   ]
  },
  {
   "cell_type": "code",
   "execution_count": 7,
   "id": "cfc1139b",
   "metadata": {},
   "outputs": [
    {
     "name": "stderr",
     "output_type": "stream",
     "text": [
      "[nltk_data] Downloading package omw-1.4 to /home/dai/nltk_data...\n",
      "[nltk_data]   Package omw-1.4 is already up-to-date!\n",
      "[nltk_data] Downloading package indian to /home/dai/nltk_data...\n",
      "[nltk_data]   Package indian is already up-to-date!\n"
     ]
    },
    {
     "data": {
      "text/plain": [
       "True"
      ]
     },
     "execution_count": 7,
     "metadata": {},
     "output_type": "execute_result"
    }
   ],
   "source": [
    "nltk.download('omw-1.4')\n",
    "nltk.download('indian')\n"
   ]
  },
  {
   "cell_type": "code",
   "execution_count": 8,
   "id": "0b2771ec",
   "metadata": {},
   "outputs": [
    {
     "name": "stderr",
     "output_type": "stream",
     "text": [
      "[nltk_data] Downloading package maxent_ne_chunker to\n",
      "[nltk_data]     /home/dai/nltk_data...\n",
      "[nltk_data]   Package maxent_ne_chunker is already up-to-date!\n"
     ]
    },
    {
     "data": {
      "text/plain": [
       "True"
      ]
     },
     "execution_count": 8,
     "metadata": {},
     "output_type": "execute_result"
    }
   ],
   "source": [
    "\n",
    "nltk.download('maxent_ne_chunker')"
   ]
  },
  {
   "cell_type": "markdown",
   "id": "6cedd744",
   "metadata": {},
   "source": [
    "# Sentence tokenizer"
   ]
  },
  {
   "cell_type": "code",
   "execution_count": 9,
   "id": "0a0c01f3",
   "metadata": {},
   "outputs": [],
   "source": [
    "sents = '''Hello friends!\n",
    "How are you? Welcome to Python Programming.'''"
   ]
  },
  {
   "cell_type": "code",
   "execution_count": 10,
   "id": "9c7d80e3",
   "metadata": {},
   "outputs": [],
   "source": [
    "from nltk.tokenize import sent_tokenize"
   ]
  },
  {
   "cell_type": "code",
   "execution_count": 11,
   "id": "d27bab93",
   "metadata": {},
   "outputs": [],
   "source": [
    "sent_list=sent_tokenize(sents)"
   ]
  },
  {
   "cell_type": "code",
   "execution_count": 12,
   "id": "f7dc471d",
   "metadata": {},
   "outputs": [
    {
     "data": {
      "text/plain": [
       "['Hello friends!', 'How are you?', 'Welcome to Python Programming.']"
      ]
     },
     "execution_count": 12,
     "metadata": {},
     "output_type": "execute_result"
    }
   ],
   "source": [
    "sent_list"
   ]
  },
  {
   "cell_type": "markdown",
   "id": "8955cc1d",
   "metadata": {},
   "source": [
    "# Word tokenizer"
   ]
  },
  {
   "cell_type": "code",
   "execution_count": 13,
   "id": "cc5dfcca",
   "metadata": {},
   "outputs": [],
   "source": [
    "from nltk.tokenize import word_tokenize"
   ]
  },
  {
   "cell_type": "code",
   "execution_count": 14,
   "id": "c350577d",
   "metadata": {},
   "outputs": [],
   "source": [
    "words=word_tokenize(sents)"
   ]
  },
  {
   "cell_type": "code",
   "execution_count": 15,
   "id": "5eb4ed96",
   "metadata": {},
   "outputs": [
    {
     "data": {
      "text/plain": [
       "['Hello',\n",
       " 'friends',\n",
       " '!',\n",
       " 'How',\n",
       " 'are',\n",
       " 'you',\n",
       " '?',\n",
       " 'Welcome',\n",
       " 'to',\n",
       " 'Python',\n",
       " 'Programming',\n",
       " '.']"
      ]
     },
     "execution_count": 15,
     "metadata": {},
     "output_type": "execute_result"
    }
   ],
   "source": [
    "words"
   ]
  },
  {
   "cell_type": "code",
   "execution_count": 16,
   "id": "6912e389",
   "metadata": {},
   "outputs": [],
   "source": [
    "import string\n",
    "lst1=list(string.punctuation)"
   ]
  },
  {
   "cell_type": "code",
   "execution_count": 17,
   "id": "a17dc628",
   "metadata": {},
   "outputs": [],
   "source": [
    "a=len(sents)\n"
   ]
  },
  {
   "cell_type": "code",
   "execution_count": 18,
   "id": "3c5fd62c",
   "metadata": {},
   "outputs": [
    {
     "data": {
      "text/plain": [
       "['!', '?', '.']"
      ]
     },
     "execution_count": 18,
     "metadata": {},
     "output_type": "execute_result"
    }
   ],
   "source": [
    "lst2=[]\n",
    "for i in sents:\n",
    "    if i in lst1:\n",
    "        lst2.append(i)\n",
    "lst2        "
   ]
  },
  {
   "cell_type": "code",
   "execution_count": 19,
   "id": "efe04b0a",
   "metadata": {},
   "outputs": [
    {
     "data": {
      "text/plain": [
       "3"
      ]
     },
     "execution_count": 19,
     "metadata": {},
     "output_type": "execute_result"
    }
   ],
   "source": [
    "b=len(lst2)\n",
    "b"
   ]
  },
  {
   "cell_type": "code",
   "execution_count": 20,
   "id": "8d4fb85d",
   "metadata": {},
   "outputs": [
    {
     "data": {
      "text/plain": [
       "0.05172413793103448"
      ]
     },
     "execution_count": 20,
     "metadata": {},
     "output_type": "execute_result"
    }
   ],
   "source": [
    "percentage=b/a\n",
    "percentage"
   ]
  },
  {
   "cell_type": "code",
   "execution_count": 21,
   "id": "0c8b598c",
   "metadata": {},
   "outputs": [],
   "source": [
    "a=len(words)"
   ]
  },
  {
   "cell_type": "code",
   "execution_count": 22,
   "id": "dd13cb2a",
   "metadata": {},
   "outputs": [
    {
     "data": {
      "text/plain": [
       "0.25"
      ]
     },
     "execution_count": 22,
     "metadata": {},
     "output_type": "execute_result"
    }
   ],
   "source": [
    "percentage=b/a\n",
    "percentage"
   ]
  },
  {
   "cell_type": "markdown",
   "id": "c4875269",
   "metadata": {},
   "source": [
    "###  ASCII value generator"
   ]
  },
  {
   "cell_type": "code",
   "execution_count": 23,
   "id": "22909c51",
   "metadata": {},
   "outputs": [
    {
     "data": {
      "text/plain": [
       "49"
      ]
     },
     "execution_count": 23,
     "metadata": {},
     "output_type": "execute_result"
    }
   ],
   "source": [
    "ord('1')"
   ]
  },
  {
   "cell_type": "code",
   "execution_count": 24,
   "id": "2c458bf5",
   "metadata": {},
   "outputs": [
    {
     "data": {
      "text/plain": [
       "96"
      ]
     },
     "execution_count": 24,
     "metadata": {},
     "output_type": "execute_result"
    }
   ],
   "source": [
    "ord('`')"
   ]
  },
  {
   "cell_type": "code",
   "execution_count": 25,
   "id": "6bc8188d",
   "metadata": {},
   "outputs": [
    {
     "data": {
      "text/plain": [
       "126"
      ]
     },
     "execution_count": 25,
     "metadata": {},
     "output_type": "execute_result"
    }
   ],
   "source": [
    "ord('~')"
   ]
  },
  {
   "cell_type": "code",
   "execution_count": 26,
   "id": "4e319e8c",
   "metadata": {},
   "outputs": [
    {
     "data": {
      "text/plain": [
       "97"
      ]
     },
     "execution_count": 26,
     "metadata": {},
     "output_type": "execute_result"
    }
   ],
   "source": [
    "ord('a')"
   ]
  },
  {
   "cell_type": "code",
   "execution_count": 27,
   "id": "3300804e",
   "metadata": {},
   "outputs": [
    {
     "data": {
      "text/plain": [
       "'h'"
      ]
     },
     "execution_count": 27,
     "metadata": {},
     "output_type": "execute_result"
    }
   ],
   "source": [
    "chr(104)"
   ]
  },
  {
   "cell_type": "code",
   "execution_count": 28,
   "id": "f905edd6",
   "metadata": {},
   "outputs": [
    {
     "data": {
      "text/plain": [
       "'a'"
      ]
     },
     "execution_count": 28,
     "metadata": {},
     "output_type": "execute_result"
    }
   ],
   "source": [
    "chr(97)"
   ]
  },
  {
   "cell_type": "code",
   "execution_count": 29,
   "id": "1b48ac5d",
   "metadata": {},
   "outputs": [
    {
     "data": {
      "text/plain": [
       "'½'"
      ]
     },
     "execution_count": 29,
     "metadata": {},
     "output_type": "execute_result"
    }
   ],
   "source": [
    "chr(189)"
   ]
  },
  {
   "cell_type": "code",
   "execution_count": 30,
   "id": "f37a2f4c",
   "metadata": {},
   "outputs": [
    {
     "data": {
      "text/plain": [
       "'4'"
      ]
     },
     "execution_count": 30,
     "metadata": {},
     "output_type": "execute_result"
    }
   ],
   "source": [
    "chr(0x34)"
   ]
  },
  {
   "cell_type": "code",
   "execution_count": 31,
   "id": "7b1c0802",
   "metadata": {},
   "outputs": [
    {
     "data": {
      "text/plain": [
       "'ÿ'"
      ]
     },
     "execution_count": 31,
     "metadata": {},
     "output_type": "execute_result"
    }
   ],
   "source": [
    "chr(0xff)"
   ]
  },
  {
   "cell_type": "code",
   "execution_count": 32,
   "id": "363b2d19",
   "metadata": {},
   "outputs": [
    {
     "data": {
      "text/plain": [
       "128527"
      ]
     },
     "execution_count": 32,
     "metadata": {},
     "output_type": "execute_result"
    }
   ],
   "source": [
    "ord('😏')"
   ]
  },
  {
   "cell_type": "code",
   "execution_count": 33,
   "id": "4e08daa4",
   "metadata": {},
   "outputs": [
    {
     "data": {
      "text/plain": [
       "'😏'"
      ]
     },
     "execution_count": 33,
     "metadata": {},
     "output_type": "execute_result"
    }
   ],
   "source": [
    "chr(128527)"
   ]
  },
  {
   "cell_type": "code",
   "execution_count": 34,
   "id": "dc9f7832",
   "metadata": {},
   "outputs": [
    {
     "data": {
      "text/plain": [
       "'क'"
      ]
     },
     "execution_count": 34,
     "metadata": {},
     "output_type": "execute_result"
    }
   ],
   "source": [
    "chr(0x0915)"
   ]
  },
  {
   "cell_type": "code",
   "execution_count": 35,
   "id": "a7db54e0",
   "metadata": {},
   "outputs": [
    {
     "data": {
      "text/plain": [
       "'ख'"
      ]
     },
     "execution_count": 35,
     "metadata": {},
     "output_type": "execute_result"
    }
   ],
   "source": [
    "chr(0x0916)"
   ]
  },
  {
   "cell_type": "code",
   "execution_count": 36,
   "id": "e81e949f",
   "metadata": {},
   "outputs": [
    {
     "data": {
      "text/plain": [
       "'ग'"
      ]
     },
     "execution_count": 36,
     "metadata": {},
     "output_type": "execute_result"
    }
   ],
   "source": [
    "chr(0x0917)"
   ]
  },
  {
   "cell_type": "code",
   "execution_count": 37,
   "id": "78a4220e",
   "metadata": {},
   "outputs": [
    {
     "data": {
      "text/plain": [
       "2325"
      ]
     },
     "execution_count": 37,
     "metadata": {},
     "output_type": "execute_result"
    }
   ],
   "source": [
    "ord('क')"
   ]
  },
  {
   "cell_type": "code",
   "execution_count": 38,
   "id": "383a6f1c",
   "metadata": {},
   "outputs": [
    {
     "data": {
      "text/plain": [
       "'क'"
      ]
     },
     "execution_count": 38,
     "metadata": {},
     "output_type": "execute_result"
    }
   ],
   "source": [
    "chr(2325)"
   ]
  },
  {
   "cell_type": "code",
   "execution_count": 39,
   "id": "8c037030",
   "metadata": {},
   "outputs": [
    {
     "data": {
      "text/plain": [
       "'ळ'"
      ]
     },
     "execution_count": 39,
     "metadata": {},
     "output_type": "execute_result"
    }
   ],
   "source": [
    "chr(0x0933)"
   ]
  },
  {
   "cell_type": "code",
   "execution_count": 40,
   "id": "bf5c0e3b",
   "metadata": {},
   "outputs": [
    {
     "data": {
      "text/plain": [
       "'ख'"
      ]
     },
     "execution_count": 40,
     "metadata": {},
     "output_type": "execute_result"
    }
   ],
   "source": [
    "chr(2326)"
   ]
  },
  {
   "cell_type": "code",
   "execution_count": null,
   "id": "d844c662",
   "metadata": {},
   "outputs": [],
   "source": [
    "'\\u0935\\u093F\\u0936\\u0906'"
   ]
  },
  {
   "cell_type": "code",
   "execution_count": null,
   "id": "a2c15a4b",
   "metadata": {},
   "outputs": [],
   "source": [
    "chr(2687)"
   ]
  },
  {
   "cell_type": "code",
   "execution_count": null,
   "id": "fbfe4ebf",
   "metadata": {},
   "outputs": [],
   "source": [
    "names = ['सुहास' ,'मदन' ,'साहिल', 'आदित्य']"
   ]
  },
  {
   "cell_type": "code",
   "execution_count": null,
   "id": "8ff5440a",
   "metadata": {},
   "outputs": [],
   "source": [
    "names"
   ]
  },
  {
   "cell_type": "code",
   "execution_count": null,
   "id": "3bcadb45",
   "metadata": {},
   "outputs": [],
   "source": [
    "sa_name = [name for name in names if name.startswith('स')]"
   ]
  },
  {
   "cell_type": "code",
   "execution_count": null,
   "id": "c39e2ece",
   "metadata": {},
   "outputs": [],
   "source": [
    "sa_name"
   ]
  },
  {
   "cell_type": "code",
   "execution_count": null,
   "id": "1c4ef20d",
   "metadata": {},
   "outputs": [],
   "source": [
    "name2=['ਅਗਮ','ਸਾਹਿਲ','ਮਦਨ' ]\n",
    "name2"
   ]
  },
  {
   "cell_type": "code",
   "execution_count": null,
   "id": "412808fa",
   "metadata": {},
   "outputs": [],
   "source": [
    "sa_name2 = [name for name in name2 if name.startswith('ਅ')]"
   ]
  },
  {
   "cell_type": "code",
   "execution_count": null,
   "id": "97509005",
   "metadata": {},
   "outputs": [],
   "source": [
    "sa_name2"
   ]
  },
  {
   "cell_type": "code",
   "execution_count": null,
   "id": "ed3d5eac",
   "metadata": {},
   "outputs": [],
   "source": [
    "'\\u0940'"
   ]
  },
  {
   "cell_type": "code",
   "execution_count": null,
   "id": "77f78938",
   "metadata": {},
   "outputs": [],
   "source": [
    "for name in names:\n",
    "    print(name.replace('ि', 'ी'))"
   ]
  },
  {
   "cell_type": "code",
   "execution_count": null,
   "id": "c97eff4a",
   "metadata": {},
   "outputs": [],
   "source": [
    "text='नाही म्हटले तरी, संघभूमीतील अधिवेशनावर विजयी कमळाचे कवित्व जाणवेल. काँग्रेसने जिंकलेले तेलंगण विदर्भालगत आहे. महाराष्ट्राच्या सीमेजवळ आमची सरशी झाल्याचा काँग्रेसी नेत्यांचा दावा आहे.'"
   ]
  },
  {
   "cell_type": "code",
   "execution_count": null,
   "id": "70a14dbd",
   "metadata": {},
   "outputs": [],
   "source": [
    "word_tokenize(text).count('आहे')"
   ]
  },
  {
   "cell_type": "code",
   "execution_count": null,
   "id": "a0e9875d",
   "metadata": {},
   "outputs": [],
   "source": [
    "sent_tokenize(text)"
   ]
  },
  {
   "cell_type": "markdown",
   "id": "afcbd008",
   "metadata": {},
   "source": [
    "### White-space tokenizer"
   ]
  },
  {
   "cell_type": "code",
   "execution_count": null,
   "id": "bce2529a",
   "metadata": {},
   "outputs": [],
   "source": [
    "from nltk.tokenize import WhitespaceTokenizer"
   ]
  },
  {
   "cell_type": "markdown",
   "id": "18f854f6",
   "metadata": {},
   "source": [
    "WhitespaceTokenizer is a class"
   ]
  },
  {
   "cell_type": "code",
   "execution_count": null,
   "id": "0f2d7e81",
   "metadata": {},
   "outputs": [],
   "source": [
    "tk = WhitespaceTokenizer()"
   ]
  },
  {
   "cell_type": "code",
   "execution_count": null,
   "id": "3910a677",
   "metadata": {},
   "outputs": [],
   "source": [
    "tk.tokenize(sents)"
   ]
  },
  {
   "cell_type": "markdown",
   "id": "f8ed0bf4",
   "metadata": {},
   "source": [
    "### Space tokenizer"
   ]
  },
  {
   "cell_type": "code",
   "execution_count": null,
   "id": "f6fe47e0",
   "metadata": {},
   "outputs": [],
   "source": [
    "from nltk.tokenize import SpaceTokenizer"
   ]
  },
  {
   "cell_type": "markdown",
   "id": "0eaaa897",
   "metadata": {},
   "source": [
    "1. It is a class\n",
    "2. Object has to be initiated \n",
    "3. and methods of the class are to be applied"
   ]
  },
  {
   "cell_type": "code",
   "execution_count": null,
   "id": "9842da1c",
   "metadata": {},
   "outputs": [],
   "source": [
    "spc_tk = SpaceTokenizer()"
   ]
  },
  {
   "cell_type": "code",
   "execution_count": null,
   "id": "0eeb0160",
   "metadata": {},
   "outputs": [],
   "source": [
    "spc_tk.tokenize(sents)"
   ]
  },
  {
   "cell_type": "markdown",
   "id": "cb9a9c69",
   "metadata": {},
   "source": [
    "###  Line tokenizer"
   ]
  },
  {
   "cell_type": "code",
   "execution_count": null,
   "id": "d2b9e5cb",
   "metadata": {},
   "outputs": [],
   "source": [
    "from nltk.tokenize import LineTokenizer"
   ]
  },
  {
   "cell_type": "markdown",
   "id": "0fd17c61",
   "metadata": {},
   "source": [
    "1. Tokenizes the sentences based on the new line character (\\n)"
   ]
  },
  {
   "cell_type": "code",
   "execution_count": null,
   "id": "ef454cc0",
   "metadata": {},
   "outputs": [],
   "source": [
    "ln_tk = LineTokenizer()"
   ]
  },
  {
   "cell_type": "code",
   "execution_count": null,
   "id": "9aeba3dd",
   "metadata": {},
   "outputs": [],
   "source": [
    "ln_tk.tokenize(sents)"
   ]
  },
  {
   "cell_type": "markdown",
   "id": "e9abd650",
   "metadata": {},
   "source": [
    "###  Tab tokenizer"
   ]
  },
  {
   "cell_type": "code",
   "execution_count": null,
   "id": "06ec970c",
   "metadata": {},
   "outputs": [],
   "source": [
    "sents = '''Hello friends!\n",
    "How are you? Welcome to\\tPython Programming.'''"
   ]
  },
  {
   "cell_type": "code",
   "execution_count": null,
   "id": "70a50c8b",
   "metadata": {},
   "outputs": [],
   "source": [
    "print(sents)"
   ]
  },
  {
   "cell_type": "code",
   "execution_count": null,
   "id": "bd9fe135",
   "metadata": {},
   "outputs": [],
   "source": [
    "from nltk.tokenize import TabTokenizer"
   ]
  },
  {
   "cell_type": "markdown",
   "id": "92acc389",
   "metadata": {},
   "source": [
    "1. Tokenizes the sentence at tab (\\t)"
   ]
  },
  {
   "cell_type": "code",
   "execution_count": null,
   "id": "63ee329c",
   "metadata": {},
   "outputs": [],
   "source": [
    "tb_tk = TabTokenizer()"
   ]
  },
  {
   "cell_type": "code",
   "execution_count": null,
   "id": "f4cc3de5",
   "metadata": {},
   "outputs": [],
   "source": [
    "tb_tk.tokenize(sents)"
   ]
  },
  {
   "cell_type": "markdown",
   "id": "c70197de",
   "metadata": {},
   "source": [
    "# Tweet tokenizer"
   ]
  },
  {
   "cell_type": "code",
   "execution_count": null,
   "id": "4ee27015",
   "metadata": {},
   "outputs": [],
   "source": [
    "sent='''Hello friends!😀:!\n",
    "How are you? Welcome to #Python Programming😣\n",
    "Check my web: https://python.org'''"
   ]
  },
  {
   "cell_type": "code",
   "execution_count": null,
   "id": "c28970be",
   "metadata": {},
   "outputs": [],
   "source": [
    "print(sent)"
   ]
  },
  {
   "cell_type": "code",
   "execution_count": null,
   "id": "493a90b2",
   "metadata": {},
   "outputs": [],
   "source": [
    "from nltk.tokenize import TweetTokenizer"
   ]
  },
  {
   "cell_type": "code",
   "execution_count": null,
   "id": "73e4fcd8",
   "metadata": {},
   "outputs": [],
   "source": [
    "tw_tk=TweetTokenizer()\n",
    "tw_tk.tokenize(sent)"
   ]
  },
  {
   "cell_type": "code",
   "execution_count": null,
   "id": "2f97a538",
   "metadata": {},
   "outputs": [],
   "source": [
    "words=word_tokenize(sent)\n",
    "words"
   ]
  },
  {
   "cell_type": "markdown",
   "id": "dc81bfe5",
   "metadata": {},
   "source": [
    "# Multi word expression Tokenizer"
   ]
  },
  {
   "cell_type": "code",
   "execution_count": null,
   "id": "8acd10c2",
   "metadata": {},
   "outputs": [],
   "source": [
    "from nltk.tokenize import MWETokenizer"
   ]
  },
  {
   "cell_type": "code",
   "execution_count": null,
   "id": "03b73347",
   "metadata": {},
   "outputs": [],
   "source": [
    "sent='Van Rossom is in pune today. We welcome Rossom Van here'"
   ]
  },
  {
   "cell_type": "code",
   "execution_count": null,
   "id": "e6d9bd77",
   "metadata": {},
   "outputs": [],
   "source": [
    "tk=MWETokenizer(separator=' ')"
   ]
  },
  {
   "cell_type": "code",
   "execution_count": null,
   "id": "f7dda1da",
   "metadata": {},
   "outputs": [],
   "source": [
    "tk.add_mwe(('Van','Rossom'))"
   ]
  },
  {
   "cell_type": "code",
   "execution_count": null,
   "id": "2d84425c",
   "metadata": {},
   "outputs": [],
   "source": [
    "tk.tokenize(word_tokenize(sent))"
   ]
  },
  {
   "cell_type": "markdown",
   "id": "d8ca0d96",
   "metadata": {},
   "source": [
    "###  Custom tokenizer"
   ]
  },
  {
   "cell_type": "code",
   "execution_count": 42,
   "id": "51dfb8de",
   "metadata": {},
   "outputs": [],
   "source": [
    "import regex as re"
   ]
  },
  {
   "cell_type": "code",
   "execution_count": 43,
   "id": "d211d586",
   "metadata": {},
   "outputs": [],
   "source": [
    "def custom_tokenizer(text):\n",
    "    return re.split(r\"[.,;?!\\s]+\", text)"
   ]
  },
  {
   "cell_type": "code",
   "execution_count": 44,
   "id": "08c41765",
   "metadata": {},
   "outputs": [],
   "source": [
    "sents = '''Hello friends!\n",
    "How-are you? Wel.come to\\tPython Programming.'''"
   ]
  },
  {
   "cell_type": "code",
   "execution_count": 45,
   "id": "05e3551b",
   "metadata": {},
   "outputs": [
    {
     "data": {
      "text/plain": [
       "['Hello',\n",
       " 'friends',\n",
       " 'How-are',\n",
       " 'you',\n",
       " 'Wel',\n",
       " 'come',\n",
       " 'to',\n",
       " 'Python',\n",
       " 'Programming',\n",
       " '']"
      ]
     },
     "execution_count": 45,
     "metadata": {},
     "output_type": "execute_result"
    }
   ],
   "source": [
    "custom_tokenizer(sents)"
   ]
  },
  {
   "cell_type": "code",
   "execution_count": 46,
   "id": "c1031a03",
   "metadata": {},
   "outputs": [],
   "source": [
    "# link : https://mitu.co.in/dataset\n",
    "# file : student3.tsv"
   ]
  },
  {
   "cell_type": "code",
   "execution_count": 47,
   "id": "a834dcb0",
   "metadata": {},
   "outputs": [],
   "source": [
    "lst = []\n",
    "with open('student3.tsv','r') as f:\n",
    "    lst = f.read()\n",
    "    data = f.read()"
   ]
  },
  {
   "cell_type": "code",
   "execution_count": 55,
   "id": "b242ecd9",
   "metadata": {},
   "outputs": [
    {
     "data": {
      "text/plain": [
       "'roll\\tname\\tclass\\tmarks\\tage\\n1\\tanil\\tTE\\t56.77\\t22\\n2\\tamit\\tTE\\t59.77\\t21\\n3\\taniket\\tBE\\t76.88\\t19\\n4\\tajinkya\\tTE\\t69.66\\t20\\n5\\tasha\\tTE\\t63.28\\t20\\n6\\tayesha\\tBE\\t49.55\\t20\\n7\\tamar\\tBE\\t65.34\\t19\\n8\\tamita\\tBE\\t68.33\\t23\\n9\\tamol\\tTE\\t56.75\\t20\\n10\\tanmol\\tBE\\t78.66\\t21\\n'"
      ]
     },
     "execution_count": 55,
     "metadata": {},
     "output_type": "execute_result"
    }
   ],
   "source": [
    "lst"
   ]
  },
  {
   "cell_type": "code",
   "execution_count": 48,
   "id": "2a4b625f",
   "metadata": {},
   "outputs": [
    {
     "name": "stdout",
     "output_type": "stream",
     "text": [
      "roll\tname\tclass\tmarks\tage\n",
      "1\tanil\tTE\t56.77\t22\n",
      "2\tamit\tTE\t59.77\t21\n",
      "3\taniket\tBE\t76.88\t19\n",
      "4\tajinkya\tTE\t69.66\t20\n",
      "5\tasha\tTE\t63.28\t20\n",
      "6\tayesha\tBE\t49.55\t20\n",
      "7\tamar\tBE\t65.34\t19\n",
      "8\tamita\tBE\t68.33\t23\n",
      "9\tamol\tTE\t56.75\t20\n",
      "10\tanmol\tBE\t78.66\t21\n",
      "\n"
     ]
    }
   ],
   "source": [
    "print(lst)"
   ]
  },
  {
   "cell_type": "code",
   "execution_count": 49,
   "id": "3084fc81",
   "metadata": {},
   "outputs": [],
   "source": [
    "def custom_tokenizer(text):\n",
    "    return re.split(r\"[.,;?!\\s]+\", text)"
   ]
  },
  {
   "cell_type": "code",
   "execution_count": 50,
   "id": "72df1248",
   "metadata": {},
   "outputs": [],
   "source": [
    "data_1 = custom_tokenizer(lst)"
   ]
  },
  {
   "cell_type": "code",
   "execution_count": 51,
   "id": "1df442a3",
   "metadata": {},
   "outputs": [
    {
     "data": {
      "text/plain": [
       "('1', '59')"
      ]
     },
     "execution_count": 51,
     "metadata": {},
     "output_type": "execute_result"
    }
   ],
   "source": [
    "data_1[5], data_1[11+3]"
   ]
  },
  {
   "cell_type": "code",
   "execution_count": 52,
   "id": "3c7af169",
   "metadata": {},
   "outputs": [],
   "source": [
    "a = 0\n",
    "max_marks = 0\n",
    "for i in range(1,11):\n",
    "    if i!=0 and i%6==0 and int(data_1[i+3])>=max_marks:\n",
    "        max_marks = int(data_1[i+3])\n",
    "        a = i"
   ]
  },
  {
   "cell_type": "code",
   "execution_count": 53,
   "id": "db1a61e7",
   "metadata": {},
   "outputs": [
    {
     "data": {
      "text/plain": [
       "77"
      ]
     },
     "execution_count": 53,
     "metadata": {},
     "output_type": "execute_result"
    }
   ],
   "source": [
    "max_marks"
   ]
  },
  {
   "cell_type": "code",
   "execution_count": 54,
   "id": "c6e77153",
   "metadata": {},
   "outputs": [
    {
     "data": {
      "text/plain": [
       "10"
      ]
     },
     "execution_count": 54,
     "metadata": {},
     "output_type": "execute_result"
    }
   ],
   "source": [
    "i"
   ]
  },
  {
   "cell_type": "code",
   "execution_count": null,
   "id": "fdbe6eac",
   "metadata": {},
   "outputs": [],
   "source": []
  },
  {
   "cell_type": "code",
   "execution_count": null,
   "id": "b35b9b85",
   "metadata": {},
   "outputs": [],
   "source": []
  }
 ],
 "metadata": {
  "kernelspec": {
   "display_name": "Python 3 (ipykernel)",
   "language": "python",
   "name": "python3"
  },
  "language_info": {
   "codemirror_mode": {
    "name": "ipython",
    "version": 3
   },
   "file_extension": ".py",
   "mimetype": "text/x-python",
   "name": "python",
   "nbconvert_exporter": "python",
   "pygments_lexer": "ipython3",
   "version": "3.11.5"
  }
 },
 "nbformat": 4,
 "nbformat_minor": 5
}
