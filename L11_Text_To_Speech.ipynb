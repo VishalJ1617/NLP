{
 "cells": [
  {
   "cell_type": "markdown",
   "id": "9d708c98",
   "metadata": {},
   "source": [
    "Date : 22/12/2023"
   ]
  },
  {
   "cell_type": "markdown",
   "id": "5725b5b8",
   "metadata": {},
   "source": [
    "## Text To Speech Conversion"
   ]
  },
  {
   "cell_type": "markdown",
   "id": "7308ddd8",
   "metadata": {},
   "source": [
    "Neccessary imports"
   ]
  },
  {
   "cell_type": "markdown",
   "id": "6a97c1a9",
   "metadata": {},
   "source": [
    "!pip install gtts playsound"
   ]
  },
  {
   "cell_type": "code",
   "execution_count": 6,
   "id": "0a348a74",
   "metadata": {},
   "outputs": [
    {
     "name": "stdout",
     "output_type": "stream",
     "text": [
      "\u001b[33mWARNING: Skipping gi as it is not installed.\u001b[0m\u001b[33m\n",
      "\u001b[0m\u001b[31mERROR: Could not find a version that satisfies the requirement gi (from versions: none)\u001b[0m\u001b[31m\n",
      "\u001b[0m\u001b[31mERROR: No matching distribution found for gi\u001b[0m\u001b[31m\n",
      "\u001b[0m"
     ]
    }
   ],
   "source": [
    "!pip uninstall gi\n",
    "!pip install gi"
   ]
  },
  {
   "cell_type": "code",
   "execution_count": 7,
   "id": "fed02970",
   "metadata": {},
   "outputs": [
    {
     "name": "stdout",
     "output_type": "stream",
     "text": [
      "Collecting pgi\n",
      "  Downloading pgi-0.0.11.2.tar.gz (239 kB)\n",
      "\u001b[K     |████████████████████████████████| 239 kB 6.4 MB/s eta 0:00:01\n",
      "\u001b[?25hBuilding wheels for collected packages: pgi\n",
      "  Building wheel for pgi (setup.py) ... \u001b[?25ldone\n",
      "\u001b[?25h  Created wheel for pgi: filename=pgi-0.0.11.2-py3-none-any.whl size=181783 sha256=e9554aa5b022ec4b3a3332a7c9f9efbf05da2213385cb781f056dd7a824cd2e0\n",
      "  Stored in directory: /home/dai/.cache/pip/wheels/17/ee/39/e8766b9714c8a5534fa309b8b2a64f358196d8b951e573a153\n",
      "Successfully built pgi\n",
      "Installing collected packages: pgi\n",
      "Successfully installed pgi-0.0.11.2\n"
     ]
    }
   ],
   "source": [
    "!python3.8 -m pip install pgi"
   ]
  },
  {
   "cell_type": "markdown",
   "id": "27dc9b1d",
   "metadata": {},
   "source": [
    "### Imports"
   ]
  },
  {
   "cell_type": "code",
   "execution_count": 2,
   "id": "9cf12a9d",
   "metadata": {},
   "outputs": [
    {
     "name": "stderr",
     "output_type": "stream",
     "text": [
      "playsound is relying on another python subprocess. Please use `pip install pygobject` if you want playsound to run more efficiently.\n"
     ]
    }
   ],
   "source": [
    "### -------------------\n",
    "### Importing libraries\n",
    "### -------------------\n",
    "\n",
    "# import pandas as pd\n",
    "# import numpy as np\n",
    "# import matplotlib.pyplot as plt\n",
    "# import seaborn as sns\n",
    "\n",
    "from gtts import gTTS\n",
    "from playsound import playsound"
   ]
  },
  {
   "cell_type": "markdown",
   "id": "523f60ff",
   "metadata": {},
   "source": [
    "### Global variables"
   ]
  },
  {
   "cell_type": "markdown",
   "id": "be6cec1f",
   "metadata": {},
   "source": [
    "#### Create the object"
   ]
  },
  {
   "cell_type": "code",
   "execution_count": 4,
   "id": "43d47af2",
   "metadata": {},
   "outputs": [],
   "source": [
    "tts = gTTS(text = 'Hello friends, how are you?', lang ='en')"
   ]
  },
  {
   "cell_type": "markdown",
   "id": "03e3484b",
   "metadata": {},
   "source": [
    "#### Save and play the audio"
   ]
  },
  {
   "cell_type": "code",
   "execution_count": 10,
   "id": "b904c114",
   "metadata": {},
   "outputs": [
    {
     "data": {
      "text/html": [
       "\n",
       "                <audio  controls=\"controls\" >\n",
       "                    <source src=\"data:audio/mpeg;base64,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\" type=\"audio/mpeg\" />\n",
       "                    Your browser does not support the audio element.\n",
       "                </audio>\n",
       "              "
      ],
      "text/plain": [
       "<IPython.lib.display.Audio object>"
      ]
     },
     "execution_count": 10,
     "metadata": {},
     "output_type": "execute_result"
    }
   ],
   "source": [
    "tts.save('speech.mp3')\n",
    "import IPython.display as ipd\n",
    "ipd.Audio(filename='speech.mp3')"
   ]
  },
  {
   "cell_type": "code",
   "execution_count": 11,
   "id": "7e183e87",
   "metadata": {},
   "outputs": [
    {
     "data": {
      "text/html": [
       "\n",
       "                <audio  controls=\"controls\" >\n",
       "                    <source src=\"data:audio/mpeg;base64,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\" type=\"audio/mpeg\" />\n",
       "                    Your browser does not support the audio element.\n",
       "                </audio>\n",
       "              "
      ],
      "text/plain": [
       "<IPython.lib.display.Audio object>"
      ]
     },
     "execution_count": 11,
     "metadata": {},
     "output_type": "execute_result"
    }
   ],
   "source": [
    "tts = gTTS(text = 'तू कसा आहेस?', lang ='mr')\n",
    "tts.save('speech.mp3')\n",
    "import IPython.display as ipd\n",
    "ipd.Audio(filename='speech.mp3')"
   ]
  },
  {
   "cell_type": "code",
   "execution_count": null,
   "id": "23620e9d",
   "metadata": {},
   "outputs": [],
   "source": []
  }
 ],
 "metadata": {
  "kernelspec": {
   "display_name": "Python 3 (ipykernel)",
   "language": "python",
   "name": "python3"
  },
  "language_info": {
   "codemirror_mode": {
    "name": "ipython",
    "version": 3
   },
   "file_extension": ".py",
   "mimetype": "text/x-python",
   "name": "python",
   "nbconvert_exporter": "python",
   "pygments_lexer": "ipython3",
   "version": "3.11.5"
  }
 },
 "nbformat": 4,
 "nbformat_minor": 5
}
