{
 "cells": [
  {
   "cell_type": "code",
   "execution_count": 1,
   "metadata": {
    "id": "iy3HQbj_4mR7",
    "outputId": "73451a54-9b7d-43c2-806c-b84381c336bf"
   },
   "outputs": [
    {
     "name": "stderr",
     "output_type": "stream",
     "text": [
      "2023-12-18 08:57:23.702434: I tensorflow/core/util/port.cc:111] oneDNN custom operations are on. You may see slightly different numerical results due to floating-point round-off errors from different computation orders. To turn them off, set the environment variable `TF_ENABLE_ONEDNN_OPTS=0`.\n",
      "2023-12-18 08:57:23.705195: I tensorflow/tsl/cuda/cudart_stub.cc:28] Could not find cuda drivers on your machine, GPU will not be used.\n",
      "2023-12-18 08:57:23.742125: E tensorflow/compiler/xla/stream_executor/cuda/cuda_dnn.cc:9342] Unable to register cuDNN factory: Attempting to register factory for plugin cuDNN when one has already been registered\n",
      "2023-12-18 08:57:23.742161: E tensorflow/compiler/xla/stream_executor/cuda/cuda_fft.cc:609] Unable to register cuFFT factory: Attempting to register factory for plugin cuFFT when one has already been registered\n",
      "2023-12-18 08:57:23.742190: E tensorflow/compiler/xla/stream_executor/cuda/cuda_blas.cc:1518] Unable to register cuBLAS factory: Attempting to register factory for plugin cuBLAS when one has already been registered\n",
      "2023-12-18 08:57:23.749176: I tensorflow/tsl/cuda/cudart_stub.cc:28] Could not find cuda drivers on your machine, GPU will not be used.\n",
      "2023-12-18 08:57:23.749851: I tensorflow/core/platform/cpu_feature_guard.cc:182] This TensorFlow binary is optimized to use available CPU instructions in performance-critical operations.\n",
      "To enable the following instructions: AVX2 AVX512F AVX512_VNNI FMA, in other operations, rebuild TensorFlow with the appropriate compiler flags.\n",
      "2023-12-18 08:57:24.575607: W tensorflow/compiler/tf2tensorrt/utils/py_utils.cc:38] TF-TRT Warning: Could not find TensorRT\n"
     ]
    }
   ],
   "source": [
    "import nltk\n",
    "from nltk.corpus import stopwords\n",
    "from nltk import FreqDist\n",
    "from nltk import word_tokenize\n",
    "from nltk.tag import pos_tag\n",
    "import string\n",
    "import matplotlib.pyplot as plt\n",
    "import seaborn as sns\n",
    "import re\n",
    "from keras.preprocessing.text import Tokenizer\n",
    "from keras.utils import plot_model\n",
    "import numpy as np\n",
    "import pandas as pd\n",
    "\n",
    "from os import listdir"
   ]
  },
  {
   "cell_type": "code",
   "execution_count": 2,
   "metadata": {
    "colab": {
     "base_uri": "https://localhost:8080/"
    },
    "executionInfo": {
     "elapsed": 1483,
     "status": "ok",
     "timestamp": 1702617480606,
     "user": {
      "displayName": "cdac_course",
      "userId": "16993079997048252374"
     },
     "user_tz": -330
    },
    "id": "vgvOFGsE5WBG",
    "outputId": "69cb5da8-fea7-4a64-becb-d9c26eb9ca70"
   },
   "outputs": [
    {
     "name": "stderr",
     "output_type": "stream",
     "text": [
      "[nltk_data] Downloading package stopwords to /home/dai/nltk_data...\n",
      "[nltk_data]   Unzipping corpora/stopwords.zip.\n",
      "[nltk_data] Downloading package averaged_perceptron_tagger to\n",
      "[nltk_data]     /home/dai/nltk_data...\n",
      "[nltk_data]   Package averaged_perceptron_tagger is already up-to-\n",
      "[nltk_data]       date!\n",
      "[nltk_data] Downloading package wordnet to /home/dai/nltk_data...\n",
      "[nltk_data]   Package wordnet is already up-to-date!\n",
      "[nltk_data] Downloading package omw-1.4 to /home/dai/nltk_data...\n",
      "[nltk_data]   Package omw-1.4 is already up-to-date!\n",
      "[nltk_data] Downloading package indian to /home/dai/nltk_data...\n",
      "[nltk_data]   Package indian is already up-to-date!\n",
      "[nltk_data] Downloading package punkt to /home/dai/nltk_data...\n",
      "[nltk_data]   Package punkt is already up-to-date!\n",
      "[nltk_data] Downloading package words to /home/dai/nltk_data...\n",
      "[nltk_data]   Package words is already up-to-date!\n"
     ]
    },
    {
     "data": {
      "text/plain": [
       "True"
      ]
     },
     "execution_count": 2,
     "metadata": {},
     "output_type": "execute_result"
    }
   ],
   "source": [
    "nltk.download('stopwords')\n",
    "nltk.download('averaged_perceptron_tagger')\n",
    "nltk.download('wordnet')\n",
    "nltk.download('omw-1.4')\n",
    "nltk.download('indian')\n",
    "\n",
    "nltk.download('punkt')\n",
    "nltk.download('words')"
   ]
  },
  {
   "cell_type": "code",
   "execution_count": 3,
   "metadata": {
    "id": "2uWSsE2I6PVL"
   },
   "outputs": [],
   "source": [
    "# load doc imto memory\n",
    "def load_doc(filename):\n",
    "    # open file in read mode\n",
    "    file = open(filename,'r')\n",
    "    # Read All text\n",
    "    text = file.read()\n",
    "    # Close the file\n",
    "    file.close()\n",
    "    return text"
   ]
  },
  {
   "cell_type": "code",
   "execution_count": 5,
   "metadata": {
    "id": "P1StBvzo7GV8"
   },
   "outputs": [],
   "source": [
    "text = load_doc('review_polarity/txt_sentoken/pos/cv026_29325.txt')"
   ]
  },
  {
   "cell_type": "code",
   "execution_count": 6,
   "metadata": {
    "colab": {
     "base_uri": "https://localhost:8080/",
     "height": 122
    },
    "executionInfo": {
     "elapsed": 414,
     "status": "ok",
     "timestamp": 1702617804832,
     "user": {
      "displayName": "cdac_course",
      "userId": "16993079997048252374"
     },
     "user_tz": -330
    },
    "id": "LK7H1jBf7UEQ",
    "outputId": "bc191dfc-5102-4914-9243-6ff96a61b5f9"
   },
   "outputs": [
    {
     "data": {
      "text/plain": [
       "'for those of us who weren\\'t yet born when the 1960\\'s rock \\'n\\' rolled around , monterey pop affords an affectionate glimpse of the music that influenced our parents to be hippies . \\nfrom otis redding to jimi hendrix , janis joplin to the mamas and the papas , and jefferson airplane to the who , this documentary is jam-packed with contagious energy . \\nbut i give fair warning that i will reveal the ending , which does not do the rest of the film the justice it deserves . \\nshot in 1969 at an outdoor concert that precluded woodstock , the film defies the stereotype of the general population at the time . \\nsure , some have painted their faces and smoke joints , but d . a . \\npennebaker ( the war room , moon over broadway ) surprisingly chooses to show a broad spectrum of the audience . \\nno matter who is watching , it all comes back to the talented musicians that stir your soul . \\nthe excitement starts before the music even begins . \\na young girl is cleaning thousands of seats and when asked why by an interviewer , she replies that she feels lucky to do so . \\nthere are moments of organized craziness as john phillips , leader of the mamas and the papas and one of the concert organizers , tries to get in touch with dionne warwick . \\nand when one band is tuning up , a member remarks , \" finally , a decent sound system ! \" \\nyou can tell just by watching these first few moments that this show isn\\'t about vanity , it\\'s about playing the music you love to those who have an appreciation for it , a two-way street . \\nthis interaction between audience and performer continues throughout the film and becomes infectious to the audience . \\nit\\'s impossible to tear your eyes away from janis joplin as she belts out her ballad about love being a ball and chain . \\nand while the lyrics to \" wild thing \" may not be all that complicated , watching jimi hendrix mime having sex with his guitar is as captivating as otis redding singing about love . \\neven if you don\\'t recognize every band you see on stage , you can imagine being as enthralled by their work as the public sitting in those seats . \\nthe only drawback to the film is the ending , which unfortunately i must reveal . \\nall the other bands , big names then and still today , got approximately 7 to 10 minutes of screen time . \\nin contrast , the last band on camera , a wholly forgettable one , gets an entire 18 minutes of screen time . \\nfor a film that\\'s only 78 minutes long , that\\'s too large of a chunk , especially when previous acts are much more stimulating . \\nall in all , monterey pop is a precious , rare look at a time period that still holds sway over us . \\nthe variety of music , as well as the beautifully shot performances , are easy to become immersed in . \\nif there was ever any question as to why most of these bands were so popular , this is quickly dispelled . \\nit\\'s almost depressing to think that music this moving doesn\\'t get made much anymore . \\ninstead we\\'re stuck with * nsync , the backstreet boys , and jennifer lopez , all of whom should have stuck with modeling . \\n'"
      ]
     },
     "execution_count": 6,
     "metadata": {},
     "output_type": "execute_result"
    }
   ],
   "source": [
    "text"
   ]
  },
  {
   "cell_type": "code",
   "execution_count": 7,
   "metadata": {
    "id": "g8lb2JIf7U-p"
   },
   "outputs": [],
   "source": [
    "# Turn a doc into clean tokens\n",
    "def clean_doc(doc):\n",
    "    # Split into tokens by white space\n",
    "    tokens = doc.split()\n",
    "    # Prepare regex for char filtering\n",
    "    re_punc = re.compile('[%s]' % re.escape(string.punctuation))\n",
    "    # Remove punctuation from each word\n",
    "    tokens = [re_punc.sub('',w) for w in tokens]\n",
    "    # Remove remaining token that are not alphabetic\n",
    "    tokens = [word for word in tokens if word.isalpha()]\n",
    "    # filter out stop words\n",
    "    stop_words = set(stopwords.words('english'))\n",
    "    tokens = [w for w in tokens if not w in stop_words]\n",
    "    #filter out short tokens\n",
    "    tokens = [word for word in tokens if len(word)>1]\n",
    "    return tokens"
   ]
  },
  {
   "cell_type": "code",
   "execution_count": 8,
   "metadata": {
    "colab": {
     "base_uri": "https://localhost:8080/"
    },
    "executionInfo": {
     "elapsed": 397,
     "status": "ok",
     "timestamp": 1702619175797,
     "user": {
      "displayName": "cdac_course",
      "userId": "16993079997048252374"
     },
     "user_tz": -330
    },
    "id": "hIayf8DL_-e4",
    "outputId": "5708d3c1-35b1-4a4b-d432-7ec867e59a5b"
   },
   "outputs": [
    {
     "data": {
      "text/plain": [
       "261"
      ]
     },
     "execution_count": 8,
     "metadata": {},
     "output_type": "execute_result"
    }
   ],
   "source": [
    "clean_text = clean_doc(text)\n",
    "len(clean_text)"
   ]
  },
  {
   "cell_type": "code",
   "execution_count": 9,
   "metadata": {
    "colab": {
     "base_uri": "https://localhost:8080/"
    },
    "executionInfo": {
     "elapsed": 383,
     "status": "ok",
     "timestamp": 1702619593698,
     "user": {
      "displayName": "cdac_course",
      "userId": "16993079997048252374"
     },
     "user_tz": -330
    },
    "id": "KqJGuT4fADAl",
    "outputId": "7fcec664-e47d-4d05-d045-01879bea46c7"
   },
   "outputs": [
    {
     "data": {
      "text/plain": [
       "['us',\n",
       " 'werent',\n",
       " 'yet',\n",
       " 'born',\n",
       " 'rock',\n",
       " 'rolled',\n",
       " 'around',\n",
       " 'monterey',\n",
       " 'pop',\n",
       " 'affords',\n",
       " 'affectionate',\n",
       " 'glimpse',\n",
       " 'music',\n",
       " 'influenced',\n",
       " 'parents',\n",
       " 'hippies',\n",
       " 'otis',\n",
       " 'redding',\n",
       " 'jimi',\n",
       " 'hendrix',\n",
       " 'janis',\n",
       " 'joplin',\n",
       " 'mamas',\n",
       " 'papas',\n",
       " 'jefferson',\n",
       " 'airplane',\n",
       " 'documentary',\n",
       " 'jampacked',\n",
       " 'contagious',\n",
       " 'energy',\n",
       " 'give',\n",
       " 'fair',\n",
       " 'warning',\n",
       " 'reveal',\n",
       " 'ending',\n",
       " 'rest',\n",
       " 'film',\n",
       " 'justice',\n",
       " 'deserves',\n",
       " 'shot',\n",
       " 'outdoor',\n",
       " 'concert',\n",
       " 'precluded',\n",
       " 'woodstock',\n",
       " 'film',\n",
       " 'defies',\n",
       " 'stereotype',\n",
       " 'general',\n",
       " 'population',\n",
       " 'time',\n",
       " 'sure',\n",
       " 'painted',\n",
       " 'faces',\n",
       " 'smoke',\n",
       " 'joints',\n",
       " 'pennebaker',\n",
       " 'war',\n",
       " 'room',\n",
       " 'moon',\n",
       " 'broadway',\n",
       " 'surprisingly',\n",
       " 'chooses',\n",
       " 'show',\n",
       " 'broad',\n",
       " 'spectrum',\n",
       " 'audience',\n",
       " 'matter',\n",
       " 'watching',\n",
       " 'comes',\n",
       " 'back',\n",
       " 'talented',\n",
       " 'musicians',\n",
       " 'stir',\n",
       " 'soul',\n",
       " 'excitement',\n",
       " 'starts',\n",
       " 'music',\n",
       " 'even',\n",
       " 'begins',\n",
       " 'young',\n",
       " 'girl',\n",
       " 'cleaning',\n",
       " 'thousands',\n",
       " 'seats',\n",
       " 'asked',\n",
       " 'interviewer',\n",
       " 'replies',\n",
       " 'feels',\n",
       " 'lucky',\n",
       " 'moments',\n",
       " 'organized',\n",
       " 'craziness',\n",
       " 'john',\n",
       " 'phillips',\n",
       " 'leader',\n",
       " 'mamas',\n",
       " 'papas',\n",
       " 'one',\n",
       " 'concert',\n",
       " 'organizers',\n",
       " 'tries',\n",
       " 'get',\n",
       " 'touch',\n",
       " 'dionne',\n",
       " 'warwick',\n",
       " 'one',\n",
       " 'band',\n",
       " 'tuning',\n",
       " 'member',\n",
       " 'remarks',\n",
       " 'finally',\n",
       " 'decent',\n",
       " 'sound',\n",
       " 'system',\n",
       " 'tell',\n",
       " 'watching',\n",
       " 'first',\n",
       " 'moments',\n",
       " 'show',\n",
       " 'isnt',\n",
       " 'vanity',\n",
       " 'playing',\n",
       " 'music',\n",
       " 'love',\n",
       " 'appreciation',\n",
       " 'twoway',\n",
       " 'street',\n",
       " 'interaction',\n",
       " 'audience',\n",
       " 'performer',\n",
       " 'continues',\n",
       " 'throughout',\n",
       " 'film',\n",
       " 'becomes',\n",
       " 'infectious',\n",
       " 'audience',\n",
       " 'impossible',\n",
       " 'tear',\n",
       " 'eyes',\n",
       " 'away',\n",
       " 'janis',\n",
       " 'joplin',\n",
       " 'belts',\n",
       " 'ballad',\n",
       " 'love',\n",
       " 'ball',\n",
       " 'chain',\n",
       " 'lyrics',\n",
       " 'wild',\n",
       " 'thing',\n",
       " 'may',\n",
       " 'complicated',\n",
       " 'watching',\n",
       " 'jimi',\n",
       " 'hendrix',\n",
       " 'mime',\n",
       " 'sex',\n",
       " 'guitar',\n",
       " 'captivating',\n",
       " 'otis',\n",
       " 'redding',\n",
       " 'singing',\n",
       " 'love',\n",
       " 'even',\n",
       " 'dont',\n",
       " 'recognize',\n",
       " 'every',\n",
       " 'band',\n",
       " 'see',\n",
       " 'stage',\n",
       " 'imagine',\n",
       " 'enthralled',\n",
       " 'work',\n",
       " 'public',\n",
       " 'sitting',\n",
       " 'seats',\n",
       " 'drawback',\n",
       " 'film',\n",
       " 'ending',\n",
       " 'unfortunately',\n",
       " 'must',\n",
       " 'reveal',\n",
       " 'bands',\n",
       " 'big',\n",
       " 'names',\n",
       " 'still',\n",
       " 'today',\n",
       " 'got',\n",
       " 'approximately',\n",
       " 'minutes',\n",
       " 'screen',\n",
       " 'time',\n",
       " 'contrast',\n",
       " 'last',\n",
       " 'band',\n",
       " 'camera',\n",
       " 'wholly',\n",
       " 'forgettable',\n",
       " 'one',\n",
       " 'gets',\n",
       " 'entire',\n",
       " 'minutes',\n",
       " 'screen',\n",
       " 'time',\n",
       " 'film',\n",
       " 'thats',\n",
       " 'minutes',\n",
       " 'long',\n",
       " 'thats',\n",
       " 'large',\n",
       " 'chunk',\n",
       " 'especially',\n",
       " 'previous',\n",
       " 'acts',\n",
       " 'much',\n",
       " 'stimulating',\n",
       " 'monterey',\n",
       " 'pop',\n",
       " 'precious',\n",
       " 'rare',\n",
       " 'look',\n",
       " 'time',\n",
       " 'period',\n",
       " 'still',\n",
       " 'holds',\n",
       " 'sway',\n",
       " 'us',\n",
       " 'variety',\n",
       " 'music',\n",
       " 'well',\n",
       " 'beautifully',\n",
       " 'shot',\n",
       " 'performances',\n",
       " 'easy',\n",
       " 'become',\n",
       " 'immersed',\n",
       " 'ever',\n",
       " 'question',\n",
       " 'bands',\n",
       " 'popular',\n",
       " 'quickly',\n",
       " 'dispelled',\n",
       " 'almost',\n",
       " 'depressing',\n",
       " 'think',\n",
       " 'music',\n",
       " 'moving',\n",
       " 'doesnt',\n",
       " 'get',\n",
       " 'made',\n",
       " 'much',\n",
       " 'anymore',\n",
       " 'instead',\n",
       " 'stuck',\n",
       " 'nsync',\n",
       " 'backstreet',\n",
       " 'boys',\n",
       " 'jennifer',\n",
       " 'lopez',\n",
       " 'stuck',\n",
       " 'modeling']"
      ]
     },
     "execution_count": 9,
     "metadata": {},
     "output_type": "execute_result"
    }
   ],
   "source": [
    "clean_text"
   ]
  },
  {
   "cell_type": "code",
   "execution_count": 10,
   "metadata": {
    "id": "eUMYbAofCTWG"
   },
   "outputs": [],
   "source": [
    "# Load doc,clean amd return line of token\n",
    "def doc_to_line(filename,vocab):\n",
    "    # Load th edoc\n",
    "    doc = load_doc(filename)\n",
    "    # clean doc\n",
    "    tokens = clean_doc(doc)\n",
    "    # filter by vocab\n",
    "    tokens = [w for w in tokens if w in vocab]\n",
    "    return ' '.join(tokens)"
   ]
  },
  {
   "cell_type": "code",
   "execution_count": 12,
   "metadata": {
    "id": "nPp78tm1EB0p"
   },
   "outputs": [],
   "source": [
    "vocab = open('vocab.txt')\n",
    "vocab = vocab.read().split()"
   ]
  },
  {
   "cell_type": "code",
   "execution_count": 14,
   "metadata": {
    "colab": {
     "base_uri": "https://localhost:8080/",
     "height": 122
    },
    "executionInfo": {
     "elapsed": 388,
     "status": "ok",
     "timestamp": 1702620180888,
     "user": {
      "displayName": "cdac_course",
      "userId": "16993079997048252374"
     },
     "user_tz": -330
    },
    "id": "R5ADygZ7DQV3",
    "outputId": "e2d9b1c5-4cf3-4ce0-80bc-0cbf6396ef1b"
   },
   "outputs": [
    {
     "data": {
      "text/plain": [
       "'us werent yet born rock rolled around monterey pop affectionate glimpse music influenced parents hippies otis redding jimi hendrix janis joplin mamas papas jefferson airplane documentary jampacked contagious energy give fair warning reveal ending rest film justice deserves shot outdoor concert film defies stereotype general population time sure painted faces smoke joints war room moon broadway surprisingly chooses show broad spectrum audience matter watching comes back talented musicians stir soul excitement starts music even begins young girl cleaning thousands seats asked interviewer replies feels lucky moments organized craziness john phillips leader mamas papas one concert tries get touch one band tuning member remarks finally decent sound system tell watching first moments show isnt vanity playing music love appreciation street interaction audience performer continues throughout film becomes infectious audience impossible tear eyes away janis joplin belts ballad love ball chain lyrics wild thing may complicated watching jimi hendrix mime sex guitar captivating otis redding singing love even dont recognize every band see stage imagine enthralled work public sitting seats drawback film ending unfortunately must reveal bands big names still today got approximately minutes screen time contrast last band camera wholly forgettable one gets entire minutes screen time film thats minutes long thats large chunk especially previous acts much stimulating monterey pop precious rare look time period still holds sway us variety music well beautifully shot performances easy become immersed ever question bands popular quickly almost depressing think music moving doesnt get made much anymore instead stuck backstreet boys jennifer lopez stuck modeling'"
      ]
     },
     "execution_count": 14,
     "metadata": {},
     "output_type": "execute_result"
    }
   ],
   "source": [
    "doc_to_line('review_polarity/txt_sentoken/pos/cv026_29325.txt',vocab)"
   ]
  },
  {
   "cell_type": "code",
   "execution_count": 15,
   "metadata": {
    "id": "hwDxHpoUFqp5"
   },
   "outputs": [],
   "source": [
    "# Load Training data\n",
    "def process_train(directory,vocab):\n",
    "    documents = []\n",
    "    for filename in listdir(directory):\n",
    "        if not filename.startswith('cv9'):\n",
    "            path = directory + '/' +filename\n",
    "            doc = load_doc(path)\n",
    "            tokens = clean_doc(doc,vocab)\n",
    "            documents.append(tokens)\n",
    "    return documents\n",
    "\n",
    " # Load Testing data\n",
    "def process_test(directory,vocab):\n",
    "    documents = []\n",
    "    for filename in listdir(directory):\n",
    "        if filename.startswith('cv9'):\n",
    "            path = directory + '/' +filename\n",
    "            doc = load_doc(path)\n",
    "            tokens = clean_doc(doc,vocab)\n",
    "            documents.append(tokens)\n",
    "    return documents\n"
   ]
  },
  {
   "cell_type": "code",
   "execution_count": 16,
   "metadata": {
    "id": "YAP_diaVH7FE"
   },
   "outputs": [],
   "source": [
    "# Load docs in a directory\n",
    "def process_docs(directory,vocab,is_train):\n",
    "    documents = []\n",
    "    # Walk through All the Files In The Folder\n",
    "    for filename in listdir(directory):\n",
    "        # Skip any reviews in test set\n",
    "        if is_train and filename.startswith('cv9'):\n",
    "            continue\n",
    "        if not is_train and not filename.startswith('cv9'):\n",
    "            continue\n",
    "        # create the full path of the file to open\n",
    "        path = directory + '/' + filename\n",
    "        # load the doc\n",
    "        doc = load_doc(path)\n",
    "        # clean dDoc\n",
    "        tokens = clean_doc(doc)\n",
    "        # add to list\n",
    "        documents.append(tokens)\n",
    "    return documents\n"
   ]
  },
  {
   "cell_type": "code",
   "execution_count": 18,
   "metadata": {
    "id": "v-a1abrRJK8q"
   },
   "outputs": [],
   "source": [
    "lines = process_docs('review_polarity/txt_sentoken/pos',vocab,False)\n",
    "# Is_train = False Means Loading Testing Data"
   ]
  },
  {
   "cell_type": "code",
   "execution_count": 19,
   "metadata": {
    "colab": {
     "base_uri": "https://localhost:8080/"
    },
    "executionInfo": {
     "elapsed": 390,
     "status": "ok",
     "timestamp": 1702621993648,
     "user": {
      "displayName": "cdac_course",
      "userId": "16993079997048252374"
     },
     "user_tz": -330
    },
    "id": "co0v_sDIK-SR",
    "outputId": "a85f2b58-8a51-499d-95fc-b36d8398c003"
   },
   "outputs": [
    {
     "data": {
      "text/plain": [
       "100"
      ]
     },
     "execution_count": 19,
     "metadata": {},
     "output_type": "execute_result"
    }
   ],
   "source": [
    "len(lines)"
   ]
  },
  {
   "cell_type": "code",
   "execution_count": 22,
   "metadata": {
    "id": "AVCQNwWVK-I0"
   },
   "outputs": [],
   "source": [
    "# Load and Clean a Dataset\n",
    "def load_clean_dataset(vocab,is_train):\n",
    "    # load documents\n",
    "    neg = process_docs('review_polarity/txt_sentoken/neg',vocab,is_train)\n",
    "    pos = process_docs('review_polarity/txt_sentoken/pos',vocab,is_train)\n",
    "    docs = neg+pos\n",
    "    # Prepare Labels\n",
    "    labels = [0 for _ in range(len(neg))] + [1 for _ in range(len(pos))]\n",
    "    return docs,labels\n"
   ]
  },
  {
   "cell_type": "code",
   "execution_count": 23,
   "metadata": {
    "id": "RncYlUHcMQ6J"
   },
   "outputs": [],
   "source": [
    "train,train_labels = load_clean_dataset(vocab,True)\n",
    "test,test_labels = load_clean_dataset(vocab,False)\n"
   ]
  },
  {
   "cell_type": "code",
   "execution_count": 24,
   "metadata": {
    "colab": {
     "base_uri": "https://localhost:8080/"
    },
    "executionInfo": {
     "elapsed": 412,
     "status": "ok",
     "timestamp": 1702622353967,
     "user": {
      "displayName": "cdac_course",
      "userId": "16993079997048252374"
     },
     "user_tz": -330
    },
    "id": "rWo3TDgrMqha",
    "outputId": "c72a1854-c86c-4ac8-97bc-31a27ea756ee"
   },
   "outputs": [
    {
     "data": {
      "text/plain": [
       "(1810, 1810)"
      ]
     },
     "execution_count": 24,
     "metadata": {},
     "output_type": "execute_result"
    }
   ],
   "source": [
    "len(train),len(train_labels)"
   ]
  },
  {
   "cell_type": "code",
   "execution_count": 25,
   "metadata": {
    "colab": {
     "base_uri": "https://localhost:8080/"
    },
    "executionInfo": {
     "elapsed": 488,
     "status": "ok",
     "timestamp": 1702622383846,
     "user": {
      "displayName": "cdac_course",
      "userId": "16993079997048252374"
     },
     "user_tz": -330
    },
    "id": "GVhCzooOM1L7",
    "outputId": "72422d11-a056-4e00-8971-5c52089a0961"
   },
   "outputs": [
    {
     "data": {
      "text/plain": [
       "(200, 200)"
      ]
     },
     "execution_count": 25,
     "metadata": {},
     "output_type": "execute_result"
    }
   ],
   "source": [
    "len(test),len(test_labels)"
   ]
  },
  {
   "cell_type": "code",
   "execution_count": 26,
   "metadata": {
    "id": "jgUpL2eFM8mo"
   },
   "outputs": [],
   "source": [
    "from keras.models import Sequential\n",
    "from keras.layers import Dense,MaxPool1D,Conv1D,Embedding,Flatten"
   ]
  },
  {
   "cell_type": "code",
   "execution_count": 27,
   "metadata": {
    "id": "yur9KwUWNmR4"
   },
   "outputs": [],
   "source": [
    "# define the model\n",
    "def define_model(vocab_size,max_length):\n",
    "    # Define Network\n",
    "    model = Sequential()\n",
    "    model.add(Embedding(vocab_size,100,input_length=max_length))\n",
    "    model.add(Conv1D(filters=32,kernel_size=8,activation='relu'))\n",
    "    model.add(MaxPool1D(pool_size=2))\n",
    "    model.add(Flatten())\n",
    "    model.add(Dense(50,activation='relu'))\n",
    "    model.add(Dense(1,activation='sigmoid'))\n",
    "    # Compile Network\n",
    "    model.compile(loss='binary_crossentropy',optimizer='adam',metrics = ['accuracy'])\n",
    "\n",
    "    # summerize Defined Model\n",
    "    model.summary()\n",
    "    plot_model(model,to_file='model.png',show_shapes=True)\n",
    "    return model"
   ]
  },
  {
   "cell_type": "code",
   "execution_count": 28,
   "metadata": {
    "colab": {
     "base_uri": "https://localhost:8080/"
    },
    "executionInfo": {
     "elapsed": 13,
     "status": "ok",
     "timestamp": 1702622931277,
     "user": {
      "displayName": "cdac_course",
      "userId": "16993079997048252374"
     },
     "user_tz": -330
    },
    "id": "pfbRNNUyOpN6",
    "outputId": "928df3fc-8dc6-4673-d457-2c5754cde3c3"
   },
   "outputs": [
    {
     "name": "stdout",
     "output_type": "stream",
     "text": [
      "Model: \"sequential\"\n",
      "_________________________________________________________________\n",
      " Layer (type)                Output Shape              Param #   \n",
      "=================================================================\n",
      " embedding (Embedding)       (None, 100, 100)          1000      \n",
      "                                                                 \n",
      " conv1d (Conv1D)             (None, 93, 32)            25632     \n",
      "                                                                 \n",
      " max_pooling1d (MaxPooling1  (None, 46, 32)            0         \n",
      " D)                                                              \n",
      "                                                                 \n",
      " flatten (Flatten)           (None, 1472)              0         \n",
      "                                                                 \n",
      " dense (Dense)               (None, 50)                73650     \n",
      "                                                                 \n",
      " dense_1 (Dense)             (None, 1)                 51        \n",
      "                                                                 \n",
      "=================================================================\n",
      "Total params: 100333 (391.93 KB)\n",
      "Trainable params: 100333 (391.93 KB)\n",
      "Non-trainable params: 0 (0.00 Byte)\n",
      "_________________________________________________________________\n"
     ]
    },
    {
     "data": {
      "text/plain": [
       "<keras.src.engine.sequential.Sequential at 0x7f4fad760290>"
      ]
     },
     "execution_count": 28,
     "metadata": {},
     "output_type": "execute_result"
    }
   ],
   "source": [
    "define_model(10,100)"
   ]
  },
  {
   "cell_type": "code",
   "execution_count": 29,
   "metadata": {
    "id": "_wNW4rxjOwcY"
   },
   "outputs": [],
   "source": [
    "def create_tokenizer(lines):\n",
    "    tokenizer = Tokenizer()\n",
    "    tokenizer.fit_on_texts(lines)\n",
    "    return tokenizer"
   ]
  },
  {
   "cell_type": "code",
   "execution_count": 30,
   "metadata": {
    "id": "za6SiT1V5a3T"
   },
   "outputs": [],
   "source": [
    "from keras.preprocessing.sequence import pad_sequences"
   ]
  },
  {
   "cell_type": "code",
   "execution_count": 31,
   "metadata": {
    "id": "DSAqTU1A5a3T"
   },
   "outputs": [],
   "source": [
    "# Integer Encode and Pad Documents\n",
    "def encode_docs(tokenizer,max_length,docs):\n",
    "    # Integer Encode\n",
    "    encoded = tokenizer.texts_to_sequences(docs)\n",
    "    # Pad Sequences\n",
    "    padded = pad_sequences(encoded,maxlen=max_length,padding='post')\n",
    "    return padded"
   ]
  },
  {
   "cell_type": "code",
   "execution_count": 32,
   "metadata": {
    "id": "YvGBBnK-PaLp"
   },
   "outputs": [],
   "source": [
    "# Create The Tokenizer\n",
    "tokenizer = create_tokenizer(train)"
   ]
  },
  {
   "cell_type": "code",
   "execution_count": 33,
   "metadata": {
    "id": "TyeTCB5VPgUI"
   },
   "outputs": [],
   "source": [
    "X_train = tokenizer.texts_to_matrix(train,mode='binary')"
   ]
  },
  {
   "cell_type": "code",
   "execution_count": 34,
   "metadata": {
    "colab": {
     "base_uri": "https://localhost:8080/"
    },
    "executionInfo": {
     "elapsed": 379,
     "status": "ok",
     "timestamp": 1702623095886,
     "user": {
      "displayName": "cdac_course",
      "userId": "16993079997048252374"
     },
     "user_tz": -330
    },
    "id": "SU5oPAhiPnE4",
    "outputId": "19d12c29-8728-4fbf-f13f-fee988ffe660"
   },
   "outputs": [
    {
     "data": {
      "text/plain": [
       "(1810, 44277)"
      ]
     },
     "execution_count": 34,
     "metadata": {},
     "output_type": "execute_result"
    }
   ],
   "source": [
    "X_train.shape"
   ]
  },
  {
   "cell_type": "code",
   "execution_count": 35,
   "metadata": {
    "id": "sfz_pXGfPojo"
   },
   "outputs": [],
   "source": [
    "X_test= tokenizer.texts_to_matrix(test,mode='binary')"
   ]
  },
  {
   "cell_type": "code",
   "execution_count": 36,
   "metadata": {
    "colab": {
     "base_uri": "https://localhost:8080/"
    },
    "executionInfo": {
     "elapsed": 393,
     "status": "ok",
     "timestamp": 1702623209793,
     "user": {
      "displayName": "cdac_course",
      "userId": "16993079997048252374"
     },
     "user_tz": -330
    },
    "id": "sPe1dbP9QD8o",
    "outputId": "71cb405c-ef86-4395-984e-ed18a754e785"
   },
   "outputs": [
    {
     "data": {
      "text/plain": [
       "(200, 44277)"
      ]
     },
     "execution_count": 36,
     "metadata": {},
     "output_type": "execute_result"
    }
   ],
   "source": [
    "X_test.shape"
   ]
  },
  {
   "cell_type": "code",
   "execution_count": 37,
   "metadata": {
    "colab": {
     "base_uri": "https://localhost:8080/"
    },
    "executionInfo": {
     "elapsed": 382,
     "status": "ok",
     "timestamp": 1702623232844,
     "user": {
      "displayName": "cdac_course",
      "userId": "16993079997048252374"
     },
     "user_tz": -330
    },
    "id": "J6W4DH1BQGP4",
    "outputId": "3b764df6-af0f-4158-a1a4-84b3d169d228"
   },
   "outputs": [
    {
     "data": {
      "text/plain": [
       "defaultdict(int,\n",
       "            {'cops': 67,\n",
       "             'entirely': 102,\n",
       "             'son': 201,\n",
       "             'girls': 103,\n",
       "             'freddie': 19,\n",
       "             'imogen': 1,\n",
       "             'crazy': 64,\n",
       "             'bound': 43,\n",
       "             'doesnt': 735,\n",
       "             'youve': 143,\n",
       "             'realized': 70,\n",
       "             'centered': 10,\n",
       "             'walking': 70,\n",
       "             'popular': 145,\n",
       "             'despite': 252,\n",
       "             'accustomed': 8,\n",
       "             'fluff': 21,\n",
       "             'couple': 278,\n",
       "             'resulting': 27,\n",
       "             'restless': 17,\n",
       "             'fantasy': 69,\n",
       "             'order': 215,\n",
       "             'like': 1327,\n",
       "             'course': 440,\n",
       "             'hit': 204,\n",
       "             'comes': 527,\n",
       "             'long': 534,\n",
       "             'orth': 2,\n",
       "             'reel': 23,\n",
       "             'adorable': 18,\n",
       "             'say': 525,\n",
       "             'ahh': 3,\n",
       "             'als': 5,\n",
       "             'needy': 4,\n",
       "             'cruel': 34,\n",
       "             'attractive': 61,\n",
       "             'know': 678,\n",
       "             'chef': 14,\n",
       "             'find': 512,\n",
       "             'uninspired': 30,\n",
       "             'boylosesgirl': 1,\n",
       "             'extraordinarily': 15,\n",
       "             'teen': 80,\n",
       "             'monk': 5,\n",
       "             'tvs': 40,\n",
       "             'henry': 48,\n",
       "             'looked': 91,\n",
       "             'worst': 218,\n",
       "             'followed': 62,\n",
       "             'talent': 175,\n",
       "             'grown': 39,\n",
       "             'support': 66,\n",
       "             'aspiring': 17,\n",
       "             'suit': 56,\n",
       "             'refreshing': 41,\n",
       "             'drive': 72,\n",
       "             'impressive': 161,\n",
       "             'yes': 196,\n",
       "             'remaining': 49,\n",
       "             'assistance': 20,\n",
       "             'way': 916,\n",
       "             'show': 414,\n",
       "             'thing': 526,\n",
       "             'young': 444,\n",
       "             'seemed': 160,\n",
       "             'capitalize': 14,\n",
       "             'ordinary': 37,\n",
       "             'crowd': 60,\n",
       "             'latest': 150,\n",
       "             'sources': 13,\n",
       "             'amused': 10,\n",
       "             'toward': 77,\n",
       "             'teenage': 75,\n",
       "             'team': 174,\n",
       "             'highlight': 37,\n",
       "             'cast': 482,\n",
       "             'artist': 63,\n",
       "             'assembled': 24,\n",
       "             'part': 474,\n",
       "             'rounding': 12,\n",
       "             'dull': 108,\n",
       "             'flashcards': 1,\n",
       "             'absurd': 47,\n",
       "             'nicest': 3,\n",
       "             'meets': 166,\n",
       "             'project': 135,\n",
       "             'winkler': 6,\n",
       "             'meal': 9,\n",
       "             'standard': 91,\n",
       "             'however': 581,\n",
       "             'newly': 24,\n",
       "             'studdly': 1,\n",
       "             'life': 713,\n",
       "             'al': 38,\n",
       "             'story': 953,\n",
       "             'maybe': 245,\n",
       "             'make': 903,\n",
       "             'commodity': 13,\n",
       "             'shows': 317,\n",
       "             'breakout': 6,\n",
       "             'antics': 36,\n",
       "             'obviously': 188,\n",
       "             'intelligent': 139,\n",
       "             'dad': 60,\n",
       "             'got': 327,\n",
       "             'attached': 24,\n",
       "             'last': 531,\n",
       "             'radiate': 4,\n",
       "             'could': 785,\n",
       "             'shes': 245,\n",
       "             'stiles': 7,\n",
       "             'frequently': 60,\n",
       "             'screen': 458,\n",
       "             'would': 1001,\n",
       "             'perhaps': 336,\n",
       "             'segment': 31,\n",
       "             'families': 32,\n",
       "             'gears': 8,\n",
       "             'craze': 6,\n",
       "             'drawn': 62,\n",
       "             'hot': 93,\n",
       "             'together': 388,\n",
       "             'warmth': 17,\n",
       "             'boydrinksentirebottleofshampooandmayormaynotgetgirlback': 1,\n",
       "             'girl': 261,\n",
       "             'waited': 16,\n",
       "             'folks': 66,\n",
       "             'leave': 184,\n",
       "             'convincing': 106,\n",
       "             'freshman': 6,\n",
       "             'banal': 19,\n",
       "             'shawn': 9,\n",
       "             'scenario': 29,\n",
       "             'clich': 56,\n",
       "             'selma': 3,\n",
       "             'clever': 138,\n",
       "             'formula': 75,\n",
       "             'game': 180,\n",
       "             'cooks': 1,\n",
       "             'finished': 33,\n",
       "             'featured': 39,\n",
       "             'sticks': 29,\n",
       "             'nostalgia': 23,\n",
       "             'porn': 30,\n",
       "             'flair': 29,\n",
       "             'possibly': 104,\n",
       "             'textbook': 9,\n",
       "             'impatiently': 2,\n",
       "             'including': 256,\n",
       "             'year': 388,\n",
       "             'boymeetsgirl': 4,\n",
       "             'charisma': 41,\n",
       "             'blair': 39,\n",
       "             'program': 40,\n",
       "             'fullyarmed': 1,\n",
       "             'storm': 37,\n",
       "             'mildly': 35,\n",
       "             'boring': 203,\n",
       "             'good': 1038,\n",
       "             'work': 644,\n",
       "             'welcome': 66,\n",
       "             'catalogue': 2,\n",
       "             'draw': 59,\n",
       "             'plan': 120,\n",
       "             'one': 1567,\n",
       "             'sophomore': 7,\n",
       "             'happen': 171,\n",
       "             'fonz': 2,\n",
       "             'audience': 554,\n",
       "             'faculty': 6,\n",
       "             'father': 274,\n",
       "             'kutcher': 1,\n",
       "             'mentioned': 69,\n",
       "             'pitted': 4,\n",
       "             'result': 188,\n",
       "             'zak': 2,\n",
       "             'jr': 58,\n",
       "             'sequence': 245,\n",
       "             'star': 358,\n",
       "             'julia': 46,\n",
       "             'houses': 20,\n",
       "             'characters': 906,\n",
       "             'main': 302,\n",
       "             'others': 237,\n",
       "             'run': 208,\n",
       "             'luck': 53,\n",
       "             'handling': 23,\n",
       "             'humor': 261,\n",
       "             'goofyembarrassing': 1,\n",
       "             'old': 472,\n",
       "             'desired': 19,\n",
       "             'rabid': 10,\n",
       "             'prinze': 18,\n",
       "             'requirements': 9,\n",
       "             'fortunately': 42,\n",
       "             'decent': 129,\n",
       "             'depth': 114,\n",
       "             'romance': 122,\n",
       "             'something': 650,\n",
       "             'things': 531,\n",
       "             'even': 1163,\n",
       "             'called': 267,\n",
       "             'host': 29,\n",
       "             'ray': 45,\n",
       "             'films': 944,\n",
       "             'well': 901,\n",
       "             'unlikely': 49,\n",
       "             'appeal': 74,\n",
       "             'sort': 214,\n",
       "             'movie': 1380,\n",
       "             'around': 603,\n",
       "             'activities': 20,\n",
       "             'hatosy': 4,\n",
       "             'feature': 159,\n",
       "             'bland': 76,\n",
       "             'swat': 5,\n",
       "             'plot': 777,\n",
       "             'keep': 281,\n",
       "             'identity': 64,\n",
       "             'certain': 158,\n",
       "             'gets': 591,\n",
       "             'product': 80,\n",
       "             'cooking': 15,\n",
       "             'jokes': 156,\n",
       "             'actually': 533,\n",
       "             'unmistakable': 5,\n",
       "             'ashton': 4,\n",
       "             'imitators': 1,\n",
       "             'intentions': 34,\n",
       "             'arrival': 30,\n",
       "             'angst': 12,\n",
       "             'college': 88,\n",
       "             'genre': 182,\n",
       "             'often': 261,\n",
       "             'circumstances': 45,\n",
       "             'taking': 183,\n",
       "             'laughing': 92,\n",
       "             'occasional': 55,\n",
       "             'tasteless': 17,\n",
       "             'fashion': 80,\n",
       "             'unattractive': 5,\n",
       "             'hate': 93,\n",
       "             'far': 424,\n",
       "             'whole': 357,\n",
       "             'giggly': 1,\n",
       "             'trying': 396,\n",
       "             'miramax': 12,\n",
       "             'end': 663,\n",
       "             'always': 388,\n",
       "             'comedy': 451,\n",
       "             'epitome': 13,\n",
       "             'cuteness': 9,\n",
       "             'cook': 19,\n",
       "             'movies': 731,\n",
       "             'guy': 362,\n",
       "             'strictly': 32,\n",
       "             'stopping': 11,\n",
       "             'previously': 59,\n",
       "             'conveniently': 15,\n",
       "             'concept': 83,\n",
       "             'kind': 368,\n",
       "             'paper': 33,\n",
       "             'ensemble': 45,\n",
       "             'whiff': 4,\n",
       "             'funny': 445,\n",
       "             'everything': 352,\n",
       "             'film': 1562,\n",
       "             'dialogue': 354,\n",
       "             'takeoff': 7,\n",
       "             'ordeal': 10,\n",
       "             'role': 555,\n",
       "             'obvious': 224,\n",
       "             'along': 399,\n",
       "             'person': 233,\n",
       "             'restaurant': 35,\n",
       "             'open': 117,\n",
       "             'doors': 32,\n",
       "             'questioning': 16,\n",
       "             'scorseses': 12,\n",
       "             'infuriating': 7,\n",
       "             'taunt': 4,\n",
       "             'chuckle': 21,\n",
       "             'previous': 141,\n",
       "             'careers': 24,\n",
       "             'jada': 5,\n",
       "             'provided': 68,\n",
       "             'martin': 93,\n",
       "             'nothing': 524,\n",
       "             'get': 979,\n",
       "             'reason': 323,\n",
       "             'back': 641,\n",
       "             'sexual': 133,\n",
       "             'stolen': 47,\n",
       "             'africanamericans': 4,\n",
       "             'buffoons': 7,\n",
       "             'def': 2,\n",
       "             'plays': 528,\n",
       "             'williams': 103,\n",
       "             'months': 80,\n",
       "             'black': 261,\n",
       "             'jams': 3,\n",
       "             'bananas': 7,\n",
       "             'causing': 28,\n",
       "             'showing': 113,\n",
       "             'involved': 194,\n",
       "             'player': 59,\n",
       "             'entire': 300,\n",
       "             'every': 611,\n",
       "             'thinks': 115,\n",
       "             'woos': 13,\n",
       "             'cameo': 83,\n",
       "             'starts': 240,\n",
       "             'blind': 35,\n",
       "             'girlfriends': 19,\n",
       "             'directly': 66,\n",
       "             'best': 759,\n",
       "             'sake': 39,\n",
       "             'made': 651,\n",
       "             'davidson': 9,\n",
       "             'version': 184,\n",
       "             'stealing': 31,\n",
       "             'sure': 362,\n",
       "             'ever': 502,\n",
       "             'elegant': 14,\n",
       "             'mirror': 26,\n",
       "             'mayhem': 23,\n",
       "             'accusing': 3,\n",
       "             'somewhere': 106,\n",
       "             'smith': 79,\n",
       "             'bad': 688,\n",
       "             'violently': 5,\n",
       "             'subway': 12,\n",
       "             'running': 246,\n",
       "             'wild': 107,\n",
       "             'seemingly': 102,\n",
       "             'call': 169,\n",
       "             'follows': 141,\n",
       "             'either': 296,\n",
       "             'point': 438,\n",
       "             'think': 544,\n",
       "             'case': 284,\n",
       "             'scene': 713,\n",
       "             'ok': 69,\n",
       "             'awful': 107,\n",
       "             'woo': 35,\n",
       "             'reconsider': 2,\n",
       "             'include': 95,\n",
       "             'straightlaced': 7,\n",
       "             'offensive': 52,\n",
       "             'allens': 16,\n",
       "             'riot': 19,\n",
       "             'read': 146,\n",
       "             'puts': 110,\n",
       "             'destroying': 25,\n",
       "             'unknown': 42,\n",
       "             'thugs': 20,\n",
       "             'screenplay': 209,\n",
       "             'anyone': 327,\n",
       "             'wouldnt': 157,\n",
       "             'else': 288,\n",
       "             'woman': 323,\n",
       "             'contrived': 66,\n",
       "             'joke': 100,\n",
       "             'wont': 211,\n",
       "             'ripoff': 31,\n",
       "             'normal': 83,\n",
       "             'booty': 3,\n",
       "             'bathroom': 36,\n",
       "             'chuckles': 18,\n",
       "             'three': 384,\n",
       "             'hours': 186,\n",
       "             'falling': 64,\n",
       "             'embarassing': 6,\n",
       "             'youd': 85,\n",
       "             'tim': 89,\n",
       "             'woody': 62,\n",
       "             'billy': 75,\n",
       "             'various': 127,\n",
       "             'really': 783,\n",
       "             'house': 220,\n",
       "             'another': 709,\n",
       "             'closing': 37,\n",
       "             'belittling': 1,\n",
       "             'tolerate': 8,\n",
       "             'night': 280,\n",
       "             'goes': 473,\n",
       "             'date': 89,\n",
       "             'instead': 418,\n",
       "             'car': 202,\n",
       "             'isnt': 557,\n",
       "             'besides': 54,\n",
       "             'released': 152,\n",
       "             'pinkett': 5,\n",
       "             'yet': 423,\n",
       "             'importantly': 43,\n",
       "             'tommy': 42,\n",
       "             'everyone': 330,\n",
       "             'swiped': 1,\n",
       "             'dee': 4,\n",
       "             'cake': 15,\n",
       "             'bosom': 3,\n",
       "             'sex': 227,\n",
       "             'much': 1013,\n",
       "             'jawbreaker': 5,\n",
       "             'viewer': 139,\n",
       "             'parade': 21,\n",
       "             'reagan': 9,\n",
       "             'played': 499,\n",
       "             'killed': 163,\n",
       "             'grier': 14,\n",
       "             'mouth': 78,\n",
       "             'presence': 148,\n",
       "             'victim': 79,\n",
       "             'trite': 37,\n",
       "             'ask': 116,\n",
       "             'charm': 99,\n",
       "             'better': 605,\n",
       "             'mayo': 3,\n",
       "             'rest': 331,\n",
       "             'parents': 135,\n",
       "             'see': 877,\n",
       "             'trunk': 15,\n",
       "             'dead': 249,\n",
       "             'older': 79,\n",
       "             'larger': 34,\n",
       "             'makeup': 51,\n",
       "             'feeling': 167,\n",
       "             'realistic': 94,\n",
       "             'cruz': 8,\n",
       "             'stick': 57,\n",
       "             'stein': 4,\n",
       "             'granted': 46,\n",
       "             'seen': 566,\n",
       "             'question': 219,\n",
       "             'stripped': 14,\n",
       "             'princess': 40,\n",
       "             'overdress': 1,\n",
       "             'mere': 40,\n",
       "             'constant': 66,\n",
       "             'stuckup': 4,\n",
       "             'cover': 76,\n",
       "             'teenagers': 58,\n",
       "             'likely': 134,\n",
       "             'taste': 50,\n",
       "             'especially': 341,\n",
       "             'shed': 20,\n",
       "             'phone': 66,\n",
       "             'vera': 7,\n",
       "             'school': 202,\n",
       "             'murder': 160,\n",
       "             'avoid': 81,\n",
       "             'runs': 167,\n",
       "             'parenting': 4,\n",
       "             'teachers': 8,\n",
       "             'charlotte': 9,\n",
       "             'fab': 2,\n",
       "             'miss': 90,\n",
       "             'investigates': 3,\n",
       "             'rated': 100,\n",
       "             'literally': 85,\n",
       "             'rape': 32,\n",
       "             'people': 760,\n",
       "             'daily': 21,\n",
       "             'discovers': 89,\n",
       "             'start': 243,\n",
       "             'idiots': 16,\n",
       "             'brothel': 3,\n",
       "             'taken': 181,\n",
       "             'conviction': 23,\n",
       "             'intelligence': 95,\n",
       "             'writer': 142,\n",
       "             'gore': 71,\n",
       "             'seminude': 1,\n",
       "             'name': 284,\n",
       "             'actresses': 36,\n",
       "             'shayne': 2,\n",
       "             'going': 567,\n",
       "             'female': 109,\n",
       "             'clan': 10,\n",
       "             'nerdy': 6,\n",
       "             'rebecca': 24,\n",
       "             'please': 83,\n",
       "             'institution': 17,\n",
       "             'tape': 35,\n",
       "             'cheeks': 6,\n",
       "             'skills': 57,\n",
       "             'teacher': 65,\n",
       "             'reference': 35,\n",
       "             'grab': 18,\n",
       "             'considerably': 24,\n",
       "             'steins': 2,\n",
       "             'toss': 9,\n",
       "             'body': 195,\n",
       "             'brag': 5,\n",
       "             'public': 77,\n",
       "             'prank': 7,\n",
       "             'many': 705,\n",
       "             'hard': 352,\n",
       "             'stares': 9,\n",
       "             'stomach': 22,\n",
       "             'let': 229,\n",
       "             'rose': 39,\n",
       "             'minutes': 430,\n",
       "             'pam': 20,\n",
       "             'disgusting': 17,\n",
       "             'brains': 28,\n",
       "             'ball': 44,\n",
       "             'blue': 77,\n",
       "             'lipstick': 7,\n",
       "             'number': 168,\n",
       "             'time': 1106,\n",
       "             'pornographic': 9,\n",
       "             'ridiculous': 113,\n",
       "             'dont': 712,\n",
       "             'ugly': 59,\n",
       "             'julie': 43,\n",
       "             'nosed': 1,\n",
       "             'referred': 20,\n",
       "             'advised': 12,\n",
       "             'interrogates': 2,\n",
       "             'wrong': 273,\n",
       "             'eating': 35,\n",
       "             'cant': 442,\n",
       "             'royalty': 6,\n",
       "             'brutal': 41,\n",
       "             'happened': 136,\n",
       "             'given': 366,\n",
       "             'ritual': 11,\n",
       "             'powder': 9,\n",
       "             'detective': 84,\n",
       "             'theater': 162,\n",
       "             'violence': 195,\n",
       "             'advise': 3,\n",
       "             'ronald': 7,\n",
       "             'sounds': 107,\n",
       "             'mature': 37,\n",
       "             'go': 652,\n",
       "             'liz': 9,\n",
       "             'fern': 3,\n",
       "             'posh': 7,\n",
       "             'eventually': 180,\n",
       "             'guarantee': 16,\n",
       "             'dialog': 38,\n",
       "             'walk': 85,\n",
       "             'without': 491,\n",
       "             'roldan': 3,\n",
       "             'shut': 35,\n",
       "             'look': 545,\n",
       "             'add': 153,\n",
       "             'fare': 71,\n",
       "             'forget': 103,\n",
       "             'golf': 3,\n",
       "             'wit': 64,\n",
       "             'later': 301,\n",
       "             'learning': 34,\n",
       "             'fact': 525,\n",
       "             'watching': 371,\n",
       "             'proving': 22,\n",
       "             'mcgowan': 12,\n",
       "             'profanity': 33,\n",
       "             'lizs': 3,\n",
       "             'wannabes': 11,\n",
       "             'id': 138,\n",
       "             'oprah': 5,\n",
       "             'sometimes': 188,\n",
       "             'bruised': 4,\n",
       "             'anyway': 154,\n",
       "             'fast': 110,\n",
       "             'halls': 11,\n",
       "             'lines': 241,\n",
       "             'action': 495,\n",
       "             'says': 191,\n",
       "             'gayheart': 10,\n",
       "             'introduces': 40,\n",
       "             'refuse': 12,\n",
       "             'emotion': 66,\n",
       "             'position': 58,\n",
       "             'benz': 3,\n",
       "             'four': 189,\n",
       "             'darren': 8,\n",
       "             'check': 65,\n",
       "             'hold': 111,\n",
       "             'heathers': 9,\n",
       "             'scenes': 699,\n",
       "             'turn': 261,\n",
       "             'spice': 27,\n",
       "             'put': 326,\n",
       "             'compacts': 1,\n",
       "             'director': 717,\n",
       "             'setup': 70,\n",
       "             'high': 314,\n",
       "             'offer': 92,\n",
       "             'reflex': 2,\n",
       "             'di': 8,\n",
       "             'deserted': 20,\n",
       "             'club': 72,\n",
       "             'sequal': 1,\n",
       "             'means': 146,\n",
       "             'karaoke': 5,\n",
       "             'responsible': 60,\n",
       "             'breakdown': 22,\n",
       "             'schoolwork': 2,\n",
       "             'skeleton': 5,\n",
       "             'everywhere': 40,\n",
       "             'quite': 422,\n",
       "             'paranoia': 15,\n",
       "             'true': 282,\n",
       "             'hunted': 8,\n",
       "             'phifer': 6,\n",
       "             'boat': 50,\n",
       "             'shadows': 22,\n",
       "             'heard': 130,\n",
       "             'incessantly': 16,\n",
       "             'mountain': 33,\n",
       "             'scroll': 2,\n",
       "             'driving': 55,\n",
       "             'survived': 16,\n",
       "             'filled': 131,\n",
       "             'uninteresting': 42,\n",
       "             'love': 571,\n",
       "             'frightened': 26,\n",
       "             'chortling': 2,\n",
       "             'want': 397,\n",
       "             'strange': 141,\n",
       "             'boyfriend': 57,\n",
       "             'presumably': 28,\n",
       "             'outages': 1,\n",
       "             'concentrate': 11,\n",
       "             'satisfied': 19,\n",
       "             'circles': 21,\n",
       "             'quirky': 42,\n",
       "             'hook': 32,\n",
       "             'used': 272,\n",
       "             'accompanying': 12,\n",
       "             'dismal': 20,\n",
       "             'chased': 25,\n",
       "             'words': 167,\n",
       "             'giggling': 3,\n",
       "             'heres': 61,\n",
       "             'convince': 40,\n",
       "             'ocean': 40,\n",
       "             'creates': 82,\n",
       "             'dance': 67,\n",
       "             'secluded': 6,\n",
       "             'visions': 21,\n",
       "             'learn': 142,\n",
       "             'needing': 7,\n",
       "             'rubber': 16,\n",
       "             'lurk': 3,\n",
       "             'eerie': 30,\n",
       "             'jennifer': 68,\n",
       "             'touch': 92,\n",
       "             'amount': 107,\n",
       "             'suspense': 132,\n",
       "             'hand': 248,\n",
       "             'hotel': 59,\n",
       "             'suddenly': 117,\n",
       "             'looks': 327,\n",
       "             'hunt': 40,\n",
       "             'highway': 18,\n",
       "             'cleaning': 16,\n",
       "             'practically': 45,\n",
       "             'venue': 3,\n",
       "             'opens': 146,\n",
       "             'hewitt': 11,\n",
       "             'vacation': 30,\n",
       "             'slashfest': 1,\n",
       "             'wished': 16,\n",
       "             'sleep': 50,\n",
       "             'sees': 111,\n",
       "             'count': 70,\n",
       "             'blinking': 3,\n",
       "             'figure': 152,\n",
       "             'soon': 293,\n",
       "             'lightning': 13,\n",
       "             'intense': 68,\n",
       "             'housekeeping': 2,\n",
       "             'give': 409,\n",
       "             'kill': 202,\n",
       "             'diminuitive': 1,\n",
       "             'ranted': 1,\n",
       "             'singing': 50,\n",
       "             'conjures': 7,\n",
       "             'deaths': 24,\n",
       "             'mehki': 1,\n",
       "             'door': 84,\n",
       "             'meanwhile': 111,\n",
       "             'campiness': 7,\n",
       "             'guessed': 24,\n",
       "             'screaming': 44,\n",
       "             'rejects': 9,\n",
       "             'man': 684,\n",
       "             'begin': 160,\n",
       "             'verge': 11,\n",
       "             'rise': 54,\n",
       "             'karla': 7,\n",
       "             'trip': 91,\n",
       "             'memories': 50,\n",
       "             'slicker': 6,\n",
       "             'lights': 38,\n",
       "             'power': 154,\n",
       "             'strobe': 5,\n",
       "             'killer': 135,\n",
       "             'slayings': 2,\n",
       "             'never': 757,\n",
       "             'wry': 11,\n",
       "             'potential': 139,\n",
       "             'roommate': 20,\n",
       "             'james': 275,\n",
       "             'survive': 61,\n",
       "             'dump': 11,\n",
       "             'libido': 2,\n",
       "             'leads': 185,\n",
       "             'knockknock': 1,\n",
       "             'unless': 73,\n",
       "             'returned': 33,\n",
       "             'wielding': 11,\n",
       "             'seems': 623,\n",
       "             'two': 933,\n",
       "             'hooked': 11,\n",
       "             'slash': 2,\n",
       "             'tyrell': 4,\n",
       "             'resort': 17,\n",
       "             'bar': 52,\n",
       "             'dark': 196,\n",
       "             'island': 72,\n",
       "             'contest': 17,\n",
       "             'raved': 2,\n",
       "             'storms': 10,\n",
       "             'mindless': 26,\n",
       "             'lets': 163,\n",
       "             'karlas': 4,\n",
       "             'staff': 22,\n",
       "             'tries': 282,\n",
       "             'still': 629,\n",
       "             'first': 922,\n",
       "             'overbearing': 25,\n",
       "             'nervous': 33,\n",
       "             'might': 446,\n",
       "             'lady': 64,\n",
       "             'brandy': 9,\n",
       "             'filleted': 1,\n",
       "             'nights': 53,\n",
       "             'friends': 268,\n",
       "             'died': 65,\n",
       "             'secretly': 33,\n",
       "             'nightmarish': 10,\n",
       "             'didnt': 387,\n",
       "             'next': 330,\n",
       "             'anniversary': 16,\n",
       "             'misdeed': 2,\n",
       "             'appropriate': 85,\n",
       "             'irritated': 4,\n",
       "             'season': 54,\n",
       "             'beau': 8,\n",
       "             'besieged': 4,\n",
       "             'relaxation': 5,\n",
       "             'boils': 15,\n",
       "             'grade': 27,\n",
       "             'elated': 1,\n",
       "             'example': 237,\n",
       "             'local': 159,\n",
       "             'wearing': 47,\n",
       "             'kids': 202,\n",
       "             'chalk': 3,\n",
       "             'tropical': 7,\n",
       "             'possible': 201,\n",
       "             'word': 177,\n",
       "             'accidentally': 52,\n",
       "             'desparate': 1,\n",
       "             'mysteriously': 13,\n",
       "             'thoroughly': 62,\n",
       "             'summer': 174,\n",
       "             'hereafter': 11,\n",
       "             'satisfying': 56,\n",
       "             'herger': 1,\n",
       "             'hands': 123,\n",
       "             'meeting': 58,\n",
       "             'started': 72,\n",
       "             'interesting': 430,\n",
       "             'lot': 458,\n",
       "             'line': 300,\n",
       "             'translator': 5,\n",
       "             'bigname': 6,\n",
       "             'friendships': 7,\n",
       "             'banderas': 19,\n",
       "             'examination': 17,\n",
       "             'seem': 400,\n",
       "             'summons': 2,\n",
       "             'group': 239,\n",
       "             'thus': 102,\n",
       "             'novel': 157,\n",
       "             'die': 146,\n",
       "             'magnificent': 32,\n",
       "             'messenger': 11,\n",
       "             'braveheart': 24,\n",
       "             'soothsayer': 1,\n",
       "             'insert': 12,\n",
       "             'seven': 78,\n",
       "             'suspect': 64,\n",
       "             'runaway': 15,\n",
       "             'kings': 24,\n",
       "             'consecutive': 7,\n",
       "             'requesting': 3,\n",
       "             'theres': 568,\n",
       "             'warrior': 25,\n",
       "             'language': 93,\n",
       "             'wants': 347,\n",
       "             'importance': 29,\n",
       "             'roles': 218,\n",
       "             'directed': 257,\n",
       "             'live': 234,\n",
       "             'outsider': 17,\n",
       "             'medieval': 11,\n",
       "             'zorro': 5,\n",
       "             'bit': 374,\n",
       "             'small': 295,\n",
       "             'aggression': 7,\n",
       "             'kulich': 1,\n",
       "             'manage': 72,\n",
       "             'similarities': 19,\n",
       "             'crichton': 7,\n",
       "             'grunting': 5,\n",
       "             'channel': 18,\n",
       "             'fahdlan': 4,\n",
       "             'farfetched': 12,\n",
       "             'army': 68,\n",
       "             'leader': 84,\n",
       "             'vision': 56,\n",
       "             'villain': 122,\n",
       "             'vikings': 4,\n",
       "             'supernatural': 32,\n",
       "             'omar': 12,\n",
       "             'fell': 35,\n",
       "             'direction': 238,\n",
       "             'faceless': 7,\n",
       "             'ibn': 4,\n",
       "             'wolves': 10,\n",
       "             'kicked': 19,\n",
       "             'listening': 33,\n",
       "             'threatening': 45,\n",
       "             'efforts': 55,\n",
       "             'thrillers': 48,\n",
       "             'cultures': 9,\n",
       "             'fireside': 1,\n",
       "             'tagteam': 3,\n",
       "             'whose': 322,\n",
       "             'script': 490,\n",
       "             'particularly': 206,\n",
       "             'sword': 25,\n",
       "             'kingdom': 13,\n",
       "             'becomes': 377,\n",
       "             'baghdad': 1,\n",
       "             'character': 922,\n",
       "             'answer': 87,\n",
       "             'basis': 49,\n",
       "             'attracted': 30,\n",
       "             'stars': 303,\n",
       "             'twelve': 22,\n",
       "             'evil': 229,\n",
       "             'heads': 83,\n",
       "             'arrives': 59,\n",
       "             'finds': 258,\n",
       "             'turned': 156,\n",
       "             'joyous': 4,\n",
       "             'vladimir': 4,\n",
       "             'anything': 456,\n",
       "             'storh': 1,\n",
       "             'looker': 2,\n",
       "             'bailed': 3,\n",
       "             'forms': 31,\n",
       "             'target': 70,\n",
       "             'mob': 40,\n",
       "             'jungle': 29,\n",
       "             'arrive': 35,\n",
       "             'villains': 53,\n",
       "             'blackface': 1,\n",
       "             'ambassador': 13,\n",
       "             'echo': 9,\n",
       "             'warriors': 17,\n",
       "             'sharif': 2,\n",
       "             'conversations': 31,\n",
       "             'epic': 62,\n",
       "             'attack': 70,\n",
       "             'whos': 203,\n",
       "             'chittering': 1,\n",
       "             'youll': 164,\n",
       "             'idea': 272,\n",
       "             'goofy': 57,\n",
       "             'swallow': 20,\n",
       "             'mourning': 4,\n",
       "             'ahmed': 6,\n",
       "             'manages': 205,\n",
       "             'battle': 137,\n",
       "             'goals': 16,\n",
       "             'viking': 4,\n",
       "             'assortment': 16,\n",
       "             'northmen': 1,\n",
       "             'north': 36,\n",
       "             'thoughtprovoking': 27,\n",
       "             'coma': 10,\n",
       "             'cannibals': 1,\n",
       "             'sciencefiction': 15,\n",
       "             'particular': 122,\n",
       "             'poet': 7,\n",
       "             'king': 113,\n",
       "             'theyre': 270,\n",
       "             'shame': 87,\n",
       "             'mask': 29,\n",
       "             'flick': 140,\n",
       "             'murky': 13,\n",
       "             'swing': 10,\n",
       "             'vs': 36,\n",
       "             'development': 97,\n",
       "             'bottom': 65,\n",
       "             'notice': 70,\n",
       "             'mctiernan': 6,\n",
       "             'took': 132,\n",
       "             'mctiernans': 4,\n",
       "             'needs': 180,\n",
       "             'cracks': 13,\n",
       "             'john': 424,\n",
       "             'buliwyf': 1,\n",
       "             'arab': 9,\n",
       "             'michael': 239,\n",
       "             'caves': 4,\n",
       "             'pointless': 78,\n",
       "             'rent': 67,\n",
       "             'dennis': 69,\n",
       "             'discover': 92,\n",
       "             'act': 209,\n",
       "             'amidst': 20,\n",
       "             'eaters': 5,\n",
       "             'antonio': 22,\n",
       "             'beautifullyrendered': 1,\n",
       "             'legend': 62,\n",
       "             'duel': 5,\n",
       "             'loss': 43,\n",
       "             'lack': 188,\n",
       "             'dances': 14,\n",
       "             'predator': 10,\n",
       "             'competing': 4,\n",
       "             'westworld': 1,\n",
       "             'must': 443,\n",
       "             'facing': 19,\n",
       "             'fights': 47,\n",
       "             'suffers': 48,\n",
       "             'thirteen': 9,\n",
       "             'also': 965,\n",
       "             'personality': 90,\n",
       "             'fun': 378,\n",
       "             'stairs': 7,\n",
       "             'performance': 538,\n",
       "             'establish': 15,\n",
       "             'sound': 180,\n",
       "             'illegal': 23,\n",
       "             'distributor': 8,\n",
       "             'storyline': 95,\n",
       "             'exactly': 240,\n",
       "             'least': 487,\n",
       "             'buddying': 2,\n",
       "             'outset': 19,\n",
       "             'sister': 86,\n",
       "             'works': 283,\n",
       "             'goodguy': 2,\n",
       "             'majority': 33,\n",
       "             'associates': 9,\n",
       "             'devoted': 33,\n",
       "             'complete': 159,\n",
       "             'explanation': 51,\n",
       "             'save': 204,\n",
       "             'aimlessly': 9,\n",
       "             'aspect': 110,\n",
       "             'ingrained': 4,\n",
       "             'departure': 20,\n",
       "             'happens': 197,\n",
       "             'appears': 190,\n",
       "             'half': 261,\n",
       "             'care': 236,\n",
       "             'relationship': 248,\n",
       "             'respects': 18,\n",
       "             'spends': 77,\n",
       "             'money': 318,\n",
       "             'womans': 23,\n",
       "             'set': 399,\n",
       "             'demanding': 25,\n",
       "             'skin': 38,\n",
       "             'offscreen': 16,\n",
       "             'take': 601,\n",
       "             'ensues': 35,\n",
       "             'little': 831,\n",
       "             'associate': 19,\n",
       "             'danzas': 1,\n",
       "             'occur': 49,\n",
       "             'deals': 64,\n",
       "             'become': 377,\n",
       "             'mess': 130,\n",
       "             'forgotten': 57,\n",
       "             'consciousness': 8,\n",
       "             'passes': 38,\n",
       "             ...})"
      ]
     },
     "execution_count": 37,
     "metadata": {},
     "output_type": "execute_result"
    }
   ],
   "source": [
    "tokenizer.word_docs"
   ]
  },
  {
   "cell_type": "code",
   "execution_count": 39,
   "metadata": {
    "colab": {
     "base_uri": "https://localhost:8080/"
    },
    "executionInfo": {
     "elapsed": 405,
     "status": "ok",
     "timestamp": 1702623317978,
     "user": {
      "displayName": "cdac_course",
      "userId": "16993079997048252374"
     },
     "user_tz": -330
    },
    "id": "Ez88DKfZQL9Y",
    "outputId": "74dddaa2-906f-4e7b-95b5-ea7639eb28e2"
   },
   "outputs": [
    {
     "ename": "NameError",
     "evalue": "name 'max_length' is not defined",
     "output_type": "error",
     "traceback": [
      "\u001b[0;31m---------------------------------------------------------------------------\u001b[0m",
      "\u001b[0;31mNameError\u001b[0m                                 Traceback (most recent call last)",
      "Cell \u001b[0;32mIn[39], line 2\u001b[0m\n\u001b[1;32m      1\u001b[0m n_words \u001b[38;5;241m=\u001b[39m X_train\u001b[38;5;241m.\u001b[39mshape[\u001b[38;5;241m1\u001b[39m]\n\u001b[0;32m----> 2\u001b[0m model \u001b[38;5;241m=\u001b[39m define_model(n_words,max_length)\n",
      "\u001b[0;31mNameError\u001b[0m: name 'max_length' is not defined"
     ]
    }
   ],
   "source": [
    "n_words = X_train.shape[1]\n",
    "model = define_model(n_words,max_length)"
   ]
  },
  {
   "cell_type": "code",
   "execution_count": null,
   "metadata": {
    "colab": {
     "base_uri": "https://localhost:8080/"
    },
    "executionInfo": {
     "elapsed": 10488,
     "status": "ok",
     "timestamp": 1702623471902,
     "user": {
      "displayName": "cdac_course",
      "userId": "16993079997048252374"
     },
     "user_tz": -330
    },
    "id": "cI06crL1QgmI",
    "outputId": "b5f29e85-7110-41c2-ef32-612fc3b14d91"
   },
   "outputs": [],
   "source": [
    "model.fit(X_train,np.array(train_labels),epochs=10,verbose=1,batch_size=10)"
   ]
  },
  {
   "cell_type": "code",
   "execution_count": null,
   "metadata": {
    "id": "F_A9sFiz5a3X"
   },
   "outputs": [],
   "source": [
    "#!pip install pydotplus"
   ]
  },
  {
   "cell_type": "code",
   "execution_count": null,
   "metadata": {
    "id": "TJDX_gma5a3X"
   },
   "outputs": [],
   "source": [
    "#!pip install graphviz"
   ]
  },
  {
   "cell_type": "code",
   "execution_count": null,
   "metadata": {
    "id": "8N_CeGyDRD0J",
    "outputId": "28b45baf-ec5e-4ac3-cd0b-cf9af7f73149"
   },
   "outputs": [],
   "source": [
    "plot_model(model,show_dtype=True,show_layer_activations=True,\n",
    "           show_shapes=True,show_layer_names=True)\n"
   ]
  },
  {
   "cell_type": "code",
   "execution_count": null,
   "metadata": {
    "id": "El_WqycZ5a3Y",
    "outputId": "fa18fe58-543d-4cfa-a7d8-1ef418fd5de4"
   },
   "outputs": [],
   "source": [
    "y_pred = model.evaluate(X_test,np.array(test_labels),batch_size=1)\n",
    "#Evalute function automatically calculates the loss and the Accuracy so we don't need to calculate explicitly"
   ]
  },
  {
   "cell_type": "code",
   "execution_count": null,
   "metadata": {
    "id": "NQ3e3Osw5a3Y",
    "outputId": "bb176863-eac4-491d-da90-2579922a465d"
   },
   "outputs": [],
   "source": [
    "y_pred"
   ]
  },
  {
   "cell_type": "code",
   "execution_count": null,
   "metadata": {
    "id": "-s0bFpgm5a3Z"
   },
   "outputs": [],
   "source": [
    "text1 ='Best movie ever! It was great, will definitely recommend it.'\n",
    "text2 = 'This is a bad Movie'"
   ]
  },
  {
   "cell_type": "code",
   "execution_count": null,
   "metadata": {
    "id": "C_85ZTL25a3a"
   },
   "outputs": [],
   "source": [
    "def predict_sentiment(review):\n",
    "    # cleanig the text\n",
    "    clean_text = clean_doc(review,vocab)\n",
    "    #encode and pad review\n",
    "    padded=encode_docs(tokenizer,max_length,[line])\n",
    "    #Predict the sentiment\n",
    "    yhat=model.predict(padded,verbose=0)\n",
    "    #retrieve predicted  percentage and labels\n",
    "    percent_pos=yhat[0,0]\n",
    "    if round(percent_pos)\n"
   ]
  },
  {
   "cell_type": "code",
   "execution_count": null,
   "metadata": {
    "id": "_GBHNeZl5a3b",
    "outputId": "67d0482b-2a06-43a8-d3f8-fa0fa8705e2c"
   },
   "outputs": [],
   "source": [
    "percentage,sentiment = pred(text1)\n",
    "print(f\"Review:{sentiment} Percentage:{percentage}\")"
   ]
  },
  {
   "cell_type": "code",
   "execution_count": null,
   "metadata": {
    "id": "_3SknzHo5a3b",
    "outputId": "e38cd7ed-e486-4dfb-83e7-8e167b16178c"
   },
   "outputs": [],
   "source": [
    "percentage,sentiment = pred(text2)\n",
    "print(f\"Review:{sentiment} Percentage:{percentage}\")"
   ]
  },
  {
   "cell_type": "code",
   "execution_count": null,
   "metadata": {
    "id": "5TBDEnky5iz4"
   },
   "outputs": [],
   "source": [
    "vocab_filename = 'vocab.txt'\n",
    "vocab = load_doc(vocab_filename)\n",
    "vocab = set(vocab.split())"
   ]
  },
  {
   "cell_type": "code",
   "execution_count": null,
   "metadata": {
    "id": "xzLWIb_x5zPH"
   },
   "outputs": [],
   "source": [
    "# load all Reviews\n",
    "train_docs,y_train = load_clean_dataset(vocab,True)\n",
    "test_docs,y_test = load_clean_dataset(vocab,False)"
   ]
  },
  {
   "cell_type": "code",
   "execution_count": null,
   "metadata": {
    "id": "3E2v-urz6DCS"
   },
   "outputs": [],
   "source": [
    "# Create The Tokenizer\n",
    "tokenizer = create_tokenizer(train_docs)"
   ]
  },
  {
   "cell_type": "code",
   "execution_count": null,
   "metadata": {
    "id": "7JehCpoD6Y9_"
   },
   "outputs": [],
   "source": [
    "# define vocabulary size\n",
    "vocab_size = len(tokenizer.word_index) + 1\n",
    "print('Vocabulary Size ' %vocab_size)"
   ]
  }
 ],
 "metadata": {
  "accelerator": "GPU",
  "colab": {
   "gpuType": "T4",
   "provenance": []
  },
  "kernelspec": {
   "display_name": "Python 3 (ipykernel)",
   "language": "python",
   "name": "python3"
  },
  "language_info": {
   "codemirror_mode": {
    "name": "ipython",
    "version": 3
   },
   "file_extension": ".py",
   "mimetype": "text/x-python",
   "name": "python",
   "nbconvert_exporter": "python",
   "pygments_lexer": "ipython3",
   "version": "3.11.5"
  }
 },
 "nbformat": 4,
 "nbformat_minor": 1
}
