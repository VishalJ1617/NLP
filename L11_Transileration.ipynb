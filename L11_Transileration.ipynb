{
 "cells": [
  {
   "cell_type": "code",
   "execution_count": 1,
   "id": "1f0f451c",
   "metadata": {},
   "outputs": [
    {
     "name": "stdout",
     "output_type": "stream",
     "text": [
      "Collecting indic_transliteration\n",
      "  Downloading indic_transliteration-2.3.54-py3-none-any.whl.metadata (1.4 kB)\n",
      "Requirement already satisfied: backports.functools-lru-cache in /home/dai/anaconda3/lib/python3.11/site-packages (from indic_transliteration) (1.6.4)\n",
      "Requirement already satisfied: regex in /home/dai/anaconda3/lib/python3.11/site-packages (from indic_transliteration) (2023.10.3)\n",
      "Requirement already satisfied: typer in /home/dai/anaconda3/lib/python3.11/site-packages (from indic_transliteration) (0.9.0)\n",
      "Requirement already satisfied: toml in /home/dai/anaconda3/lib/python3.11/site-packages (from indic_transliteration) (0.10.2)\n",
      "Collecting roman (from indic_transliteration)\n",
      "  Downloading roman-4.1-py3-none-any.whl.metadata (3.3 kB)\n",
      "Requirement already satisfied: click<9.0.0,>=7.1.1 in /home/dai/anaconda3/lib/python3.11/site-packages (from typer->indic_transliteration) (8.1.7)\n",
      "Requirement already satisfied: typing-extensions>=3.7.4.3 in /home/dai/anaconda3/lib/python3.11/site-packages (from typer->indic_transliteration) (4.8.0)\n",
      "Downloading indic_transliteration-2.3.54-py3-none-any.whl (146 kB)\n",
      "\u001b[2K   \u001b[38;2;114;156;31m━━━━━━━━━━━━━━━━━━━━━━━━━━━━━━━━━━━━━━━\u001b[0m \u001b[32m146.2/146.2 kB\u001b[0m \u001b[31m824.7 kB/s\u001b[0m eta \u001b[36m0:00:00\u001b[0m36m0:00:01\u001b[0m36m0:00:01\u001b[0m\n",
      "\u001b[?25hDownloading roman-4.1-py3-none-any.whl (5.5 kB)\n",
      "Installing collected packages: roman, indic_transliteration\n",
      "Successfully installed indic_transliteration-2.3.54 roman-4.1\n"
     ]
    }
   ],
   "source": [
    "#!pip install indic_transliteration"
   ]
  },
  {
   "cell_type": "code",
   "execution_count": 2,
   "id": "e1cba327",
   "metadata": {},
   "outputs": [],
   "source": [
    "from indic_transliteration import sanscript\n",
    "from indic_transliteration.sanscript import transliterate"
   ]
  },
  {
   "cell_type": "code",
   "execution_count": 14,
   "id": "b6841720",
   "metadata": {},
   "outputs": [],
   "source": [
    "data='tushaara kuTe'"
   ]
  },
  {
   "cell_type": "code",
   "execution_count": 15,
   "id": "5c35891d",
   "metadata": {},
   "outputs": [
    {
     "name": "stdout",
     "output_type": "stream",
     "text": [
      "तुशार कुटे\n"
     ]
    }
   ],
   "source": [
    "print(transliterate(data,sanscript.ITRANS,sanscript.DEVANAGARI))"
   ]
  },
  {
   "cell_type": "code",
   "execution_count": 16,
   "id": "d4a6c2e5",
   "metadata": {},
   "outputs": [
    {
     "name": "stdout",
     "output_type": "stream",
     "text": [
      "তুশার কুটে\n"
     ]
    }
   ],
   "source": [
    "print(transliterate(data,sanscript.ITRANS,sanscript.BENGALI))"
   ]
  },
  {
   "cell_type": "code",
   "execution_count": 17,
   "id": "77090a02",
   "metadata": {},
   "outputs": [
    {
     "name": "stdout",
     "output_type": "stream",
     "text": [
      "તુશાર કુટે\n"
     ]
    }
   ],
   "source": [
    "print(transliterate(data,sanscript.ITRANS,sanscript.GUJARATI))"
   ]
  },
  {
   "cell_type": "code",
   "execution_count": 18,
   "id": "57c3effa",
   "metadata": {},
   "outputs": [
    {
     "name": "stdout",
     "output_type": "stream",
     "text": [
      "ਤੁਸ਼ਾਰ ਕੁਟੇ\n"
     ]
    }
   ],
   "source": [
    "print(transliterate(data,sanscript.ITRANS,sanscript.GURMUKHI))"
   ]
  },
  {
   "cell_type": "code",
   "execution_count": 19,
   "id": "e855a359",
   "metadata": {},
   "outputs": [
    {
     "name": "stdout",
     "output_type": "stream",
     "text": [
      "ತುಶಾರ ಕುಟೇ\n"
     ]
    }
   ],
   "source": [
    "print(transliterate(data,sanscript.ITRANS,sanscript.KANNADA))"
   ]
  },
  {
   "cell_type": "code",
   "execution_count": 20,
   "id": "7f5e5a2b",
   "metadata": {},
   "outputs": [
    {
     "name": "stdout",
     "output_type": "stream",
     "text": [
      "ऋषिकेश\n"
     ]
    }
   ],
   "source": [
    "data='RRiShikesha'\n",
    "print(transliterate(data,sanscript.ITRANS,sanscript.DEVANAGARI))"
   ]
  },
  {
   "cell_type": "code",
   "execution_count": 22,
   "id": "5f1df74d",
   "metadata": {},
   "outputs": [
    {
     "name": "stdout",
     "output_type": "stream",
     "text": [
      "ਧਨਸ਼੍ਰੀ\n"
     ]
    }
   ],
   "source": [
    "data='dhanashrI'\n",
    "print(transliterate(data,sanscript.ITRANS,sanscript.GURMUKHI))"
   ]
  },
  {
   "cell_type": "code",
   "execution_count": null,
   "id": "c2afa49c",
   "metadata": {},
   "outputs": [],
   "source": []
  }
 ],
 "metadata": {
  "kernelspec": {
   "display_name": "Python 3 (ipykernel)",
   "language": "python",
   "name": "python3"
  },
  "language_info": {
   "codemirror_mode": {
    "name": "ipython",
    "version": 3
   },
   "file_extension": ".py",
   "mimetype": "text/x-python",
   "name": "python",
   "nbconvert_exporter": "python",
   "pygments_lexer": "ipython3",
   "version": "3.11.5"
  }
 },
 "nbformat": 4,
 "nbformat_minor": 5
}
