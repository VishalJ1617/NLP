{
 "cells": [
  {
   "cell_type": "markdown",
   "id": "9d708c98",
   "metadata": {},
   "source": [
    "Date : 13/12/2023"
   ]
  },
  {
   "cell_type": "markdown",
   "id": "5725b5b8",
   "metadata": {},
   "source": [
    "## TF-IDF Vectorization"
   ]
  },
  {
   "cell_type": "markdown",
   "id": "d3097b8c",
   "metadata": {},
   "source": [
    "<img src=\"1 V9ac4hLVyms79jl65Ym_Bw.png\" alt=\"TF-TDF\">"
   ]
  },
  {
   "cell_type": "markdown",
   "id": "2167542a",
   "metadata": {},
   "source": [
    "1. TF stands for **\"Term frequency\"** and IDF stands for **\"Inverse document frequency\"**\n",
    "2. The higher the **value of the TF-IDF** score, the rare the word and **higher is the importance** of the word"
   ]
  },
  {
   "cell_type": "markdown",
   "id": "27dc9b1d",
   "metadata": {},
   "source": [
    "### Imports"
   ]
  },
  {
   "cell_type": "code",
   "execution_count": 1,
   "id": "9cf12a9d",
   "metadata": {},
   "outputs": [],
   "source": [
    "### -------------------\n",
    "### Importing libraries\n",
    "### -------------------\n",
    "\n",
    "import pandas as pd\n",
    "# import numpy as np\n",
    "# import matplotlib.pyplot as plt\n",
    "# import seaborn as sns\n",
    "\n",
    "from sklearn.feature_extraction.text import TfidfVectorizer"
   ]
  },
  {
   "cell_type": "markdown",
   "id": "be6cec1f",
   "metadata": {},
   "source": [
    "### Input data"
   ]
  },
  {
   "cell_type": "code",
   "execution_count": 2,
   "id": "e2bf3b75",
   "metadata": {},
   "outputs": [],
   "source": [
    "### ----------\n",
    "### input data\n",
    "### ----------\n",
    "\n",
    "sentence_1=\"The quick brown fox jumps on the lazy dogs.\"\n",
    "\n",
    "sentence_2=\"The cat chases the mouse and it squeaks loudly.\""
   ]
  },
  {
   "cell_type": "code",
   "execution_count": 6,
   "id": "a9bbe667",
   "metadata": {},
   "outputs": [],
   "source": [
    "# Initializing the TF-IDF vectorizer\n",
    "\n",
    "Tfidf = TfidfVectorizer(stop_words = 'english')"
   ]
  },
  {
   "cell_type": "code",
   "execution_count": 7,
   "id": "862ba721",
   "metadata": {},
   "outputs": [],
   "source": [
    "x_vect = Tfidf.fit_transform([sentence_1, sentence_2])"
   ]
  },
  {
   "cell_type": "code",
   "execution_count": 8,
   "id": "1420ed59",
   "metadata": {},
   "outputs": [
    {
     "data": {
      "text/html": [
       "<div>\n",
       "<style scoped>\n",
       "    .dataframe tbody tr th:only-of-type {\n",
       "        vertical-align: middle;\n",
       "    }\n",
       "\n",
       "    .dataframe tbody tr th {\n",
       "        vertical-align: top;\n",
       "    }\n",
       "\n",
       "    .dataframe thead th {\n",
       "        text-align: right;\n",
       "    }\n",
       "</style>\n",
       "<table border=\"1\" class=\"dataframe\">\n",
       "  <thead>\n",
       "    <tr style=\"text-align: right;\">\n",
       "      <th></th>\n",
       "      <th>brown</th>\n",
       "      <th>cat</th>\n",
       "      <th>chases</th>\n",
       "      <th>dogs</th>\n",
       "      <th>fox</th>\n",
       "      <th>jumps</th>\n",
       "      <th>lazy</th>\n",
       "      <th>loudly</th>\n",
       "      <th>mouse</th>\n",
       "      <th>quick</th>\n",
       "      <th>squeaks</th>\n",
       "    </tr>\n",
       "  </thead>\n",
       "  <tbody>\n",
       "    <tr>\n",
       "      <th>0</th>\n",
       "      <td>0.408248</td>\n",
       "      <td>0.000000</td>\n",
       "      <td>0.000000</td>\n",
       "      <td>0.408248</td>\n",
       "      <td>0.408248</td>\n",
       "      <td>0.408248</td>\n",
       "      <td>0.408248</td>\n",
       "      <td>0.000000</td>\n",
       "      <td>0.000000</td>\n",
       "      <td>0.408248</td>\n",
       "      <td>0.000000</td>\n",
       "    </tr>\n",
       "    <tr>\n",
       "      <th>1</th>\n",
       "      <td>0.000000</td>\n",
       "      <td>0.447214</td>\n",
       "      <td>0.447214</td>\n",
       "      <td>0.000000</td>\n",
       "      <td>0.000000</td>\n",
       "      <td>0.000000</td>\n",
       "      <td>0.000000</td>\n",
       "      <td>0.447214</td>\n",
       "      <td>0.447214</td>\n",
       "      <td>0.000000</td>\n",
       "      <td>0.447214</td>\n",
       "    </tr>\n",
       "  </tbody>\n",
       "</table>\n",
       "</div>"
      ],
      "text/plain": [
       "      brown       cat    chases      dogs       fox     jumps      lazy  \\\n",
       "0  0.408248  0.000000  0.000000  0.408248  0.408248  0.408248  0.408248   \n",
       "1  0.000000  0.447214  0.447214  0.000000  0.000000  0.000000  0.000000   \n",
       "\n",
       "     loudly     mouse     quick   squeaks  \n",
       "0  0.000000  0.000000  0.408248  0.000000  \n",
       "1  0.447214  0.447214  0.000000  0.447214  "
      ]
     },
     "execution_count": 8,
     "metadata": {},
     "output_type": "execute_result"
    }
   ],
   "source": [
    "# Converting the vector into DataFrame\n",
    "\n",
    "df = pd.DataFrame(x_vect.toarray(),\n",
    "                  columns = Tfidf.get_feature_names_out()\n",
    "                 )\n",
    "\n",
    "# Printing the DataFrame\n",
    "\n",
    "df"
   ]
  },
  {
   "cell_type": "code",
   "execution_count": null,
   "id": "5d47759d",
   "metadata": {},
   "outputs": [],
   "source": []
  }
 ],
 "metadata": {
  "kernelspec": {
   "display_name": "Python 3 (ipykernel)",
   "language": "python",
   "name": "python3"
  },
  "language_info": {
   "codemirror_mode": {
    "name": "ipython",
    "version": 3
   },
   "file_extension": ".py",
   "mimetype": "text/x-python",
   "name": "python",
   "nbconvert_exporter": "python",
   "pygments_lexer": "ipython3",
   "version": "3.11.5"
  }
 },
 "nbformat": 4,
 "nbformat_minor": 5
}
