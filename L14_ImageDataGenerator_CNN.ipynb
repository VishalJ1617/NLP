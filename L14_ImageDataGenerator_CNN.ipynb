{
 "cells": [
  {
   "cell_type": "code",
   "execution_count": 16,
   "id": "2b0e62ba",
   "metadata": {},
   "outputs": [],
   "source": [
    "import pandas as pd\n",
    "import numpy as np\n",
    "import matplotlib.pyplot as plt\n",
    "import seaborn as sns\n",
    "\n",
    "import os\n",
    "from os import listdir\n",
    "\n",
    "from keras.preprocessing.image import ImageDataGenerator\n",
    "from keras.models import Sequential\n",
    "from keras.layers import Dense, Conv2D, MaxPool2D, Flatten"
   ]
  },
  {
   "cell_type": "markdown",
   "id": "89770311",
   "metadata": {},
   "source": [
    "### Golbal variable"
   ]
  },
  {
   "cell_type": "code",
   "execution_count": 23,
   "id": "471c704d",
   "metadata": {},
   "outputs": [],
   "source": [
    "filepath = '/home/dai/7. NLP & CV/NLP/fruits'\n",
    "trainDir = '/training_set/' \n",
    "testDir = '/test_set'"
   ]
  },
  {
   "cell_type": "code",
   "execution_count": 24,
   "id": "3cdbb584",
   "metadata": {},
   "outputs": [],
   "source": [
    "dataTrainDir = filepath + trainDir\n",
    "\n",
    "dataTestDir = filepath + testDir"
   ]
  },
  {
   "cell_type": "code",
   "execution_count": 13,
   "id": "eaaec698",
   "metadata": {},
   "outputs": [
    {
     "data": {
      "text/plain": [
       "['orange', 'apple']"
      ]
     },
     "execution_count": 13,
     "metadata": {},
     "output_type": "execute_result"
    }
   ],
   "source": [
    "os.listdir(dataDir)"
   ]
  },
  {
   "cell_type": "code",
   "execution_count": null,
   "id": "59f29348",
   "metadata": {},
   "outputs": [],
   "source": [
    "fruit_df = pd.read_csv('')"
   ]
  },
  {
   "cell_type": "markdown",
   "id": "5d70c5a6",
   "metadata": {},
   "source": [
    "### Load the data"
   ]
  },
  {
   "cell_type": "code",
   "execution_count": 17,
   "id": "c602e2eb",
   "metadata": {},
   "outputs": [],
   "source": [
    "train_datagen = ImageDataGenerator(rescale=1/255,\n",
    "                                  shear_range=0.2,\n",
    "                                  zoom_range=0.2,\n",
    "                                  horizontal_flip=True)"
   ]
  },
  {
   "cell_type": "code",
   "execution_count": 18,
   "id": "949d0ae9",
   "metadata": {},
   "outputs": [],
   "source": [
    "test_datagen = ImageDataGenerator(rescale=1/255)"
   ]
  },
  {
   "cell_type": "code",
   "execution_count": 19,
   "id": "75013bb3",
   "metadata": {},
   "outputs": [
    {
     "name": "stdout",
     "output_type": "stream",
     "text": [
      "Help on method flow_from_directory in module keras.src.preprocessing.image:\n",
      "\n",
      "flow_from_directory(directory, target_size=(256, 256), color_mode='rgb', classes=None, class_mode='categorical', batch_size=32, shuffle=True, seed=None, save_to_dir=None, save_prefix='', save_format='png', follow_links=False, subset=None, interpolation='nearest', keep_aspect_ratio=False) method of keras.src.preprocessing.image.ImageDataGenerator instance\n",
      "    Takes the path to a directory & generates batches of augmented data.\n",
      "    \n",
      "    Args:\n",
      "      directory: string, path to the target directory. It should contain\n",
      "        one subdirectory per class. Any PNG, JPG, BMP, PPM or TIF images\n",
      "        inside each of the subdirectories directory tree will be included\n",
      "        in the generator. See [this script](\n",
      "        https://gist.github.com/fchollet/0830affa1f7f19fd47b06d4cf89ed44d)\n",
      "        for more details.\n",
      "      target_size: Tuple of integers `(height, width)`. The dimensions to\n",
      "        which all images found will be resized. Defaults to `(256,256)`.\n",
      "      color_mode: One of \"grayscale\", \"rgb\", \"rgba\". Default: \"rgb\".\n",
      "        Whether the images will be converted to have 1, 3, or 4 channels.\n",
      "      classes: Optional list of class subdirectories (e.g. `['dogs',\n",
      "        'cats']`). Default: None. If not provided, the list of classes\n",
      "        will be automatically inferred from the subdirectory\n",
      "        names/structure under `directory`, where each subdirectory will be\n",
      "        treated as a different class (and the order of the classes, which\n",
      "        will map to the label indices, will be alphanumeric). The\n",
      "        dictionary containing the mapping from class names to class\n",
      "        indices can be obtained via the attribute `class_indices`.\n",
      "      class_mode: One of \"categorical\", \"binary\", \"sparse\",\n",
      "        \"input\", or None.\n",
      "        Determines the type of label arrays that are returned:\n",
      "          - \"categorical\" will be 2D one-hot encoded labels,\n",
      "          - \"binary\" will be 1D binary labels,\n",
      "          - \"sparse\" will be 1D integer labels,\n",
      "          - \"input\" will be images identical\n",
      "            to input images (mainly used to work with autoencoders).\n",
      "          - If None, no labels are returned\n",
      "            (the generator will only yield batches of image data,\n",
      "            which is useful to use with `model.predict_generator()`).\n",
      "            Please note that in case of class_mode None,\n",
      "            the data still needs to reside in a subdirectory\n",
      "            of `directory` for it to work correctly.\n",
      "          Defaults to \"categorical\".\n",
      "      batch_size: Size of the batches of data. Defaults to `32`.\n",
      "      shuffle: Whether to shuffle the data If `False`, sorts the\n",
      "        data in alphanumeric order. Defaults to `True`.\n",
      "      seed: Optional random seed for shuffling and transformations.\n",
      "      save_to_dir: None or str (default: None). This allows you to\n",
      "        optionally specify a directory to which to save the augmented\n",
      "        pictures being generated (useful for visualizing what you are\n",
      "        doing).\n",
      "      save_prefix: Str. Prefix to use for filenames of saved pictures\n",
      "        (only relevant if `save_to_dir` is set).\n",
      "      save_format: one of \"png\", \"jpeg\", \"bmp\", \"pdf\", \"ppm\", \"gif\",\n",
      "        \"tif\", \"jpg\" (only relevant if `save_to_dir` is set).\n",
      "        Defaults to \"png\".\n",
      "      follow_links: Whether to follow symlinks inside\n",
      "        class subdirectories. Defaults to `False`.\n",
      "      subset: Subset of data (`\"training\"` or `\"validation\"`) if\n",
      "        `validation_split` is set in `ImageDataGenerator`.\n",
      "      interpolation: Interpolation method used to resample the image if\n",
      "        the target size is different from that of the loaded image.\n",
      "        Supported methods are `\"nearest\"`, `\"bilinear\"`, and `\"bicubic\"`.\n",
      "        If PIL version 1.1.3 or newer is installed, `\"lanczos\"` is also\n",
      "        supported. If PIL version 3.4.0 or newer is installed, `\"box\"` and\n",
      "        `\"hamming\"` are also supported. Defaults to `\"nearest\"`.\n",
      "      keep_aspect_ratio: Boolean, whether to resize images to a target\n",
      "        size without aspect ratio distortion. The image is cropped in\n",
      "        the center with target aspect ratio before resizing.\n",
      "    \n",
      "    Returns:\n",
      "      A `DirectoryIterator` yielding tuples of `(x, y)`\n",
      "        where `x` is a numpy array containing a batch\n",
      "        of images with shape `(batch_size, *target_size, channels)`\n",
      "        and `y` is a numpy array of corresponding labels.\n",
      "\n"
     ]
    }
   ],
   "source": [
    "help(train_datagen.flow_from_directory)"
   ]
  },
  {
   "cell_type": "code",
   "execution_count": 25,
   "id": "7ea55c03",
   "metadata": {},
   "outputs": [
    {
     "name": "stdout",
     "output_type": "stream",
     "text": [
      "Found 13 images belonging to 2 classes.\n"
     ]
    }
   ],
   "source": [
    "train = train_datagen.flow_from_directory(dataTrainDir, \n",
    "                                         class_mode = 'binary',\n",
    "                                         target_size = (64,64,3)\n",
    "                                         )"
   ]
  },
  {
   "cell_type": "code",
   "execution_count": 26,
   "id": "241eaeaf",
   "metadata": {},
   "outputs": [
    {
     "name": "stdout",
     "output_type": "stream",
     "text": [
      "Found 6 images belonging to 2 classes.\n"
     ]
    }
   ],
   "source": [
    "test = train_datagen.flow_from_directory(dataTestDir, \n",
    "                                         class_mode = 'binary',\n",
    "                                         target_size = (64,64,3)\n",
    "                                         )"
   ]
  },
  {
   "cell_type": "code",
   "execution_count": null,
   "id": "4bb1c4cd",
   "metadata": {},
   "outputs": [],
   "source": [
    "train.image_data_generator"
   ]
  },
  {
   "cell_type": "code",
   "execution_count": null,
   "id": "d0df02a2",
   "metadata": {},
   "outputs": [],
   "source": []
  }
 ],
 "metadata": {
  "kernelspec": {
   "display_name": "Python 3 (ipykernel)",
   "language": "python",
   "name": "python3"
  },
  "language_info": {
   "codemirror_mode": {
    "name": "ipython",
    "version": 3
   },
   "file_extension": ".py",
   "mimetype": "text/x-python",
   "name": "python",
   "nbconvert_exporter": "python",
   "pygments_lexer": "ipython3",
   "version": "3.11.5"
  }
 },
 "nbformat": 4,
 "nbformat_minor": 5
}
