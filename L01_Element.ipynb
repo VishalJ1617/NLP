{
 "cells": [
  {
   "cell_type": "markdown",
   "id": "e3c732d5",
   "metadata": {},
   "source": [
    "##  Elements in HTML"
   ]
  },
  {
   "cell_type": "code",
   "execution_count": null,
   "id": "3c137a41",
   "metadata": {},
   "outputs": [],
   "source": []
  },
  {
   "cell_type": "markdown",
   "id": "9f08c379",
   "metadata": {},
   "source": [
    "<img src=\"Screenshot from 2023-12-08 11-41-52.png\" alt=\"element\">"
   ]
  },
  {
   "cell_type": "code",
   "execution_count": null,
   "id": "7b47308e",
   "metadata": {},
   "outputs": [],
   "source": []
  },
  {
   "cell_type": "code",
   "execution_count": null,
   "id": "2cc11897",
   "metadata": {},
   "outputs": [],
   "source": []
  }
 ],
 "metadata": {
  "kernelspec": {
   "display_name": "Python 3 (ipykernel)",
   "language": "python",
   "name": "python3"
  },
  "language_info": {
   "codemirror_mode": {
    "name": "ipython",
    "version": 3
   },
   "file_extension": ".py",
   "mimetype": "text/x-python",
   "name": "python",
   "nbconvert_exporter": "python",
   "pygments_lexer": "ipython3",
   "version": "3.11.5"
  }
 },
 "nbformat": 4,
 "nbformat_minor": 5
}
