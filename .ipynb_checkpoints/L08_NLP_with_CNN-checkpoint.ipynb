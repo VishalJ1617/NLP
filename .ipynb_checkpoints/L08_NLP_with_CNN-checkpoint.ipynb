{
 "cells": [
  {
   "cell_type": "code",
   "execution_count": null,
   "metadata": {
    "id": "iy3HQbj_4mR7",
    "outputId": "73451a54-9b7d-43c2-806c-b84381c336bf"
   },
   "outputs": [
    {
     "name": "stderr",
     "output_type": "stream",
     "text": [
      "2023-12-16 10:14:53.474256: I tensorflow/core/util/port.cc:113] oneDNN custom operations are on. You may see slightly different numerical results due to floating-point round-off errors from different computation orders. To turn them off, set the environment variable `TF_ENABLE_ONEDNN_OPTS=0`.\n",
      "2023-12-16 10:14:53.534739: E external/local_xla/xla/stream_executor/cuda/cuda_dnn.cc:9261] Unable to register cuDNN factory: Attempting to register factory for plugin cuDNN when one has already been registered\n",
      "2023-12-16 10:14:53.534789: E external/local_xla/xla/stream_executor/cuda/cuda_fft.cc:607] Unable to register cuFFT factory: Attempting to register factory for plugin cuFFT when one has already been registered\n",
      "2023-12-16 10:14:53.536187: E external/local_xla/xla/stream_executor/cuda/cuda_blas.cc:1515] Unable to register cuBLAS factory: Attempting to register factory for plugin cuBLAS when one has already been registered\n",
      "2023-12-16 10:14:53.545474: I tensorflow/core/platform/cpu_feature_guard.cc:182] This TensorFlow binary is optimized to use available CPU instructions in performance-critical operations.\n",
      "To enable the following instructions: AVX2 AVX512F AVX512_VNNI FMA, in other operations, rebuild TensorFlow with the appropriate compiler flags.\n",
      "2023-12-16 10:14:54.639122: W tensorflow/compiler/tf2tensorrt/utils/py_utils.cc:38] TF-TRT Warning: Could not find TensorRT\n"
     ]
    }
   ],
   "source": [
    "import nltk\n",
    "from nltk.corpus import stopwords\n",
    "from nltk import FreqDist\n",
    "from nltk import word_tokenize\n",
    "from nltk.tag import pos_tag\n",
    "import string\n",
    "import matplotlib.pyplot as plt\n",
    "import seaborn as sns\n",
    "import re\n",
    "from keras.preprocessing.text import Tokenizer\n",
    "from keras.utils import plot_model\n",
    "import numpy as np\n",
    "import pandas as pd\n",
    "\n",
    "from os import listdir"
   ]
  },
  {
   "cell_type": "code",
   "execution_count": null,
   "metadata": {
    "colab": {
     "base_uri": "https://localhost:8080/"
    },
    "executionInfo": {
     "elapsed": 1483,
     "status": "ok",
     "timestamp": 1702617480606,
     "user": {
      "displayName": "cdac_course",
      "userId": "16993079997048252374"
     },
     "user_tz": -330
    },
    "id": "vgvOFGsE5WBG",
    "outputId": "69cb5da8-fea7-4a64-becb-d9c26eb9ca70"
   },
   "outputs": [
    {
     "name": "stderr",
     "output_type": "stream",
     "text": [
      "[nltk_data] Downloading package stopwords to /home/dai/nltk_data...\n",
      "[nltk_data]   Unzipping corpora/stopwords.zip.\n",
      "[nltk_data] Downloading package averaged_perceptron_tagger to\n",
      "[nltk_data]     /home/dai/nltk_data...\n",
      "[nltk_data]   Package averaged_perceptron_tagger is already up-to-\n",
      "[nltk_data]       date!\n",
      "[nltk_data] Downloading package wordnet to /home/dai/nltk_data...\n",
      "[nltk_data]   Package wordnet is already up-to-date!\n",
      "[nltk_data] Downloading package omw-1.4 to /home/dai/nltk_data...\n",
      "[nltk_data]   Package omw-1.4 is already up-to-date!\n",
      "[nltk_data] Downloading package indian to /home/dai/nltk_data...\n",
      "[nltk_data]   Package indian is already up-to-date!\n",
      "[nltk_data] Downloading package punkt to /home/dai/nltk_data...\n",
      "[nltk_data]   Package punkt is already up-to-date!\n",
      "[nltk_data] Downloading package words to /home/dai/nltk_data...\n",
      "[nltk_data]   Package words is already up-to-date!\n"
     ]
    },
    {
     "data": {
      "text/plain": [
       "True"
      ]
     },
     "execution_count": 2,
     "metadata": {},
     "output_type": "execute_result"
    }
   ],
   "source": [
    "nltk.download('stopwords')\n",
    "nltk.download('averaged_perceptron_tagger')\n",
    "nltk.download('wordnet')\n",
    "nltk.download('omw-1.4')\n",
    "nltk.download('indian')\n",
    "\n",
    "nltk.download('punkt')\n",
    "nltk.download('words')"
   ]
  },
  {
   "cell_type": "code",
   "execution_count": null,
   "metadata": {
    "id": "2uWSsE2I6PVL"
   },
   "outputs": [],
   "source": [
    "# load doc imto memory\n",
    "def load_doc(filename):\n",
    "    # open file in read mode\n",
    "    file = open(filename,'r')\n",
    "    # Read All text\n",
    "    text = file.read()\n",
    "    # Close the file\n",
    "    file.close()\n",
    "    return text"
   ]
  },
  {
   "cell_type": "code",
   "execution_count": null,
   "metadata": {
    "id": "P1StBvzo7GV8"
   },
   "outputs": [],
   "source": [
    "text = load_doc('Dataset/review_polarity/txt_sentoken/pos/cv026_29325.txt')"
   ]
  },
  {
   "cell_type": "code",
   "execution_count": null,
   "metadata": {
    "colab": {
     "base_uri": "https://localhost:8080/",
     "height": 122
    },
    "executionInfo": {
     "elapsed": 414,
     "status": "ok",
     "timestamp": 1702617804832,
     "user": {
      "displayName": "cdac_course",
      "userId": "16993079997048252374"
     },
     "user_tz": -330
    },
    "id": "LK7H1jBf7UEQ",
    "outputId": "bc191dfc-5102-4914-9243-6ff96a61b5f9"
   },
   "outputs": [
    {
     "data": {
      "text/plain": [
       "'for those of us who weren\\'t yet born when the 1960\\'s rock \\'n\\' rolled around , monterey pop affords an affectionate glimpse of the music that influenced our parents to be hippies . \\nfrom otis redding to jimi hendrix , janis joplin to the mamas and the papas , and jefferson airplane to the who , this documentary is jam-packed with contagious energy . \\nbut i give fair warning that i will reveal the ending , which does not do the rest of the film the justice it deserves . \\nshot in 1969 at an outdoor concert that precluded woodstock , the film defies the stereotype of the general population at the time . \\nsure , some have painted their faces and smoke joints , but d . a . \\npennebaker ( the war room , moon over broadway ) surprisingly chooses to show a broad spectrum of the audience . \\nno matter who is watching , it all comes back to the talented musicians that stir your soul . \\nthe excitement starts before the music even begins . \\na young girl is cleaning thousands of seats and when asked why by an interviewer , she replies that she feels lucky to do so . \\nthere are moments of organized craziness as john phillips , leader of the mamas and the papas and one of the concert organizers , tries to get in touch with dionne warwick . \\nand when one band is tuning up , a member remarks , \" finally , a decent sound system ! \" \\nyou can tell just by watching these first few moments that this show isn\\'t about vanity , it\\'s about playing the music you love to those who have an appreciation for it , a two-way street . \\nthis interaction between audience and performer continues throughout the film and becomes infectious to the audience . \\nit\\'s impossible to tear your eyes away from janis joplin as she belts out her ballad about love being a ball and chain . \\nand while the lyrics to \" wild thing \" may not be all that complicated , watching jimi hendrix mime having sex with his guitar is as captivating as otis redding singing about love . \\neven if you don\\'t recognize every band you see on stage , you can imagine being as enthralled by their work as the public sitting in those seats . \\nthe only drawback to the film is the ending , which unfortunately i must reveal . \\nall the other bands , big names then and still today , got approximately 7 to 10 minutes of screen time . \\nin contrast , the last band on camera , a wholly forgettable one , gets an entire 18 minutes of screen time . \\nfor a film that\\'s only 78 minutes long , that\\'s too large of a chunk , especially when previous acts are much more stimulating . \\nall in all , monterey pop is a precious , rare look at a time period that still holds sway over us . \\nthe variety of music , as well as the beautifully shot performances , are easy to become immersed in . \\nif there was ever any question as to why most of these bands were so popular , this is quickly dispelled . \\nit\\'s almost depressing to think that music this moving doesn\\'t get made much anymore . \\ninstead we\\'re stuck with * nsync , the backstreet boys , and jennifer lopez , all of whom should have stuck with modeling . \\n'"
      ]
     },
     "execution_count": 5,
     "metadata": {},
     "output_type": "execute_result"
    }
   ],
   "source": [
    "text"
   ]
  },
  {
   "cell_type": "code",
   "execution_count": null,
   "metadata": {
    "id": "g8lb2JIf7U-p"
   },
   "outputs": [],
   "source": [
    "# Turn a doc into clean tokens\n",
    "def clean_doc(doc):\n",
    "    # Split into tokens by white space\n",
    "    tokens = doc.split()\n",
    "    # Prepare regex for char filtering\n",
    "    re_punc = re.compile('[%s]' % re.escape(string.punctuation))\n",
    "    # Remove punctuation from each word\n",
    "    tokens = [re_punc.sub('',w) for w in tokens]\n",
    "    # Remove remaining token that are not alphabetic\n",
    "    tokens = [word for word in tokens if word.isalpha()]\n",
    "    # filter out stop words\n",
    "    stop_words = set(stopwords.words('english'))\n",
    "    tokens = [w for w in tokens if not w in stop_words]\n",
    "    #filter out short tokens\n",
    "    tokens = [word for word in tokens if len(word)>1]\n",
    "    return tokens"
   ]
  },
  {
   "cell_type": "code",
   "execution_count": null,
   "metadata": {
    "colab": {
     "base_uri": "https://localhost:8080/"
    },
    "executionInfo": {
     "elapsed": 397,
     "status": "ok",
     "timestamp": 1702619175797,
     "user": {
      "displayName": "cdac_course",
      "userId": "16993079997048252374"
     },
     "user_tz": -330
    },
    "id": "hIayf8DL_-e4",
    "outputId": "5708d3c1-35b1-4a4b-d432-7ec867e59a5b"
   },
   "outputs": [
    {
     "data": {
      "text/plain": [
       "261"
      ]
     },
     "execution_count": 7,
     "metadata": {},
     "output_type": "execute_result"
    }
   ],
   "source": [
    "clean_text = clean_doc(text)\n",
    "len(clean_text)"
   ]
  },
  {
   "cell_type": "code",
   "execution_count": null,
   "metadata": {
    "colab": {
     "base_uri": "https://localhost:8080/"
    },
    "executionInfo": {
     "elapsed": 383,
     "status": "ok",
     "timestamp": 1702619593698,
     "user": {
      "displayName": "cdac_course",
      "userId": "16993079997048252374"
     },
     "user_tz": -330
    },
    "id": "KqJGuT4fADAl",
    "outputId": "7fcec664-e47d-4d05-d045-01879bea46c7"
   },
   "outputs": [
    {
     "data": {
      "text/plain": [
       "['us',\n",
       " 'werent',\n",
       " 'yet',\n",
       " 'born',\n",
       " 'rock',\n",
       " 'rolled',\n",
       " 'around',\n",
       " 'monterey',\n",
       " 'pop',\n",
       " 'affords',\n",
       " 'affectionate',\n",
       " 'glimpse',\n",
       " 'music',\n",
       " 'influenced',\n",
       " 'parents',\n",
       " 'hippies',\n",
       " 'otis',\n",
       " 'redding',\n",
       " 'jimi',\n",
       " 'hendrix',\n",
       " 'janis',\n",
       " 'joplin',\n",
       " 'mamas',\n",
       " 'papas',\n",
       " 'jefferson',\n",
       " 'airplane',\n",
       " 'documentary',\n",
       " 'jampacked',\n",
       " 'contagious',\n",
       " 'energy',\n",
       " 'give',\n",
       " 'fair',\n",
       " 'warning',\n",
       " 'reveal',\n",
       " 'ending',\n",
       " 'rest',\n",
       " 'film',\n",
       " 'justice',\n",
       " 'deserves',\n",
       " 'shot',\n",
       " 'outdoor',\n",
       " 'concert',\n",
       " 'precluded',\n",
       " 'woodstock',\n",
       " 'film',\n",
       " 'defies',\n",
       " 'stereotype',\n",
       " 'general',\n",
       " 'population',\n",
       " 'time',\n",
       " 'sure',\n",
       " 'painted',\n",
       " 'faces',\n",
       " 'smoke',\n",
       " 'joints',\n",
       " 'pennebaker',\n",
       " 'war',\n",
       " 'room',\n",
       " 'moon',\n",
       " 'broadway',\n",
       " 'surprisingly',\n",
       " 'chooses',\n",
       " 'show',\n",
       " 'broad',\n",
       " 'spectrum',\n",
       " 'audience',\n",
       " 'matter',\n",
       " 'watching',\n",
       " 'comes',\n",
       " 'back',\n",
       " 'talented',\n",
       " 'musicians',\n",
       " 'stir',\n",
       " 'soul',\n",
       " 'excitement',\n",
       " 'starts',\n",
       " 'music',\n",
       " 'even',\n",
       " 'begins',\n",
       " 'young',\n",
       " 'girl',\n",
       " 'cleaning',\n",
       " 'thousands',\n",
       " 'seats',\n",
       " 'asked',\n",
       " 'interviewer',\n",
       " 'replies',\n",
       " 'feels',\n",
       " 'lucky',\n",
       " 'moments',\n",
       " 'organized',\n",
       " 'craziness',\n",
       " 'john',\n",
       " 'phillips',\n",
       " 'leader',\n",
       " 'mamas',\n",
       " 'papas',\n",
       " 'one',\n",
       " 'concert',\n",
       " 'organizers',\n",
       " 'tries',\n",
       " 'get',\n",
       " 'touch',\n",
       " 'dionne',\n",
       " 'warwick',\n",
       " 'one',\n",
       " 'band',\n",
       " 'tuning',\n",
       " 'member',\n",
       " 'remarks',\n",
       " 'finally',\n",
       " 'decent',\n",
       " 'sound',\n",
       " 'system',\n",
       " 'tell',\n",
       " 'watching',\n",
       " 'first',\n",
       " 'moments',\n",
       " 'show',\n",
       " 'isnt',\n",
       " 'vanity',\n",
       " 'playing',\n",
       " 'music',\n",
       " 'love',\n",
       " 'appreciation',\n",
       " 'twoway',\n",
       " 'street',\n",
       " 'interaction',\n",
       " 'audience',\n",
       " 'performer',\n",
       " 'continues',\n",
       " 'throughout',\n",
       " 'film',\n",
       " 'becomes',\n",
       " 'infectious',\n",
       " 'audience',\n",
       " 'impossible',\n",
       " 'tear',\n",
       " 'eyes',\n",
       " 'away',\n",
       " 'janis',\n",
       " 'joplin',\n",
       " 'belts',\n",
       " 'ballad',\n",
       " 'love',\n",
       " 'ball',\n",
       " 'chain',\n",
       " 'lyrics',\n",
       " 'wild',\n",
       " 'thing',\n",
       " 'may',\n",
       " 'complicated',\n",
       " 'watching',\n",
       " 'jimi',\n",
       " 'hendrix',\n",
       " 'mime',\n",
       " 'sex',\n",
       " 'guitar',\n",
       " 'captivating',\n",
       " 'otis',\n",
       " 'redding',\n",
       " 'singing',\n",
       " 'love',\n",
       " 'even',\n",
       " 'dont',\n",
       " 'recognize',\n",
       " 'every',\n",
       " 'band',\n",
       " 'see',\n",
       " 'stage',\n",
       " 'imagine',\n",
       " 'enthralled',\n",
       " 'work',\n",
       " 'public',\n",
       " 'sitting',\n",
       " 'seats',\n",
       " 'drawback',\n",
       " 'film',\n",
       " 'ending',\n",
       " 'unfortunately',\n",
       " 'must',\n",
       " 'reveal',\n",
       " 'bands',\n",
       " 'big',\n",
       " 'names',\n",
       " 'still',\n",
       " 'today',\n",
       " 'got',\n",
       " 'approximately',\n",
       " 'minutes',\n",
       " 'screen',\n",
       " 'time',\n",
       " 'contrast',\n",
       " 'last',\n",
       " 'band',\n",
       " 'camera',\n",
       " 'wholly',\n",
       " 'forgettable',\n",
       " 'one',\n",
       " 'gets',\n",
       " 'entire',\n",
       " 'minutes',\n",
       " 'screen',\n",
       " 'time',\n",
       " 'film',\n",
       " 'thats',\n",
       " 'minutes',\n",
       " 'long',\n",
       " 'thats',\n",
       " 'large',\n",
       " 'chunk',\n",
       " 'especially',\n",
       " 'previous',\n",
       " 'acts',\n",
       " 'much',\n",
       " 'stimulating',\n",
       " 'monterey',\n",
       " 'pop',\n",
       " 'precious',\n",
       " 'rare',\n",
       " 'look',\n",
       " 'time',\n",
       " 'period',\n",
       " 'still',\n",
       " 'holds',\n",
       " 'sway',\n",
       " 'us',\n",
       " 'variety',\n",
       " 'music',\n",
       " 'well',\n",
       " 'beautifully',\n",
       " 'shot',\n",
       " 'performances',\n",
       " 'easy',\n",
       " 'become',\n",
       " 'immersed',\n",
       " 'ever',\n",
       " 'question',\n",
       " 'bands',\n",
       " 'popular',\n",
       " 'quickly',\n",
       " 'dispelled',\n",
       " 'almost',\n",
       " 'depressing',\n",
       " 'think',\n",
       " 'music',\n",
       " 'moving',\n",
       " 'doesnt',\n",
       " 'get',\n",
       " 'made',\n",
       " 'much',\n",
       " 'anymore',\n",
       " 'instead',\n",
       " 'stuck',\n",
       " 'nsync',\n",
       " 'backstreet',\n",
       " 'boys',\n",
       " 'jennifer',\n",
       " 'lopez',\n",
       " 'stuck',\n",
       " 'modeling']"
      ]
     },
     "execution_count": 8,
     "metadata": {},
     "output_type": "execute_result"
    }
   ],
   "source": [
    "clean_text"
   ]
  },
  {
   "cell_type": "code",
   "execution_count": null,
   "metadata": {
    "id": "eUMYbAofCTWG"
   },
   "outputs": [],
   "source": [
    "# Load doc,clean amd return line of token\n",
    "def doc_to_line(filename,vocab):\n",
    "    # Load th edoc\n",
    "    doc = load_doc(filename)\n",
    "    # clean doc\n",
    "    tokens = clean_doc(doc)\n",
    "    # filter by vocab\n",
    "    tokens = [w for w in tokens if w in vocab]\n",
    "    return ' '.join(tokens)"
   ]
  },
  {
   "cell_type": "code",
   "execution_count": null,
   "metadata": {
    "id": "nPp78tm1EB0p"
   },
   "outputs": [],
   "source": [
    "vocab = open('Dataset/vocab.txt')\n",
    "vocab = vocab.read().split()"
   ]
  },
  {
   "cell_type": "code",
   "execution_count": null,
   "metadata": {
    "colab": {
     "base_uri": "https://localhost:8080/",
     "height": 122
    },
    "executionInfo": {
     "elapsed": 388,
     "status": "ok",
     "timestamp": 1702620180888,
     "user": {
      "displayName": "cdac_course",
      "userId": "16993079997048252374"
     },
     "user_tz": -330
    },
    "id": "R5ADygZ7DQV3",
    "outputId": "e2d9b1c5-4cf3-4ce0-80bc-0cbf6396ef1b"
   },
   "outputs": [
    {
     "data": {
      "text/plain": [
       "'us werent yet born rock rolled around monterey pop affectionate glimpse music influenced parents hippies otis redding jimi hendrix janis joplin mamas papas jefferson airplane documentary jampacked contagious energy give fair warning reveal ending rest film justice deserves shot outdoor concert film defies stereotype general population time sure painted faces smoke joints war room moon broadway surprisingly chooses show broad spectrum audience matter watching comes back talented musicians stir soul excitement starts music even begins young girl cleaning thousands seats asked interviewer replies feels lucky moments organized craziness john phillips leader mamas papas one concert tries get touch one band tuning member remarks finally decent sound system tell watching first moments show isnt vanity playing music love appreciation street interaction audience performer continues throughout film becomes infectious audience impossible tear eyes away janis joplin belts ballad love ball chain lyrics wild thing may complicated watching jimi hendrix mime sex guitar captivating otis redding singing love even dont recognize every band see stage imagine enthralled work public sitting seats drawback film ending unfortunately must reveal bands big names still today got approximately minutes screen time contrast last band camera wholly forgettable one gets entire minutes screen time film thats minutes long thats large chunk especially previous acts much stimulating monterey pop precious rare look time period still holds sway us variety music well beautifully shot performances easy become immersed ever question bands popular quickly almost depressing think music moving doesnt get made much anymore instead stuck backstreet boys jennifer lopez stuck modeling'"
      ]
     },
     "execution_count": 11,
     "metadata": {},
     "output_type": "execute_result"
    }
   ],
   "source": [
    "doc_to_line('Dataset/review_polarity/txt_sentoken/pos/cv026_29325.txt',vocab)"
   ]
  },
  {
   "cell_type": "code",
   "execution_count": null,
   "metadata": {
    "id": "hwDxHpoUFqp5"
   },
   "outputs": [],
   "source": [
    "# Load Training data\n",
    "def process_train(directory,vocab):\n",
    "    documents = []\n",
    "    for filename in listdir(directory):\n",
    "        if not filename.startswith('cv9'):\n",
    "            path = directory + '/' +filename\n",
    "            doc = load_doc(path)\n",
    "            tokens = clean_doc(doc,vocab)\n",
    "            documents.append(tokens)\n",
    "    return documents\n",
    "\n",
    " # Load Testing data\n",
    "def process_test(directory,vocab):\n",
    "    documents = []\n",
    "    for filename in listdir(directory):\n",
    "        if filename.startswith('cv9'):\n",
    "            path = directory + '/' +filename\n",
    "            doc = load_doc(path)\n",
    "            tokens = clean_doc(doc,vocab)\n",
    "            documents.append(tokens)\n",
    "    return documents\n"
   ]
  },
  {
   "cell_type": "code",
   "execution_count": null,
   "metadata": {
    "id": "YAP_diaVH7FE"
   },
   "outputs": [],
   "source": [
    "# Load docs in a directory\n",
    "def process_docs(directory,vocab,is_train):\n",
    "    documents = []\n",
    "    # Walk through All the Files In The Folder\n",
    "    for filename in listdir(directory):\n",
    "        # Skip any reviews in test set\n",
    "        if is_train and filename.startswith('cv9'):\n",
    "            continue\n",
    "        if not is_train and not filename.startswith('cv9'):\n",
    "            continue\n",
    "        # create the full path of the file to open\n",
    "        path = directory + '/' + filename\n",
    "        # load the doc\n",
    "        doc = load_doc(path)\n",
    "        # clean dDoc\n",
    "        tokens = clean_doc(doc)\n",
    "        # add to list\n",
    "        documents.append(tokens)\n",
    "    return documents\n"
   ]
  },
  {
   "cell_type": "code",
   "execution_count": null,
   "metadata": {
    "id": "v-a1abrRJK8q"
   },
   "outputs": [],
   "source": [
    "lines = process_docs('Dataset/review_polarity/txt_sentoken/pos',vocab,False)\n",
    "# Is_train = False Means Loading Testing Data"
   ]
  },
  {
   "cell_type": "code",
   "execution_count": null,
   "metadata": {
    "colab": {
     "base_uri": "https://localhost:8080/"
    },
    "executionInfo": {
     "elapsed": 390,
     "status": "ok",
     "timestamp": 1702621993648,
     "user": {
      "displayName": "cdac_course",
      "userId": "16993079997048252374"
     },
     "user_tz": -330
    },
    "id": "co0v_sDIK-SR",
    "outputId": "a85f2b58-8a51-499d-95fc-b36d8398c003"
   },
   "outputs": [
    {
     "data": {
      "text/plain": [
       "100"
      ]
     },
     "execution_count": 15,
     "metadata": {},
     "output_type": "execute_result"
    }
   ],
   "source": [
    "len(lines)"
   ]
  },
  {
   "cell_type": "code",
   "execution_count": null,
   "metadata": {
    "id": "AVCQNwWVK-I0"
   },
   "outputs": [],
   "source": [
    "# Load and Clean a Dataset\n",
    "def load_clean_dataset(vocab,is_train):\n",
    "    # load documents\n",
    "    neg = process_docs('Dataset/review_polarity/txt_sentoken/neg',vocab,is_train)\n",
    "    pos = process_docs('Dataset/review_polarity/txt_sentoken/pos',vocab,is_train)\n",
    "    docs = neg+pos\n",
    "    # Prepare Labels\n",
    "    labels = [0 for _ in range(len(neg))] + [1 for _ in range(len(pos))]\n",
    "    return docs,labels\n"
   ]
  },
  {
   "cell_type": "code",
   "execution_count": null,
   "metadata": {
    "id": "RncYlUHcMQ6J"
   },
   "outputs": [],
   "source": [
    "train,train_labels = load_clean_dataset(vocab,True)\n",
    "test,test_labels = load_clean_dataset(vocab,False)\n"
   ]
  },
  {
   "cell_type": "code",
   "execution_count": null,
   "metadata": {
    "colab": {
     "base_uri": "https://localhost:8080/"
    },
    "executionInfo": {
     "elapsed": 412,
     "status": "ok",
     "timestamp": 1702622353967,
     "user": {
      "displayName": "cdac_course",
      "userId": "16993079997048252374"
     },
     "user_tz": -330
    },
    "id": "rWo3TDgrMqha",
    "outputId": "c72a1854-c86c-4ac8-97bc-31a27ea756ee"
   },
   "outputs": [
    {
     "data": {
      "text/plain": [
       "(1810, 1810)"
      ]
     },
     "execution_count": 18,
     "metadata": {},
     "output_type": "execute_result"
    }
   ],
   "source": [
    "len(train),len(train_labels)"
   ]
  },
  {
   "cell_type": "code",
   "execution_count": null,
   "metadata": {
    "colab": {
     "base_uri": "https://localhost:8080/"
    },
    "executionInfo": {
     "elapsed": 488,
     "status": "ok",
     "timestamp": 1702622383846,
     "user": {
      "displayName": "cdac_course",
      "userId": "16993079997048252374"
     },
     "user_tz": -330
    },
    "id": "GVhCzooOM1L7",
    "outputId": "72422d11-a056-4e00-8971-5c52089a0961"
   },
   "outputs": [
    {
     "data": {
      "text/plain": [
       "(200, 200)"
      ]
     },
     "execution_count": 19,
     "metadata": {},
     "output_type": "execute_result"
    }
   ],
   "source": [
    "len(test),len(test_labels)"
   ]
  },
  {
   "cell_type": "code",
   "execution_count": null,
   "metadata": {
    "id": "jgUpL2eFM8mo"
   },
   "outputs": [],
   "source": [
    "from keras.models import Sequential\n",
    "from keras.layers import Dense,MaxPool1D,Conv1D,Embedding,Flatten"
   ]
  },
  {
   "cell_type": "code",
   "execution_count": null,
   "metadata": {
    "id": "yur9KwUWNmR4"
   },
   "outputs": [],
   "source": [
    "# define the model\n",
    "def define_model(vocab_size,max_length):\n",
    "    # Define Network\n",
    "    model = Sequential()\n",
    "    model.add(Embedding(vocab_size,100,input_length=max_length))\n",
    "    model.add(Conv1D(filters=32,kernel_size=8,activation='relu'))\n",
    "    model.add(MaxPool1D(pool_size=2))\n",
    "    model.add(Flatten())\n",
    "    model.add(Dense(50,activation='relu'))\n",
    "    model.add(Dense(1,activation='sigmoid'))\n",
    "    # Compile Network\n",
    "    model.compile(loss='binary_crossentropy',optimizer='adam',metrics = ['accuracy'])\n",
    "\n",
    "    # summerize Defined Model\n",
    "    model.summary()\n",
    "    plot_model(model,to_file='model.png',show_shapes=True)\n",
    "    return model"
   ]
  },
  {
   "cell_type": "code",
   "execution_count": null,
   "metadata": {
    "colab": {
     "base_uri": "https://localhost:8080/"
    },
    "executionInfo": {
     "elapsed": 13,
     "status": "ok",
     "timestamp": 1702622931277,
     "user": {
      "displayName": "cdac_course",
      "userId": "16993079997048252374"
     },
     "user_tz": -330
    },
    "id": "pfbRNNUyOpN6",
    "outputId": "928df3fc-8dc6-4673-d457-2c5754cde3c3"
   },
   "outputs": [
    {
     "name": "stdout",
     "output_type": "stream",
     "text": [
      "Model: \"sequential_2\"\n",
      "_________________________________________________________________\n",
      " Layer (type)                Output Shape              Param #   \n",
      "=================================================================\n",
      " embedding (Embedding)       (None, 100, 100)          1000      \n",
      "                                                                 \n",
      " conv1d (Conv1D)             (None, 93, 32)            25632     \n",
      "                                                                 \n",
      " max_pooling1d (MaxPooling1  (None, 46, 32)            0         \n",
      " D)                                                              \n",
      "                                                                 \n",
      " flatten (Flatten)           (None, 1472)              0         \n",
      "                                                                 \n",
      " dense_4 (Dense)             (None, 50)                73650     \n",
      "                                                                 \n",
      " dense_5 (Dense)             (None, 1)                 51        \n",
      "                                                                 \n",
      "=================================================================\n",
      "Total params: 100333 (391.93 KB)\n",
      "Trainable params: 100333 (391.93 KB)\n",
      "Non-trainable params: 0 (0.00 Byte)\n",
      "_________________________________________________________________\n"
     ]
    },
    {
     "data": {
      "text/plain": [
       "<keras.src.engine.sequential.Sequential at 0x7fd2506a3510>"
      ]
     },
     "execution_count": 45,
     "metadata": {},
     "output_type": "execute_result"
    }
   ],
   "source": [
    "define_model(10,100)"
   ]
  },
  {
   "cell_type": "code",
   "execution_count": null,
   "metadata": {
    "id": "_wNW4rxjOwcY"
   },
   "outputs": [],
   "source": [
    "def create_tokenizer(lines):\n",
    "    tokenizer = Tokenizer()\n",
    "    tokenizer.fit_on_texts(lines)\n",
    "    return tokenizer"
   ]
  },
  {
   "cell_type": "code",
   "execution_count": null,
   "metadata": {
    "id": "za6SiT1V5a3T"
   },
   "outputs": [],
   "source": [
    "from keras.preprocessing.sequence import pad_sequences"
   ]
  },
  {
   "cell_type": "code",
   "execution_count": null,
   "metadata": {
    "id": "DSAqTU1A5a3T"
   },
   "outputs": [],
   "source": [
    "# Integer Encode and Pad Documents\n",
    "def encode_docs(tokenizer,max_length,docs):\n",
    "    # Integer Encode\n",
    "    encoded = tokenizer.texts_to_sequences(docs)\n",
    "    # Pad Sequences\n",
    "    padded = pad_sequences(encoded,maxlen=max_length,padding='post')\n",
    "    return padded"
   ]
  },
  {
   "cell_type": "code",
   "execution_count": null,
   "metadata": {
    "id": "YvGBBnK-PaLp"
   },
   "outputs": [],
   "source": [
    "# Create The Tokenizer\n",
    "tokenizer = create_tokenizer(train)"
   ]
  },
  {
   "cell_type": "code",
   "execution_count": null,
   "metadata": {
    "id": "TyeTCB5VPgUI"
   },
   "outputs": [],
   "source": [
    "X_train = tokenizer.texts_to_matrix(train,mode='binary')"
   ]
  },
  {
   "cell_type": "code",
   "execution_count": null,
   "metadata": {
    "colab": {
     "base_uri": "https://localhost:8080/"
    },
    "executionInfo": {
     "elapsed": 379,
     "status": "ok",
     "timestamp": 1702623095886,
     "user": {
      "displayName": "cdac_course",
      "userId": "16993079997048252374"
     },
     "user_tz": -330
    },
    "id": "SU5oPAhiPnE4",
    "outputId": "19d12c29-8728-4fbf-f13f-fee988ffe660"
   },
   "outputs": [
    {
     "data": {
      "text/plain": [
       "(1810, 44277)"
      ]
     },
     "execution_count": 28,
     "metadata": {},
     "output_type": "execute_result"
    }
   ],
   "source": [
    "X_train.shape"
   ]
  },
  {
   "cell_type": "code",
   "execution_count": null,
   "metadata": {
    "id": "sfz_pXGfPojo"
   },
   "outputs": [],
   "source": [
    "X_test= tokenizer.texts_to_matrix(test,mode='binary')"
   ]
  },
  {
   "cell_type": "code",
   "execution_count": null,
   "metadata": {
    "colab": {
     "base_uri": "https://localhost:8080/"
    },
    "executionInfo": {
     "elapsed": 393,
     "status": "ok",
     "timestamp": 1702623209793,
     "user": {
      "displayName": "cdac_course",
      "userId": "16993079997048252374"
     },
     "user_tz": -330
    },
    "id": "sPe1dbP9QD8o",
    "outputId": "71cb405c-ef86-4395-984e-ed18a754e785"
   },
   "outputs": [
    {
     "data": {
      "text/plain": [
       "(200, 44277)"
      ]
     },
     "execution_count": 30,
     "metadata": {},
     "output_type": "execute_result"
    }
   ],
   "source": [
    "X_test.shape"
   ]
  },
  {
   "cell_type": "code",
   "execution_count": null,
   "metadata": {
    "colab": {
     "base_uri": "https://localhost:8080/"
    },
    "executionInfo": {
     "elapsed": 382,
     "status": "ok",
     "timestamp": 1702623232844,
     "user": {
      "displayName": "cdac_course",
      "userId": "16993079997048252374"
     },
     "user_tz": -330
    },
    "id": "J6W4DH1BQGP4",
    "outputId": "3b764df6-af0f-4158-a1a4-84b3d169d228"
   },
   "outputs": [
    {
     "data": {
      "text/plain": [
       "defaultdict(int,\n",
       "            {'chef': 14,\n",
       "             'grown': 39,\n",
       "             'teenage': 75,\n",
       "             'impressive': 161,\n",
       "             'banal': 19,\n",
       "             'occasional': 55,\n",
       "             'trying': 396,\n",
       "             'doesnt': 735,\n",
       "             'fantasy': 69,\n",
       "             'cuteness': 9,\n",
       "             'segment': 31,\n",
       "             'takeoff': 7,\n",
       "             'meal': 9,\n",
       "             'families': 32,\n",
       "             'depth': 114,\n",
       "             'breakout': 6,\n",
       "             'porn': 30,\n",
       "             'julia': 46,\n",
       "             'team': 174,\n",
       "             'order': 215,\n",
       "             'newly': 24,\n",
       "             'one': 1567,\n",
       "             'far': 424,\n",
       "             'strictly': 32,\n",
       "             'featured': 39,\n",
       "             'epitome': 13,\n",
       "             'despite': 252,\n",
       "             'unlikely': 49,\n",
       "             'plot': 777,\n",
       "             'nicest': 3,\n",
       "             'things': 531,\n",
       "             'unattractive': 5,\n",
       "             'hatosy': 4,\n",
       "             'keep': 281,\n",
       "             'along': 399,\n",
       "             'activities': 20,\n",
       "             'concept': 83,\n",
       "             'goofyembarrassing': 1,\n",
       "             'others': 237,\n",
       "             'reel': 23,\n",
       "             'characters': 906,\n",
       "             'zak': 2,\n",
       "             'appeal': 74,\n",
       "             'plan': 120,\n",
       "             'meets': 166,\n",
       "             'needy': 4,\n",
       "             'movie': 1380,\n",
       "             'realized': 70,\n",
       "             'cruel': 34,\n",
       "             'often': 261,\n",
       "             'pitted': 4,\n",
       "             'intelligent': 139,\n",
       "             'course': 440,\n",
       "             'boylosesgirl': 1,\n",
       "             'aspiring': 17,\n",
       "             'together': 388,\n",
       "             'well': 901,\n",
       "             'scenario': 29,\n",
       "             'always': 388,\n",
       "             'orth': 2,\n",
       "             'laughing': 92,\n",
       "             'radiate': 4,\n",
       "             'crazy': 64,\n",
       "             'last': 531,\n",
       "             'good': 1038,\n",
       "             'draw': 59,\n",
       "             'cops': 67,\n",
       "             'commodity': 13,\n",
       "             'antics': 36,\n",
       "             'attractive': 61,\n",
       "             'tasteless': 17,\n",
       "             'identity': 64,\n",
       "             'faculty': 6,\n",
       "             'fluff': 21,\n",
       "             'prinze': 18,\n",
       "             'films': 944,\n",
       "             'followed': 62,\n",
       "             'circumstances': 45,\n",
       "             'run': 208,\n",
       "             'formula': 75,\n",
       "             'boymeetsgirl': 4,\n",
       "             'tvs': 40,\n",
       "             'als': 5,\n",
       "             'toward': 77,\n",
       "             'fashion': 80,\n",
       "             'game': 180,\n",
       "             'cooking': 15,\n",
       "             'funny': 445,\n",
       "             'rounding': 12,\n",
       "             'capitalize': 14,\n",
       "             'catalogue': 2,\n",
       "             'couple': 278,\n",
       "             'end': 663,\n",
       "             'frequently': 60,\n",
       "             'star': 358,\n",
       "             'jr': 58,\n",
       "             'audience': 554,\n",
       "             'worst': 218,\n",
       "             'jokes': 156,\n",
       "             'boydrinksentirebottleofshampooandmayormaynotgetgirlback': 1,\n",
       "             'accustomed': 8,\n",
       "             'craze': 6,\n",
       "             'college': 88,\n",
       "             'freshman': 6,\n",
       "             'possibly': 104,\n",
       "             'say': 525,\n",
       "             'sort': 214,\n",
       "             'attached': 24,\n",
       "             'textbook': 9,\n",
       "             'angst': 12,\n",
       "             'unmistakable': 5,\n",
       "             'know': 678,\n",
       "             'cast': 482,\n",
       "             'assembled': 24,\n",
       "             'ray': 45,\n",
       "             'amused': 10,\n",
       "             'obvious': 224,\n",
       "             'hot': 93,\n",
       "             'leave': 184,\n",
       "             'conveniently': 15,\n",
       "             'obviously': 188,\n",
       "             'whole': 357,\n",
       "             'ensemble': 45,\n",
       "             'miramax': 12,\n",
       "             'sources': 13,\n",
       "             'mentioned': 69,\n",
       "             'cook': 19,\n",
       "             'crowd': 60,\n",
       "             'storm': 37,\n",
       "             'maybe': 245,\n",
       "             'suit': 56,\n",
       "             'monk': 5,\n",
       "             'find': 512,\n",
       "             'sophomore': 7,\n",
       "             'rabid': 10,\n",
       "             'ordinary': 37,\n",
       "             'gears': 8,\n",
       "             'hit': 204,\n",
       "             'thing': 526,\n",
       "             'son': 201,\n",
       "             'houses': 20,\n",
       "             'previously': 59,\n",
       "             'happen': 171,\n",
       "             'drive': 72,\n",
       "             'folks': 66,\n",
       "             'film': 1562,\n",
       "             'waited': 16,\n",
       "             'impatiently': 2,\n",
       "             'life': 713,\n",
       "             'handling': 23,\n",
       "             'comes': 527,\n",
       "             'however': 581,\n",
       "             'girl': 261,\n",
       "             'bland': 76,\n",
       "             'decent': 129,\n",
       "             'fullyarmed': 1,\n",
       "             'blair': 39,\n",
       "             'make': 903,\n",
       "             'everything': 352,\n",
       "             'ashton': 4,\n",
       "             'father': 274,\n",
       "             'arrival': 30,\n",
       "             'would': 1001,\n",
       "             'could': 785,\n",
       "             'highlight': 37,\n",
       "             'sticks': 29,\n",
       "             'old': 472,\n",
       "             'giggly': 1,\n",
       "             'taking': 183,\n",
       "             'selma': 3,\n",
       "             'flashcards': 1,\n",
       "             'absurd': 47,\n",
       "             'talent': 175,\n",
       "             'shawn': 9,\n",
       "             'nostalgia': 23,\n",
       "             'main': 302,\n",
       "             'show': 414,\n",
       "             'comedy': 451,\n",
       "             'kutcher': 1,\n",
       "             'year': 388,\n",
       "             'refreshing': 41,\n",
       "             'charisma': 41,\n",
       "             'studdly': 1,\n",
       "             'convincing': 106,\n",
       "             'bound': 43,\n",
       "             'clich': 56,\n",
       "             'role': 555,\n",
       "             'humor': 261,\n",
       "             'movies': 731,\n",
       "             'winkler': 6,\n",
       "             'dull': 108,\n",
       "             'youve': 143,\n",
       "             'ahh': 3,\n",
       "             'around': 603,\n",
       "             'boring': 203,\n",
       "             'clever': 138,\n",
       "             'way': 916,\n",
       "             'looked': 91,\n",
       "             'feature': 159,\n",
       "             'assistance': 20,\n",
       "             'dialogue': 354,\n",
       "             'program': 40,\n",
       "             'perhaps': 336,\n",
       "             'even': 1163,\n",
       "             'freddie': 19,\n",
       "             'romance': 122,\n",
       "             'resulting': 27,\n",
       "             'desired': 19,\n",
       "             'actually': 533,\n",
       "             'sequence': 245,\n",
       "             'finished': 33,\n",
       "             'mildly': 35,\n",
       "             'girls': 103,\n",
       "             'imitators': 1,\n",
       "             'whiff': 4,\n",
       "             'uninspired': 30,\n",
       "             'centered': 10,\n",
       "             'gets': 591,\n",
       "             'adorable': 18,\n",
       "             'part': 474,\n",
       "             'guy': 362,\n",
       "             'latest': 150,\n",
       "             'popular': 145,\n",
       "             'walking': 70,\n",
       "             'flair': 29,\n",
       "             'project': 135,\n",
       "             'stiles': 7,\n",
       "             'including': 256,\n",
       "             'warmth': 17,\n",
       "             'restless': 17,\n",
       "             'screen': 458,\n",
       "             'like': 1327,\n",
       "             'intentions': 34,\n",
       "             'paper': 33,\n",
       "             'luck': 53,\n",
       "             'support': 66,\n",
       "             'henry': 48,\n",
       "             'work': 644,\n",
       "             'dad': 60,\n",
       "             'host': 29,\n",
       "             'drawn': 62,\n",
       "             'genre': 182,\n",
       "             'certain': 158,\n",
       "             'result': 188,\n",
       "             'extraordinarily': 15,\n",
       "             'ordeal': 10,\n",
       "             'teen': 80,\n",
       "             'cooks': 1,\n",
       "             'artist': 63,\n",
       "             'requirements': 9,\n",
       "             'product': 80,\n",
       "             'welcome': 66,\n",
       "             'shes': 245,\n",
       "             'standard': 91,\n",
       "             'stopping': 11,\n",
       "             'yes': 196,\n",
       "             'kind': 368,\n",
       "             'entirely': 102,\n",
       "             'story': 953,\n",
       "             'called': 267,\n",
       "             'fortunately': 42,\n",
       "             'imogen': 1,\n",
       "             'remaining': 49,\n",
       "             'seemed': 160,\n",
       "             'got': 327,\n",
       "             'young': 444,\n",
       "             'swat': 5,\n",
       "             'hate': 93,\n",
       "             'fonz': 2,\n",
       "             'shows': 317,\n",
       "             'al': 38,\n",
       "             'something': 650,\n",
       "             'long': 534,\n",
       "             'sake': 39,\n",
       "             'bathroom': 36,\n",
       "             'plays': 528,\n",
       "             'elegant': 14,\n",
       "             'tim': 89,\n",
       "             'woman': 323,\n",
       "             'straightlaced': 7,\n",
       "             'reason': 323,\n",
       "             'riot': 19,\n",
       "             'provided': 68,\n",
       "             'tommy': 42,\n",
       "             'awful': 107,\n",
       "             'contrived': 66,\n",
       "             'another': 709,\n",
       "             'jams': 3,\n",
       "             'best': 759,\n",
       "             'else': 288,\n",
       "             'martin': 93,\n",
       "             'embarassing': 6,\n",
       "             'house': 220,\n",
       "             'car': 202,\n",
       "             'previous': 141,\n",
       "             'accusing': 3,\n",
       "             'isnt': 557,\n",
       "             'everyone': 330,\n",
       "             'billy': 75,\n",
       "             'entire': 300,\n",
       "             'tolerate': 8,\n",
       "             'released': 152,\n",
       "             'goes': 473,\n",
       "             'swiped': 1,\n",
       "             'importantly': 43,\n",
       "             'stealing': 31,\n",
       "             'violently': 5,\n",
       "             'youd': 85,\n",
       "             'davidson': 9,\n",
       "             'running': 246,\n",
       "             'reconsider': 2,\n",
       "             'causing': 28,\n",
       "             'careers': 24,\n",
       "             'either': 296,\n",
       "             'ok': 69,\n",
       "             'think': 544,\n",
       "             'woody': 62,\n",
       "             'restaurant': 35,\n",
       "             'dee': 4,\n",
       "             'puts': 110,\n",
       "             'scorseses': 12,\n",
       "             'version': 184,\n",
       "             'smith': 79,\n",
       "             'questioning': 16,\n",
       "             'besides': 54,\n",
       "             'player': 59,\n",
       "             'woos': 13,\n",
       "             'girlfriends': 19,\n",
       "             'taunt': 4,\n",
       "             'ever': 502,\n",
       "             'call': 169,\n",
       "             'get': 979,\n",
       "             'back': 641,\n",
       "             'every': 611,\n",
       "             'black': 261,\n",
       "             'joke': 100,\n",
       "             'hours': 186,\n",
       "             'thugs': 20,\n",
       "             'woo': 35,\n",
       "             'doors': 32,\n",
       "             'subway': 12,\n",
       "             'person': 233,\n",
       "             'sexual': 133,\n",
       "             'falling': 64,\n",
       "             'chuckle': 21,\n",
       "             'blind': 35,\n",
       "             'closing': 37,\n",
       "             'sure': 362,\n",
       "             'starts': 240,\n",
       "             'date': 89,\n",
       "             'belittling': 1,\n",
       "             'instead': 418,\n",
       "             'normal': 83,\n",
       "             'three': 384,\n",
       "             'bananas': 7,\n",
       "             'open': 117,\n",
       "             'chuckles': 18,\n",
       "             'wild': 107,\n",
       "             'yet': 423,\n",
       "             'directly': 66,\n",
       "             'involved': 194,\n",
       "             'various': 127,\n",
       "             'allens': 16,\n",
       "             'read': 146,\n",
       "             'screenplay': 209,\n",
       "             'offensive': 52,\n",
       "             'wont': 211,\n",
       "             'africanamericans': 4,\n",
       "             'follows': 141,\n",
       "             'bad': 688,\n",
       "             'somewhere': 106,\n",
       "             'case': 284,\n",
       "             'anyone': 327,\n",
       "             'mirror': 26,\n",
       "             'buffoons': 7,\n",
       "             'def': 2,\n",
       "             'booty': 3,\n",
       "             'williams': 103,\n",
       "             'night': 280,\n",
       "             'infuriating': 7,\n",
       "             'jada': 5,\n",
       "             'showing': 113,\n",
       "             'wouldnt': 157,\n",
       "             'thinks': 115,\n",
       "             'unknown': 42,\n",
       "             'scene': 713,\n",
       "             'months': 80,\n",
       "             'cameo': 83,\n",
       "             'stolen': 47,\n",
       "             'mayhem': 23,\n",
       "             'destroying': 25,\n",
       "             'made': 651,\n",
       "             'pinkett': 5,\n",
       "             'nothing': 524,\n",
       "             'seemingly': 102,\n",
       "             'really': 783,\n",
       "             'include': 95,\n",
       "             'point': 438,\n",
       "             'ripoff': 31,\n",
       "             'stick': 57,\n",
       "             'writer': 142,\n",
       "             'fern': 3,\n",
       "             'eating': 35,\n",
       "             'gore': 71,\n",
       "             'cover': 76,\n",
       "             'anyway': 154,\n",
       "             'steins': 2,\n",
       "             'female': 109,\n",
       "             'especially': 341,\n",
       "             'stripped': 14,\n",
       "             'darren': 8,\n",
       "             'nerdy': 6,\n",
       "             'refuse': 12,\n",
       "             'conviction': 23,\n",
       "             'constant': 66,\n",
       "             'royalty': 6,\n",
       "             'school': 202,\n",
       "             'actresses': 36,\n",
       "             'rest': 331,\n",
       "             'cheeks': 6,\n",
       "             'discovers': 89,\n",
       "             'daily': 21,\n",
       "             'fact': 525,\n",
       "             'dialog': 38,\n",
       "             'pornographic': 9,\n",
       "             'cant': 442,\n",
       "             'played': 499,\n",
       "             'oprah': 5,\n",
       "             'better': 605,\n",
       "             'blue': 77,\n",
       "             'scenes': 699,\n",
       "             'name': 284,\n",
       "             'position': 58,\n",
       "             'julie': 43,\n",
       "             'brothel': 3,\n",
       "             'setup': 70,\n",
       "             'offer': 92,\n",
       "             'stuckup': 4,\n",
       "             'going': 567,\n",
       "             'grier': 14,\n",
       "             'stein': 4,\n",
       "             'investigates': 3,\n",
       "             'referred': 20,\n",
       "             'gayheart': 10,\n",
       "             'let': 229,\n",
       "             'reagan': 9,\n",
       "             'wit': 64,\n",
       "             'hold': 111,\n",
       "             'time': 1106,\n",
       "             'princess': 40,\n",
       "             'watching': 371,\n",
       "             'walk': 85,\n",
       "             'avoid': 81,\n",
       "             'public': 77,\n",
       "             'learning': 34,\n",
       "             'pam': 20,\n",
       "             'disgusting': 17,\n",
       "             'ugly': 59,\n",
       "             'theater': 162,\n",
       "             'emotion': 66,\n",
       "             'much': 1013,\n",
       "             'dead': 249,\n",
       "             'many': 705,\n",
       "             'mature': 37,\n",
       "             'fare': 71,\n",
       "             'intelligence': 95,\n",
       "             'later': 301,\n",
       "             'runs': 167,\n",
       "             'mouth': 78,\n",
       "             'killed': 163,\n",
       "             'lizs': 3,\n",
       "             'realistic': 94,\n",
       "             'says': 191,\n",
       "             'phone': 66,\n",
       "             'stares': 9,\n",
       "             'ask': 116,\n",
       "             'nosed': 1,\n",
       "             'id': 138,\n",
       "             'brag': 5,\n",
       "             'wannabes': 11,\n",
       "             'posh': 7,\n",
       "             'charlotte': 9,\n",
       "             'golf': 3,\n",
       "             'miss': 90,\n",
       "             'mcgowan': 12,\n",
       "             'vera': 7,\n",
       "             'idiots': 16,\n",
       "             'interrogates': 2,\n",
       "             'compacts': 1,\n",
       "             'mere': 40,\n",
       "             'grab': 18,\n",
       "             'prank': 7,\n",
       "             'profanity': 33,\n",
       "             'put': 326,\n",
       "             'rose': 39,\n",
       "             'sex': 227,\n",
       "             'spice': 27,\n",
       "             'sometimes': 188,\n",
       "             'reference': 35,\n",
       "             'roldan': 3,\n",
       "             'advised': 12,\n",
       "             'number': 168,\n",
       "             'mayo': 3,\n",
       "             'eventually': 180,\n",
       "             'teacher': 65,\n",
       "             'cruz': 8,\n",
       "             'di': 8,\n",
       "             'go': 652,\n",
       "             'toss': 9,\n",
       "             'brutal': 41,\n",
       "             'shed': 20,\n",
       "             'halls': 11,\n",
       "             'older': 79,\n",
       "             'start': 243,\n",
       "             'bruised': 4,\n",
       "             'teachers': 8,\n",
       "             'considerably': 24,\n",
       "             'rebecca': 24,\n",
       "             'overdress': 1,\n",
       "             'presence': 148,\n",
       "             'director': 717,\n",
       "             'granted': 46,\n",
       "             'taste': 50,\n",
       "             'larger': 34,\n",
       "             'lipstick': 7,\n",
       "             'dont': 712,\n",
       "             'trunk': 15,\n",
       "             'viewer': 139,\n",
       "             'literally': 85,\n",
       "             'minutes': 430,\n",
       "             'look': 545,\n",
       "             'please': 83,\n",
       "             'rape': 32,\n",
       "             'detective': 84,\n",
       "             'without': 491,\n",
       "             'skills': 57,\n",
       "             'ritual': 11,\n",
       "             'guarantee': 16,\n",
       "             'seminude': 1,\n",
       "             'advise': 3,\n",
       "             'given': 366,\n",
       "             'jawbreaker': 5,\n",
       "             'feeling': 167,\n",
       "             'parade': 21,\n",
       "             'proving': 22,\n",
       "             'fast': 110,\n",
       "             'tape': 35,\n",
       "             'forget': 103,\n",
       "             'introduces': 40,\n",
       "             'liz': 9,\n",
       "             'seen': 566,\n",
       "             'bosom': 3,\n",
       "             'parenting': 4,\n",
       "             'wrong': 273,\n",
       "             'fab': 2,\n",
       "             'body': 195,\n",
       "             'action': 495,\n",
       "             'shut': 35,\n",
       "             'hard': 352,\n",
       "             'cake': 15,\n",
       "             'high': 314,\n",
       "             'turn': 261,\n",
       "             'benz': 3,\n",
       "             'institution': 17,\n",
       "             'people': 760,\n",
       "             'ball': 44,\n",
       "             'parents': 135,\n",
       "             'ridiculous': 113,\n",
       "             'violence': 195,\n",
       "             'sounds': 107,\n",
       "             'powder': 9,\n",
       "             'trite': 37,\n",
       "             'happened': 136,\n",
       "             'see': 877,\n",
       "             'rated': 100,\n",
       "             'heathers': 9,\n",
       "             'brains': 28,\n",
       "             'makeup': 51,\n",
       "             'charm': 99,\n",
       "             'clan': 10,\n",
       "             'stomach': 22,\n",
       "             'reflex': 2,\n",
       "             'add': 153,\n",
       "             'question': 219,\n",
       "             'check': 65,\n",
       "             'ronald': 7,\n",
       "             'murder': 160,\n",
       "             'four': 189,\n",
       "             'shayne': 2,\n",
       "             'likely': 134,\n",
       "             'taken': 181,\n",
       "             'teenagers': 58,\n",
       "             'lines': 241,\n",
       "             'victim': 79,\n",
       "             'means': 146,\n",
       "             'never': 757,\n",
       "             'eerie': 30,\n",
       "             'kill': 202,\n",
       "             'outages': 1,\n",
       "             'elated': 1,\n",
       "             'rise': 54,\n",
       "             'responsible': 60,\n",
       "             'died': 65,\n",
       "             'trip': 91,\n",
       "             'besieged': 4,\n",
       "             'practically': 45,\n",
       "             'secretly': 33,\n",
       "             'filleted': 1,\n",
       "             'quirky': 42,\n",
       "             'word': 177,\n",
       "             'dark': 196,\n",
       "             'slicker': 6,\n",
       "             'karlas': 4,\n",
       "             'dump': 11,\n",
       "             'roommate': 20,\n",
       "             'diminuitive': 1,\n",
       "             'hunted': 8,\n",
       "             'hotel': 59,\n",
       "             'giggling': 3,\n",
       "             'dance': 67,\n",
       "             'staff': 22,\n",
       "             'frightened': 26,\n",
       "             'looks': 327,\n",
       "             'mysteriously': 13,\n",
       "             'mountain': 33,\n",
       "             'brandy': 9,\n",
       "             'love': 571,\n",
       "             'deserted': 20,\n",
       "             'begin': 160,\n",
       "             'screaming': 44,\n",
       "             'heres': 61,\n",
       "             'desparate': 1,\n",
       "             'heard': 130,\n",
       "             'accidentally': 52,\n",
       "             'chalk': 3,\n",
       "             'accompanying': 12,\n",
       "             'example': 237,\n",
       "             'hunt': 40,\n",
       "             'slashfest': 1,\n",
       "             'sleep': 50,\n",
       "             'driving': 55,\n",
       "             'sequal': 1,\n",
       "             'nights': 53,\n",
       "             'meanwhile': 111,\n",
       "             'blinking': 3,\n",
       "             'possible': 201,\n",
       "             'touch': 92,\n",
       "             'sees': 111,\n",
       "             'boat': 50,\n",
       "             'vacation': 30,\n",
       "             'might': 446,\n",
       "             'skeleton': 5,\n",
       "             'figure': 152,\n",
       "             'scroll': 2,\n",
       "             'storms': 10,\n",
       "             'potential': 139,\n",
       "             'slash': 2,\n",
       "             'next': 330,\n",
       "             'boils': 15,\n",
       "             'friends': 268,\n",
       "             'didnt': 387,\n",
       "             'count': 70,\n",
       "             'resort': 17,\n",
       "             'seems': 623,\n",
       "             'quite': 422,\n",
       "             'convince': 40,\n",
       "             'cleaning': 16,\n",
       "             'season': 54,\n",
       "             'thoroughly': 62,\n",
       "             'lights': 38,\n",
       "             'local': 159,\n",
       "             'karaoke': 5,\n",
       "             'wished': 16,\n",
       "             'verge': 11,\n",
       "             'lurk': 3,\n",
       "             'still': 629,\n",
       "             'singing': 50,\n",
       "             'everywhere': 40,\n",
       "             'ocean': 40,\n",
       "             'tyrell': 4,\n",
       "             'circles': 21,\n",
       "             'slayings': 2,\n",
       "             'summer': 174,\n",
       "             'memories': 50,\n",
       "             'door': 84,\n",
       "             'strange': 141,\n",
       "             'anniversary': 16,\n",
       "             'satisfied': 19,\n",
       "             'kids': 202,\n",
       "             'chased': 25,\n",
       "             'want': 397,\n",
       "             'unless': 73,\n",
       "             'ranted': 1,\n",
       "             'learn': 142,\n",
       "             'rejects': 9,\n",
       "             'wearing': 47,\n",
       "             'uninteresting': 42,\n",
       "             'soon': 293,\n",
       "             'misdeed': 2,\n",
       "             'filled': 131,\n",
       "             'club': 72,\n",
       "             'jennifer': 68,\n",
       "             'knockknock': 1,\n",
       "             'grade': 27,\n",
       "             'schoolwork': 2,\n",
       "             'presumably': 28,\n",
       "             'survive': 61,\n",
       "             'hewitt': 11,\n",
       "             'breakdown': 22,\n",
       "             'creates': 82,\n",
       "             'mehki': 1,\n",
       "             'secluded': 6,\n",
       "             'intense': 68,\n",
       "             'highway': 18,\n",
       "             'tries': 282,\n",
       "             'man': 684,\n",
       "             'opens': 146,\n",
       "             'leads': 185,\n",
       "             'contest': 17,\n",
       "             'concentrate': 11,\n",
       "             'hooked': 11,\n",
       "             'give': 409,\n",
       "             'beau': 8,\n",
       "             'nightmarish': 10,\n",
       "             'lightning': 13,\n",
       "             'boyfriend': 57,\n",
       "             'first': 922,\n",
       "             'two': 933,\n",
       "             'libido': 2,\n",
       "             'campiness': 7,\n",
       "             'hook': 32,\n",
       "             'power': 154,\n",
       "             'incessantly': 16,\n",
       "             'true': 282,\n",
       "             'lets': 163,\n",
       "             'survived': 16,\n",
       "             'mindless': 26,\n",
       "             'suspense': 132,\n",
       "             'words': 167,\n",
       "             'shadows': 22,\n",
       "             'returned': 33,\n",
       "             'amount': 107,\n",
       "             'killer': 135,\n",
       "             'tropical': 7,\n",
       "             'needing': 7,\n",
       "             'suddenly': 117,\n",
       "             'lady': 64,\n",
       "             'wry': 11,\n",
       "             'housekeeping': 2,\n",
       "             'irritated': 4,\n",
       "             'visions': 21,\n",
       "             'hand': 248,\n",
       "             'guessed': 24,\n",
       "             'venue': 3,\n",
       "             'wielding': 11,\n",
       "             'nervous': 33,\n",
       "             'overbearing': 25,\n",
       "             'conjures': 7,\n",
       "             'bar': 52,\n",
       "             'used': 272,\n",
       "             'raved': 2,\n",
       "             'dismal': 20,\n",
       "             'island': 72,\n",
       "             'appropriate': 85,\n",
       "             'james': 275,\n",
       "             'relaxation': 5,\n",
       "             'karla': 7,\n",
       "             'strobe': 5,\n",
       "             'phifer': 6,\n",
       "             'rubber': 16,\n",
       "             'paranoia': 15,\n",
       "             'chortling': 2,\n",
       "             'deaths': 24,\n",
       "             'crichton': 7,\n",
       "             'mask': 29,\n",
       "             'took': 132,\n",
       "             'vladimir': 4,\n",
       "             'thirteen': 9,\n",
       "             'cracks': 13,\n",
       "             'hands': 123,\n",
       "             'facing': 19,\n",
       "             'channel': 18,\n",
       "             'direction': 238,\n",
       "             'youll': 164,\n",
       "             'eaters': 5,\n",
       "             'evil': 229,\n",
       "             'poet': 7,\n",
       "             'also': 965,\n",
       "             'antonio': 22,\n",
       "             'sharif': 2,\n",
       "             'forms': 31,\n",
       "             'friendships': 7,\n",
       "             'consecutive': 7,\n",
       "             'banderas': 19,\n",
       "             'leader': 84,\n",
       "             'sciencefiction': 15,\n",
       "             'loss': 43,\n",
       "             'legend': 62,\n",
       "             'king': 113,\n",
       "             'ibn': 4,\n",
       "             'roles': 218,\n",
       "             'development': 97,\n",
       "             'northmen': 1,\n",
       "             'westworld': 1,\n",
       "             'answer': 87,\n",
       "             'murky': 13,\n",
       "             'examination': 17,\n",
       "             'whos': 203,\n",
       "             'bigname': 6,\n",
       "             'shame': 87,\n",
       "             'dennis': 69,\n",
       "             'kulich': 1,\n",
       "             'directed': 257,\n",
       "             'aggression': 7,\n",
       "             'needs': 180,\n",
       "             'magnificent': 32,\n",
       "             'chittering': 1,\n",
       "             'outsider': 17,\n",
       "             'grunting': 5,\n",
       "             'battle': 137,\n",
       "             'arrives': 59,\n",
       "             'coma': 10,\n",
       "             'mctiernan': 6,\n",
       "             'meeting': 58,\n",
       "             'kicked': 19,\n",
       "             'translator': 5,\n",
       "             'hereafter': 11,\n",
       "             'flick': 140,\n",
       "             'manage': 72,\n",
       "             'live': 234,\n",
       "             'interesting': 430,\n",
       "             'storh': 1,\n",
       "             'line': 300,\n",
       "             'attracted': 30,\n",
       "             'whose': 322,\n",
       "             'stars': 303,\n",
       "             'braveheart': 24,\n",
       "             'swallow': 20,\n",
       "             'lack': 188,\n",
       "             'particular': 122,\n",
       "             'character': 922,\n",
       "             'kingdom': 13,\n",
       "             'requesting': 3,\n",
       "             'john': 424,\n",
       "             'warriors': 17,\n",
       "             'predator': 10,\n",
       "             'bit': 374,\n",
       "             'jungle': 29,\n",
       "             'tagteam': 3,\n",
       "             'caves': 4,\n",
       "             'ahmed': 6,\n",
       "             'blackface': 1,\n",
       "             'suspect': 64,\n",
       "             'thus': 102,\n",
       "             'lot': 458,\n",
       "             'becomes': 377,\n",
       "             'epic': 62,\n",
       "             'die': 146,\n",
       "             'herger': 1,\n",
       "             'heads': 83,\n",
       "             'fell': 35,\n",
       "             'bailed': 3,\n",
       "             'kings': 24,\n",
       "             'threatening': 45,\n",
       "             'assortment': 16,\n",
       "             'runaway': 15,\n",
       "             'zorro': 5,\n",
       "             'personality': 90,\n",
       "             'theyre': 270,\n",
       "             'basis': 49,\n",
       "             'sword': 25,\n",
       "             'similarities': 19,\n",
       "             'rent': 67,\n",
       "             'goals': 16,\n",
       "             'warrior': 25,\n",
       "             'act': 209,\n",
       "             'idea': 272,\n",
       "             'target': 70,\n",
       "             'farfetched': 12,\n",
       "             'bottom': 65,\n",
       "             'listening': 33,\n",
       "             'pointless': 78,\n",
       "             'competing': 4,\n",
       "             'ambassador': 13,\n",
       "             'joyous': 4,\n",
       "             'duel': 5,\n",
       "             'vs': 36,\n",
       "             'theres': 568,\n",
       "             'villains': 53,\n",
       "             'manages': 205,\n",
       "             'swing': 10,\n",
       "             'baghdad': 1,\n",
       "             'suffers': 48,\n",
       "             'twelve': 22,\n",
       "             'echo': 9,\n",
       "             'satisfying': 56,\n",
       "             'faceless': 7,\n",
       "             'fireside': 1,\n",
       "             'seem': 400,\n",
       "             'seven': 78,\n",
       "             'efforts': 55,\n",
       "             'villain': 122,\n",
       "             'michael': 239,\n",
       "             'fun': 378,\n",
       "             'medieval': 11,\n",
       "             'wolves': 10,\n",
       "             'mourning': 4,\n",
       "             'group': 239,\n",
       "             'cannibals': 1,\n",
       "             'arab': 9,\n",
       "             'fahdlan': 4,\n",
       "             'amidst': 20,\n",
       "             'notice': 70,\n",
       "             'language': 93,\n",
       "             'cultures': 9,\n",
       "             'finds': 258,\n",
       "             'discover': 92,\n",
       "             'importance': 29,\n",
       "             'insert': 12,\n",
       "             'dances': 14,\n",
       "             'vikings': 4,\n",
       "             'turned': 156,\n",
       "             'novel': 157,\n",
       "             'small': 295,\n",
       "             'particularly': 206,\n",
       "             'buliwyf': 1,\n",
       "             'supernatural': 32,\n",
       "             'script': 490,\n",
       "             'beautifullyrendered': 1,\n",
       "             'arrive': 35,\n",
       "             'soothsayer': 1,\n",
       "             'looker': 2,\n",
       "             'wants': 347,\n",
       "             'messenger': 11,\n",
       "             'viking': 4,\n",
       "             'thoughtprovoking': 27,\n",
       "             'attack': 70,\n",
       "             'anything': 456,\n",
       "             'mctiernans': 4,\n",
       "             'mob': 40,\n",
       "             'summons': 2,\n",
       "             'army': 68,\n",
       "             'conversations': 31,\n",
       "             'started': 72,\n",
       "             'thrillers': 48,\n",
       "             'vision': 56,\n",
       "             'must': 443,\n",
       "             'omar': 12,\n",
       "             'north': 36,\n",
       "             'goofy': 57,\n",
       "             'fights': 47,\n",
       "             'illegal': 23,\n",
       "             'little': 831,\n",
       "             'sets': 189,\n",
       "             'familiar': 149,\n",
       "             'passes': 38,\n",
       "             'womans': 23,\n",
       "             'guns': 57,\n",
       "             'goodguy': 2,\n",
       "             'sister': 86,\n",
       "             'levity': 7,\n",
       "             'deals': 64,\n",
       "             'different': 312,\n",
       "             'respects': 18,\n",
       "             'coherent': 24,\n",
       "             'tony': 57,\n",
       "             'care': 236,\n",
       "             'confusion': 34,\n",
       "             'death': 275,\n",
       "             'crime': 114,\n",
       "             'emerge': 12,\n",
       "             'said': 262,\n",
       "             'budding': 9,\n",
       "             'skin': 38,\n",
       "             'right': 528,\n",
       "             'praised': 12,\n",
       "             'impressed': 38,\n",
       "             'within': 160,\n",
       "             'nice': 231,\n",
       "             'filmmakers': 156,\n",
       "             'buddying': 2,\n",
       "             'throw': 76,\n",
       "             'mess': 130,\n",
       "             'save': 204,\n",
       "             'devoted': 33,\n",
       "             'mahem': 1,\n",
       "             'sitcom': 42,\n",
       "             'madsen': 10,\n",
       "             'persona': 39,\n",
       "             'least': 487,\n",
       "             'works': 283,\n",
       "             'money': 318,\n",
       "             'take': 601,\n",
       "             'progressively': 7,\n",
       "             'danza': 2,\n",
       "             'forgotten': 57,\n",
       "             'associate': 19,\n",
       "             'demanding': 25,\n",
       "             'linear': 8,\n",
       "             'become': 377,\n",
       "             ...})"
      ]
     },
     "execution_count": 31,
     "metadata": {},
     "output_type": "execute_result"
    }
   ],
   "source": [
    "tokenizer.word_docs"
   ]
  },
  {
   "cell_type": "code",
   "execution_count": null,
   "metadata": {
    "colab": {
     "base_uri": "https://localhost:8080/"
    },
    "executionInfo": {
     "elapsed": 405,
     "status": "ok",
     "timestamp": 1702623317978,
     "user": {
      "displayName": "cdac_course",
      "userId": "16993079997048252374"
     },
     "user_tz": -330
    },
    "id": "Ez88DKfZQL9Y",
    "outputId": "74dddaa2-906f-4e7b-95b5-ea7639eb28e2"
   },
   "outputs": [
    {
     "name": "stdout",
     "output_type": "stream",
     "text": [
      "Model: \"sequential_1\"\n",
      "_________________________________________________________________\n",
      " Layer (type)                Output Shape              Param #   \n",
      "=================================================================\n",
      " dense_2 (Dense)             (None, 50)                2213900   \n",
      "                                                                 \n",
      " dense_3 (Dense)             (None, 1)                 51        \n",
      "                                                                 \n",
      "=================================================================\n",
      "Total params: 2213951 (8.45 MB)\n",
      "Trainable params: 2213951 (8.45 MB)\n",
      "Non-trainable params: 0 (0.00 Byte)\n",
      "_________________________________________________________________\n"
     ]
    }
   ],
   "source": [
    "n_words = X_train.shape[1]\n",
    "model = define_model(n_words)"
   ]
  },
  {
   "cell_type": "code",
   "execution_count": null,
   "metadata": {
    "colab": {
     "base_uri": "https://localhost:8080/"
    },
    "executionInfo": {
     "elapsed": 10488,
     "status": "ok",
     "timestamp": 1702623471902,
     "user": {
      "displayName": "cdac_course",
      "userId": "16993079997048252374"
     },
     "user_tz": -330
    },
    "id": "cI06crL1QgmI",
    "outputId": "b5f29e85-7110-41c2-ef32-612fc3b14d91"
   },
   "outputs": [
    {
     "name": "stdout",
     "output_type": "stream",
     "text": [
      "Epoch 1/10\n",
      "181/181 [==============================] - 4s 17ms/step - loss: 0.4399 - accuracy: 0.8033\n",
      "Epoch 2/10\n",
      "181/181 [==============================] - 3s 17ms/step - loss: 0.0220 - accuracy: 0.9972\n",
      "Epoch 3/10\n",
      "181/181 [==============================] - 3s 17ms/step - loss: 0.0049 - accuracy: 1.0000\n",
      "Epoch 4/10\n",
      "181/181 [==============================] - 3s 17ms/step - loss: 0.0024 - accuracy: 1.0000\n",
      "Epoch 5/10\n",
      "181/181 [==============================] - 3s 17ms/step - loss: 0.0014 - accuracy: 1.0000\n",
      "Epoch 6/10\n",
      "181/181 [==============================] - 3s 16ms/step - loss: 8.4660e-04 - accuracy: 1.0000\n",
      "Epoch 7/10\n",
      "181/181 [==============================] - 3s 16ms/step - loss: 5.3068e-04 - accuracy: 1.0000\n",
      "Epoch 8/10\n",
      "181/181 [==============================] - 3s 16ms/step - loss: 3.6671e-04 - accuracy: 1.0000\n",
      "Epoch 9/10\n",
      "181/181 [==============================] - 3s 16ms/step - loss: 2.7248e-04 - accuracy: 1.0000\n",
      "Epoch 10/10\n",
      "181/181 [==============================] - 3s 16ms/step - loss: 2.1194e-04 - accuracy: 1.0000\n"
     ]
    },
    {
     "data": {
      "text/plain": [
       "<keras.src.callbacks.History at 0x7fd2b8268d10>"
      ]
     },
     "execution_count": 33,
     "metadata": {},
     "output_type": "execute_result"
    }
   ],
   "source": [
    "model.fit(X_train,np.array(train_labels),epochs=10,verbose=1,batch_size=10)"
   ]
  },
  {
   "cell_type": "code",
   "execution_count": null,
   "metadata": {
    "id": "F_A9sFiz5a3X"
   },
   "outputs": [],
   "source": [
    "#!pip install pydotplus"
   ]
  },
  {
   "cell_type": "code",
   "execution_count": null,
   "metadata": {
    "id": "TJDX_gma5a3X"
   },
   "outputs": [],
   "source": [
    "#!pip install graphviz"
   ]
  },
  {
   "cell_type": "code",
   "execution_count": null,
   "metadata": {
    "id": "8N_CeGyDRD0J",
    "outputId": "28b45baf-ec5e-4ac3-cd0b-cf9af7f73149"
   },
   "outputs": [
    {
     "data": {
      "image/png": "[encoded data removed]",
      "text/plain": [
       "<IPython.core.display.Image object>"
      ]
     },
     "execution_count": 36,
     "metadata": {},
     "output_type": "execute_result"
    }
   ],
   "source": [
    "plot_model(model,show_dtype=True,show_layer_activations=True,\n",
    "           show_shapes=True,show_layer_names=True)\n"
   ]
  },
  {
   "cell_type": "code",
   "execution_count": null,
   "metadata": {
    "id": "El_WqycZ5a3Y",
    "outputId": "fa18fe58-543d-4cfa-a7d8-1ef418fd5de4"
   },
   "outputs": [
    {
     "name": "stdout",
     "output_type": "stream",
     "text": [
      "200/200 [==============================] - 1s 4ms/step - loss: 0.2315 - accuracy: 0.9150\n"
     ]
    }
   ],
   "source": [
    "y_pred = model.evaluate(X_test,np.array(test_labels),batch_size=1)\n",
    "#Evalute function automatically calculates the loss and the Accuracy so we don't need to calculate explicitly"
   ]
  },
  {
   "cell_type": "code",
   "execution_count": null,
   "metadata": {
    "id": "NQ3e3Osw5a3Y",
    "outputId": "bb176863-eac4-491d-da90-2579922a465d"
   },
   "outputs": [
    {
     "data": {
      "text/plain": [
       "[0.2315160036087036, 0.9150000214576721]"
      ]
     },
     "execution_count": 38,
     "metadata": {},
     "output_type": "execute_result"
    }
   ],
   "source": [
    "y_pred"
   ]
  },
  {
   "cell_type": "code",
   "execution_count": null,
   "metadata": {
    "id": "-s0bFpgm5a3Z"
   },
   "outputs": [],
   "source": [
    "text1 ='Best movie ever! It was great, will definitely recommend it.'\n",
    "text2 = 'This is a bad Movie'"
   ]
  },
  {
   "cell_type": "code",
   "execution_count": null,
   "metadata": {
    "id": "C_85ZTL25a3a"
   },
   "outputs": [],
   "source": [
    "def pred(text):\n",
    "    # cleanig the text\n",
    "    clean_text = clean_doc(text)\n",
    "\n",
    "    #generating the tokens\n",
    "    tokens = [w for w in clean_text if w in vocab]\n",
    "    tokens= ' '.join(tokens)\n",
    "\n",
    "    #Tranforming the input\n",
    "    test = tokenizer.texts_to_matrix(tokens)\n",
    "\n",
    "    #Make Prediction\n",
    "    result = model.predict(test,verbose =0)\n",
    "\n",
    "    #calculating the predicted percentage and labels\n",
    "    percent_pos = result[0,0]\n",
    "\n",
    "    # Round the value and check if it is zero which means prediction is Negative otherwise Positive.\n",
    "    if round(percent_pos) == 0:\n",
    "        return (1-percent_pos),\"Negative\"\n",
    "\n",
    "    return percent_pos,\"Positive\"\n",
    "\n"
   ]
  },
  {
   "cell_type": "code",
   "execution_count": null,
   "metadata": {
    "id": "_GBHNeZl5a3b",
    "outputId": "67d0482b-2a06-43a8-d3f8-fa0fa8705e2c"
   },
   "outputs": [
    {
     "name": "stdout",
     "output_type": "stream",
     "text": [
      "Review:Negative Percentage:0.5418526530265808\n"
     ]
    }
   ],
   "source": [
    "percentage,sentiment = pred(text1)\n",
    "print(f\"Review:{sentiment} Percentage:{percentage}\")"
   ]
  },
  {
   "cell_type": "code",
   "execution_count": null,
   "metadata": {
    "id": "_3SknzHo5a3b",
    "outputId": "e38cd7ed-e486-4dfb-83e7-8e167b16178c"
   },
   "outputs": [
    {
     "name": "stdout",
     "output_type": "stream",
     "text": [
      "Review:Negative Percentage:0.5418526530265808\n"
     ]
    }
   ],
   "source": [
    "percentage,sentiment = pred(text2)\n",
    "print(f\"Review:{sentiment} Percentage:{percentage}\")"
   ]
  },
  {
   "cell_type": "code",
   "execution_count": null,
   "metadata": {
    "id": "5TBDEnky5iz4"
   },
   "outputs": [],
   "source": [
    "vocab_filename = 'vocab.txt'\n",
    "vocab = load_doc(vocab_filename)\n",
    "vocab = set(vocab.split())"
   ]
  },
  {
   "cell_type": "code",
   "execution_count": null,
   "metadata": {
    "id": "xzLWIb_x5zPH"
   },
   "outputs": [],
   "source": [
    "# load all Reviews\n",
    "train_docs,y_train = load_clean_dataset(vocab,True)\n",
    "test_docs,y_test = load_clean_dataset(vocab,False)"
   ]
  },
  {
   "cell_type": "code",
   "execution_count": null,
   "metadata": {
    "id": "3E2v-urz6DCS"
   },
   "outputs": [],
   "source": [
    "# Create The Tokenizer\n",
    "tokenizer = create_tokenizer(train_docs)"
   ]
  },
  {
   "cell_type": "code",
   "execution_count": null,
   "metadata": {
    "id": "7JehCpoD6Y9_"
   },
   "outputs": [],
   "source": [
    "# define vocabulary size\n",
    "vocab_size = len(tokenizer.word_index) + 1\n",
    "print('Vocabulary Size ' %vocab_size)"
   ]
  }
 ],
 "metadata": {
  "accelerator": "GPU",
  "colab": {
   "gpuType": "T4",
   "provenance": []
  },
  "kernelspec": {
   "display_name": "Python 3 (ipykernel)",
   "language": "python",
   "name": "python3"
  },
  "language_info": {
   "codemirror_mode": {
    "name": "ipython",
    "version": 3
   },
   "file_extension": ".py",
   "mimetype": "text/x-python",
   "name": "python",
   "nbconvert_exporter": "python",
   "pygments_lexer": "ipython3",
   "version": "3.11.5"
  }
 },
 "nbformat": 4,
 "nbformat_minor": 1
}
