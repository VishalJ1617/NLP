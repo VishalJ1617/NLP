{
 "cells": [
  {
   "cell_type": "markdown",
   "id": "3fd7234c",
   "metadata": {},
   "source": [
    "Date : 13/12/2023"
   ]
  },
  {
   "cell_type": "markdown",
   "id": "1142bfcb",
   "metadata": {},
   "source": [
    "# Probability"
   ]
  },
  {
   "cell_type": "markdown",
   "id": "c1dcbdfb",
   "metadata": {},
   "source": [
    "# 1. Coin toss"
   ]
  },
  {
   "cell_type": "code",
   "execution_count": 21,
   "id": "2910cf00",
   "metadata": {},
   "outputs": [],
   "source": [
    "import numpy as np\n",
    "from collections import Counter"
   ]
  },
  {
   "cell_type": "markdown",
   "id": "ff9e62b1",
   "metadata": {},
   "source": [
    "### Theoretical Probability"
   ]
  },
  {
   "cell_type": "markdown",
   "id": "e2b7afb8",
   "metadata": {},
   "source": [
    "#### Theoretical Probability = (no. of favourable outcome) / (no. of total outcome)\n",
    "\n",
    "theoretical probability (head) = 0.5\n",
    "\n",
    "theoretical probability (tail) = 0.5\n"
   ]
  },
  {
   "cell_type": "markdown",
   "id": "27f41938",
   "metadata": {},
   "source": [
    "### Experimental Porbability"
   ]
  },
  {
   "cell_type": "code",
   "execution_count": 19,
   "id": "16953706",
   "metadata": {},
   "outputs": [
    {
     "name": "stdout",
     "output_type": "stream",
     "text": [
      "1000\n"
     ]
    }
   ],
   "source": [
    "# Performing experiment with the coin toss (1000 times)\n",
    "\n",
    "experiment_num = 1000\n",
    "\n",
    "outcome = [np.random.randint(0,2) for i in range(experiment_num)]\n",
    "\n",
    "'''\n",
    "    0 - Head\n",
    "\n",
    "    1 - Tail\n",
    "    \n",
    "'''\n",
    "\n",
    "print(len(outcome))"
   ]
  },
  {
   "cell_type": "markdown",
   "id": "d2648bd4",
   "metadata": {},
   "source": [
    "#### Probability of head occuring"
   ]
  },
  {
   "cell_type": "code",
   "execution_count": 14,
   "id": "f4daef3b",
   "metadata": {},
   "outputs": [
    {
     "name": "stdout",
     "output_type": "stream",
     "text": [
      "Probability of occurance of head 0.477\n"
     ]
    }
   ],
   "source": [
    "prob_head = outcome.count(0)/len(outcome)\n",
    "\n",
    "print('Probability of occurance of head', prob_head)"
   ]
  },
  {
   "cell_type": "markdown",
   "id": "68dd9174",
   "metadata": {},
   "source": [
    "#### Probability of tail occuring"
   ]
  },
  {
   "cell_type": "code",
   "execution_count": 16,
   "id": "e8c138bf",
   "metadata": {},
   "outputs": [
    {
     "name": "stdout",
     "output_type": "stream",
     "text": [
      "Probability of occurance of tail 0.523\n"
     ]
    }
   ],
   "source": [
    "prob_tail = outcome.count(1)/len(outcome)\n",
    "\n",
    "print('Probability of occurance of tail', prob_tail)"
   ]
  },
  {
   "cell_type": "markdown",
   "id": "48b83f11",
   "metadata": {},
   "source": [
    "# 2. Dice Probability"
   ]
  },
  {
   "cell_type": "code",
   "execution_count": 30,
   "id": "40b6c710",
   "metadata": {},
   "outputs": [
    {
     "name": "stdout",
     "output_type": "stream",
     "text": [
      "Theoratical probility of getting a 6= 0.16666666666666666\n",
      "Experimental probility of getting a 6= 0.181\n"
     ]
    }
   ],
   "source": [
    "#Number of sides on die\n",
    "n_sides=6\n",
    "\n",
    "#Simulate 1000 dies rolls\n",
    "rolls=[np.random.randint(1,7) for i in range(1000)]\n",
    "\n",
    "#Count the frequency of each outcome\n",
    "counts=Counter(rolls)\n",
    "\n",
    "#calculation the probability at rolling a 6\n",
    "p_6=1/n_sides\n",
    "\n",
    "#calculation the experimental probability at rolling a 6\n",
    "p_6_exp=counts[6]/len(rolls)\n",
    "\n",
    "print(\"Theoratical probility of getting a 6=\",p_6)\n",
    "print(\"Experimental probility of getting a 6=\",p_6_exp)"
   ]
  },
  {
   "cell_type": "code",
   "execution_count": null,
   "id": "b4981aab",
   "metadata": {},
   "outputs": [],
   "source": []
  },
  {
   "cell_type": "code",
   "execution_count": null,
   "id": "08094a8a",
   "metadata": {},
   "outputs": [],
   "source": []
  }
 ],
 "metadata": {
  "kernelspec": {
   "display_name": "Python 3 (ipykernel)",
   "language": "python",
   "name": "python3"
  },
  "language_info": {
   "codemirror_mode": {
    "name": "ipython",
    "version": 3
   },
   "file_extension": ".py",
   "mimetype": "text/x-python",
   "name": "python",
   "nbconvert_exporter": "python",
   "pygments_lexer": "ipython3",
   "version": "3.11.5"
  }
 },
 "nbformat": 4,
 "nbformat_minor": 5
}
