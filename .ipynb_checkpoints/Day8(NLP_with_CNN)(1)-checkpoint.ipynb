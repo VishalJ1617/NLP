{
 "cells": [
  {
   "cell_type": "code",
   "execution_count": 1,
   "metadata": {
    "executionInfo": {
     "elapsed": 1657,
     "status": "ok",
     "timestamp": 1702870087659,
     "user": {
      "displayName": "cdac_course",
      "userId": "16993079997048252374"
     },
     "user_tz": -330
    },
    "id": "iy3HQbj_4mR7"
   },
   "outputs": [
    {
     "name": "stderr",
     "output_type": "stream",
     "text": [
      "2023-12-18 09:09:13.397729: I tensorflow/core/util/port.cc:111] oneDNN custom operations are on. You may see slightly different numerical results due to floating-point round-off errors from different computation orders. To turn them off, set the environment variable `TF_ENABLE_ONEDNN_OPTS=0`.\n",
      "2023-12-18 09:09:13.400655: I tensorflow/tsl/cuda/cudart_stub.cc:28] Could not find cuda drivers on your machine, GPU will not be used.\n",
      "2023-12-18 09:09:13.438154: E tensorflow/compiler/xla/stream_executor/cuda/cuda_dnn.cc:9342] Unable to register cuDNN factory: Attempting to register factory for plugin cuDNN when one has already been registered\n",
      "2023-12-18 09:09:13.438184: E tensorflow/compiler/xla/stream_executor/cuda/cuda_fft.cc:609] Unable to register cuFFT factory: Attempting to register factory for plugin cuFFT when one has already been registered\n",
      "2023-12-18 09:09:13.438211: E tensorflow/compiler/xla/stream_executor/cuda/cuda_blas.cc:1518] Unable to register cuBLAS factory: Attempting to register factory for plugin cuBLAS when one has already been registered\n",
      "2023-12-18 09:09:13.445216: I tensorflow/tsl/cuda/cudart_stub.cc:28] Could not find cuda drivers on your machine, GPU will not be used.\n",
      "2023-12-18 09:09:13.445946: I tensorflow/core/platform/cpu_feature_guard.cc:182] This TensorFlow binary is optimized to use available CPU instructions in performance-critical operations.\n",
      "To enable the following instructions: AVX2 AVX512F AVX512_VNNI FMA, in other operations, rebuild TensorFlow with the appropriate compiler flags.\n",
      "2023-12-18 09:09:16.896371: W tensorflow/compiler/tf2tensorrt/utils/py_utils.cc:38] TF-TRT Warning: Could not find TensorRT\n"
     ]
    }
   ],
   "source": [
    "import nltk\n",
    "from nltk.corpus import stopwords\n",
    "from nltk import FreqDist\n",
    "from nltk import word_tokenize\n",
    "from nltk.tag import pos_tag\n",
    "import string\n",
    "import matplotlib.pyplot as plt\n",
    "import seaborn as sns\n",
    "import re\n",
    "from keras.preprocessing.text import Tokenizer\n",
    "from keras.utils import plot_model\n",
    "import numpy as np\n",
    "import pandas as pd\n",
    "\n",
    "from os import listdir"
   ]
  },
  {
   "cell_type": "code",
   "execution_count": 2,
   "metadata": {
    "colab": {
     "base_uri": "https://localhost:8080/"
    },
    "executionInfo": {
     "elapsed": 48,
     "status": "ok",
     "timestamp": 1702870088919,
     "user": {
      "displayName": "cdac_course",
      "userId": "16993079997048252374"
     },
     "user_tz": -330
    },
    "id": "vgvOFGsE5WBG",
    "outputId": "ca91bbf7-e9fd-4112-a63c-5adef281daab"
   },
   "outputs": [
    {
     "name": "stderr",
     "output_type": "stream",
     "text": [
      "[nltk_data] Downloading package stopwords to /home/dai/nltk_data...\n",
      "[nltk_data]   Unzipping corpora/stopwords.zip.\n",
      "[nltk_data] Downloading package averaged_perceptron_tagger to\n",
      "[nltk_data]     /home/dai/nltk_data...\n",
      "[nltk_data]   Package averaged_perceptron_tagger is already up-to-\n",
      "[nltk_data]       date!\n",
      "[nltk_data] Downloading package wordnet to /home/dai/nltk_data...\n",
      "[nltk_data]   Package wordnet is already up-to-date!\n",
      "[nltk_data] Downloading package omw-1.4 to /home/dai/nltk_data...\n",
      "[nltk_data]   Package omw-1.4 is already up-to-date!\n",
      "[nltk_data] Downloading package indian to /home/dai/nltk_data...\n",
      "[nltk_data]   Package indian is already up-to-date!\n",
      "[nltk_data] Downloading package punkt to /home/dai/nltk_data...\n",
      "[nltk_data]   Package punkt is already up-to-date!\n",
      "[nltk_data] Downloading package words to /home/dai/nltk_data...\n",
      "[nltk_data]   Package words is already up-to-date!\n"
     ]
    },
    {
     "data": {
      "text/plain": [
       "True"
      ]
     },
     "execution_count": 2,
     "metadata": {},
     "output_type": "execute_result"
    }
   ],
   "source": [
    "nltk.download('stopwords')\n",
    "nltk.download('averaged_perceptron_tagger')\n",
    "nltk.download('wordnet')\n",
    "nltk.download('omw-1.4')\n",
    "nltk.download('indian')\n",
    "\n",
    "nltk.download('punkt')\n",
    "nltk.download('words')"
   ]
  },
  {
   "cell_type": "code",
   "execution_count": 6,
   "metadata": {
    "executionInfo": {
     "elapsed": 45,
     "status": "ok",
     "timestamp": 1702870088919,
     "user": {
      "displayName": "cdac_course",
      "userId": "16993079997048252374"
     },
     "user_tz": -330
    },
    "id": "2uWSsE2I6PVL"
   },
   "outputs": [],
   "source": [
    "# load doc imto memory\n",
    "def load_doc(filename):\n",
    "    # open file in read mode\n",
    "    file = open(filename,'r')\n",
    "    # Read All text\n",
    "    text = file.read()\n",
    "    # Close the file\n",
    "    file.close()\n",
    "    return text"
   ]
  },
  {
   "cell_type": "code",
   "execution_count": 7,
   "metadata": {
    "executionInfo": {
     "elapsed": 45,
     "status": "ok",
     "timestamp": 1702870088920,
     "user": {
      "displayName": "cdac_course",
      "userId": "16993079997048252374"
     },
     "user_tz": -330
    },
    "id": "P1StBvzo7GV8"
   },
   "outputs": [],
   "source": [
    "text = load_doc('review_polarity/txt_sentoken/pos/cv026_29325.txt')"
   ]
  },
  {
   "cell_type": "code",
   "execution_count": 8,
   "metadata": {
    "colab": {
     "base_uri": "https://localhost:8080/",
     "height": 105
    },
    "executionInfo": {
     "elapsed": 44,
     "status": "ok",
     "timestamp": 1702870088920,
     "user": {
      "displayName": "cdac_course",
      "userId": "16993079997048252374"
     },
     "user_tz": -330
    },
    "id": "LK7H1jBf7UEQ",
    "outputId": "705ccdac-a216-4a04-f4af-5e3e9fdb3a82"
   },
   "outputs": [
    {
     "data": {
      "text/plain": [
       "'for those of us who weren\\'t yet born when the 1960\\'s rock \\'n\\' rolled around , monterey pop affords an affectionate glimpse of the music that influenced our parents to be hippies . \\nfrom otis redding to jimi hendrix , janis joplin to the mamas and the papas , and jefferson airplane to the who , this documentary is jam-packed with contagious energy . \\nbut i give fair warning that i will reveal the ending , which does not do the rest of the film the justice it deserves . \\nshot in 1969 at an outdoor concert that precluded woodstock , the film defies the stereotype of the general population at the time . \\nsure , some have painted their faces and smoke joints , but d . a . \\npennebaker ( the war room , moon over broadway ) surprisingly chooses to show a broad spectrum of the audience . \\nno matter who is watching , it all comes back to the talented musicians that stir your soul . \\nthe excitement starts before the music even begins . \\na young girl is cleaning thousands of seats and when asked why by an interviewer , she replies that she feels lucky to do so . \\nthere are moments of organized craziness as john phillips , leader of the mamas and the papas and one of the concert organizers , tries to get in touch with dionne warwick . \\nand when one band is tuning up , a member remarks , \" finally , a decent sound system ! \" \\nyou can tell just by watching these first few moments that this show isn\\'t about vanity , it\\'s about playing the music you love to those who have an appreciation for it , a two-way street . \\nthis interaction between audience and performer continues throughout the film and becomes infectious to the audience . \\nit\\'s impossible to tear your eyes away from janis joplin as she belts out her ballad about love being a ball and chain . \\nand while the lyrics to \" wild thing \" may not be all that complicated , watching jimi hendrix mime having sex with his guitar is as captivating as otis redding singing about love . \\neven if you don\\'t recognize every band you see on stage , you can imagine being as enthralled by their work as the public sitting in those seats . \\nthe only drawback to the film is the ending , which unfortunately i must reveal . \\nall the other bands , big names then and still today , got approximately 7 to 10 minutes of screen time . \\nin contrast , the last band on camera , a wholly forgettable one , gets an entire 18 minutes of screen time . \\nfor a film that\\'s only 78 minutes long , that\\'s too large of a chunk , especially when previous acts are much more stimulating . \\nall in all , monterey pop is a precious , rare look at a time period that still holds sway over us . \\nthe variety of music , as well as the beautifully shot performances , are easy to become immersed in . \\nif there was ever any question as to why most of these bands were so popular , this is quickly dispelled . \\nit\\'s almost depressing to think that music this moving doesn\\'t get made much anymore . \\ninstead we\\'re stuck with * nsync , the backstreet boys , and jennifer lopez , all of whom should have stuck with modeling . \\n'"
      ]
     },
     "execution_count": 8,
     "metadata": {},
     "output_type": "execute_result"
    }
   ],
   "source": [
    "text"
   ]
  },
  {
   "cell_type": "code",
   "execution_count": 9,
   "metadata": {
    "executionInfo": {
     "elapsed": 40,
     "status": "ok",
     "timestamp": 1702870088920,
     "user": {
      "displayName": "cdac_course",
      "userId": "16993079997048252374"
     },
     "user_tz": -330
    },
    "id": "g8lb2JIf7U-p"
   },
   "outputs": [],
   "source": [
    "# Turn a doc into clean tokens\n",
    "def clean_doc(doc):\n",
    "    # Split into tokens by white space\n",
    "    tokens = doc.split()\n",
    "    # Prepare regex for char filtering\n",
    "    re_punc = re.compile('[%s]' % re.escape(string.punctuation))\n",
    "    # Remove punctuation from each word\n",
    "    tokens = [re_punc.sub('',w) for w in tokens]\n",
    "    # Remove remaining token that are not alphabetic\n",
    "    tokens = [word for word in tokens if word.isalpha()]\n",
    "    # filter out stop words\n",
    "    stop_words = set(stopwords.words('english'))\n",
    "    tokens = [w for w in tokens if not w in stop_words]\n",
    "    #filter out short tokens\n",
    "    tokens = [word for word in tokens if len(word)>1]\n",
    "    return tokens"
   ]
  },
  {
   "cell_type": "code",
   "execution_count": 10,
   "metadata": {
    "colab": {
     "base_uri": "https://localhost:8080/"
    },
    "executionInfo": {
     "elapsed": 39,
     "status": "ok",
     "timestamp": 1702870088920,
     "user": {
      "displayName": "cdac_course",
      "userId": "16993079997048252374"
     },
     "user_tz": -330
    },
    "id": "hIayf8DL_-e4",
    "outputId": "67b2bb57-ad90-4b4f-e8a3-8cd3410735bd"
   },
   "outputs": [
    {
     "data": {
      "text/plain": [
       "261"
      ]
     },
     "execution_count": 10,
     "metadata": {},
     "output_type": "execute_result"
    }
   ],
   "source": [
    "clean_text = clean_doc(text)\n",
    "len(clean_text)"
   ]
  },
  {
   "cell_type": "code",
   "execution_count": 11,
   "metadata": {
    "colab": {
     "base_uri": "https://localhost:8080/"
    },
    "executionInfo": {
     "elapsed": 33,
     "status": "ok",
     "timestamp": 1702870088920,
     "user": {
      "displayName": "cdac_course",
      "userId": "16993079997048252374"
     },
     "user_tz": -330
    },
    "id": "KqJGuT4fADAl",
    "outputId": "ae4f5f65-7e23-400b-ed94-87d13a66770a"
   },
   "outputs": [
    {
     "data": {
      "text/plain": [
       "['us',\n",
       " 'werent',\n",
       " 'yet',\n",
       " 'born',\n",
       " 'rock',\n",
       " 'rolled',\n",
       " 'around',\n",
       " 'monterey',\n",
       " 'pop',\n",
       " 'affords',\n",
       " 'affectionate',\n",
       " 'glimpse',\n",
       " 'music',\n",
       " 'influenced',\n",
       " 'parents',\n",
       " 'hippies',\n",
       " 'otis',\n",
       " 'redding',\n",
       " 'jimi',\n",
       " 'hendrix',\n",
       " 'janis',\n",
       " 'joplin',\n",
       " 'mamas',\n",
       " 'papas',\n",
       " 'jefferson',\n",
       " 'airplane',\n",
       " 'documentary',\n",
       " 'jampacked',\n",
       " 'contagious',\n",
       " 'energy',\n",
       " 'give',\n",
       " 'fair',\n",
       " 'warning',\n",
       " 'reveal',\n",
       " 'ending',\n",
       " 'rest',\n",
       " 'film',\n",
       " 'justice',\n",
       " 'deserves',\n",
       " 'shot',\n",
       " 'outdoor',\n",
       " 'concert',\n",
       " 'precluded',\n",
       " 'woodstock',\n",
       " 'film',\n",
       " 'defies',\n",
       " 'stereotype',\n",
       " 'general',\n",
       " 'population',\n",
       " 'time',\n",
       " 'sure',\n",
       " 'painted',\n",
       " 'faces',\n",
       " 'smoke',\n",
       " 'joints',\n",
       " 'pennebaker',\n",
       " 'war',\n",
       " 'room',\n",
       " 'moon',\n",
       " 'broadway',\n",
       " 'surprisingly',\n",
       " 'chooses',\n",
       " 'show',\n",
       " 'broad',\n",
       " 'spectrum',\n",
       " 'audience',\n",
       " 'matter',\n",
       " 'watching',\n",
       " 'comes',\n",
       " 'back',\n",
       " 'talented',\n",
       " 'musicians',\n",
       " 'stir',\n",
       " 'soul',\n",
       " 'excitement',\n",
       " 'starts',\n",
       " 'music',\n",
       " 'even',\n",
       " 'begins',\n",
       " 'young',\n",
       " 'girl',\n",
       " 'cleaning',\n",
       " 'thousands',\n",
       " 'seats',\n",
       " 'asked',\n",
       " 'interviewer',\n",
       " 'replies',\n",
       " 'feels',\n",
       " 'lucky',\n",
       " 'moments',\n",
       " 'organized',\n",
       " 'craziness',\n",
       " 'john',\n",
       " 'phillips',\n",
       " 'leader',\n",
       " 'mamas',\n",
       " 'papas',\n",
       " 'one',\n",
       " 'concert',\n",
       " 'organizers',\n",
       " 'tries',\n",
       " 'get',\n",
       " 'touch',\n",
       " 'dionne',\n",
       " 'warwick',\n",
       " 'one',\n",
       " 'band',\n",
       " 'tuning',\n",
       " 'member',\n",
       " 'remarks',\n",
       " 'finally',\n",
       " 'decent',\n",
       " 'sound',\n",
       " 'system',\n",
       " 'tell',\n",
       " 'watching',\n",
       " 'first',\n",
       " 'moments',\n",
       " 'show',\n",
       " 'isnt',\n",
       " 'vanity',\n",
       " 'playing',\n",
       " 'music',\n",
       " 'love',\n",
       " 'appreciation',\n",
       " 'twoway',\n",
       " 'street',\n",
       " 'interaction',\n",
       " 'audience',\n",
       " 'performer',\n",
       " 'continues',\n",
       " 'throughout',\n",
       " 'film',\n",
       " 'becomes',\n",
       " 'infectious',\n",
       " 'audience',\n",
       " 'impossible',\n",
       " 'tear',\n",
       " 'eyes',\n",
       " 'away',\n",
       " 'janis',\n",
       " 'joplin',\n",
       " 'belts',\n",
       " 'ballad',\n",
       " 'love',\n",
       " 'ball',\n",
       " 'chain',\n",
       " 'lyrics',\n",
       " 'wild',\n",
       " 'thing',\n",
       " 'may',\n",
       " 'complicated',\n",
       " 'watching',\n",
       " 'jimi',\n",
       " 'hendrix',\n",
       " 'mime',\n",
       " 'sex',\n",
       " 'guitar',\n",
       " 'captivating',\n",
       " 'otis',\n",
       " 'redding',\n",
       " 'singing',\n",
       " 'love',\n",
       " 'even',\n",
       " 'dont',\n",
       " 'recognize',\n",
       " 'every',\n",
       " 'band',\n",
       " 'see',\n",
       " 'stage',\n",
       " 'imagine',\n",
       " 'enthralled',\n",
       " 'work',\n",
       " 'public',\n",
       " 'sitting',\n",
       " 'seats',\n",
       " 'drawback',\n",
       " 'film',\n",
       " 'ending',\n",
       " 'unfortunately',\n",
       " 'must',\n",
       " 'reveal',\n",
       " 'bands',\n",
       " 'big',\n",
       " 'names',\n",
       " 'still',\n",
       " 'today',\n",
       " 'got',\n",
       " 'approximately',\n",
       " 'minutes',\n",
       " 'screen',\n",
       " 'time',\n",
       " 'contrast',\n",
       " 'last',\n",
       " 'band',\n",
       " 'camera',\n",
       " 'wholly',\n",
       " 'forgettable',\n",
       " 'one',\n",
       " 'gets',\n",
       " 'entire',\n",
       " 'minutes',\n",
       " 'screen',\n",
       " 'time',\n",
       " 'film',\n",
       " 'thats',\n",
       " 'minutes',\n",
       " 'long',\n",
       " 'thats',\n",
       " 'large',\n",
       " 'chunk',\n",
       " 'especially',\n",
       " 'previous',\n",
       " 'acts',\n",
       " 'much',\n",
       " 'stimulating',\n",
       " 'monterey',\n",
       " 'pop',\n",
       " 'precious',\n",
       " 'rare',\n",
       " 'look',\n",
       " 'time',\n",
       " 'period',\n",
       " 'still',\n",
       " 'holds',\n",
       " 'sway',\n",
       " 'us',\n",
       " 'variety',\n",
       " 'music',\n",
       " 'well',\n",
       " 'beautifully',\n",
       " 'shot',\n",
       " 'performances',\n",
       " 'easy',\n",
       " 'become',\n",
       " 'immersed',\n",
       " 'ever',\n",
       " 'question',\n",
       " 'bands',\n",
       " 'popular',\n",
       " 'quickly',\n",
       " 'dispelled',\n",
       " 'almost',\n",
       " 'depressing',\n",
       " 'think',\n",
       " 'music',\n",
       " 'moving',\n",
       " 'doesnt',\n",
       " 'get',\n",
       " 'made',\n",
       " 'much',\n",
       " 'anymore',\n",
       " 'instead',\n",
       " 'stuck',\n",
       " 'nsync',\n",
       " 'backstreet',\n",
       " 'boys',\n",
       " 'jennifer',\n",
       " 'lopez',\n",
       " 'stuck',\n",
       " 'modeling']"
      ]
     },
     "execution_count": 11,
     "metadata": {},
     "output_type": "execute_result"
    }
   ],
   "source": [
    "clean_text"
   ]
  },
  {
   "cell_type": "code",
   "execution_count": 12,
   "metadata": {
    "executionInfo": {
     "elapsed": 30,
     "status": "ok",
     "timestamp": 1702870088921,
     "user": {
      "displayName": "cdac_course",
      "userId": "16993079997048252374"
     },
     "user_tz": -330
    },
    "id": "eUMYbAofCTWG"
   },
   "outputs": [],
   "source": [
    "# Load doc,clean amd return line of token\n",
    "def doc_to_line(filename,vocab):\n",
    "    # Load th edoc\n",
    "    doc = load_doc(filename)\n",
    "    # clean doc\n",
    "    tokens = clean_doc(doc)\n",
    "    # filter by vocab\n",
    "    tokens = [w for w in tokens if w in vocab]\n",
    "    return ' '.join(tokens)"
   ]
  },
  {
   "cell_type": "code",
   "execution_count": 51,
   "metadata": {
    "executionInfo": {
     "elapsed": 29,
     "status": "ok",
     "timestamp": 1702870088921,
     "user": {
      "displayName": "cdac_course",
      "userId": "16993079997048252374"
     },
     "user_tz": -330
    },
    "id": "nPp78tm1EB0p"
   },
   "outputs": [],
   "source": [
    "vocab = open('vocab.txt')\n",
    "vocab = vocab.read().split()"
   ]
  },
  {
   "cell_type": "code",
   "execution_count": 52,
   "metadata": {
    "colab": {
     "base_uri": "https://localhost:8080/",
     "height": 105
    },
    "executionInfo": {
     "elapsed": 29,
     "status": "ok",
     "timestamp": 1702870088921,
     "user": {
      "displayName": "cdac_course",
      "userId": "16993079997048252374"
     },
     "user_tz": -330
    },
    "id": "R5ADygZ7DQV3",
    "outputId": "952459ed-6fea-4d26-f977-33a19b7ed6fd"
   },
   "outputs": [
    {
     "data": {
      "application/vnd.google.colaboratory.intrinsic+json": {
       "type": "string"
      },
      "text/plain": [
       "'us werent yet born rock rolled around monterey pop affectionate glimpse music influenced parents hippies otis redding jimi hendrix janis joplin mamas papas jefferson airplane documentary jampacked contagious energy give fair warning reveal ending rest film justice deserves shot outdoor concert film defies stereotype general population time sure painted faces smoke joints war room moon broadway surprisingly chooses show broad spectrum audience matter watching comes back talented musicians stir soul excitement starts music even begins young girl cleaning thousands seats asked interviewer replies feels lucky moments organized craziness john phillips leader mamas papas one concert tries get touch one band tuning member remarks finally decent sound system tell watching first moments show isnt vanity playing music love appreciation street interaction audience performer continues throughout film becomes infectious audience impossible tear eyes away janis joplin belts ballad love ball chain lyrics wild thing may complicated watching jimi hendrix mime sex guitar captivating otis redding singing love even dont recognize every band see stage imagine enthralled work public sitting seats drawback film ending unfortunately must reveal bands big names still today got approximately minutes screen time contrast last band camera wholly forgettable one gets entire minutes screen time film thats minutes long thats large chunk especially previous acts much stimulating monterey pop precious rare look time period still holds sway us variety music well beautifully shot performances easy become immersed ever question bands popular quickly almost depressing think music moving doesnt get made much anymore instead stuck backstreet boys jennifer lopez stuck modeling'"
      ]
     },
     "execution_count": 52,
     "metadata": {},
     "output_type": "execute_result"
    }
   ],
   "source": [
    "doc_to_line('/content/drive/MyDrive/KP_Module/NLP/Dataset/review_polarity/txt_sentoken/pos/cv026_29325.txt',vocab)"
   ]
  },
  {
   "cell_type": "code",
   "execution_count": 53,
   "metadata": {
    "executionInfo": {
     "elapsed": 26,
     "status": "ok",
     "timestamp": 1702870088921,
     "user": {
      "displayName": "cdac_course",
      "userId": "16993079997048252374"
     },
     "user_tz": -330
    },
    "id": "hwDxHpoUFqp5"
   },
   "outputs": [],
   "source": [
    "# Load Training data\n",
    "def process_train(directory,vocab):\n",
    "    documents = []\n",
    "    for filename in listdir(directory):\n",
    "        if not filename.startswith('cv9'):\n",
    "            path = directory + '/' +filename\n",
    "            doc = load_doc(path)\n",
    "            tokens = clean_doc(doc,vocab)\n",
    "            documents.append(tokens)\n",
    "    return documents\n",
    "\n",
    " # Load Testing data\n",
    "def process_test(directory,vocab):\n",
    "    documents = []\n",
    "    for filename in listdir(directory):\n",
    "        if filename.startswith('cv9'):\n",
    "            path = directory + '/' +filename\n",
    "            doc = load_doc(path)\n",
    "            tokens = clean_doc(doc,vocab)\n",
    "            documents.append(tokens)\n",
    "    return documents\n"
   ]
  },
  {
   "cell_type": "code",
   "execution_count": 54,
   "metadata": {
    "executionInfo": {
     "elapsed": 25,
     "status": "ok",
     "timestamp": 1702870088921,
     "user": {
      "displayName": "cdac_course",
      "userId": "16993079997048252374"
     },
     "user_tz": -330
    },
    "id": "YAP_diaVH7FE"
   },
   "outputs": [],
   "source": [
    "# Load docs in a directory\n",
    "def process_docs(directory,vocab,is_train):\n",
    "    documents = []\n",
    "    # Walk through All the Files In The Folder\n",
    "    for filename in listdir(directory):\n",
    "        # Skip any reviews in test set\n",
    "        if is_train and filename.startswith('cv9'):\n",
    "            continue\n",
    "        if not is_train and not filename.startswith('cv9'):\n",
    "            continue\n",
    "        # create the full path of the file to open\n",
    "        path = directory + '/' + filename\n",
    "        # load the doc\n",
    "        doc = load_doc(path)\n",
    "        # clean dDoc\n",
    "        tokens = clean_doc(doc)\n",
    "        # add to list\n",
    "        documents.append(tokens)\n",
    "    return documents\n"
   ]
  },
  {
   "cell_type": "code",
   "execution_count": 55,
   "metadata": {
    "executionInfo": {
     "elapsed": 26,
     "status": "ok",
     "timestamp": 1702870088922,
     "user": {
      "displayName": "cdac_course",
      "userId": "16993079997048252374"
     },
     "user_tz": -330
    },
    "id": "v-a1abrRJK8q"
   },
   "outputs": [],
   "source": [
    "lines = process_docs('/content/drive/MyDrive/KP_Module/NLP/Dataset/review_polarity/txt_sentoken/pos',vocab,False)\n",
    "# Is_train = False Means Loading Testing Data"
   ]
  },
  {
   "cell_type": "code",
   "execution_count": 56,
   "metadata": {
    "colab": {
     "base_uri": "https://localhost:8080/"
    },
    "executionInfo": {
     "elapsed": 25,
     "status": "ok",
     "timestamp": 1702870088922,
     "user": {
      "displayName": "cdac_course",
      "userId": "16993079997048252374"
     },
     "user_tz": -330
    },
    "id": "co0v_sDIK-SR",
    "outputId": "f4a722b8-2fb5-4956-d1c7-cbab91d1407a"
   },
   "outputs": [
    {
     "data": {
      "text/plain": [
       "100"
      ]
     },
     "execution_count": 56,
     "metadata": {},
     "output_type": "execute_result"
    }
   ],
   "source": [
    "len(lines)"
   ]
  },
  {
   "cell_type": "code",
   "execution_count": 57,
   "metadata": {
    "executionInfo": {
     "elapsed": 14,
     "status": "ok",
     "timestamp": 1702870088922,
     "user": {
      "displayName": "cdac_course",
      "userId": "16993079997048252374"
     },
     "user_tz": -330
    },
    "id": "AVCQNwWVK-I0"
   },
   "outputs": [],
   "source": [
    "# Load and Clean a Dataset\n",
    "def load_clean_dataset(vocab,is_train):\n",
    "    # load documents\n",
    "    neg = process_docs('/content/drive/MyDrive/KP_Module/NLP/Dataset/review_polarity/txt_sentoken/neg',vocab,is_train)\n",
    "    pos = process_docs('/content/drive/MyDrive/KP_Module/NLP/Dataset/review_polarity/txt_sentoken/pos',vocab,is_train)\n",
    "    docs = neg+pos\n",
    "    # Prepare Labels\n",
    "    labels = [0 for _ in range(len(neg))] + [1 for _ in range(len(pos))]\n",
    "    return docs,labels\n"
   ]
  },
  {
   "cell_type": "code",
   "execution_count": 58,
   "metadata": {
    "executionInfo": {
     "elapsed": 5432,
     "status": "ok",
     "timestamp": 1702870094340,
     "user": {
      "displayName": "cdac_course",
      "userId": "16993079997048252374"
     },
     "user_tz": -330
    },
    "id": "RncYlUHcMQ6J"
   },
   "outputs": [],
   "source": [
    "train,train_labels = load_clean_dataset(vocab,True)\n",
    "test,test_labels = load_clean_dataset(vocab,False)\n"
   ]
  },
  {
   "cell_type": "code",
   "execution_count": 59,
   "metadata": {
    "colab": {
     "base_uri": "https://localhost:8080/"
    },
    "executionInfo": {
     "elapsed": 32,
     "status": "ok",
     "timestamp": 1702870094341,
     "user": {
      "displayName": "cdac_course",
      "userId": "16993079997048252374"
     },
     "user_tz": -330
    },
    "id": "rWo3TDgrMqha",
    "outputId": "1268a18f-2abd-4449-bc8c-47e7b86d4109"
   },
   "outputs": [
    {
     "data": {
      "text/plain": [
       "(1810, 1810)"
      ]
     },
     "execution_count": 59,
     "metadata": {},
     "output_type": "execute_result"
    }
   ],
   "source": [
    "len(train),len(train_labels)"
   ]
  },
  {
   "cell_type": "code",
   "execution_count": 60,
   "metadata": {
    "colab": {
     "base_uri": "https://localhost:8080/"
    },
    "executionInfo": {
     "elapsed": 27,
     "status": "ok",
     "timestamp": 1702870094341,
     "user": {
      "displayName": "cdac_course",
      "userId": "16993079997048252374"
     },
     "user_tz": -330
    },
    "id": "GVhCzooOM1L7",
    "outputId": "a8b48d1c-8195-45a8-fc80-9d84dcb01b89"
   },
   "outputs": [
    {
     "data": {
      "text/plain": [
       "(200, 200)"
      ]
     },
     "execution_count": 60,
     "metadata": {},
     "output_type": "execute_result"
    }
   ],
   "source": [
    "len(test),len(test_labels)"
   ]
  },
  {
   "cell_type": "code",
   "execution_count": 61,
   "metadata": {
    "executionInfo": {
     "elapsed": 25,
     "status": "ok",
     "timestamp": 1702870094342,
     "user": {
      "displayName": "cdac_course",
      "userId": "16993079997048252374"
     },
     "user_tz": -330
    },
    "id": "jgUpL2eFM8mo"
   },
   "outputs": [],
   "source": [
    "from keras.models import Sequential\n",
    "from keras.layers import Dense,MaxPool1D,Conv1D,Embedding,Flatten"
   ]
  },
  {
   "cell_type": "code",
   "execution_count": 62,
   "metadata": {
    "executionInfo": {
     "elapsed": 24,
     "status": "ok",
     "timestamp": 1702870094342,
     "user": {
      "displayName": "cdac_course",
      "userId": "16993079997048252374"
     },
     "user_tz": -330
    },
    "id": "yur9KwUWNmR4"
   },
   "outputs": [],
   "source": [
    "# define the model\n",
    "def define_model(vocab_size,max_length):\n",
    "    # Define Network\n",
    "    model = Sequential()\n",
    "    model.add(Embedding(vocab_size,100,input_length=max_length))\n",
    "    model.add(Conv1D(filters=32,kernel_size=8,activation='relu'))\n",
    "    model.add(MaxPool1D(pool_size=2))\n",
    "    model.add(Flatten())\n",
    "    model.add(Dense(50,activation='relu'))\n",
    "    model.add(Dense(1,activation='sigmoid'))\n",
    "    # Compile Network\n",
    "    model.compile(loss='binary_crossentropy',optimizer='adam',metrics = ['accuracy'])\n",
    "\n",
    "    # summerize Defined Model\n",
    "    model.summary()\n",
    "    plot_model(model,to_file='model.png',show_shapes=True)\n",
    "    return model"
   ]
  },
  {
   "cell_type": "code",
   "execution_count": 63,
   "metadata": {
    "colab": {
     "base_uri": "https://localhost:8080/"
    },
    "executionInfo": {
     "elapsed": 25,
     "status": "ok",
     "timestamp": 1702870094343,
     "user": {
      "displayName": "cdac_course",
      "userId": "16993079997048252374"
     },
     "user_tz": -330
    },
    "id": "pfbRNNUyOpN6",
    "outputId": "30c6f405-47cd-4757-cf27-ed85828d3fb4"
   },
   "outputs": [
    {
     "name": "stdout",
     "output_type": "stream",
     "text": [
      "Model: \"sequential_1\"\n",
      "_________________________________________________________________\n",
      " Layer (type)                Output Shape              Param #   \n",
      "=================================================================\n",
      " embedding_1 (Embedding)     (None, 100, 100)          1000      \n",
      "                                                                 \n",
      " conv1d_1 (Conv1D)           (None, 93, 32)            25632     \n",
      "                                                                 \n",
      " max_pooling1d_1 (MaxPoolin  (None, 46, 32)            0         \n",
      " g1D)                                                            \n",
      "                                                                 \n",
      " flatten_1 (Flatten)         (None, 1472)              0         \n",
      "                                                                 \n",
      " dense_2 (Dense)             (None, 50)                73650     \n",
      "                                                                 \n",
      " dense_3 (Dense)             (None, 1)                 51        \n",
      "                                                                 \n",
      "=================================================================\n",
      "Total params: 100333 (391.93 KB)\n",
      "Trainable params: 100333 (391.93 KB)\n",
      "Non-trainable params: 0 (0.00 Byte)\n",
      "_________________________________________________________________\n"
     ]
    },
    {
     "data": {
      "text/plain": [
       "<keras.src.engine.sequential.Sequential at 0x7e818d4f4160>"
      ]
     },
     "execution_count": 63,
     "metadata": {},
     "output_type": "execute_result"
    }
   ],
   "source": [
    "define_model(10,100)"
   ]
  },
  {
   "cell_type": "code",
   "execution_count": 64,
   "metadata": {
    "executionInfo": {
     "elapsed": 14,
     "status": "ok",
     "timestamp": 1702870094343,
     "user": {
      "displayName": "cdac_course",
      "userId": "16993079997048252374"
     },
     "user_tz": -330
    },
    "id": "_wNW4rxjOwcY"
   },
   "outputs": [],
   "source": [
    "def create_tokenizer(lines):\n",
    "    tokenizer = Tokenizer()\n",
    "    tokenizer.fit_on_texts(lines)\n",
    "    return tokenizer"
   ]
  },
  {
   "cell_type": "code",
   "execution_count": 65,
   "metadata": {
    "executionInfo": {
     "elapsed": 13,
     "status": "ok",
     "timestamp": 1702870094343,
     "user": {
      "displayName": "cdac_course",
      "userId": "16993079997048252374"
     },
     "user_tz": -330
    },
    "id": "za6SiT1V5a3T"
   },
   "outputs": [],
   "source": [
    "from keras.preprocessing.sequence import pad_sequences"
   ]
  },
  {
   "cell_type": "code",
   "execution_count": 66,
   "metadata": {
    "executionInfo": {
     "elapsed": 14,
     "status": "ok",
     "timestamp": 1702870094344,
     "user": {
      "displayName": "cdac_course",
      "userId": "16993079997048252374"
     },
     "user_tz": -330
    },
    "id": "DSAqTU1A5a3T"
   },
   "outputs": [],
   "source": [
    "# Integer Encode and Pad Documents\n",
    "def encode_docs(tokenizer,max_length,docs):\n",
    "    # Integer Encode\n",
    "    encoded = tokenizer.texts_to_sequences(docs)\n",
    "    # Pad Sequences\n",
    "    padded = pad_sequences(encoded,maxlen=max_length,padding='post')\n",
    "    return padded"
   ]
  },
  {
   "cell_type": "code",
   "execution_count": 67,
   "metadata": {
    "executionInfo": {
     "elapsed": 13,
     "status": "ok",
     "timestamp": 1702870094344,
     "user": {
      "displayName": "cdac_course",
      "userId": "16993079997048252374"
     },
     "user_tz": -330
    },
    "id": "YvGBBnK-PaLp"
   },
   "outputs": [],
   "source": [
    "# Create The Tokenizer\n",
    "tokenizer = create_tokenizer(train)"
   ]
  },
  {
   "cell_type": "code",
   "execution_count": 68,
   "metadata": {
    "executionInfo": {
     "elapsed": 1652,
     "status": "ok",
     "timestamp": 1702870095984,
     "user": {
      "displayName": "cdac_course",
      "userId": "16993079997048252374"
     },
     "user_tz": -330
    },
    "id": "TyeTCB5VPgUI"
   },
   "outputs": [],
   "source": [
    "X_train = tokenizer.texts_to_matrix(train,mode='binary')"
   ]
  },
  {
   "cell_type": "code",
   "execution_count": 69,
   "metadata": {
    "colab": {
     "base_uri": "https://localhost:8080/"
    },
    "executionInfo": {
     "elapsed": 58,
     "status": "ok",
     "timestamp": 1702870095984,
     "user": {
      "displayName": "cdac_course",
      "userId": "16993079997048252374"
     },
     "user_tz": -330
    },
    "id": "SU5oPAhiPnE4",
    "outputId": "ddab7506-e0a5-48c3-e703-8a4a701c5735"
   },
   "outputs": [
    {
     "data": {
      "text/plain": [
       "(1810, 44277)"
      ]
     },
     "execution_count": 69,
     "metadata": {},
     "output_type": "execute_result"
    }
   ],
   "source": [
    "X_train.shape"
   ]
  },
  {
   "cell_type": "code",
   "execution_count": 70,
   "metadata": {
    "executionInfo": {
     "elapsed": 54,
     "status": "ok",
     "timestamp": 1702870095985,
     "user": {
      "displayName": "cdac_course",
      "userId": "16993079997048252374"
     },
     "user_tz": -330
    },
    "id": "sfz_pXGfPojo"
   },
   "outputs": [],
   "source": [
    "X_test= tokenizer.texts_to_matrix(test,mode='binary')"
   ]
  },
  {
   "cell_type": "code",
   "execution_count": 71,
   "metadata": {
    "colab": {
     "base_uri": "https://localhost:8080/"
    },
    "executionInfo": {
     "elapsed": 53,
     "status": "ok",
     "timestamp": 1702870095985,
     "user": {
      "displayName": "cdac_course",
      "userId": "16993079997048252374"
     },
     "user_tz": -330
    },
    "id": "sPe1dbP9QD8o",
    "outputId": "ef67ffc7-46d2-4bd4-fe08-df496c79107a"
   },
   "outputs": [
    {
     "data": {
      "text/plain": [
       "(200, 44277)"
      ]
     },
     "execution_count": 71,
     "metadata": {},
     "output_type": "execute_result"
    }
   ],
   "source": [
    "X_test.shape"
   ]
  },
  {
   "cell_type": "code",
   "execution_count": 83,
   "metadata": {
    "executionInfo": {
     "elapsed": 620,
     "status": "ok",
     "timestamp": 1702870476241,
     "user": {
      "displayName": "cdac_course",
      "userId": "16993079997048252374"
     },
     "user_tz": -330
    },
    "id": "J6W4DH1BQGP4"
   },
   "outputs": [],
   "source": [
    "# tokenizer.word_docs"
   ]
  },
  {
   "cell_type": "code",
   "execution_count": 73,
   "metadata": {
    "colab": {
     "base_uri": "https://localhost:8080/"
    },
    "executionInfo": {
     "elapsed": 43,
     "status": "ok",
     "timestamp": 1702870095985,
     "user": {
      "displayName": "cdac_course",
      "userId": "16993079997048252374"
     },
     "user_tz": -330
    },
    "id": "Ez88DKfZQL9Y",
    "outputId": "3ed9a6ff-27c6-4058-92e7-4e21d46e636a"
   },
   "outputs": [
    {
     "name": "stdout",
     "output_type": "stream",
     "text": [
      "Model: \"sequential_2\"\n",
      "_________________________________________________________________\n",
      " Layer (type)                Output Shape              Param #   \n",
      "=================================================================\n",
      " embedding_2 (Embedding)     (None, 1380, 100)         4427700   \n",
      "                                                                 \n",
      " conv1d_2 (Conv1D)           (None, 1373, 32)          25632     \n",
      "                                                                 \n",
      " max_pooling1d_2 (MaxPoolin  (None, 686, 32)           0         \n",
      " g1D)                                                            \n",
      "                                                                 \n",
      " flatten_2 (Flatten)         (None, 21952)             0         \n",
      "                                                                 \n",
      " dense_4 (Dense)             (None, 50)                1097650   \n",
      "                                                                 \n",
      " dense_5 (Dense)             (None, 1)                 51        \n",
      "                                                                 \n",
      "=================================================================\n",
      "Total params: 5551033 (21.18 MB)\n",
      "Trainable params: 5551033 (21.18 MB)\n",
      "Non-trainable params: 0 (0.00 Byte)\n",
      "_________________________________________________________________\n"
     ]
    }
   ],
   "source": [
    "n_words = X_train.shape[1]\n",
    "# model = define_model(n_words,)"
   ]
  },
  {
   "cell_type": "code",
   "execution_count": null,
   "metadata": {},
   "outputs": [],
   "source": [
    "#define the model\n",
    "model=defi"
   ]
  },
  {
   "cell_type": "code",
   "execution_count": 74,
   "metadata": {
    "colab": {
     "base_uri": "https://localhost:8080/",
     "height": 598
    },
    "executionInfo": {
     "elapsed": 674,
     "status": "error",
     "timestamp": 1702870096654,
     "user": {
      "displayName": "cdac_course",
      "userId": "16993079997048252374"
     },
     "user_tz": -330
    },
    "id": "cI06crL1QgmI",
    "outputId": "6d3caf4c-a020-48eb-a797-dab729bf8711"
   },
   "outputs": [
    {
     "name": "stdout",
     "output_type": "stream",
     "text": [
      "Epoch 1/10\n"
     ]
    },
    {
     "ename": "ValueError",
     "evalue": "ignored",
     "output_type": "error",
     "traceback": [
      "\u001b[0;31m---------------------------------------------------------------------------\u001b[0m",
      "\u001b[0;31mValueError\u001b[0m                                Traceback (most recent call last)",
      "\u001b[0;32m<ipython-input-74-df12fd8d77ba>\u001b[0m in \u001b[0;36m<cell line: 1>\u001b[0;34m()\u001b[0m\n\u001b[0;32m----> 1\u001b[0;31m \u001b[0mmodel\u001b[0m\u001b[0;34m.\u001b[0m\u001b[0mfit\u001b[0m\u001b[0;34m(\u001b[0m\u001b[0mX_train\u001b[0m\u001b[0;34m,\u001b[0m\u001b[0mnp\u001b[0m\u001b[0;34m.\u001b[0m\u001b[0marray\u001b[0m\u001b[0;34m(\u001b[0m\u001b[0mtrain_labels\u001b[0m\u001b[0;34m)\u001b[0m\u001b[0;34m,\u001b[0m\u001b[0mepochs\u001b[0m\u001b[0;34m=\u001b[0m\u001b[0;36m10\u001b[0m\u001b[0;34m,\u001b[0m\u001b[0mverbose\u001b[0m\u001b[0;34m=\u001b[0m\u001b[0;36m1\u001b[0m\u001b[0;34m,\u001b[0m\u001b[0mbatch_size\u001b[0m\u001b[0;34m=\u001b[0m\u001b[0;36m10\u001b[0m\u001b[0;34m)\u001b[0m\u001b[0;34m\u001b[0m\u001b[0;34m\u001b[0m\u001b[0m\n\u001b[0m",
      "\u001b[0;32m/usr/local/lib/python3.10/dist-packages/keras/src/utils/traceback_utils.py\u001b[0m in \u001b[0;36merror_handler\u001b[0;34m(*args, **kwargs)\u001b[0m\n\u001b[1;32m     68\u001b[0m             \u001b[0;31m# To get the full stack trace, call:\u001b[0m\u001b[0;34m\u001b[0m\u001b[0;34m\u001b[0m\u001b[0m\n\u001b[1;32m     69\u001b[0m             \u001b[0;31m# `tf.debugging.disable_traceback_filtering()`\u001b[0m\u001b[0;34m\u001b[0m\u001b[0;34m\u001b[0m\u001b[0m\n\u001b[0;32m---> 70\u001b[0;31m             \u001b[0;32mraise\u001b[0m \u001b[0me\u001b[0m\u001b[0;34m.\u001b[0m\u001b[0mwith_traceback\u001b[0m\u001b[0;34m(\u001b[0m\u001b[0mfiltered_tb\u001b[0m\u001b[0;34m)\u001b[0m \u001b[0;32mfrom\u001b[0m \u001b[0;32mNone\u001b[0m\u001b[0;34m\u001b[0m\u001b[0;34m\u001b[0m\u001b[0m\n\u001b[0m\u001b[1;32m     71\u001b[0m         \u001b[0;32mfinally\u001b[0m\u001b[0;34m:\u001b[0m\u001b[0;34m\u001b[0m\u001b[0;34m\u001b[0m\u001b[0m\n\u001b[1;32m     72\u001b[0m             \u001b[0;32mdel\u001b[0m \u001b[0mfiltered_tb\u001b[0m\u001b[0;34m\u001b[0m\u001b[0;34m\u001b[0m\u001b[0m\n",
      "\u001b[0;32m/usr/local/lib/python3.10/dist-packages/keras/src/engine/training.py\u001b[0m in \u001b[0;36mtf__train_function\u001b[0;34m(iterator)\u001b[0m\n\u001b[1;32m     13\u001b[0m                 \u001b[0;32mtry\u001b[0m\u001b[0;34m:\u001b[0m\u001b[0;34m\u001b[0m\u001b[0;34m\u001b[0m\u001b[0m\n\u001b[1;32m     14\u001b[0m                     \u001b[0mdo_return\u001b[0m \u001b[0;34m=\u001b[0m \u001b[0;32mTrue\u001b[0m\u001b[0;34m\u001b[0m\u001b[0;34m\u001b[0m\u001b[0m\n\u001b[0;32m---> 15\u001b[0;31m                     \u001b[0mretval_\u001b[0m \u001b[0;34m=\u001b[0m \u001b[0mag__\u001b[0m\u001b[0;34m.\u001b[0m\u001b[0mconverted_call\u001b[0m\u001b[0;34m(\u001b[0m\u001b[0mag__\u001b[0m\u001b[0;34m.\u001b[0m\u001b[0mld\u001b[0m\u001b[0;34m(\u001b[0m\u001b[0mstep_function\u001b[0m\u001b[0;34m)\u001b[0m\u001b[0;34m,\u001b[0m \u001b[0;34m(\u001b[0m\u001b[0mag__\u001b[0m\u001b[0;34m.\u001b[0m\u001b[0mld\u001b[0m\u001b[0;34m(\u001b[0m\u001b[0mself\u001b[0m\u001b[0;34m)\u001b[0m\u001b[0;34m,\u001b[0m \u001b[0mag__\u001b[0m\u001b[0;34m.\u001b[0m\u001b[0mld\u001b[0m\u001b[0;34m(\u001b[0m\u001b[0miterator\u001b[0m\u001b[0;34m)\u001b[0m\u001b[0;34m)\u001b[0m\u001b[0;34m,\u001b[0m \u001b[0;32mNone\u001b[0m\u001b[0;34m,\u001b[0m \u001b[0mfscope\u001b[0m\u001b[0;34m)\u001b[0m\u001b[0;34m\u001b[0m\u001b[0;34m\u001b[0m\u001b[0m\n\u001b[0m\u001b[1;32m     16\u001b[0m                 \u001b[0;32mexcept\u001b[0m\u001b[0;34m:\u001b[0m\u001b[0;34m\u001b[0m\u001b[0;34m\u001b[0m\u001b[0m\n\u001b[1;32m     17\u001b[0m                     \u001b[0mdo_return\u001b[0m \u001b[0;34m=\u001b[0m \u001b[0;32mFalse\u001b[0m\u001b[0;34m\u001b[0m\u001b[0;34m\u001b[0m\u001b[0m\n",
      "\u001b[0;31mValueError\u001b[0m: in user code:\n\n    File \"/usr/local/lib/python3.10/dist-packages/keras/src/engine/training.py\", line 1401, in train_function  *\n        return step_function(self, iterator)\n    File \"/usr/local/lib/python3.10/dist-packages/keras/src/engine/training.py\", line 1384, in step_function  **\n        outputs = model.distribute_strategy.run(run_step, args=(data,))\n    File \"/usr/local/lib/python3.10/dist-packages/keras/src/engine/training.py\", line 1373, in run_step  **\n        outputs = model.train_step(data)\n    File \"/usr/local/lib/python3.10/dist-packages/keras/src/engine/training.py\", line 1150, in train_step\n        y_pred = self(x, training=True)\n    File \"/usr/local/lib/python3.10/dist-packages/keras/src/utils/traceback_utils.py\", line 70, in error_handler\n        raise e.with_traceback(filtered_tb) from None\n    File \"/usr/local/lib/python3.10/dist-packages/keras/src/engine/input_spec.py\", line 298, in assert_input_compatibility\n        raise ValueError(\n\n    ValueError: Input 0 of layer \"sequential_2\" is incompatible with the layer: expected shape=(None, 1380), found shape=(10, 44277)\n"
     ]
    }
   ],
   "source": [
    "# model.fit(X_train,np.array(train_labels),epochs=10,verbose=1,batch_size=10)"
   ]
  },
  {
   "cell_type": "code",
   "execution_count": null,
   "metadata": {
    "executionInfo": {
     "elapsed": 19,
     "status": "aborted",
     "timestamp": 1702870096655,
     "user": {
      "displayName": "cdac_course",
      "userId": "16993079997048252374"
     },
     "user_tz": -330
    },
    "id": "F_A9sFiz5a3X"
   },
   "outputs": [],
   "source": [
    "#!pip install pydotplus"
   ]
  },
  {
   "cell_type": "code",
   "execution_count": null,
   "metadata": {
    "executionInfo": {
     "elapsed": 19,
     "status": "aborted",
     "timestamp": 1702870096655,
     "user": {
      "displayName": "cdac_course",
      "userId": "16993079997048252374"
     },
     "user_tz": -330
    },
    "id": "TJDX_gma5a3X"
   },
   "outputs": [],
   "source": [
    "#!pip install graphviz"
   ]
  },
  {
   "cell_type": "code",
   "execution_count": null,
   "metadata": {
    "executionInfo": {
     "elapsed": 20,
     "status": "aborted",
     "timestamp": 1702870096656,
     "user": {
      "displayName": "cdac_course",
      "userId": "16993079997048252374"
     },
     "user_tz": -330
    },
    "id": "8N_CeGyDRD0J"
   },
   "outputs": [],
   "source": [
    "# plot_model(model,show_dtype=True,show_layer_activations=True,\n",
    "#            show_shapes=True,show_layer_names=True)\n"
   ]
  },
  {
   "cell_type": "code",
   "execution_count": null,
   "metadata": {
    "executionInfo": {
     "elapsed": 20,
     "status": "aborted",
     "timestamp": 1702870096656,
     "user": {
      "displayName": "cdac_course",
      "userId": "16993079997048252374"
     },
     "user_tz": -330
    },
    "id": "El_WqycZ5a3Y"
   },
   "outputs": [],
   "source": [
    "# y_pred = model.evaluate(X_test,np.array(test_labels),batch_size=1)\n",
    "#Evalute function automatically calculates the loss and the Accuracy so we don't need to calculate explicitly"
   ]
  },
  {
   "cell_type": "code",
   "execution_count": null,
   "metadata": {
    "executionInfo": {
     "elapsed": 19,
     "status": "aborted",
     "timestamp": 1702870096656,
     "user": {
      "displayName": "cdac_course",
      "userId": "16993079997048252374"
     },
     "user_tz": -330
    },
    "id": "NQ3e3Osw5a3Y"
   },
   "outputs": [],
   "source": [
    "# y_pred"
   ]
  },
  {
   "cell_type": "code",
   "execution_count": null,
   "metadata": {
    "executionInfo": {
     "elapsed": 18,
     "status": "aborted",
     "timestamp": 1702870096656,
     "user": {
      "displayName": "cdac_course",
      "userId": "16993079997048252374"
     },
     "user_tz": -330
    },
    "id": "-s0bFpgm5a3Z"
   },
   "outputs": [],
   "source": [
    "# text1 ='Best movie ever! It was great, will definitely recommend it.'\n",
    "# text2 = 'This is a bad Movie'"
   ]
  },
  {
   "cell_type": "code",
   "execution_count": null,
   "metadata": {
    "executionInfo": {
     "elapsed": 19,
     "status": "aborted",
     "timestamp": 1702870096657,
     "user": {
      "displayName": "cdac_course",
      "userId": "16993079997048252374"
     },
     "user_tz": -330
    },
    "id": "C_85ZTL25a3a"
   },
   "outputs": [],
   "source": [
    "# def pred(text):\n",
    "#     # cleanig the text\n",
    "#     clean_text = clean_doc(text)\n",
    "\n",
    "#     #generating the tokens\n",
    "#     tokens = [w for w in clean_text if w in vocab]\n",
    "#     tokens= ' '.join(tokens)\n",
    "\n",
    "#     #Tranforming the input\n",
    "#     test = tokenizer.texts_to_matrix(tokens)\n",
    "\n",
    "#     #Make Prediction\n",
    "#     result = model.predict(test,verbose =0)\n",
    "\n",
    "#     #calculating the predicted percentage and labels\n",
    "#     percent_pos = result[0,0]\n",
    "\n",
    "#     # Round the value and check if it is zero which means prediction is Negative otherwise Positive.\n",
    "#     if round(percent_pos) == 0:\n",
    "#         return (1-percent_pos),\"Negative\"\n",
    "\n",
    "#     return percent_pos,\"Positive\"\n",
    "\n"
   ]
  },
  {
   "cell_type": "code",
   "execution_count": null,
   "metadata": {
    "executionInfo": {
     "elapsed": 18,
     "status": "aborted",
     "timestamp": 1702870096657,
     "user": {
      "displayName": "cdac_course",
      "userId": "16993079997048252374"
     },
     "user_tz": -330
    },
    "id": "_GBHNeZl5a3b"
   },
   "outputs": [],
   "source": [
    "# percentage,sentiment = pred(text1)\n",
    "# print(f\"Review:{sentiment} Percentage:{percentage}\")"
   ]
  },
  {
   "cell_type": "code",
   "execution_count": null,
   "metadata": {
    "executionInfo": {
     "elapsed": 18,
     "status": "aborted",
     "timestamp": 1702870096657,
     "user": {
      "displayName": "cdac_course",
      "userId": "16993079997048252374"
     },
     "user_tz": -330
    },
    "id": "_3SknzHo5a3b"
   },
   "outputs": [],
   "source": [
    "# percentage,sentiment = pred(text2)\n",
    "# print(f\"Review:{sentiment} Percentage:{percentage}\")"
   ]
  },
  {
   "cell_type": "code",
   "execution_count": 75,
   "metadata": {
    "executionInfo": {
     "elapsed": 801,
     "status": "ok",
     "timestamp": 1702870252124,
     "user": {
      "displayName": "cdac_course",
      "userId": "16993079997048252374"
     },
     "user_tz": -330
    },
    "id": "5TBDEnky5iz4"
   },
   "outputs": [],
   "source": [
    "vocab_filename = '/content/drive/MyDrive/KP_Module/NLP/Dataset/vocab.txt'\n",
    "vocab = load_doc(vocab_filename)\n",
    "vocab = set(vocab.split())"
   ]
  },
  {
   "cell_type": "code",
   "execution_count": 76,
   "metadata": {
    "executionInfo": {
     "elapsed": 5115,
     "status": "ok",
     "timestamp": 1702870258303,
     "user": {
      "displayName": "cdac_course",
      "userId": "16993079997048252374"
     },
     "user_tz": -330
    },
    "id": "xzLWIb_x5zPH"
   },
   "outputs": [],
   "source": [
    "# load all Reviews\n",
    "train_docs,y_train = load_clean_dataset(vocab,True)\n",
    "test_docs,y_test = load_clean_dataset(vocab,False)"
   ]
  },
  {
   "cell_type": "code",
   "execution_count": 77,
   "metadata": {
    "executionInfo": {
     "elapsed": 1291,
     "status": "ok",
     "timestamp": 1702870259554,
     "user": {
      "displayName": "cdac_course",
      "userId": "16993079997048252374"
     },
     "user_tz": -330
    },
    "id": "3E2v-urz6DCS"
   },
   "outputs": [],
   "source": [
    "# Create The Tokenizer\n",
    "tokenizer = create_tokenizer(train_docs)"
   ]
  },
  {
   "cell_type": "code",
   "execution_count": 78,
   "metadata": {
    "colab": {
     "base_uri": "https://localhost:8080/"
    },
    "executionInfo": {
     "elapsed": 5,
     "status": "ok",
     "timestamp": 1702870259555,
     "user": {
      "displayName": "cdac_course",
      "userId": "16993079997048252374"
     },
     "user_tz": -330
    },
    "id": "7JehCpoD6Y9_",
    "outputId": "75d21d3e-b425-445e-b39d-f3d0455e90ca"
   },
   "outputs": [
    {
     "name": "stdout",
     "output_type": "stream",
     "text": [
      "Vocabulary Size  44277\n"
     ]
    }
   ],
   "source": [
    "# define vocabulary size\n",
    "vocab_size = len(tokenizer.word_index) + 1\n",
    "print('Vocabulary Size ',vocab_size)"
   ]
  },
  {
   "cell_type": "code",
   "execution_count": 79,
   "metadata": {
    "colab": {
     "base_uri": "https://localhost:8080/"
    },
    "executionInfo": {
     "elapsed": 1584,
     "status": "ok",
     "timestamp": 1702870279946,
     "user": {
      "displayName": "cdac_course",
      "userId": "16993079997048252374"
     },
     "user_tz": -330
    },
    "id": "L_5yn6zA8R2g",
    "outputId": "49915b6b-e93c-4a68-a661-2332c00b014f"
   },
   "outputs": [
    {
     "name": "stdout",
     "output_type": "stream",
     "text": [
      "Max Length :  1380\n"
     ]
    }
   ],
   "source": [
    "max_length = max([len(s) for s in train_docs])\n",
    "print('Max Length : ',max_length)"
   ]
  },
  {
   "cell_type": "code",
   "execution_count": 80,
   "metadata": {
    "executionInfo": {
     "elapsed": 745,
     "status": "ok",
     "timestamp": 1702870282614,
     "user": {
      "displayName": "cdac_course",
      "userId": "16993079997048252374"
     },
     "user_tz": -330
    },
    "id": "5svJDvCF9l-2"
   },
   "outputs": [],
   "source": [
    "X_train = encode_docs(tokenizer,max_length,train_docs)\n",
    "X_test = encode_docs(tokenizer,max_length,test_docs)"
   ]
  },
  {
   "cell_type": "code",
   "execution_count": null,
   "metadata": {
    "colab": {
     "base_uri": "https://localhost:8080/"
    },
    "id": "pj6yb2G9-N4o",
    "outputId": "298356ef-02d9-45c1-fee7-be94f1497154"
   },
   "outputs": [
    {
     "name": "stdout",
     "output_type": "stream",
     "text": [
      "Model: \"sequential_5\"\n",
      "_________________________________________________________________\n",
      " Layer (type)                Output Shape              Param #   \n",
      "=================================================================\n",
      " embedding_5 (Embedding)     (None, 1380, 100)         4427700   \n",
      "                                                                 \n",
      " conv1d_5 (Conv1D)           (None, 1373, 32)          25632     \n",
      "                                                                 \n",
      " max_pooling1d_5 (MaxPoolin  (None, 686, 32)           0         \n",
      " g1D)                                                            \n",
      "                                                                 \n",
      " flatten_5 (Flatten)         (None, 21952)             0         \n",
      "                                                                 \n",
      " dense_10 (Dense)            (None, 50)                1097650   \n",
      "                                                                 \n",
      " dense_11 (Dense)            (None, 1)                 51        \n",
      "                                                                 \n",
      "=================================================================\n",
      "Total params: 5551033 (21.18 MB)\n",
      "Trainable params: 5551033 (21.18 MB)\n",
      "Non-trainable params: 0 (0.00 Byte)\n",
      "_________________________________________________________________\n",
      "Epoch 1/10\n",
      "181/181 [==============================] - 32s 155ms/step - loss: 0.6696 - accuracy: 0.6022\n",
      "Epoch 2/10\n",
      "181/181 [==============================] - 25s 136ms/step - loss: 0.1800 - accuracy: 0.9365\n",
      "Epoch 3/10\n",
      "181/181 [==============================] - 19s 104ms/step - loss: 0.0070 - accuracy: 0.9983\n",
      "Epoch 4/10\n",
      "181/181 [==============================] - 16s 89ms/step - loss: 0.0011 - accuracy: 1.0000\n",
      "Epoch 5/10\n",
      "181/181 [==============================] - 16s 86ms/step - loss: 7.1446e-04 - accuracy: 1.0000\n",
      "Epoch 6/10\n",
      "181/181 [==============================] - 12s 66ms/step - loss: 4.1572e-04 - accuracy: 1.0000\n",
      "Epoch 7/10\n",
      "181/181 [==============================] - 9s 48ms/step - loss: 2.5248e-04 - accuracy: 1.0000\n",
      "Epoch 8/10\n",
      "181/181 [==============================] - 9s 48ms/step - loss: 1.4949e-04 - accuracy: 1.0000\n",
      "Epoch 9/10\n",
      "181/181 [==============================] - 8s 43ms/step - loss: 8.3885e-05 - accuracy: 1.0000\n",
      "Epoch 10/10\n",
      "181/181 [==============================] - 6s 35ms/step - loss: 4.8813e-05 - accuracy: 1.0000\n"
     ]
    }
   ],
   "source": [
    "model = define_model(vocab_size,max_length)\n",
    "\n",
    "model.fit(X_train,np.array(train_labels),epochs=10,batch_size=10)"
   ]
  },
  {
   "cell_type": "code",
   "execution_count": null,
   "metadata": {
    "id": "vitiE1mi-8GG"
   },
   "outputs": [],
   "source": []
  }
 ],
 "metadata": {
  "accelerator": "GPU",
  "colab": {
   "gpuType": "T4",
   "provenance": []
  },
  "kernelspec": {
   "display_name": "Python 3 (ipykernel)",
   "language": "python",
   "name": "python3"
  },
  "language_info": {
   "codemirror_mode": {
    "name": "ipython",
    "version": 3
   },
   "file_extension": ".py",
   "mimetype": "text/x-python",
   "name": "python",
   "nbconvert_exporter": "python",
   "pygments_lexer": "ipython3",
   "version": "3.11.5"
  }
 },
 "nbformat": 4,
 "nbformat_minor": 1
}
