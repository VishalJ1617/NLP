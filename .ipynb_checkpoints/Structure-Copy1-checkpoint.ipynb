{
 "cells": [
  {
   "cell_type": "markdown",
   "id": "9d708c98",
   "metadata": {},
   "source": [
    "Date : / /2023"
   ]
  },
  {
   "cell_type": "markdown",
   "id": "5725b5b8",
   "metadata": {},
   "source": [
    "## Heading"
   ]
  },
  {
   "cell_type": "markdown",
   "id": "27dc9b1d",
   "metadata": {},
   "source": [
    "### Imports"
   ]
  },
  {
   "cell_type": "code",
   "execution_count": 2,
   "id": "9cf12a9d",
   "metadata": {},
   "outputs": [],
   "source": [
    "### -------------------\n",
    "### Importing libraries\n",
    "### -------------------\n",
    "\n",
    "# import pandas as pd\n",
    "# import numpy as np\n",
    "# import matplotlib.pyplot as plt\n",
    "# import seaborn as sns"
   ]
  },
  {
   "cell_type": "markdown",
   "id": "523f60ff",
   "metadata": {},
   "source": [
    "### Global variables"
   ]
  },
  {
   "cell_type": "markdown",
   "id": "be6cec1f",
   "metadata": {},
   "source": [
    "### Input data"
   ]
  },
  {
   "cell_type": "code",
   "execution_count": 4,
   "id": "e2bf3b75",
   "metadata": {},
   "outputs": [],
   "source": [
    "### ----------\n",
    "### input data\n",
    "### ----------"
   ]
  },
  {
   "cell_type": "code",
   "execution_count": null,
   "id": "a9bbe667",
   "metadata": {},
   "outputs": [],
   "source": []
  }
 ],
 "metadata": {
  "kernelspec": {
   "display_name": "Python 3 (ipykernel)",
   "language": "python",
   "name": "python3"
  },
  "language_info": {
   "codemirror_mode": {
    "name": "ipython",
    "version": 3
   },
   "file_extension": ".py",
   "mimetype": "text/x-python",
   "name": "python",
   "nbconvert_exporter": "python",
   "pygments_lexer": "ipython3",
   "version": "3.11.5"
  }
 },
 "nbformat": 4,
 "nbformat_minor": 5
}
