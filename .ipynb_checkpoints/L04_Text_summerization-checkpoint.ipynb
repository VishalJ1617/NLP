{
 "cells": [
  {
   "cell_type": "markdown",
   "id": "9d708c98",
   "metadata": {},
   "source": [
    "Date : / /2023"
   ]
  },
  {
   "cell_type": "markdown",
   "id": "5725b5b8",
   "metadata": {},
   "source": [
    "# Text summarization"
   ]
  },
  {
   "cell_type": "markdown",
   "id": "74fe640e",
   "metadata": {},
   "source": [
    "1. Main idea behind the text-summarization is to summerize the most essential idea behind the article, in human readable format."
   ]
  },
  {
   "cell_type": "markdown",
   "id": "e07d31ba",
   "metadata": {},
   "source": [
    "## Types of text summarization"
   ]
  },
  {
   "cell_type": "markdown",
   "id": "3de2df91",
   "metadata": {},
   "source": [
    "<img src=\"Untitled.jpeg\" alt=\"type of text summarization\">"
   ]
  },
  {
   "cell_type": "markdown",
   "id": "ff331b76",
   "metadata": {},
   "source": [
    "#### Summarization"
   ]
  },
  {
   "cell_type": "markdown",
   "id": "71829ffd",
   "metadata": {},
   "source": [
    "<img src=\"abstractive-text-summarization-40-638 (1).jpg\" alt=\"tsum\">"
   ]
  },
  {
   "cell_type": "markdown",
   "id": "f510782c",
   "metadata": {},
   "source": [
    "#### Summarization"
   ]
  },
  {
   "cell_type": "markdown",
   "id": "2e3e79c3",
   "metadata": {},
   "source": [
    "\n",
    "<img src=\"5116.1582303416.png\" alt=\"type of text summarization1\">"
   ]
  },
  {
   "cell_type": "markdown",
   "id": "57e31c13",
   "metadata": {},
   "source": [
    "**Extractive summary** \n",
    "\n",
    "1. Top **rank algorithm** is the type of the **extractive summary**.\n",
    "2. Sentece with most frequent words are considered to be important.\n",
    "3. Sentences with the higher rank makes it to the summary."
   ]
  },
  {
   "cell_type": "markdown",
   "id": "8b08098a",
   "metadata": {},
   "source": [
    "### Pip installs"
   ]
  },
  {
   "cell_type": "code",
   "execution_count": 1,
   "id": "060468d6",
   "metadata": {},
   "outputs": [],
   "source": [
    "# !pip install gensim sumy transformers"
   ]
  },
  {
   "cell_type": "markdown",
   "id": "27dc9b1d",
   "metadata": {},
   "source": [
    "### Imports"
   ]
  },
  {
   "cell_type": "code",
   "execution_count": 2,
   "id": "9cf12a9d",
   "metadata": {},
   "outputs": [],
   "source": [
    "### -------------------\n",
    "### Importing libraries\n",
    "### -------------------\n",
    "\n",
    "# Import the textRank summarizer\n",
    "\n",
    "from sumy.summarizers.text_rank import TextRankSummarizer\n",
    "\n",
    "#Importing the parser and tokeniser\n",
    "\n",
    "from sumy.parsers.plaintext import PlaintextParser\n",
    "from sumy.nlp.tokenizers import Tokenizer\n",
    "\n",
    "import urllib\n",
    "\n",
    "from nltk.tokenize import word_tokenize\n",
    "from nltk.corpus import stopwords\n",
    "from nltk.stem import PorterStemmer, WordNetLemmatizer\n",
    "from nltk import FreqDist, pos_tag\n",
    "\n",
    "import string\n",
    "\n",
    "import regex as re\n",
    "\n",
    "from bs4 import BeautifulSoup "
   ]
  },
  {
   "cell_type": "markdown",
   "id": "be6cec1f",
   "metadata": {},
   "source": [
    "### Input data"
   ]
  },
  {
   "cell_type": "code",
   "execution_count": 3,
   "id": "e2bf3b75",
   "metadata": {},
   "outputs": [],
   "source": [
    "### ----------\n",
    "### input data\n",
    "### ----------\n",
    "\n",
    "text='''The Bengal tiger is a population of the Panthera tigris tigris subspecies and the nominate tiger subspecies.[1] It ranks among the biggest wild cats alive today.[2][3] It is considered to belong to the world's charismatic megafauna.[4]\n",
    "\n",
    "The tiger is estimated to have been present in the Indian subcontinent since the Late Pleistocene, for about 12,000 to 16,500 years.[5][6][7] Today, it is threatened by poaching, loss and fragmentation of habitat, and was estimated at comprising fewer than 2,500 wild individuals by 2011. None of the Tiger Conservation Landscapes within its range is considered large enough to support an effective population of more than 250 adult individuals.[8]\n",
    "\n",
    "The Bengal tiger's historical range covered the Indus River valley until the early 19th century, almost all of India, Pakistan, southern Nepal, Bangladesh, Bhutan, and southwestern China. Today, it inhabits India, Bangladesh, Nepal, Bhutan, and southwestern China.[6] India's tiger population was estimated at 2,603–3,346 individuals by 2018.[9] Around 300–500 individuals are estimated in Bangladesh,[8] 355 in Nepal by 2022,[10] and 90 individuals in Bhutan by 2015.\n",
    "Felis tigris was the scientific name used by Carl Linnaeus in 1758 for the tiger.[12] It was subordinated to the genus Panthera by Reginald Innes Pocock in 1929. Bengal is the traditional type locality of the species and the nominate subspecies Panthera tigris tigris.[13]\n",
    "\n",
    "The validity of several tiger subspecies in continental Asia was questioned in 1999. Morphologically, tigers from different regions vary little, and gene flow between populations in those regions is considered to have been possible during the Pleistocene. Therefore, it was proposed to recognise only two subspecies as valid, namely P. t. tigris in mainland Asia, and P. t. sondaica in the Greater Sunda Islands and possibly in Sundaland.[14] The nominate subspecies P. t. tigris constitutes two clades: the northern clade comprises the Siberian and Caspian tiger populations, and the southern clade all remaining continental tiger populations.[15] The extinct and living tiger populations in continental Asia have been subsumed to P. t. tigris since the revision of felid taxonomy in 2017.[1]\n",
    "\n",
    "Results of a genetic analysis of 32 tiger samples indicate that the Bengal tiger samples grouped into a different clade than the Siberian tiger samples.'''"
   ]
  },
  {
   "cell_type": "code",
   "execution_count": 21,
   "id": "d67d9142",
   "metadata": {},
   "outputs": [
    {
     "data": {
      "text/plain": [
       "str"
      ]
     },
     "execution_count": 21,
     "metadata": {},
     "output_type": "execute_result"
    }
   ],
   "source": [
    "type(text)"
   ]
  },
  {
   "cell_type": "code",
   "execution_count": 4,
   "id": "23806e23",
   "metadata": {},
   "outputs": [
    {
     "data": {
      "text/plain": [
       "19"
      ]
     },
     "execution_count": 4,
     "metadata": {},
     "output_type": "execute_result"
    }
   ],
   "source": [
    "from nltk.tokenize import sent_tokenize\n",
    "len(sent_tokenize(text))"
   ]
  },
  {
   "cell_type": "code",
   "execution_count": 5,
   "id": "8d0671b4",
   "metadata": {},
   "outputs": [],
   "source": [
    "#Initializing the parser\n",
    "\n",
    "my_parser=PlaintextParser.from_string(text,Tokenizer('english'))"
   ]
  },
  {
   "cell_type": "code",
   "execution_count": 6,
   "id": "afee8103",
   "metadata": {},
   "outputs": [],
   "source": [
    "# Creating the summary of 3 sentences\n",
    "\n",
    "tex_rank_summarizer=TextRankSummarizer()\n",
    "\n",
    "summary=tex_rank_summarizer(my_parser.document,sentences_count=3)"
   ]
  },
  {
   "cell_type": "code",
   "execution_count": 7,
   "id": "21b8fe96",
   "metadata": {},
   "outputs": [
    {
     "name": "stdout",
     "output_type": "stream",
     "text": [
      "The Bengal tiger is a population of the Panthera tigris tigris subspecies and the nominate tiger subspecies.\n",
      "The tiger is estimated to have been present in the Indian subcontinent since the Late Pleistocene, for about 12,000 to 16,500 years.\n",
      "[14] The nominate subspecies P. t. tigris constitutes two clades: the northern clade comprises the Siberian and Caspian tiger populations, and the southern clade all remaining continental tiger populations.\n"
     ]
    }
   ],
   "source": [
    "for sent in summary:\n",
    "    \n",
    "    print(sent)"
   ]
  },
  {
   "cell_type": "markdown",
   "id": "c6649171",
   "metadata": {},
   "source": [
    "# Text summerization by doing scraping from a website"
   ]
  },
  {
   "cell_type": "code",
   "execution_count": 8,
   "id": "401d0ba2",
   "metadata": {},
   "outputs": [],
   "source": [
    "url = urllib.request.urlopen('https://en.wikipedia.org/wiki/Rajgad_Fort')\n",
    "\n",
    "data = url.read()"
   ]
  },
  {
   "cell_type": "code",
   "execution_count": 9,
   "id": "bc9ee24e",
   "metadata": {},
   "outputs": [
    {
     "data": {
      "text/plain": [
       "'\\n\\n\\n\\nRajgad Fort - Wikipedia\\n\\n\\n\\n\\n\\n\\n\\n\\n\\n\\n\\n\\n\\n\\n\\n\\n\\n\\n\\n\\n\\n\\n\\n\\n\\n\\n\\n\\n\\n\\n\\n\\n\\n\\n\\n\\nJump to content\\n\\n\\n\\n\\n\\n\\n\\nMain menu\\n\\n\\n\\n\\n\\nMain menu\\nmove to sidebar\\nhide\\n\\n\\n\\n\\t\\tNavigation\\n\\t\\n\\n\\nMain pageContentsCurrent eventsRandom articleAbout WikipediaContact usDonate\\n\\n\\n\\n\\n\\n\\t\\tContribute\\n\\t\\n\\n\\nHelpLearn to editCommunity portalRecent changesUpload file\\n\\n\\n\\n\\n\\nLanguages\\n\\nLanguage links are at the top of the page across from the title.\\n\\n\\n\\n\\n\\n\\n\\n\\n\\n\\n\\n\\n\\n\\n\\n\\n\\n\\n\\nSearch\\n\\n\\n\\n\\n\\n\\n\\n\\n\\n\\n\\nSearch\\n\\n\\n\\n\\n\\n\\n\\n\\n\\n\\n\\n\\n\\n\\n\\n\\n\\n\\n\\n\\n\\n\\n\\n\\n\\n\\n\\n\\n\\nCreate account\\n\\nLog in\\n\\n\\n\\n\\n\\n\\n\\n\\nPersonal tools\\n\\n\\n\\n\\n\\n Create account Log in\\n\\n\\n\\n\\n\\n\\t\\tPages for logged out editors learn more\\n\\n\\n\\nContributionsTalk\\n\\n\\n\\n\\n\\n\\n\\n\\n\\n\\n\\n\\n\\n\\n\\n\\n\\n\\n\\n\\n\\n\\n\\n\\n\\n\\n\\n\\nContents\\nmove to sidebar\\nhide\\n\\n\\n\\n\\n(Top)\\n\\n\\n\\n\\n\\n1History\\n\\n\\n\\nToggle History subsection\\n\\n\\n\\n\\n\\n1.1List of chronological events\\n\\n\\n\\n\\n\\n\\n\\n\\n\\n2Tourism\\n\\n\\n\\n\\n\\n\\n\\n3Gallery\\n\\n\\n\\n\\n\\n\\n\\n4See also\\n\\n\\n\\n\\n\\n\\n\\n5References\\n\\n\\n\\n\\n\\n\\n\\n6External links\\n\\n\\n\\n\\n\\n\\n\\n\\n\\n\\n\\n\\n\\n\\n\\n\\n\\nToggle the table of contents\\n\\n\\n\\n\\n\\n\\n\\nRajgad Fort\\n\\n\\n\\n7 languages\\n\\n\\n\\n\\nEspañolहिन्दीमराठीمصرىनेपाल भाषाپنجابیاردو\\n\\nEdit links\\n\\n\\n\\n\\n\\n\\n\\n\\n\\n\\n\\nArticleTalk\\n\\n\\n\\n\\n\\nEnglish\\n\\n\\n\\n\\n\\n\\n\\n\\n\\n\\n\\n\\n\\n\\n\\n\\n\\nReadEditView history\\n\\n\\n\\n\\n\\n\\n\\nTools\\n\\n\\n\\n\\n\\nTools\\nmove to sidebar\\nhide\\n\\n\\n\\n\\t\\tActions\\n\\t\\n\\n\\nReadEditView history\\n\\n\\n\\n\\n\\n\\t\\tGeneral\\n\\t\\n\\n\\nWhat links hereRelated changesUpload fileSpecial pagesPermanent linkPage informationCite this pageGet shortened URLWikidata item\\n\\n\\n\\n\\n\\n\\t\\tPrint/export\\n\\t\\n\\n\\nDownload as PDFPrintable version\\n\\n\\n\\n\\n\\n\\t\\tIn other projects\\n\\t\\n\\n\\nWikimedia CommonsWikivoyage\\n\\n\\n\\n\\n\\n\\n\\n\\n\\n\\n\\n\\n\\n\\n\\n\\n\\n\\n\\n\\n\\n\\n\\n\\nCoordinates: 18°14′46″N 73°40′56″E\\ufeff / \\ufeff18.2459862°N 73.6821929°E\\ufeff / 18.2459862; 73.6821929\\n\\nFrom Wikipedia, the free encyclopedia\\n\\n\\nHill fort in Pune district, Maharashtra, India\\nNot to be confused with Raigad Fort.\\nThis article needs additional citations for verification. Please help improve this article by adding citations to reliable sources. Unsourced material may be challenged and removed.Find sources:\\xa0\"Rajgad Fort\"\\xa0–\\xa0news\\xa0· newspapers\\xa0· books\\xa0· scholar\\xa0· JSTOR (November 2021) (Learn how and when to remove this template message)\\n\\n\\nRajgad FortPart of on MaharashtraPune District, Maharashtra Rajgad FortRajgad FortShown within MaharashtraShow map of MaharashtraRajgad FortRajgad Fort (India)Show map of IndiaCoordinates18°14′46″N 73°40′56″E\\ufeff / \\ufeff18.2459862°N 73.6821929°E\\ufeff / 18.2459862; 73.6821929TypeHill fortHeight1376 mSite informationOwner\\nMaratha Empire (1656–1689; 1707–1818)\\nMughal Empire (1689–1707)\\nEast India Company (1818–1858)\\nBritish Empire (1858–1947)\\nGovernment of India (1947–present)\\nOpen\\xa0tothe\\xa0publicYes\\nSite historyArchitectShivaji\\nRajgad (literal meaning ruling fort) is a Hill region fort situated in the Pune district of Maharashtra, India. Formerly known as Murumbdev, the fort was the first capital of the Maratha Empire under the rule of Chhatrapati Shivaji for almost 26 years, after which the capital was moved to the Raigad Fort.[1] Treasures discovered from an adjacent fort called Torna were used to completely build and fortify the Rajgad Fort.[citation needed]\\nThe Rajgad Fort is located around 60\\xa0km (37\\xa0mi) to the south-west of Pune and about 15\\xa0km (9.3\\xa0mi) west of Nasrapur in the Sahyadris range. The fort lies 1,376\\xa0m (4,514\\xa0ft) above the sea level. The diameter of the base of the fort was about 40\\xa0km (25\\xa0mi) which made it difficult to lay siege on it, which added to its strategic value. The fort\\'s ruins consist of palaces, water cisterns, and caves. This fort was built on a hill called Murumbadevi Dongar (mountain of the goddess Murumba). Rajgad boasts of the highest number of days stayed by  Chhatrapati Shivaji on any fort.[citation needed]\\n\\n\\nHistory[edit]\\nThe fort has stood witness to many significant historic events including the birth of Chhatrapati Shivaji\\'s son Rajaram I, the death of Shivaji\\'s wife Saibai, the return of Shivaji from Agra, the burial of Afzal Khan\\'s head in the Mahadarwaja walls of Balle Killa, the strict words of Sonopant Dabir to Shivaji.[citation needed]\\nThe Rajgad Fort was also one of the 12 forts that Shivaji kept when he signed the Treaty of Purandar in 1665, with the Mughal general Jai Singh I, leader of the Mughal forces. Under this treaty, 23 forts were handed over to the Mughals.[2]\\n\\nList of chronological events[edit]\\n\\n\\nYear\\nDate\\nEvent\\n\\n\\n1490\\n\\nAhmed Bahiri Nizamshah captured the fort.\\n\\n\\n1626\\n\\nDuring the Nizam\\'s last struggle, Adilshah captured the fort.\\n\\n\\n1630\\n\\nThe fort was recaptured by Nizamshah with the help of Shahaji.\\n\\n\\n1642\\n\\nThe fort was  in the jagir of Shahaji Raje.\\n\\n\\n1647\\n\\nShivaji captured the fort.\\n\\n\\n1649\\n\\nRepairs on the fort began and Shamrao Neelkanth Ranzekar was appointed as the Peshwa.\\n\\n\\n1654\\n\\nThe fort was renamed as \"Rajgad\". Construction on new fortifications and buildings commenced.\\n\\n\\n1658\\n14 January\\nShivaji returned to Rajgad after conquering North Konkan.\\n\\n\\n1659\\n11 July\\nShivaji shifted to Pratapgad in order to battle with Afzal Khan.\\n\\n\\n1659\\n5 September\\nMaharani Saibai (Shivaji\\'s wife) died in the Rajgad Fort.\\n\\n\\n1660\\nJuly\\nShivaji escaped from Siddi Jouhar\\'s siege of Panhala and came to Rajgad.\\n\\n\\n1661\\nJuly\\nThe idol of Bhavanimata, which was to be established in Pratapgad, was first brought to Rajgad to be inspected by Jijabai.\\n\\n\\n1662\\nJanuary\\nThe construction of the Rajgad fort was completed and Shivaji returned to the fort after capturing Pen and Kalyan.\\n\\n\\n1664\\nFebruary\\nThe booty of Surat was brought to Rajgad.\\n\\n\\n1665\\n30 April\\nThe Mughals were unsuccessful on their attack of the fort.\\n\\n\\n1665\\nJune\\nShivaji\\'s letter of accepting defeat was sent to Jaisingh.\\n\\n\\n1670\\n24 February\\nRajaram was born on the Fort.\\n\\n\\n1671\\n\\nThe repairing of the fort began at an expected cost of 10,000 hons.\\n\\n\\n1674\\n6 June\\nCoronation of Shivaji happened on Riagard Fort[citation needed]\\n\\n\\n1689\\nJune\\nThe fort was captured by the Mughals after Sambhaji was murdered.\\n\\n\\n1692\\n\\nShankarji Narayan captured the fort from the Mughals.\\n\\n\\n1697\\n\\nRajaram returned to Maharashtra and made Rajgad his new capital[1]\\n\\n\\n1701\\n4 August\\nShahaji Mohite was made the havaldar of Padmavati Machi\\n\\n\\n1704\\n18 February\\nThe fort was handed over to Aurangzeb as part of a treaty. The fort was renamed to Nabishahagad.  Sidojirao Thopte and Santaji Shilimkar were killed here by Aurangzeb.\\n\\n\\n1707\\n29 May\\nGunaji Sawant captured the fort and The Maratha War of Independence ended.\\n\\n\\n1709\\n\\nShahu made provisions for the repairs of the fort.\\n\\n\\n1818\\n\\nThe Rajgad Fort passed into the hands of the British.\\n\\nTourism[edit]\\nThe fort is a significant tourist destination and is most sought after especially during monsoon. Visitors prefer to stay overnight on the fort considering the fort itself is huge and cannot be explored in a single day. The Padmavati temple on the fort can accommodate around 50 people. Water tanks provide fresh water all throughout the year. Villagers from the foothills of Rajgad sell local antiques and items to these tourists.\\n\\nGallery[edit]\\n\\n\\n\\n\\nThe Fort\\n\\n\\n\\n\\n\\n\\n\\n\\n\\n\\n\\n\\n\\n\\n\\n\\n\\n\\n\\n\\n\\n\\n\\n\\n\\n\\n\\n\\n\\n\\n\\n\\n\\n\\n\\n\\n\\n\\n\\n\\n\\nBale Killa, Rajgad\\n\\n\\n\\n\\n\\n\\nBallekilla, Rajgad\\n\\n\\n\\n\\n\\n\\nSanjivani Machi-view from Rajgad Mahadwar\\n\\n\\n\\n\\n\\n\\nRajgad\\n\\n\\n\\n\\nSee also[edit]\\n\\nIndia portal\\nList of forts in Maharashtra\\n\\nReferences[edit]\\n\\n\\n^ a b Prof. A. R. Kulkarni (1 July 2008). \"Rajgad: The first capital of Chatrapati Shivaji Maharaj\". Medieval Maratha Country. Diamond Publications. ISBN\\xa0978-81-8483-072-9.\\n\\n^ \"Rajgarh Fort History\". Travelomy. Retrieved 8 February 2012.\\n\\n\\n\\nExternal links[edit]\\n\\n\\n\\nWikimedia Commons has media related to Rajgad Fort.\\n\\nAmazing Maharashtra\\nRajgad Fort Information in Marathi\\nPune Trekkers\\nvteForts in MaharashtraAhmednagar district\\nAhmednagar Fort\\nBahadurgad\\nBhairavgad\\nBitangad\\nHarishchandragad\\nKaladgad\\nKharda\\nKunjargad\\nMadan Fort\\nManjarsumbha fort\\nPabargad\\nPatta Fort\\nRatangad\\nAkola district\\nAkola Fort\\nBalapur\\nNarnala\\nAmravati district\\nAmner Fort\\nGawilghur\\nAurangabad district\\nAntur Fort\\nDaulatabad Fort\\nChandrapur district\\nChandrapur Fort\\nBallarpur Fort\\nBhadravati Fort\\nManikgad\\nDhule district\\nBhamer\\nLaling\\nThalner\\nKolhapur district\\nBhudargad\\nGandharvgad\\nPanhala\\nPargadh\\nPavangad\\nSamangad\\nVishalgad\\nLatur district\\nUdgir\\nMumbai City district\\nBombay Castle\\nDongri Fort\\nFort George\\nMahim Fort\\nMazagon Fort\\nRiwa Fort\\nSewri Fort\\nSion Hillock Fort\\nWorli Fort\\nMumbai Suburban district\\nCastella de Aguada\\nMadh\\nNagpur district\\nSitabuldi\\nNanded district\\nKandhar Fort\\nNashik district\\nAavandhagad\\nAchala Fort\\nAhivant Fort\\nAlang\\nAnjaneri\\nAnkai Fort\\nBahulagad\\nBhaskargad\\nChandwad\\nChauler Fort\\nDermal\\nDhodap\\nHargad\\nHarihar fort\\nHatgad\\nIndrai\\nKanchangad\\nKanhergad\\nKavnai fort\\nKulang\\nMadangad\\n Malegaon\\nMangi-Tungi\\n Moragad\\nMulher\\nNhavigad\\nRajdher fort\\nRamsej\\nSalher\\nSalota\\nSaptashrungi\\nTankai fort\\nTringalwadi\\nWaghera\\nOsmanabad district\\nNaldurg Fort\\nParanda Fort\\nPalghar district\\nBassein\\nKaldurg\\nTandulwadi\\nPune district\\nAnghaai Fort\\nBhorgiri Fort\\nChawand\\nDhakoba\\nGhangad\\nHadsar Fort\\nInduri Fort\\nJivdhan\\nKailasgad\\nKawla\\nKorigad/Koraigad\\nLohagad\\nMalhargad\\nManaranjan\\nMangalgad\\nMorgiri Fort\\nNarayangad\\nNimgiri\\nPurandar\\nRajgad\\nRajmachi\\nRayri Fort\\nRohida\\nSangram Durg\\nSindola Fort\\nShaniwar Wada\\nShivneri\\nShrivardhan\\nSinhagad\\nTikona\\nTorna\\nTung\\nVajragad Fort\\nVisapur\\nRaigad district\\nAgarkot\\nAvchitgad\\nBhimashankar Fort\\nBirwadi\\nChambhargad\\nChandragad\\nDhak Bahiri\\nDronagiri\\nGadad Bahiri\\nGhangad\\nGhosalgad\\nIrshalgad\\nKarnala\\nKhaderi\\nKhanderi\\nKondhawi Fort\\nKorlai\\nKothaligad Peb fort\\nKulaba\\nKurdugad\\nLingana\\nMaangad\\nMadgad\\nMalanggad\\nMangalgad (Kangori)\\nManikgad\\nMirgad\\nMrugagad\\nMurud-Janjira\\nPadargad\\nPadmadurg/ Kasa Fort\\nPrabalgad\\nRaigad\\nRatnagad\\nRevdanda\\nSagargad\\nSamrajgad\\nSankshi Fort\\nSarasgad\\nSarjekot\\nSongad\\nSongiri Fort\\nSudhagad\\nSurgad\\nTalagad\\nUnderi\\nVikatgad Peb fort\\nRatnagiri district\\nAambolgad\\nAnjanwel\\nBankot\\nGowalkot\\nJaigad\\nKanakdurg\\nMahipatgad\\nMandangad\\nPrachitgad\\nPrunagad\\nRasalgad\\nRatnagiri (Ratnadurg)\\nSumargad\\nSuvarnadurg\\nYashwantgad\\nSatara district\\nAjinkyatara\\nBhairavgad\\nBhushangad\\nChandan-Vandan\\nDategad\\nGunavantgad\\nJangali Jayagad\\nKalyangad\\nKamalgad\\nKenjalgad\\nMahimangad\\nPandavgad\\nPrachitgad\\nPratapgad\\nSajjangad\\nSantoshgad\\nVairatgad\\nVardhangad\\nVarugad\\nVasantgad\\nVasota\\nSindhudurg district\\nAasavgad\\nBharatgad\\nRajkot Fort\\nSanrjekot\\nSindhudurg\\nVijaydurg\\nThane district\\nAasawa\\nArnala\\nAsherigad\\nBallalgad\\nBalwantgad\\nBelapur Fort\\nBhairavgad\\nBhandargad\\nBhavanigad\\nBhupatgad\\nChanderigad\\nDahanugad\\nDaulatmandal\\nDharavi\\nDurgadi Fort\\nGambhirgad\\nGhodbunder Fort\\nGorakhgad\\nGotara\\nJivdhaanigad\\nKamandurg\\nKelwegad\\nKohojgad\\nMahuli\\nMalang gad\\nPalasgad\\nPankot\\nTahuli\\nShirgav Fort\\nJalna district\\nJalna Fort(Mastgarh)\\nRohilagarh\\nJafrabad Qila\\n\\nvte Forts in IndiaAhom dynasty\\nTalatal Ghar\\nKareng Ghar\\nRang Ghar\\nGarchuk Lachit Garh\\nBahmani Sultanate\\nBidar\\nGulbarga\\nBritish Raj\\nAnchuthengu\\nSt. George\\nWilliam\\nBombay\\nRiwa\\nWorli\\nMazagon\\nSion Hillock\\nSewri\\nMahim\\nTellicherry\\nSt. David\\nDeccan sultanates\\nAhmednagar\\nDaulatabad\\nGawilghur\\nGolconda\\nJalna Fort(Mastgarh)\\nNarnala\\nPanhala\\nDelhi Sultanate\\nAligarh\\nBandhavgarh\\nHathras\\nQila Mubarak\\nSiri\\nTughlaqabad\\nSalimgarh\\nEastern Ganga dynasty\\nBarabati\\nRaibania\\nFaruqi dynasty\\nAsirgarh\\nLaling\\nThalner\\nGujarat Sultanate\\nBhadra\\nJat\\nBawana Fort\\nGohad\\nLohagarh\\nNahar Singh Mahal\\nKakatiya dynasty\\nWarangal\\nKingdom of Mysore\\nDevanahalli\\nPalakkad\\nBekal\\nSankagiri\\nMalwa Sultanate\\nMandsaur\\nMandavgadh\\nMaratha Empire\\nDongri\\nHarishchandragad\\nKolaba\\nLohagad\\nSudhagad\\nSinhagad\\nTikona\\nPanhala\\nPratapgad\\nVishalgad\\nRajgad\\nSindhudurg\\nVijaydurg\\nShivneri\\nRaigad\\nGajendragarh\\nGingee\\nShaniwar Wada\\nJhansi\\nHinglajgarh\\nManora\\nVisapur\\nSadashivgad\\nMughal Empire\\nPurana Qila\\nChanderi\\nAgra\\nAllahabad\\nFatehpur Sikri\\nRed\\nAkola\\nHari Parbat Fort\\nRamnagar\\nNayak dynasty\\nChitradurga\\nBekal\\nDindigul\\nGingee\\nTiruchirapalli Rock\\nChandragiri Fort\\nHosdurg\\nPortuguese\\nBassein Fort\\nBombay Castle\\nMahim\\nArnala\\nCastella de Aguada\\nDiu Fort\\nSurat Castle\\nFortim do Mar, Diu\\nFortim do Mar, Simbor\\nEmmanuel\\nFort Anjediva\\nKorlai\\nMadh Fort\\nSt Thomas, Tangasseri\\nSt. Angelo\\nPallipuram\\nAguada\\nFort Tiracol\\nAnjediva\\nCranganore\\nGhodbunder\\nFortaleza de Chaul\\nPonda Fort\\nChapora Fort\\nFortaleza de São Sebastião de Tivim\\nCabo de Rama\\nCorjuem Fort\\nMormugão fort\\nRachol Fort\\nFort of São Tiago of Banastarim\\nRajputs\\nAchalgarh\\nAmber\\nBhangarh\\nChittor\\nJaigarh\\nJaisalmer\\nJalore\\nJunagarh\\nKankwadi\\nKumbhalgarh\\nNahargarh\\nQila Rai Pithora\\nTaragarh\\nLal Kot\\nGwalior\\nKalinjar\\nHinglajgarh\\nMehrangarh\\nNarwar\\nSenapati fortress\\nSabalgarh\\nBahu\\nKangra\\nRanthambore\\nBhatner fort\\nSikh Empire\\nKamlah\\nSiddi\\nMurud-Janjira\\nBelapur\\nUnderi\\nSur Empire\\nChunar\\nRohtasgarh\\nMunger\\nTravancore\\nVattakottai\\nUdayagiri\\nEast\\nVijayanagara\\nChandragiri\\nGingee\\nBangalore\\nUdayagiri\\nVellore\\n\\nvte Maratha EmpireChhatrapatis\\nShivaji\\nSambhaji\\nRajaram I\\nTarabai\\nShahu I\\nRajaram II\\nShahu II\\nPratap Singh\\nPeshwas\\nMoropant Trimbak Pingle\\nMoreshvar Pingale\\nRamchandra Pant Amatya\\nBahiroji Pingale\\nBalaji Vishwanath\\nBaji Rao I\\nBalaji Baji Rao\\nMadhavrao Ballal\\nNarayan Rao\\nRaghunathrao\\nSawai Madhavrao\\nBaji Rao II\\nAmrut Rao\\nNana Sahib\\nBhat family\\nAmatya & Pratinidhi\\nRamchandra Pant Amatya\\nPralhad Niraji\\nParshuram Pant Pratinidhi (hereditary)\\nShripatrao Pant Pratinidhi\\nJagjivanrao Pant Pratinidhi\\nWomen\\nAhilyabai Holkar\\nAnandibai\\nGopikabai\\nJankibai\\nJijabai\\nKashibai\\nLakshmibai\\nMastani\\nParvatibai\\nPutalabai\\nRamabai\\nSaibai\\nSakvarbai\\nSoyarabai\\nUmabai Dabhade\\nBaka Bai\\nTulsi Bai Holkar\\nMaratha Confederacy\\nBhonsle of Nagpur\\nGaekwad of Baroda\\nScindia of Gwalior\\nHolkar of Indore\\nPatwardhan dynasty\\nBattles\\nPratapgarh\\nKolhapur\\nPavan Khind\\nUmberkhind\\nChakan\\nSurat\\nPurandar\\nSinhagad\\nSalher\\nKalyan\\nBhupalgarh\\nSangamner\\nBijapur\\nRaigarh (1689)\\nJinji\\nSatara\\nKhelna\\nRaigarh\\nTorna\\nPalkhed\\nMalwa\\nMandsaur\\n1st Delhi\\nBhopal\\nVasai\\n1st Trichinopoly\\nKatwa (1st)\\n2nd Trichinopoly\\nKatwa (2nd)\\nInvasions of Bengal\\nBurdwan\\nNarela\\n2nd Delhi\\nNorth-west India\\nPeshawar\\nLahore\\nUdgir\\n3rd Panipat\\nAlegaon\\nRakshasbhuvan\\nCapture of Delhi\\nPachgaon\\nSaunshi\\nWadgaon\\nAdoni\\nBadami\\nSavanur\\nGajendragad\\nBahadur Benda\\nLalsot\\nChaksana\\nPatan\\nKharda\\nPoona\\n3rd Delhi\\nAssaye\\nLaswari\\nFarrukhabad\\nBharatpur\\nKhadki\\nKoregaon\\nMahidpur\\nWars\\nMaratha-Mughal War of 27 years\\nMaratha–Mysore War\\nFirst Anglo-Maratha War\\nSecond Anglo-Maratha War\\nThird Anglo-Maratha War\\nAdversaries\\nAdilshahi\\nQutbshahi\\nMughal Empire\\nDurrani Empire\\nBritish Empire\\nPortuguese Empire\\nNizam of Hyderabad\\nMysore\\nForts\\nMangad\\nPanhala\\nPratapgad\\n Purandar\\nRaigad\\nRajgad\\nShaniwar Wada\\nShivneri\\nSindhudurg\\nRajgad\\nTorna\\nCoins\\nShivrai\\n\\n\\n\\n\\n\\nRetrieved from \"https://en.wikipedia.org/w/index.php?title=Rajgad_Fort&oldid=1189518763\"\\nCategories: Forts in Pune districtFormer capital cities in IndiaBuildings and structures of the Maratha EmpireHidden categories: Articles with short descriptionShort description matches WikidataArticles needing additional references from November 2021All articles needing additional referencesUse dmy dates from July 2017Use Indian English from July 2017All Wikipedia articles written in Indian EnglishCoordinates on WikidataInfobox mapframe without OSM relation ID on WikidataAll articles with unsourced statementsArticles with unsourced statements from July 2017Articles with unsourced statements from May 2022Commons category link is on WikidataPages using the Kartographer extension\\n\\n\\n\\n\\n\\n\\n This page was last edited on 12 December 2023, at 10:17\\xa0(UTC).\\nText is available under the Creative Commons Attribution-ShareAlike License 4.0;\\nadditional terms may apply.  By using this site, you agree to the Terms of Use and Privacy Policy. Wikipedia® is a registered trademark of the Wikimedia Foundation, Inc., a non-profit organization.\\n\\n\\nPrivacy policy\\nAbout Wikipedia\\nDisclaimers\\nContact Wikipedia\\nCode of Conduct\\nDevelopers\\nStatistics\\nCookie statement\\nMobile view\\n\\n\\n\\n\\n\\n\\n\\n\\n\\n\\n\\n\\n\\nToggle limited content width\\n\\n\\n\\n\\n\\n\\n\\n'"
      ]
     },
     "execution_count": 9,
     "metadata": {},
     "output_type": "execute_result"
    }
   ],
   "source": [
    "soup = BeautifulSoup(data,'html.parser')\n",
    "\n",
    "text = soup.get_text()\n",
    "\n",
    "text"
   ]
  },
  {
   "cell_type": "markdown",
   "id": "6a2f8551",
   "metadata": {},
   "source": [
    "#### -----------------------------------------------------------------------------------------------------------------------------\n",
    "# Summarization Algorithms\n",
    "#### -----------------------------------------------------------------------------------------------------------------------------"
   ]
  },
  {
   "cell_type": "markdown",
   "id": "f6e15873",
   "metadata": {},
   "source": [
    "## Extractive Summarization"
   ]
  },
  {
   "cell_type": "markdown",
   "id": "d04a4933",
   "metadata": {},
   "source": [
    "## 1. Top Rank Summarizer"
   ]
  },
  {
   "cell_type": "code",
   "execution_count": 10,
   "id": "871fa915",
   "metadata": {},
   "outputs": [
    {
     "name": "stdout",
     "output_type": "stream",
     "text": [
      "History[edit] The fort has stood witness to many significant historic events including the birth of Chhatrapati Shivaji's son Rajaram I, the death of Shivaji's wife Saibai, the return of Shivaji from Agra, the burial of Afzal Khan's head in the Mahadarwaja walls of Balle Killa, the strict words of Sonopant Dabir to Shivaji.\n",
      "\n",
      "Amazing Maharashtra Rajgad Fort Information in Marathi Pune Trekkers vteForts in MaharashtraAhmednagar district Ahmednagar Fort Bahadurgad Bhairavgad Bitangad Harishchandragad Kaladgad Kharda Kunjargad Madan Fort Manjarsumbha fort Pabargad Patta Fort Ratangad Akola district Akola Fort Balapur Narnala Amravati district Amner Fort Gawilghur Aurangabad district Antur Fort Daulatabad Fort Chandrapur district Chandrapur Fort Ballarpur Fort Bhadravati Fort Manikgad Dhule district Bhamer Laling Thalner Kolhapur district Bhudargad Gandharvgad Panhala Pargadh Pavangad Samangad Vishalgad Latur district Udgir Mumbai City district Bombay Castle Dongri Fort Fort George Mahim Fort Mazagon Fort Riwa Fort Sewri Fort Sion Hillock Fort Worli Fort Mumbai Suburban district Castella de Aguada Madh Nagpur district Sitabuldi Nanded district Kandhar Fort Nashik district Aavandhagad Achala Fort Ahivant Fort Alang Anjaneri Ankai Fort Bahulagad Bhaskargad Chandwad Chauler Fort Dermal Dhodap Hargad Harihar fort Hatgad Indrai Kanchangad Kanhergad Kavnai fort Kulang Madangad Malegaon Mangi-Tungi Moragad Mulher Nhavigad Rajdher fort Ramsej Salher Salota Saptashrungi Tankai fort Tringalwadi Waghera Osmanabad district Naldurg Fort Paranda Fort Palghar district Bassein Kaldurg Tandulwadi Pune district Anghaai Fort Bhorgiri Fort Chawand Dhakoba Ghangad Hadsar Fort Induri Fort Jivdhan Kailasgad Kawla Korigad/Koraigad Lohagad Malhargad Manaranjan Mangalgad Morgiri Fort Narayangad Nimgiri Purandar Rajgad Rajmachi Rayri Fort Rohida Sangram Durg Sindola Fort Shaniwar Wada Shivneri Shrivardhan Sinhagad Tikona Torna Tung Vajragad Fort Visapur Raigad district Agarkot Avchitgad Bhimashankar Fort Birwadi Chambhargad Chandragad Dhak Bahiri Dronagiri Gadad Bahiri Ghangad Ghosalgad Irshalgad Karnala Khaderi Khanderi Kondhawi Fort Korlai Kothaligad Peb fort Kulaba Kurdugad Lingana Maangad Madgad Malanggad Mangalgad (Kangori) Manikgad Mirgad Mrugagad Murud-Janjira Padargad Padmadurg/ Kasa Fort Prabalgad Raigad Ratnagad Revdanda Sagargad Samrajgad Sankshi Fort Sarasgad Sarjekot Songad Songiri Fort Sudhagad Surgad Talagad Underi Vikatgad Peb fort Ratnagiri district Aambolgad Anjanwel Bankot Gowalkot Jaigad Kanakdurg Mahipatgad Mandangad Prachitgad Prunagad Rasalgad Ratnagiri (Ratnadurg) Sumargad Suvarnadurg Yashwantgad Satara district Ajinkyatara Bhairavgad Bhushangad Chandan-Vandan Dategad Gunavantgad Jangali Jayagad Kalyangad Kamalgad Kenjalgad Mahimangad Pandavgad Prachitgad Pratapgad Sajjangad Santoshgad Vairatgad Vardhangad Varugad Vasantgad Vasota Sindhudurg district Aasavgad Bharatgad Rajkot Fort Sanrjekot Sindhudurg Vijaydurg Thane district Aasawa Arnala Asherigad Ballalgad Balwantgad Belapur Fort Bhairavgad Bhandargad Bhavanigad Bhupatgad Chanderigad Dahanugad Daulatmandal Dharavi Durgadi Fort Gambhirgad Ghodbunder Fort Gorakhgad Gotara Jivdhaanigad Kamandurg Kelwegad Kohojgad Mahuli Malang gad Palasgad Pankot Tahuli Shirgav Fort Jalna district Jalna Fort(Mastgarh) Rohilagarh Jafrabad Qila\n",
      "\n",
      "vte Forts in IndiaAhom dynasty Talatal Ghar Kareng Ghar Rang Ghar Garchuk Lachit Garh Bahmani Sultanate Bidar Gulbarga British Raj Anchuthengu St. George William Bombay Riwa Worli Mazagon Sion Hillock Sewri Mahim Tellicherry St. David Deccan sultanates Ahmednagar Daulatabad Gawilghur Golconda Jalna Fort(Mastgarh) Narnala Panhala Delhi Sultanate Aligarh Bandhavgarh Hathras Qila Mubarak Siri Tughlaqabad Salimgarh Eastern Ganga dynasty Barabati Raibania Faruqi dynasty Asirgarh Laling Thalner Gujarat Sultanate Bhadra Jat Bawana Fort Gohad Lohagarh Nahar Singh Mahal Kakatiya dynasty Warangal Kingdom of Mysore Devanahalli Palakkad Bekal Sankagiri Malwa Sultanate Mandsaur Mandavgadh Maratha Empire Dongri Harishchandragad Kolaba Lohagad Sudhagad Sinhagad Tikona Panhala Pratapgad Vishalgad Rajgad Sindhudurg Vijaydurg Shivneri Raigad Gajendragarh Gingee Shaniwar Wada Jhansi Hinglajgarh Manora Visapur Sadashivgad Mughal Empire Purana Qila Chanderi Agra Allahabad Fatehpur Sikri Red Akola Hari Parbat Fort Ramnagar Nayak dynasty Chitradurga Bekal Dindigul Gingee Tiruchirapalli Rock Chandragiri Fort Hosdurg Portuguese Bassein Fort Bombay Castle Mahim Arnala Castella de Aguada Diu Fort Surat Castle Fortim do Mar, Diu Fortim do Mar, Simbor Emmanuel Fort Anjediva Korlai Madh Fort St Thomas, Tangasseri St. Angelo Pallipuram Aguada Fort Tiracol Anjediva Cranganore Ghodbunder Fortaleza de Chaul Ponda Fort Chapora Fort Fortaleza de São Sebastião de Tivim Cabo de Rama Corjuem Fort Mormugão fort Rachol Fort Fort of São Tiago of Banastarim Rajputs Achalgarh Amber Bhangarh Chittor Jaigarh Jaisalmer Jalore Junagarh Kankwadi Kumbhalgarh Nahargarh Qila Rai Pithora Taragarh Lal Kot Gwalior Kalinjar Hinglajgarh Mehrangarh Narwar Senapati fortress Sabalgarh Bahu Kangra Ranthambore Bhatner fort Sikh Empire Kamlah Siddi Murud-Janjira Belapur Underi Sur Empire Chunar Rohtasgarh Munger Travancore Vattakottai Udayagiri East Vijayanagara Chandragiri Gingee Bangalore Udayagiri Vellore\n",
      "\n"
     ]
    }
   ],
   "source": [
    "# summarizing text with, TextRankSummarizer\n",
    "\n",
    "my_parser = PlaintextParser.from_string(text,Tokenizer('english'))\n",
    "\n",
    "tex_rank_summarizer = TextRankSummarizer()\n",
    "\n",
    "summary = tex_rank_summarizer(my_parser.document,sentences_count=3)\n",
    "\n",
    "for sent in summary:\n",
    "    \n",
    "    print(sent)\n",
    "    \n",
    "    print()"
   ]
  },
  {
   "cell_type": "markdown",
   "id": "35a94327",
   "metadata": {},
   "source": [
    "## 2. Lesk Rank Summarizer"
   ]
  },
  {
   "cell_type": "code",
   "execution_count": 11,
   "id": "dbcf48b9",
   "metadata": {},
   "outputs": [],
   "source": [
    "Text = '''The Bengal tiger is a population of the Panthera tigris tigris subspecies and the nominate tiger subspecies.[1] It ranks among the biggest wild cats alive today.[2][3] It is considered to belong to the world's charismatic megafauna.[4]\n",
    "\n",
    "The tiger is estimated to have been present in the Indian subcontinent since the Late Pleistocene, for about 12,000 to 16,500 years.[5][6][7] Today, it is threatened by poaching, loss and fragmentation of habitat, and was estimated at comprising fewer than 2,500 wild individuals by 2011. None of the Tiger Conservation Landscapes within its range is considered large enough to support an effective population of more than 250 adult individuals.[8]\n",
    "\n",
    "The Bengal tiger's historical range covered the Indus River valley until the early 19th century, almost all of India, Pakistan, southern Nepal, Bangladesh, Bhutan, and southwestern China. Today, it inhabits India, Bangladesh, Nepal, Bhutan, and southwestern China.[6] India's tiger population was estimated at 2,603–3,346 individuals by 2018.[9] Around 300–500 individuals are estimated in Bangladesh,[8] 355 in Nepal by 2022,[10] and 90 individuals in Bhutan by 2015.\n",
    "Felis tigris was the scientific name used by Carl Linnaeus in 1758 for the tiger.[12] It was subordinated to the genus Panthera by Reginald Innes Pocock in 1929. Bengal is the traditional type locality of the species and the nominate subspecies Panthera tigris tigris.[13]\n",
    "\n",
    "The validity of several tiger subspecies in continental Asia was questioned in 1999. Morphologically, tigers from different regions vary little, and gene flow between populations in those regions is considered to have been possible during the Pleistocene. Therefore, it was proposed to recognise only two subspecies as valid, namely P. t. tigris in mainland Asia, and P. t. sondaica in the Greater Sunda Islands and possibly in Sundaland.[14] The nominate subspecies P. t. tigris constitutes two clades: the northern clade comprises the Siberian and Caspian tiger populations, and the southern clade all remaining continental tiger populations.[15] The extinct and living tiger populations in continental Asia have been subsumed to P. t. tigris since the revision of felid taxonomy in 2017.[1]\n",
    "\n",
    "Results of a genetic analysis of 32 tiger samples indicate that the Bengal tiger samples grouped into a different clade than the Siberian tiger samples.\n",
    "'''"
   ]
  },
  {
   "cell_type": "code",
   "execution_count": 12,
   "id": "cf22b11b",
   "metadata": {},
   "outputs": [],
   "source": [
    "# Importing LexRank Summarizer\n",
    "\n",
    "from sumy.summarizers.lex_rank import LexRankSummarizer"
   ]
  },
  {
   "cell_type": "code",
   "execution_count": 13,
   "id": "f564ebf3",
   "metadata": {},
   "outputs": [
    {
     "name": "stdout",
     "output_type": "stream",
     "text": [
      "Rajgad Fort\n",
      "1662 January The construction of the Rajgad fort was completed and Shivaji returned to the fort after capturing Pen and Kalyan.\n",
      "The Fort\n"
     ]
    }
   ],
   "source": [
    "# Creating summary of 3 sentences\n",
    "\n",
    "my_parser = PlaintextParser.from_string(text, Tokenizer('english'))\n",
    "\n",
    "\n",
    "# Initializing the LexRankSummarizer\n",
    "\n",
    "lex_rank_summarizer = LexRankSummarizer()\n",
    "\n",
    "\n",
    "summary = lex_rank_summarizer(my_parser.document, sentences_count = 3 )\n",
    "\n",
    "\n",
    "# Printing the summary\n",
    "\n",
    "for sent in summary:\n",
    "    \n",
    "    print(sent)"
   ]
  },
  {
   "cell_type": "markdown",
   "id": "7524d574",
   "metadata": {},
   "source": [
    "## 3.  LSA Summarizer"
   ]
  },
  {
   "cell_type": "code",
   "execution_count": 14,
   "id": "7ca49f0d",
   "metadata": {},
   "outputs": [],
   "source": [
    "from sumy.summarizers.lsa import LsaSummarizer"
   ]
  },
  {
   "cell_type": "code",
   "execution_count": 15,
   "id": "2abdccac",
   "metadata": {},
   "outputs": [
    {
     "name": "stdout",
     "output_type": "stream",
     "text": [
      "Today, it inhabits India, Bangladesh, Nepal, Bhutan, and southwestern China.\n",
      "\n",
      "[12] It was subordinated to the genus Panthera by Reginald Innes Pocock in 1929.\n",
      "\n",
      "Morphologically, tigers from different regions vary little, and gene flow between populations in those regions is considered to have been possible during the Pleistocene.\n",
      "\n"
     ]
    }
   ],
   "source": [
    "#Creating summary of 3 sentence\n",
    "my_parser=PlaintextParser.from_string(Text,Tokenizer('english'))\n",
    "lsa_summarizer=LsaSummarizer()\n",
    "summary=lsa_summarizer(my_parser.document,sentences_count=3)\n",
    "for sent in summary:\n",
    "    print(sent)\n",
    "    print()"
   ]
  },
  {
   "cell_type": "markdown",
   "id": "9aa846e6",
   "metadata": {},
   "source": [
    "## Abstractive Summarization"
   ]
  },
  {
   "cell_type": "markdown",
   "id": "7987226e",
   "metadata": {},
   "source": [
    "## 1.  Transformer"
   ]
  },
  {
   "cell_type": "markdown",
   "id": "8f06c073",
   "metadata": {},
   "source": [
    "1. Transformer is a type of **Abstract summarization**"
   ]
  },
  {
   "cell_type": "code",
   "execution_count": 16,
   "id": "b41b8380",
   "metadata": {},
   "outputs": [],
   "source": [
    "import transformers"
   ]
  },
  {
   "cell_type": "code",
   "execution_count": 17,
   "id": "f0e3493a",
   "metadata": {},
   "outputs": [
    {
     "name": "stderr",
     "output_type": "stream",
     "text": [
      "2023-12-12 19:47:18.745555: I tensorflow/core/util/port.cc:111] oneDNN custom operations are on. You may see slightly different numerical results due to floating-point round-off errors from different computation orders. To turn them off, set the environment variable `TF_ENABLE_ONEDNN_OPTS=0`.\n",
      "2023-12-12 19:47:19.548613: I tensorflow/tsl/cuda/cudart_stub.cc:28] Could not find cuda drivers on your machine, GPU will not be used.\n",
      "2023-12-12 19:47:21.095730: E tensorflow/compiler/xla/stream_executor/cuda/cuda_dnn.cc:9342] Unable to register cuDNN factory: Attempting to register factory for plugin cuDNN when one has already been registered\n",
      "2023-12-12 19:47:21.095813: E tensorflow/compiler/xla/stream_executor/cuda/cuda_fft.cc:609] Unable to register cuFFT factory: Attempting to register factory for plugin cuFFT when one has already been registered\n",
      "2023-12-12 19:47:21.101067: E tensorflow/compiler/xla/stream_executor/cuda/cuda_blas.cc:1518] Unable to register cuBLAS factory: Attempting to register factory for plugin cuBLAS when one has already been registered\n",
      "2023-12-12 19:47:21.777535: I tensorflow/core/platform/cpu_feature_guard.cc:182] This TensorFlow binary is optimized to use available CPU instructions in performance-critical operations.\n",
      "To enable the following instructions: AVX2 AVX512F AVX512_VNNI FMA, in other operations, rebuild TensorFlow with the appropriate compiler flags.\n",
      "2023-12-12 19:47:29.408516: W tensorflow/compiler/tf2tensorrt/utils/py_utils.cc:38] TF-TRT Warning: Could not find TensorRT\n"
     ]
    },
    {
     "name": "stdout",
     "output_type": "stream",
     "text": [
      "Help on function pipeline in module transformers.pipelines:\n",
      "\n",
      "pipeline(task: str = None, model: Union[str, ForwardRef('PreTrainedModel'), ForwardRef('TFPreTrainedModel'), NoneType] = None, config: Union[str, transformers.configuration_utils.PretrainedConfig, NoneType] = None, tokenizer: Union[str, transformers.tokenization_utils.PreTrainedTokenizer, ForwardRef('PreTrainedTokenizerFast'), NoneType] = None, feature_extractor: Union[str, ForwardRef('SequenceFeatureExtractor'), NoneType] = None, image_processor: Union[str, transformers.image_processing_utils.BaseImageProcessor, NoneType] = None, framework: Optional[str] = None, revision: Optional[str] = None, use_fast: bool = True, token: Union[str, bool, NoneType] = None, device: Union[int, str, ForwardRef('torch.device'), NoneType] = None, device_map=None, torch_dtype=None, trust_remote_code: Optional[bool] = None, model_kwargs: Dict[str, Any] = None, pipeline_class: Optional[Any] = None, **kwargs) -> transformers.pipelines.base.Pipeline\n",
      "    Utility factory method to build a [`Pipeline`].\n",
      "    \n",
      "    Pipelines are made of:\n",
      "    \n",
      "        - A [tokenizer](tokenizer) in charge of mapping raw textual input to token.\n",
      "        - A [model](model) to make predictions from the inputs.\n",
      "        - Some (optional) post processing for enhancing model's output.\n",
      "    \n",
      "    Args:\n",
      "        task (`str`):\n",
      "            The task defining which pipeline will be returned. Currently accepted tasks are:\n",
      "    \n",
      "            - `\"audio-classification\"`: will return a [`AudioClassificationPipeline`].\n",
      "            - `\"automatic-speech-recognition\"`: will return a [`AutomaticSpeechRecognitionPipeline`].\n",
      "            - `\"conversational\"`: will return a [`ConversationalPipeline`].\n",
      "            - `\"depth-estimation\"`: will return a [`DepthEstimationPipeline`].\n",
      "            - `\"document-question-answering\"`: will return a [`DocumentQuestionAnsweringPipeline`].\n",
      "            - `\"feature-extraction\"`: will return a [`FeatureExtractionPipeline`].\n",
      "            - `\"fill-mask\"`: will return a [`FillMaskPipeline`]:.\n",
      "            - `\"image-classification\"`: will return a [`ImageClassificationPipeline`].\n",
      "            - `\"image-segmentation\"`: will return a [`ImageSegmentationPipeline`].\n",
      "            - `\"image-to-text\"`: will return a [`ImageToTextPipeline`].\n",
      "            - `\"mask-generation\"`: will return a [`MaskGenerationPipeline`].\n",
      "            - `\"object-detection\"`: will return a [`ObjectDetectionPipeline`].\n",
      "            - `\"question-answering\"`: will return a [`QuestionAnsweringPipeline`].\n",
      "            - `\"summarization\"`: will return a [`SummarizationPipeline`].\n",
      "            - `\"table-question-answering\"`: will return a [`TableQuestionAnsweringPipeline`].\n",
      "            - `\"text2text-generation\"`: will return a [`Text2TextGenerationPipeline`].\n",
      "            - `\"text-classification\"` (alias `\"sentiment-analysis\"` available): will return a\n",
      "              [`TextClassificationPipeline`].\n",
      "            - `\"text-generation\"`: will return a [`TextGenerationPipeline`]:.\n",
      "            - `\"text-to-audio\"` (alias `\"text-to-speech\"` available): will return a [`TextToAudioPipeline`]:.\n",
      "            - `\"token-classification\"` (alias `\"ner\"` available): will return a [`TokenClassificationPipeline`].\n",
      "            - `\"translation\"`: will return a [`TranslationPipeline`].\n",
      "            - `\"translation_xx_to_yy\"`: will return a [`TranslationPipeline`].\n",
      "            - `\"video-classification\"`: will return a [`VideoClassificationPipeline`].\n",
      "            - `\"visual-question-answering\"`: will return a [`VisualQuestionAnsweringPipeline`].\n",
      "            - `\"zero-shot-classification\"`: will return a [`ZeroShotClassificationPipeline`].\n",
      "            - `\"zero-shot-image-classification\"`: will return a [`ZeroShotImageClassificationPipeline`].\n",
      "            - `\"zero-shot-audio-classification\"`: will return a [`ZeroShotAudioClassificationPipeline`].\n",
      "            - `\"zero-shot-object-detection\"`: will return a [`ZeroShotObjectDetectionPipeline`].\n",
      "    \n",
      "        model (`str` or [`PreTrainedModel`] or [`TFPreTrainedModel`], *optional*):\n",
      "            The model that will be used by the pipeline to make predictions. This can be a model identifier or an\n",
      "            actual instance of a pretrained model inheriting from [`PreTrainedModel`] (for PyTorch) or\n",
      "            [`TFPreTrainedModel`] (for TensorFlow).\n",
      "    \n",
      "            If not provided, the default for the `task` will be loaded.\n",
      "        config (`str` or [`PretrainedConfig`], *optional*):\n",
      "            The configuration that will be used by the pipeline to instantiate the model. This can be a model\n",
      "            identifier or an actual pretrained model configuration inheriting from [`PretrainedConfig`].\n",
      "    \n",
      "            If not provided, the default configuration file for the requested model will be used. That means that if\n",
      "            `model` is given, its default configuration will be used. However, if `model` is not supplied, this\n",
      "            `task`'s default model's config is used instead.\n",
      "        tokenizer (`str` or [`PreTrainedTokenizer`], *optional*):\n",
      "            The tokenizer that will be used by the pipeline to encode data for the model. This can be a model\n",
      "            identifier or an actual pretrained tokenizer inheriting from [`PreTrainedTokenizer`].\n",
      "    \n",
      "            If not provided, the default tokenizer for the given `model` will be loaded (if it is a string). If `model`\n",
      "            is not specified or not a string, then the default tokenizer for `config` is loaded (if it is a string).\n",
      "            However, if `config` is also not given or not a string, then the default tokenizer for the given `task`\n",
      "            will be loaded.\n",
      "        feature_extractor (`str` or [`PreTrainedFeatureExtractor`], *optional*):\n",
      "            The feature extractor that will be used by the pipeline to encode data for the model. This can be a model\n",
      "            identifier or an actual pretrained feature extractor inheriting from [`PreTrainedFeatureExtractor`].\n",
      "    \n",
      "            Feature extractors are used for non-NLP models, such as Speech or Vision models as well as multi-modal\n",
      "            models. Multi-modal models will also require a tokenizer to be passed.\n",
      "    \n",
      "            If not provided, the default feature extractor for the given `model` will be loaded (if it is a string). If\n",
      "            `model` is not specified or not a string, then the default feature extractor for `config` is loaded (if it\n",
      "            is a string). However, if `config` is also not given or not a string, then the default feature extractor\n",
      "            for the given `task` will be loaded.\n",
      "        framework (`str`, *optional*):\n",
      "            The framework to use, either `\"pt\"` for PyTorch or `\"tf\"` for TensorFlow. The specified framework must be\n",
      "            installed.\n",
      "    \n",
      "            If no framework is specified, will default to the one currently installed. If no framework is specified and\n",
      "            both frameworks are installed, will default to the framework of the `model`, or to PyTorch if no model is\n",
      "            provided.\n",
      "        revision (`str`, *optional*, defaults to `\"main\"`):\n",
      "            When passing a task name or a string model identifier: The specific model version to use. It can be a\n",
      "            branch name, a tag name, or a commit id, since we use a git-based system for storing models and other\n",
      "            artifacts on huggingface.co, so `revision` can be any identifier allowed by git.\n",
      "        use_fast (`bool`, *optional*, defaults to `True`):\n",
      "            Whether or not to use a Fast tokenizer if possible (a [`PreTrainedTokenizerFast`]).\n",
      "        use_auth_token (`str` or *bool*, *optional*):\n",
      "            The token to use as HTTP bearer authorization for remote files. If `True`, will use the token generated\n",
      "            when running `huggingface-cli login` (stored in `~/.huggingface`).\n",
      "        device (`int` or `str` or `torch.device`):\n",
      "            Defines the device (*e.g.*, `\"cpu\"`, `\"cuda:1\"`, `\"mps\"`, or a GPU ordinal rank like `1`) on which this\n",
      "            pipeline will be allocated.\n",
      "        device_map (`str` or `Dict[str, Union[int, str, torch.device]`, *optional*):\n",
      "            Sent directly as `model_kwargs` (just a simpler shortcut). When `accelerate` library is present, set\n",
      "            `device_map=\"auto\"` to compute the most optimized `device_map` automatically (see\n",
      "            [here](https://huggingface.co/docs/accelerate/main/en/package_reference/big_modeling#accelerate.cpu_offload)\n",
      "            for more information).\n",
      "    \n",
      "            <Tip warning={true}>\n",
      "    \n",
      "            Do not use `device_map` AND `device` at the same time as they will conflict\n",
      "    \n",
      "            </Tip>\n",
      "    \n",
      "        torch_dtype (`str` or `torch.dtype`, *optional*):\n",
      "            Sent directly as `model_kwargs` (just a simpler shortcut) to use the available precision for this model\n",
      "            (`torch.float16`, `torch.bfloat16`, ... or `\"auto\"`).\n",
      "        trust_remote_code (`bool`, *optional*, defaults to `False`):\n",
      "            Whether or not to allow for custom code defined on the Hub in their own modeling, configuration,\n",
      "            tokenization or even pipeline files. This option should only be set to `True` for repositories you trust\n",
      "            and in which you have read the code, as it will execute code present on the Hub on your local machine.\n",
      "        model_kwargs (`Dict[str, Any]`, *optional*):\n",
      "            Additional dictionary of keyword arguments passed along to the model's `from_pretrained(...,\n",
      "            **model_kwargs)` function.\n",
      "        kwargs (`Dict[str, Any]`, *optional*):\n",
      "            Additional keyword arguments passed along to the specific pipeline init (see the documentation for the\n",
      "            corresponding pipeline class for possible values).\n",
      "    \n",
      "    Returns:\n",
      "        [`Pipeline`]: A suitable pipeline for the task.\n",
      "    \n",
      "    Examples:\n",
      "    \n",
      "    ```python\n",
      "    >>> from transformers import pipeline, AutoModelForTokenClassification, AutoTokenizer\n",
      "    \n",
      "    >>> # Sentiment analysis pipeline\n",
      "    >>> analyzer = pipeline(\"sentiment-analysis\")\n",
      "    \n",
      "    >>> # Question answering pipeline, specifying the checkpoint identifier\n",
      "    >>> oracle = pipeline(\n",
      "    ...     \"question-answering\", model=\"distilbert-base-cased-distilled-squad\", tokenizer=\"bert-base-cased\"\n",
      "    ... )\n",
      "    \n",
      "    >>> # Named entity recognition pipeline, passing in a specific model and tokenizer\n",
      "    >>> model = AutoModelForTokenClassification.from_pretrained(\"dbmdz/bert-large-cased-finetuned-conll03-english\")\n",
      "    >>> tokenizer = AutoTokenizer.from_pretrained(\"bert-base-cased\")\n",
      "    >>> recognizer = pipeline(\"ner\", model=model, tokenizer=tokenizer)\n",
      "    ```\n",
      "\n"
     ]
    }
   ],
   "source": [
    "help(transformers.pipeline)"
   ]
  },
  {
   "cell_type": "code",
   "execution_count": 19,
   "id": "4d4bfbce",
   "metadata": {},
   "outputs": [
    {
     "name": "stderr",
     "output_type": "stream",
     "text": [
      "No model was supplied, defaulted to sshleifer/distilbart-cnn-12-6 and revision a4f8f3e (https://huggingface.co/sshleifer/distilbart-cnn-12-6).\n",
      "Using a pipeline without specifying a model name and revision in production is not recommended.\n"
     ]
    }
   ],
   "source": [
    "pipeline = transformers.pipeline('summarization')"
   ]
  },
  {
   "cell_type": "code",
   "execution_count": 20,
   "id": "bbbc3495",
   "metadata": {},
   "outputs": [
    {
     "name": "stdout",
     "output_type": "stream",
     "text": [
      " The Bengal tiger ranks among the biggest wild cats alive today . It is estimated to have been present in the Indian subcontinent since the Late Pleistocene, for about 12,000 to 16,500 years . Today, it is threatened by poaching, loss and fragmentation of habitat, and was estimated at comprising fewer than 2,500 wild individuals by 2011 .\n"
     ]
    }
   ],
   "source": [
    "summary_text = pipeline(Text,\n",
    "                         max_length = 200,\n",
    "                         min_length = 5,\n",
    "                         do_sample = False)[0]['summary_text']\n",
    "                        \n",
    "print(summary_text)"
   ]
  },
  {
   "cell_type": "code",
   "execution_count": null,
   "id": "bc3a59f8",
   "metadata": {},
   "outputs": [],
   "source": []
  }
 ],
 "metadata": {
  "kernelspec": {
   "display_name": "Python 3 (ipykernel)",
   "language": "python",
   "name": "python3"
  },
  "language_info": {
   "codemirror_mode": {
    "name": "ipython",
    "version": 3
   },
   "file_extension": ".py",
   "mimetype": "text/x-python",
   "name": "python",
   "nbconvert_exporter": "python",
   "pygments_lexer": "ipython3",
   "version": "3.11.5"
  }
 },
 "nbformat": 4,
 "nbformat_minor": 5
}
