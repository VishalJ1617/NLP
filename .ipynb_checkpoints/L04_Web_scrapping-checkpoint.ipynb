{
 "cells": [
  {
   "cell_type": "markdown",
   "id": "9d708c98",
   "metadata": {},
   "source": [
    "Date : 12/12/2023"
   ]
  },
  {
   "cell_type": "markdown",
   "id": "5725b5b8",
   "metadata": {},
   "source": [
    "## Web Scrapping"
   ]
  },
  {
   "cell_type": "markdown",
   "id": "9f75f514",
   "metadata": {},
   "source": [
    "<img src=\"6zM7JBq.png\" alt=\"web_scrapping\">"
   ]
  },
  {
   "cell_type": "markdown",
   "id": "825e9c59",
   "metadata": {},
   "source": [
    "1. The process of collecting and parsing raw data from web-page is kown as **Web Scrapping**"
   ]
  },
  {
   "cell_type": "markdown",
   "id": "27dc9b1d",
   "metadata": {},
   "source": [
    "### Imports"
   ]
  },
  {
   "cell_type": "code",
   "execution_count": 1,
   "id": "9cf12a9d",
   "metadata": {},
   "outputs": [],
   "source": [
    "### -------------------\n",
    "### Importing libraries\n",
    "### -------------------\n",
    "\n",
    "import urllib\n",
    "\n",
    "from nltk.tokenize import word_tokenize\n",
    "from nltk.corpus import stopwords\n",
    "from nltk.stem import PorterStemmer, WordNetLemmatizer\n",
    "from nltk import FreqDist, pos_tag\n",
    "\n",
    "import string\n",
    "\n",
    "import regex as re\n",
    "\n",
    "from bs4 import BeautifulSoup  # Library for web scrapping"
   ]
  },
  {
   "cell_type": "markdown",
   "id": "be6cec1f",
   "metadata": {},
   "source": [
    "### Input data"
   ]
  },
  {
   "cell_type": "code",
   "execution_count": 2,
   "id": "e2bf3b75",
   "metadata": {},
   "outputs": [
    {
     "data": {
      "text/plain": [
       "<http.client.HTTPResponse at 0x7f647609b670>"
      ]
     },
     "execution_count": 2,
     "metadata": {},
     "output_type": "execute_result"
    }
   ],
   "source": [
    "### ----------\n",
    "### input data\n",
    "### ----------\n",
    "\n",
    "# https://en.wikipedia.org/wiki/Rajgad_Fort\n",
    "\n",
    "''' \n",
    "    In this example, \n",
    "    urlopen opens the URL 'https://en.wikipedia.org/wiki/Rajgad_Fort' and returns a response object.\n",
    "    The read method is then called on the response object to read the content of the URL. \n",
    "    The content is then printed to the console \n",
    "'''\n",
    "\n",
    "url=urllib.request.urlopen('https://en.wikipedia.org/wiki/Rajgad_Fort')\n",
    "\n",
    "url"
   ]
  },
  {
   "cell_type": "code",
   "execution_count": 28,
   "id": "436bc5fe",
   "metadata": {},
   "outputs": [],
   "source": [
    "# method to read web page\n",
    "\n",
    "data=url.read()"
   ]
  },
  {
   "cell_type": "code",
   "execution_count": 29,
   "id": "41338776",
   "metadata": {},
   "outputs": [
    {
     "name": "stdout",
     "output_type": "stream",
     "text": [
      "b''\n"
     ]
    }
   ],
   "source": [
    "# html code of web page\n",
    "\n",
    "print(data)"
   ]
  },
  {
   "cell_type": "code",
   "execution_count": 5,
   "id": "63d74664",
   "metadata": {},
   "outputs": [],
   "source": [
    "# Converting the byte code into text\n",
    "\n",
    "data=data.decode('utf-8')"
   ]
  },
  {
   "cell_type": "markdown",
   "id": "ac5fa7f7",
   "metadata": {},
   "source": [
    "#### ----------------------------------------------------------------------------------------------------------\n",
    "# Tasks\n",
    "#### ----------------------------------------------------------------------------------------------------------"
   ]
  },
  {
   "cell_type": "markdown",
   "id": "439ae887",
   "metadata": {},
   "source": [
    "### 1. Find the title tag in the webpage"
   ]
  },
  {
   "cell_type": "markdown",
   "id": "5639b3df",
   "metadata": {},
   "source": [
    "#### Finding the starting indices of the title tag"
   ]
  },
  {
   "cell_type": "code",
   "execution_count": 6,
   "id": "2ccb497d",
   "metadata": {},
   "outputs": [
    {
     "data": {
      "text/plain": [
       "666"
      ]
     },
     "execution_count": 6,
     "metadata": {},
     "output_type": "execute_result"
    }
   ],
   "source": [
    "# To find where is title tag\n",
    "\n",
    "start=data.find('<title>')\n",
    "\n",
    "start"
   ]
  },
  {
   "cell_type": "markdown",
   "id": "8260e3ff",
   "metadata": {},
   "source": [
    "#### Finding the end indices of the title tag"
   ]
  },
  {
   "cell_type": "code",
   "execution_count": 7,
   "id": "c1199c7f",
   "metadata": {},
   "outputs": [
    {
     "data": {
      "text/plain": [
       "696"
      ]
     },
     "execution_count": 7,
     "metadata": {},
     "output_type": "execute_result"
    }
   ],
   "source": [
    "# Place where title tag is ending\n",
    "\n",
    "end=data.find('</title>')\n",
    "\n",
    "end"
   ]
  },
  {
   "cell_type": "markdown",
   "id": "af9c4fcd",
   "metadata": {},
   "source": [
    "### 2. Print the Content between the title tags"
   ]
  },
  {
   "cell_type": "code",
   "execution_count": 8,
   "id": "f48609f0",
   "metadata": {},
   "outputs": [
    {
     "data": {
      "text/plain": [
       "'Rajgad Fort - Wikipedia'"
      ]
     },
     "execution_count": 8,
     "metadata": {},
     "output_type": "execute_result"
    }
   ],
   "source": [
    "#data inside the title tag\n",
    "data[start+7:end]"
   ]
  },
  {
   "cell_type": "markdown",
   "id": "47f98b33",
   "metadata": {},
   "source": [
    "### 3. Print the number of images in the webpage"
   ]
  },
  {
   "cell_type": "code",
   "execution_count": 9,
   "id": "6c76c6be",
   "metadata": {},
   "outputs": [
    {
     "data": {
      "text/plain": [
       "29"
      ]
     },
     "execution_count": 9,
     "metadata": {},
     "output_type": "execute_result"
    }
   ],
   "source": [
    "#To count number of images tag\n",
    "\n",
    "Sum = data.count('<img')\n",
    "\n",
    "Sum"
   ]
  },
  {
   "cell_type": "code",
   "execution_count": 10,
   "id": "178fe8eb",
   "metadata": {},
   "outputs": [
    {
     "data": {
      "text/plain": [
       "29"
      ]
     },
     "execution_count": 10,
     "metadata": {},
     "output_type": "execute_result"
    }
   ],
   "source": [
    "#findall function to find number of image tags\n",
    "\n",
    "len(re.findall('<img.*?',data))"
   ]
  },
  {
   "cell_type": "code",
   "execution_count": 11,
   "id": "412994c7",
   "metadata": {},
   "outputs": [
    {
     "name": "stdout",
     "output_type": "stream",
     "text": [
      "Rajgad Fort - Wikipedia\n"
     ]
    }
   ],
   "source": [
    "# re method to find content betwween the first title tags\n",
    "\n",
    "pattern=\"<title.*?>.*?</title.*?>\"\n",
    "\n",
    "match_result=re.search(pattern,data,re.IGNORECASE)\n",
    "\n",
    "title=match_result.group()\n",
    "\n",
    "title=re.sub(\"<.*?>\",\"\",title) #Remove html tag\n",
    "\n",
    "print(title)"
   ]
  },
  {
   "cell_type": "markdown",
   "id": "550d886f",
   "metadata": {},
   "source": [
    "### Parsing the webpage using Beautiful Soup"
   ]
  },
  {
   "cell_type": "code",
   "execution_count": 27,
   "id": "f2bdcde8",
   "metadata": {},
   "outputs": [
    {
     "data": {
      "text/plain": [
       "122190"
      ]
     },
     "execution_count": 27,
     "metadata": {},
     "output_type": "execute_result"
    }
   ],
   "source": [
    "# Parsing the webpage, with the help of the Beautiful soup library\n",
    "\n",
    "soup = BeautifulSoup(data,'html.parser')\n",
    "\n",
    "\n",
    "# Text data without html tags and without white spaces\n",
    "\n",
    "text = soup.get_text()\n",
    "\n",
    "len(text)"
   ]
  },
  {
   "cell_type": "markdown",
   "id": "533808bc",
   "metadata": {},
   "source": [
    "### Word Tokenization"
   ]
  },
  {
   "cell_type": "code",
   "execution_count": 26,
   "id": "656298d8",
   "metadata": {},
   "outputs": [
    {
     "data": {
      "text/plain": [
       "24697"
      ]
     },
     "execution_count": 26,
     "metadata": {},
     "output_type": "execute_result"
    }
   ],
   "source": [
    "# Tokenizeing the words\n",
    "\n",
    "word_token = word_tokenize(text)\n",
    "\n",
    "len(word_token)"
   ]
  },
  {
   "cell_type": "markdown",
   "id": "46b18ce1",
   "metadata": {},
   "source": [
    "### Data Cleaning"
   ]
  },
  {
   "cell_type": "code",
   "execution_count": 15,
   "id": "2c7e16b0",
   "metadata": {},
   "outputs": [
    {
     "data": {
      "text/plain": [
       "2092"
      ]
     },
     "execution_count": 15,
     "metadata": {},
     "output_type": "execute_result"
    }
   ],
   "source": [
    "# Removing the punctuations\n",
    "\n",
    "punc = string.punctuation\n",
    "\n",
    "word_without_punc = [word for word in word_token if word not in punc]\n",
    "\n",
    "len(word_without_punc)"
   ]
  },
  {
   "cell_type": "code",
   "execution_count": 16,
   "id": "a4b3a928",
   "metadata": {},
   "outputs": [
    {
     "data": {
      "text/plain": [
       "1742"
      ]
     },
     "execution_count": 16,
     "metadata": {},
     "output_type": "execute_result"
    }
   ],
   "source": [
    "# Removing the stopwords\n",
    "\n",
    "stopword_list = stopwords.words('english')\n",
    "\n",
    "word_without_stopwords = [word for word in word_without_punc if word not in stopword_list]\n",
    "\n",
    "len(word_without_stopwords)"
   ]
  },
  {
   "cell_type": "code",
   "execution_count": 17,
   "id": "52a9d196",
   "metadata": {},
   "outputs": [],
   "source": [
    "# Removing stems/prefixes\n",
    "\n",
    "por_stemmer = PorterStemmer()\n",
    "\n",
    "stem = []\n",
    "\n",
    "for word in word_without_stopwords:\n",
    "    \n",
    "    stem.append(por_stemmer.stem(word, to_lowercase = True))"
   ]
  },
  {
   "cell_type": "code",
   "execution_count": 18,
   "id": "c990d507",
   "metadata": {},
   "outputs": [
    {
     "data": {
      "image/png": "[encoded data removed]",
      "text/plain": [
       "<Figure size 640x480 with 1 Axes>"
      ]
     },
     "metadata": {},
     "output_type": "display_data"
    },
    {
     "name": "stdout",
     "output_type": "stream",
     "text": [
      "\n"
     ]
    }
   ],
   "source": [
    "freq = FreqDist(stem)\n",
    "\n",
    "freq.plot(10, cumulative = False)\n",
    "\n",
    "print()"
   ]
  },
  {
   "cell_type": "code",
   "execution_count": 19,
   "id": "37de2ee5",
   "metadata": {},
   "outputs": [
    {
     "data": {
      "text/plain": [
       "[('fort', 122), ('rajgad', 31), ('district', 25)]"
      ]
     },
     "execution_count": 19,
     "metadata": {},
     "output_type": "execute_result"
    }
   ],
   "source": [
    "# .most_common method returns the most frequent words from the data\n",
    "\n",
    "freq.most_common(3)"
   ]
  },
  {
   "cell_type": "markdown",
   "id": "525ac1a5",
   "metadata": {},
   "source": [
    "###  Method of sir"
   ]
  },
  {
   "cell_type": "code",
   "execution_count": 20,
   "id": "43a68904",
   "metadata": {},
   "outputs": [
    {
     "data": {
      "image/png": "[encoded data removed]",
      "text/plain": [
       "<Figure size 640x480 with 1 Axes>"
      ]
     },
     "metadata": {},
     "output_type": "display_data"
    },
    {
     "data": {
      "text/plain": [
       "[('dravid', 386), ('india', 242), ('retriev', 240)]"
      ]
     },
     "execution_count": 20,
     "metadata": {},
     "output_type": "execute_result"
    }
   ],
   "source": [
    "# pasting the link of the webpage\n",
    "\n",
    "url=urllib.request.urlopen('https://en.wikipedia.org/wiki/Rahul_Dravid')\n",
    "\n",
    "data=url.read()\n",
    "\n",
    "ps=PorterStemmer()\n",
    "\n",
    "soup=BeautifulSoup(data,'html.parser')\n",
    "\n",
    "text=soup.get_text()\n",
    "\n",
    "tokens=word_tokenize(text)\n",
    "\n",
    "swords=stopwords.words('english')\n",
    "\n",
    "tokens1=[x.lower() for x in tokens if x.isalpha() or x.isdigit()]\n",
    "\n",
    "tokens2=[ps.stem(x) for x in tokens1 if x not in swords]\n",
    "\n",
    "freq=FreqDist(tokens2)\n",
    "\n",
    "freq.plot(10)\n",
    "\n",
    "freq.most_common(3)"
   ]
  },
  {
   "cell_type": "code",
   "execution_count": 21,
   "id": "c8f76e0e",
   "metadata": {},
   "outputs": [],
   "source": [
    "# !pip install setuptools==57.5.0\n",
    "# !pip install --upgrade pip \"setuptools<58.0\"\n",
    "# !pip3 install --upgrade pip \"setuptools<58.0\"\n",
    "# !python -m pip install --upgrade pip \"setuptools<58.0\"\n",
    "# !python3 -m pip install --upgrade pip \"setuptools<58.0\"\n",
    "# !py -m pip install --upgrade pip \"setuptools<58.0\"\n",
    "# !pip install pygooglenews\n",
    "# !pip install google-news-feed"
   ]
  },
  {
   "cell_type": "markdown",
   "id": "9f9c44da",
   "metadata": {},
   "source": [
    "### Find the most frequent verbs in the original form"
   ]
  },
  {
   "cell_type": "code",
   "execution_count": 22,
   "id": "c21e171e",
   "metadata": {},
   "outputs": [
    {
     "data": {
      "image/png": "[encoded data removed]",
      "text/plain": [
       "<Figure size 640x480 with 1 Axes>"
      ]
     },
     "metadata": {},
     "output_type": "display_data"
    },
    {
     "data": {
      "text/plain": [
       "[('retriev', 240), ('archiv', 191), ('score', 117)]"
      ]
     },
     "execution_count": 22,
     "metadata": {},
     "output_type": "execute_result"
    }
   ],
   "source": [
    "url=urllib.request.urlopen('https://en.wikipedia.org/wiki/Rahul_Dravid')\n",
    "\n",
    "data=url.read()\n",
    "\n",
    "ps=PorterStemmer()\n",
    "\n",
    "soup=BeautifulSoup(data,'html.parser')\n",
    "\n",
    "text=soup.get_text()\n",
    "\n",
    "tokens=word_tokenize(text)\n",
    "\n",
    "\n",
    "# convert the data into POS tags\n",
    "\n",
    "tags = pos_tag(tokens)\n",
    "\n",
    "swords=stopwords.words('english')\n",
    "\n",
    "tokens0 = [word for word, tag  in tags if tag.startswith('V')]\n",
    "\n",
    "tokens1=[x.lower() for x in tokens0 if x.isalpha() or x.isdigit()]\n",
    "\n",
    "tokens2=[ps.stem(x) for x in tokens1 if x not in swords]\n",
    "\n",
    "freq=FreqDist(tokens2)\n",
    "\n",
    "freq.plot(10)\n",
    "\n",
    "freq.most_common(3)"
   ]
  },
  {
   "cell_type": "markdown",
   "id": "752c905c",
   "metadata": {},
   "source": [
    "### Method of sir"
   ]
  },
  {
   "cell_type": "code",
   "execution_count": 23,
   "id": "799d6813",
   "metadata": {},
   "outputs": [
    {
     "data": {
      "image/png": "[encoded data removed]",
      "text/plain": [
       "<Figure size 640x480 with 1 Axes>"
      ]
     },
     "metadata": {},
     "output_type": "display_data"
    },
    {
     "data": {
      "text/plain": [
       "[('retrieve', 240), ('archive', 191), ('score', 117)]"
      ]
     },
     "execution_count": 23,
     "metadata": {},
     "output_type": "execute_result"
    }
   ],
   "source": [
    "url=urllib.request.urlopen('https://en.wikipedia.org/wiki/Rahul_Dravid')\n",
    "\n",
    "data=url.read()\n",
    "\n",
    "wn_lemmatizer = WordNetLemmatizer()\n",
    "\n",
    "soup=BeautifulSoup(data,'html.parser')\n",
    "\n",
    "text=soup.get_text()\n",
    "\n",
    "tokens=word_tokenize(text)\n",
    "\n",
    "\n",
    "# convert the data into POS tags\n",
    "\n",
    "tags = pos_tag(tokens)\n",
    "\n",
    "swords=stopwords.words('english')\n",
    "\n",
    "tokens0 = [word for word, tag  in tags if tag.startswith('V')]\n",
    "\n",
    "tokens1=[x.lower() for x in tokens0 if x.isalpha() or x.isdigit()]\n",
    "\n",
    "# Lemmatizing, with Wordnetlemmatizer\n",
    "\n",
    "tokens2=[wn_lemmatizer.lemmatize(x, pos = 'v') for x in tokens1 if x not in swords]\n",
    "\n",
    "freq=FreqDist(tokens2)\n",
    "\n",
    "freq.plot(10)\n",
    "\n",
    "freq.most_common(3)"
   ]
  },
  {
   "cell_type": "code",
   "execution_count": null,
   "id": "d0991026",
   "metadata": {},
   "outputs": [],
   "source": []
  },
  {
   "cell_type": "code",
   "execution_count": null,
   "id": "5316f150",
   "metadata": {},
   "outputs": [],
   "source": []
  }
 ],
 "metadata": {
  "kernelspec": {
   "display_name": "Python 3 (ipykernel)",
   "language": "python",
   "name": "python3"
  },
  "language_info": {
   "codemirror_mode": {
    "name": "ipython",
    "version": 3
   },
   "file_extension": ".py",
   "mimetype": "text/x-python",
   "name": "python",
   "nbconvert_exporter": "python",
   "pygments_lexer": "ipython3",
   "version": "3.11.5"
  }
 },
 "nbformat": 4,
 "nbformat_minor": 5
}
