{
 "cells": [
  {
   "cell_type": "markdown",
   "id": "72d20a65",
   "metadata": {},
   "source": [
    "documentation of SQL for linkedIn"
   ]
  },
  {
   "cell_type": "markdown",
   "id": "eb6c9511",
   "metadata": {},
   "source": [
    "## Tokenizer"
   ]
  },
  {
   "cell_type": "markdown",
   "id": "39952a30",
   "metadata": {},
   "source": [
    "For converting one laguage to another (text)\n",
    "\n",
    "1. Google input tools https://www.google.com/intl/sa/inputtools/try/"
   ]
  },
  {
   "cell_type": "markdown",
   "id": "bc8f4e6e",
   "metadata": {},
   "source": [
    "##  Morphology"
   ]
  },
  {
   "cell_type": "markdown",
   "id": "a720ba7b",
   "metadata": {},
   "source": [
    "For finding the language short code\n",
    "\n",
    "1. morphology download tools https://en.wikipedia.org/wiki/List_of_ISO_639-1_codes"
   ]
  },
  {
   "cell_type": "markdown",
   "id": "e7d68b18",
   "metadata": {},
   "source": [
    "## POS tags"
   ]
  },
  {
   "cell_type": "markdown",
   "id": "ec4197e3",
   "metadata": {},
   "source": [
    "part-of-speech tags\n",
    "\n",
    "1. list of POS tags https://universaldependencies.org/u/pos/"
   ]
  },
  {
   "cell_type": "markdown",
   "id": "1c3d5c7b",
   "metadata": {},
   "source": [
    "## ipynb to pdf"
   ]
  },
  {
   "cell_type": "markdown",
   "id": "43bc7652",
   "metadata": {},
   "source": [
    "sudo apt-get install texlive-xetex texlive-fonts-recommended texlive-plain-generic"
   ]
  },
  {
   "cell_type": "markdown",
   "id": "a6445111",
   "metadata": {},
   "source": [
    "# command for converting ipynb to pdf\n",
    "\n",
    "jupyter nbconvert --to pdf Morphology.ipynb"
   ]
  }
 ],
 "metadata": {
  "kernelspec": {
   "display_name": "Python 3 (ipykernel)",
   "language": "python",
   "name": "python3"
  },
  "language_info": {
   "codemirror_mode": {
    "name": "ipython",
    "version": 3
   },
   "file_extension": ".py",
   "mimetype": "text/x-python",
   "name": "python",
   "nbconvert_exporter": "python",
   "pygments_lexer": "ipython3",
   "version": "3.11.5"
  }
 },
 "nbformat": 4,
 "nbformat_minor": 5
}
