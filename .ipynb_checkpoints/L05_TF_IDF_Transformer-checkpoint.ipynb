{
 "cells": [
  {
   "cell_type": "markdown",
   "id": "9d708c98",
   "metadata": {},
   "source": [
    "Date : 13/12/2023"
   ]
  },
  {
   "cell_type": "markdown",
   "id": "5725b5b8",
   "metadata": {},
   "source": [
    "## TF-IDF Transformer"
   ]
  },
  {
   "cell_type": "markdown",
   "id": "d3097b8c",
   "metadata": {},
   "source": [
    "<img src=\"1 V9ac4hLVyms79jl65Ym_Bw.png\" alt=\"TF-TDF\">"
   ]
  },
  {
   "cell_type": "markdown",
   "id": "2167542a",
   "metadata": {},
   "source": [
    "1. TF stands for **\"Term frequency\"** and IDF stands for **\"Inverse document frequency\"**\n",
    "2. The higher the **value of the TF-IDF** score, the rare the word and **higher is the importance** of the word"
   ]
  },
  {
   "cell_type": "markdown",
   "id": "27dc9b1d",
   "metadata": {},
   "source": [
    "### Imports"
   ]
  },
  {
   "cell_type": "code",
   "execution_count": 8,
   "id": "9cf12a9d",
   "metadata": {},
   "outputs": [],
   "source": [
    "### -------------------\n",
    "### Importing libraries\n",
    "### -------------------\n",
    "\n",
    "import pandas as pd\n",
    "# import numpy as np\n",
    "# import matplotlib.pyplot as plt\n",
    "# import seaborn as sns\n",
    "\n",
    "from sklearn.feature_extraction.text import TfidfTransformer, CountVectorizer"
   ]
  },
  {
   "cell_type": "markdown",
   "id": "be6cec1f",
   "metadata": {},
   "source": [
    "### Input data"
   ]
  },
  {
   "cell_type": "code",
   "execution_count": 9,
   "id": "e2bf3b75",
   "metadata": {},
   "outputs": [],
   "source": [
    "### ----------\n",
    "### input data\n",
    "### ----------\n",
    "\n",
    "sentence_1=\"The quick brown fox jumps on the lazy dogs.\"\n",
    "\n",
    "sentence_2=\"The cat chases the mouse and it squeaks loudly.\""
   ]
  },
  {
   "cell_type": "code",
   "execution_count": 10,
   "id": "a9bbe667",
   "metadata": {},
   "outputs": [],
   "source": [
    "# Initializing the TF-IDF vectorizer\n",
    "\n",
    "cv=CountVectorizer()"
   ]
  },
  {
   "cell_type": "code",
   "execution_count": 11,
   "id": "700b1fd0",
   "metadata": {},
   "outputs": [],
   "source": [
    "word_vector=cv.fit_transform([sentence_1,sentence_2])\n",
    "tfidf_transformer=TfidfTransformer()\n",
    "x=tfidf_transformer.fit_transform(word_vector)"
   ]
  },
  {
   "cell_type": "code",
   "execution_count": 14,
   "id": "9b5203e1",
   "metadata": {},
   "outputs": [],
   "source": [
    "df=pd.DataFrame(x.toarray(),columns=cv.get_feature_names_out())"
   ]
  },
  {
   "cell_type": "code",
   "execution_count": 15,
   "id": "0e1410d1",
   "metadata": {},
   "outputs": [
    {
     "data": {
      "text/html": [
       "<div>\n",
       "<style scoped>\n",
       "    .dataframe tbody tr th:only-of-type {\n",
       "        vertical-align: middle;\n",
       "    }\n",
       "\n",
       "    .dataframe tbody tr th {\n",
       "        vertical-align: top;\n",
       "    }\n",
       "\n",
       "    .dataframe thead th {\n",
       "        text-align: right;\n",
       "    }\n",
       "</style>\n",
       "<table border=\"1\" class=\"dataframe\">\n",
       "  <thead>\n",
       "    <tr style=\"text-align: right;\">\n",
       "      <th></th>\n",
       "      <th>and</th>\n",
       "      <th>brown</th>\n",
       "      <th>cat</th>\n",
       "      <th>chases</th>\n",
       "      <th>dogs</th>\n",
       "      <th>fox</th>\n",
       "      <th>it</th>\n",
       "      <th>jumps</th>\n",
       "      <th>lazy</th>\n",
       "      <th>loudly</th>\n",
       "      <th>mouse</th>\n",
       "      <th>on</th>\n",
       "      <th>quick</th>\n",
       "      <th>squeaks</th>\n",
       "      <th>the</th>\n",
       "    </tr>\n",
       "  </thead>\n",
       "  <tbody>\n",
       "    <tr>\n",
       "      <th>0</th>\n",
       "      <td>0.000000</td>\n",
       "      <td>0.332872</td>\n",
       "      <td>0.000000</td>\n",
       "      <td>0.000000</td>\n",
       "      <td>0.332872</td>\n",
       "      <td>0.332872</td>\n",
       "      <td>0.000000</td>\n",
       "      <td>0.332872</td>\n",
       "      <td>0.332872</td>\n",
       "      <td>0.000000</td>\n",
       "      <td>0.000000</td>\n",
       "      <td>0.332872</td>\n",
       "      <td>0.332872</td>\n",
       "      <td>0.000000</td>\n",
       "      <td>0.473682</td>\n",
       "    </tr>\n",
       "    <tr>\n",
       "      <th>1</th>\n",
       "      <td>0.332872</td>\n",
       "      <td>0.000000</td>\n",
       "      <td>0.332872</td>\n",
       "      <td>0.332872</td>\n",
       "      <td>0.000000</td>\n",
       "      <td>0.000000</td>\n",
       "      <td>0.332872</td>\n",
       "      <td>0.000000</td>\n",
       "      <td>0.000000</td>\n",
       "      <td>0.332872</td>\n",
       "      <td>0.332872</td>\n",
       "      <td>0.000000</td>\n",
       "      <td>0.000000</td>\n",
       "      <td>0.332872</td>\n",
       "      <td>0.473682</td>\n",
       "    </tr>\n",
       "  </tbody>\n",
       "</table>\n",
       "</div>"
      ],
      "text/plain": [
       "        and     brown       cat    chases      dogs       fox        it  \\\n",
       "0  0.000000  0.332872  0.000000  0.000000  0.332872  0.332872  0.000000   \n",
       "1  0.332872  0.000000  0.332872  0.332872  0.000000  0.000000  0.332872   \n",
       "\n",
       "      jumps      lazy    loudly     mouse        on     quick   squeaks  \\\n",
       "0  0.332872  0.332872  0.000000  0.000000  0.332872  0.332872  0.000000   \n",
       "1  0.000000  0.000000  0.332872  0.332872  0.000000  0.000000  0.332872   \n",
       "\n",
       "        the  \n",
       "0  0.473682  \n",
       "1  0.473682  "
      ]
     },
     "execution_count": 15,
     "metadata": {},
     "output_type": "execute_result"
    }
   ],
   "source": [
    "df"
   ]
  },
  {
   "cell_type": "code",
   "execution_count": null,
   "id": "35658a53",
   "metadata": {},
   "outputs": [],
   "source": []
  }
 ],
 "metadata": {
  "kernelspec": {
   "display_name": "Python 3 (ipykernel)",
   "language": "python",
   "name": "python3"
  },
  "language_info": {
   "codemirror_mode": {
    "name": "ipython",
    "version": 3
   },
   "file_extension": ".py",
   "mimetype": "text/x-python",
   "name": "python",
   "nbconvert_exporter": "python",
   "pygments_lexer": "ipython3",
   "version": "3.11.5"
  }
 },
 "nbformat": 4,
 "nbformat_minor": 5
}
