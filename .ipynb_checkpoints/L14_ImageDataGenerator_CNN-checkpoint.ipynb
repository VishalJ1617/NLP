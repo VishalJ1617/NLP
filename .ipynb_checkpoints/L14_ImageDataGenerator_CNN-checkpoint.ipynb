{
 "cells": [
  {
   "cell_type": "code",
   "execution_count": 2,
   "id": "53c45c83",
   "metadata": {},
   "outputs": [],
   "source": [
    "import pandas as pd\n",
    "import numpy as np\n",
    "import matplotlib.pyplot as plt\n",
    "import seaborn as sns\n",
    "\n",
    "import os\n",
    "from os import listdir"
   ]
  },
  {
   "cell_type": "markdown",
   "id": "8b089a3a",
   "metadata": {},
   "source": [
    "### Golbal variable"
   ]
  },
  {
   "cell_type": "code",
   "execution_count": 11,
   "id": "287b342d",
   "metadata": {},
   "outputs": [],
   "source": [
    "filepath = '/home/dai/7. NLP & CV/NLP/fruits'\n",
    "trainDir = '/training_set/' "
   ]
  },
  {
   "cell_type": "code",
   "execution_count": 12,
   "id": "9644da8d",
   "metadata": {},
   "outputs": [],
   "source": [
    "dataDir = filepath + trainDir"
   ]
  },
  {
   "cell_type": "code",
   "execution_count": 13,
   "id": "72c015f9",
   "metadata": {},
   "outputs": [
    {
     "data": {
      "text/plain": [
       "['orange', 'apple']"
      ]
     },
     "execution_count": 13,
     "metadata": {},
     "output_type": "execute_result"
    }
   ],
   "source": [
    "os.listdir(dataDir)"
   ]
  },
  {
   "cell_type": "code",
   "execution_count": null,
   "id": "1c377682",
   "metadata": {},
   "outputs": [],
   "source": [
    "fruit_df = pd.read_csv('fruits/training_set/')"
   ]
  }
 ],
 "metadata": {
  "kernelspec": {
   "display_name": "Python 3 (ipykernel)",
   "language": "python",
   "name": "python3"
  },
  "language_info": {
   "codemirror_mode": {
    "name": "ipython",
    "version": 3
   },
   "file_extension": ".py",
   "mimetype": "text/x-python",
   "name": "python",
   "nbconvert_exporter": "python",
   "pygments_lexer": "ipython3",
   "version": "3.11.5"
  }
 },
 "nbformat": 4,
 "nbformat_minor": 5
}
