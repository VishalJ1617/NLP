{
 "cells": [
  {
   "cell_type": "markdown",
   "id": "8544302c",
   "metadata": {},
   "source": [
    "## Lemmatization"
   ]
  },
  {
   "cell_type": "markdown",
   "id": "cfb3c89c",
   "metadata": {},
   "source": [
    "1. **Lemmatization** is the process of **reducing the word to it's root form**.\n",
    "2. The reduced form is known as **'Lemma'**\n",
    "3. Method of Lemmatization, is in **'nltk.stem'** module"
   ]
  },
  {
   "cell_type": "code",
   "execution_count": 1,
   "id": "e6f42267",
   "metadata": {},
   "outputs": [],
   "source": [
    "word1 = 'cat', 'catty', 'catlike', 'cats'\n",
    "\n",
    "word2 = 'playing', 'plays', 'played', 'players'\n",
    "\n",
    "word3 = 'go', 'went', 'gone', 'going', 'goes'\n",
    "\n",
    "word4 = 'goods', 'better', 'best', 'fasting', 'reachable'\n",
    "\n",
    "word5 = 'program', 'programmed', 'programmming', 'programatic'"
   ]
  },
  {
   "cell_type": "code",
   "execution_count": 2,
   "id": "24073dda",
   "metadata": {},
   "outputs": [],
   "source": [
    "from nltk.stem import WordNetLemmatizer"
   ]
  },
  {
   "cell_type": "code",
   "execution_count": 3,
   "id": "2e48bbc0",
   "metadata": {},
   "outputs": [],
   "source": [
    "wnl=WordNetLemmatizer()"
   ]
  },
  {
   "cell_type": "code",
   "execution_count": 5,
   "id": "7b1ec149",
   "metadata": {},
   "outputs": [
    {
     "data": {
      "text/plain": [
       "'play'"
      ]
     },
     "execution_count": 5,
     "metadata": {},
     "output_type": "execute_result"
    }
   ],
   "source": [
    "# v->verb,n->noun,a->adjective,r->adverb\n",
    "wnl.lemmatize(word2[0],pos='v')"
   ]
  },
  {
   "cell_type": "code",
   "execution_count": 6,
   "id": "de92a06b",
   "metadata": {},
   "outputs": [
    {
     "name": "stdout",
     "output_type": "stream",
     "text": [
      "go\n",
      "go\n",
      "go\n",
      "go\n",
      "go\n"
     ]
    }
   ],
   "source": [
    "for word in word3:\n",
    "    print(wnl.lemmatize(word,pos='v'))"
   ]
  },
  {
   "cell_type": "code",
   "execution_count": 8,
   "id": "ea399871",
   "metadata": {},
   "outputs": [
    {
     "name": "stdout",
     "output_type": "stream",
     "text": [
      "good\n",
      "better\n",
      "best\n",
      "fasting\n",
      "reachable\n"
     ]
    }
   ],
   "source": [
    "for word in word4:\n",
    "    print(wnl.lemmatize(word,pos='n'))"
   ]
  },
  {
   "cell_type": "code",
   "execution_count": 9,
   "id": "bab7cb6c",
   "metadata": {},
   "outputs": [
    {
     "name": "stdout",
     "output_type": "stream",
     "text": [
      "program\n",
      "program\n",
      "programmming\n",
      "programatic\n"
     ]
    }
   ],
   "source": [
    "for word in word5:\n",
    "    print(wnl.lemmatize(word,pos='v'))"
   ]
  },
  {
   "cell_type": "code",
   "execution_count": null,
   "id": "81556033",
   "metadata": {},
   "outputs": [],
   "source": []
  }
 ],
 "metadata": {
  "kernelspec": {
   "display_name": "Python 3 (ipykernel)",
   "language": "python",
   "name": "python3"
  },
  "language_info": {
   "codemirror_mode": {
    "name": "ipython",
    "version": 3
   },
   "file_extension": ".py",
   "mimetype": "text/x-python",
   "name": "python",
   "nbconvert_exporter": "python",
   "pygments_lexer": "ipython3",
   "version": "3.11.5"
  }
 },
 "nbformat": 4,
 "nbformat_minor": 5
}
