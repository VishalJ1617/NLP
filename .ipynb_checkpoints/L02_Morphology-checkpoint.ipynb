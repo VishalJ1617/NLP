{
 "cells": [
  {
   "cell_type": "markdown",
   "id": "0c981c98",
   "metadata": {},
   "source": [
    "date : 8/12/2023"
   ]
  },
  {
   "cell_type": "markdown",
   "id": "5cbe7fcb",
   "metadata": {},
   "source": [
    "# Morphology"
   ]
  },
  {
   "cell_type": "markdown",
   "id": "00e923dd",
   "metadata": {},
   "source": [
    "1. Morphology analysis is thr process of examining possible resolution to unquantifiable, complex problems involving many factors.\n",
    "2. In linguistic, beaking a sentece down to basic unit of meaning : morphemes\n",
    "3. A morpheme that is a word in itself, is known as **free morpheme**\n",
    "4. One or more morphemes come together to form a meaning full word  **bound morpheme**"
   ]
  },
  {
   "cell_type": "code",
   "execution_count": 1,
   "id": "5d5f6d92",
   "metadata": {},
   "outputs": [],
   "source": [
    "# !pip install morfessor polyglot PyICU pycld2"
   ]
  },
  {
   "cell_type": "code",
   "execution_count": 15,
   "id": "e087cacf",
   "metadata": {},
   "outputs": [
    {
     "name": "stdout",
     "output_type": "stream",
     "text": [
      "[polyglot_data] Downloading package morph2.en to\n",
      "[polyglot_data]     /home/dai/polyglot_data...\n",
      "[polyglot_data]   Package morph2.en is already up-to-date!\n",
      "[polyglot_data] Downloading package morph2.mr to\n",
      "[polyglot_data]     /home/dai/polyglot_data...\n",
      "[polyglot_data]   Package morph2.mr is already up-to-date!\n",
      "[polyglot_data] Downloading package morph2.pa to\n",
      "[polyglot_data]     /home/dai/polyglot_data...\n"
     ]
    }
   ],
   "source": [
    "%%bash\n",
    "polyglot download morph2.en morph2.mr morph2.pa"
   ]
  },
  {
   "cell_type": "code",
   "execution_count": 4,
   "id": "49714077",
   "metadata": {},
   "outputs": [
    {
     "name": "stdout",
     "output_type": "stream",
     "text": [
      "  1. Kapampangan                2. Italian                    3. Upper Sorbian            \n",
      "  4. Sakha                      5. Hindi                      6. French                   \n",
      "  7. Spanish; Castilian         8. Vietnamese                 9. Arabic                   \n",
      " 10. Macedonian                11. Pashto, Pushto            12. Bosnian-Croatian-Serbian \n",
      " 13. Egyptian Arabic           14. Norwegian Nynorsk         15. Sundanese                \n",
      " 16. Sicilian                  17. Azerbaijani               18. Bulgarian                \n",
      " 19. Yoruba                    20. Tajik                     21. Georgian                 \n",
      " 22. Tatar                     23. Galician                  24. Malagasy                 \n",
      " 25. Uighur, Uyghur            26. Amharic                   27. Venetian                 \n",
      " 28. Yiddish                   29. Norwegian                 30. Alemannic                \n",
      " 31. Estonian                  32. West Flemish              33. Divehi; Dhivehi; Mald... \n",
      " 34. Japanese                  35. Ilokano                   36. Haitian; Haitian Creole  \n",
      " 37. Belarusian                38. Greek, Modern             39. Ossetian, Ossetic        \n",
      " 40. Welsh                     41. Malayalam                 42. Albanian                 \n",
      " 43. Marathi (Marāṭhī)         44. Armenian                  45. Slovene                  \n",
      " 46. Korean                    47. Breton                    48. Irish                    \n",
      " 49. Luxembourgish, Letzeb...  50. Bengali                   51. Serbian                  \n",
      " 52. Fiji Hindi                53. Javanese                  54. Finnish                  \n",
      " 55. Gan Chinese               56. Kirghiz, Kyrgyz           57. Catalan; Valencian       \n",
      " 58. Quechua                   59. Croatian                  60. Dutch                    \n",
      " 61. Swedish                   62. Ido                       63. Tagalog                  \n",
      " 64. Sanskrit (Saṁskṛta)       65. Piedmontese language      66. Asturian                 \n",
      " 67. Danish                    68. Cebuano                   69. Western Frisian          \n",
      " 70. Kannada                   71. Scots                     72. Maltese                  \n",
      " 73. Swahili                   74. Limburgish, Limburgan...  75. Waray-Waray              \n",
      " 76. Lombard language          77. Uzbek                     78. Kurdish                  \n",
      " 79. Latvian                   80. Burmese                   81. Aragonese                \n",
      " 82. Volapük                   83. Northern Sami             84. Faroese                  \n",
      " 85. Kazakh                    86. Telugu                    87. Ukrainian                \n",
      " 88. Assamese                  89. Chuvash                   90. Silesian                 \n",
      " 91. Turkmen                   92. Romanian, Moldavian, ...  93. Persian                  \n",
      " 94. Tibetan Standard, Tib...  95. Latin                     96. Slovak                   \n",
      " 97. Sinhala, Sinhalese        98. Bavarian                  99. Icelandic                \n",
      "100. Mongolian                101. Walloon                  102. Portuguese               \n",
      "103. Urdu                     104. Gujarati                 105. Manx                     \n",
      "106. Tamil                    107. Khmer                    108. English                  \n",
      "109. Malay                    110. Chechen                  111. Bishnupriya Manipuri     \n",
      "112. Afrikaans                113. Basque                   114. Polish                   \n",
      "115. German                   116. Esperanto                117. Indonesian               \n",
      "118. Occitan                  119. Chinese                  120. Czech                    \n",
      "121. Hebrew (modern)          122. Romansh                  123. Lithuanian               \n",
      "124. Turkish                  125. Nepali                   126. Bosnian                  \n",
      "127. Interlingua              128. Zazaki                   129. Oriya                    \n",
      "130. Hungarian                131. Scottish Gaelic; Gaelic  132. Bashkir                  \n",
      "133. Thai                     134. Panjabi, Punjabi         135. Russian                  \n",
      "\n"
     ]
    }
   ],
   "source": [
    "from polyglot.downloader import downloader\n",
    "print(downloader.supported_languages_table(\"morph2\"))"
   ]
  },
  {
   "cell_type": "code",
   "execution_count": 5,
   "id": "dfd29912",
   "metadata": {},
   "outputs": [
    {
     "name": "stdout",
     "output_type": "stream",
     "text": [
      "Hello world\n"
     ]
    }
   ],
   "source": [
    "%%bash\n",
    "\n",
    "echo \"Hello world\""
   ]
  },
  {
   "cell_type": "code",
   "execution_count": 6,
   "id": "525b8e15",
   "metadata": {},
   "outputs": [],
   "source": [
    "from polyglot.text import Text,Word"
   ]
  },
  {
   "cell_type": "code",
   "execution_count": 7,
   "id": "607f304a",
   "metadata": {},
   "outputs": [],
   "source": [
    "words=['cats','computing','association','programming','leadership','miscommunication','identifiable','psychologically','enginnering','tabular','realistic','colorfullness']"
   ]
  },
  {
   "cell_type": "code",
   "execution_count": 9,
   "id": "06bdd1f8",
   "metadata": {},
   "outputs": [
    {
     "name": "stdout",
     "output_type": "stream",
     "text": [
      "cats \t\t ['cat', 's']\n",
      "computing \t\t ['com', 'put', 'ing']\n",
      "association \t\t ['associ', 'ation']\n",
      "programming \t\t ['program', 'ming']\n",
      "leadership \t\t ['leader', 'ship']\n",
      "miscommunication \t\t ['mis', 'communication']\n",
      "identifiable \t\t ['identif', 'i', 'able']\n",
      "psychologically \t\t ['psycho', 'logical', 'ly']\n",
      "enginnering \t\t ['en', 'g', 'inner', 'ing']\n",
      "tabular \t\t ['tab', 'ular']\n",
      "realistic \t\t ['real', 'istic']\n",
      "colorfullness \t\t ['color', 'full', 'ness']\n"
     ]
    }
   ],
   "source": [
    "for w in words:\n",
    "    w=Word(w,language='en')\n",
    "    print(w,'\\t\\t',w.morphemes)"
   ]
  },
  {
   "cell_type": "markdown",
   "id": "e4f0fd7d",
   "metadata": {},
   "source": [
    "#### Marathi morphology"
   ]
  },
  {
   "cell_type": "code",
   "execution_count": 10,
   "id": "7a108c50",
   "metadata": {},
   "outputs": [],
   "source": [
    "word_mr = ['प्रविणाचार्य', 'रखवालदारीचे', 'धर्मबाह्य', 'जातिविशेषाः', 'कर्नाटकातील']"
   ]
  },
  {
   "cell_type": "code",
   "execution_count": 11,
   "id": "0590a502",
   "metadata": {},
   "outputs": [
    {
     "name": "stdout",
     "output_type": "stream",
     "text": [
      "प्रविणाचार्य \t\t ['प्र', 'विण', 'ाचार्य']\n",
      "रखवालदारीचे \t\t ['र', 'ख', 'वाल', 'दार', 'ीचे']\n",
      "धर्मबाह्य \t\t ['धर्म', 'बाह्य']\n",
      "जातिविशेषाः \t\t ['जाति', 'विशेष', 'ा', 'ः']\n",
      "कर्नाटकातील \t\t ['कर्नाटक', 'ातील']\n"
     ]
    }
   ],
   "source": [
    "for w in word_mr:\n",
    "    w=Word(w,language='mr')\n",
    "    print(w,'\\t\\t',w.morphemes)"
   ]
  },
  {
   "cell_type": "markdown",
   "id": "19ab8c9f",
   "metadata": {},
   "source": [
    "####  Panjabi moprhology (pa)"
   ]
  },
  {
   "cell_type": "code",
   "execution_count": 12,
   "id": "d6dcddfe",
   "metadata": {},
   "outputs": [],
   "source": [
    "word_pu=['ਸੱਭਿਆਚਾਰਕ','ਇਸਲਾਮਾਬਾਦ',' ਰਾਜਸਥਾਨ','ਪਾਕਿਸਤਾਨ']\n"
   ]
  },
  {
   "cell_type": "code",
   "execution_count": 16,
   "id": "87c06fa7",
   "metadata": {},
   "outputs": [
    {
     "name": "stdout",
     "output_type": "stream",
     "text": [
      "ਸੱਭਿਆਚਾਰਕ \t\t ['ਸੱਭਿਆਚਾਰ', 'ਕ']\n",
      "ਇਸਲਾਮਾਬਾਦ \t\t ['ਇਸਲਾਮ', 'ਾਬਾਦ']\n",
      " ਰਾਜਸਥਾਨ \t\t [' ', 'ਰਾਜ', 'ਸਥਾਨ']\n",
      "ਪਾਕਿਸਤਾਨ \t\t ['ਪਾ', 'ਕ', 'ਿਸਤਾਨ']\n"
     ]
    }
   ],
   "source": [
    "for w in word_pu:\n",
    "    w=Word(w,language='pa')\n",
    "    print(w,'\\t\\t',w.morphemes)"
   ]
  },
  {
   "cell_type": "markdown",
   "id": "e65d346e",
   "metadata": {},
   "source": [
    "##### Converting a blob of words into morphemes"
   ]
  },
  {
   "cell_type": "code",
   "execution_count": 19,
   "id": "3e86ac32",
   "metadata": {},
   "outputs": [],
   "source": [
    "blob = 'Wewillhavemeetingtoday'\n",
    "\n",
    "text = Text(blob)\n",
    "\n",
    "text.language=\"en\""
   ]
  },
  {
   "cell_type": "code",
   "execution_count": 24,
   "id": "c39391db",
   "metadata": {},
   "outputs": [
    {
     "data": {
      "text/plain": [
       "WordList(['We', 'will', 'have', 'meet', 'ing', 'to', 'day'])"
      ]
     },
     "execution_count": 24,
     "metadata": {},
     "output_type": "execute_result"
    }
   ],
   "source": [
    "text.morphemes"
   ]
  },
  {
   "cell_type": "code",
   "execution_count": null,
   "id": "466fd33f",
   "metadata": {},
   "outputs": [],
   "source": []
  }
 ],
 "metadata": {
  "kernelspec": {
   "display_name": "Python 3 (ipykernel)",
   "language": "python",
   "name": "python3"
  },
  "language_info": {
   "codemirror_mode": {
    "name": "ipython",
    "version": 3
   },
   "file_extension": ".py",
   "mimetype": "text/x-python",
   "name": "python",
   "nbconvert_exporter": "python",
   "pygments_lexer": "ipython3",
   "version": "3.11.5"
  }
 },
 "nbformat": 4,
 "nbformat_minor": 5
}
