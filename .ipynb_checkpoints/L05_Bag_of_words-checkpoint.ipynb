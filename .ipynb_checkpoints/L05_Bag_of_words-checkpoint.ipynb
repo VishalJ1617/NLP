{
 "cells": [
  {
   "cell_type": "markdown",
   "id": "9d708c98",
   "metadata": {},
   "source": [
    "Date : 13/12/2023"
   ]
  },
  {
   "cell_type": "markdown",
   "id": "5725b5b8",
   "metadata": {},
   "source": [
    "## Bag of Words"
   ]
  },
  {
   "cell_type": "markdown",
   "id": "1f90299c",
   "metadata": {},
   "source": [
    "<img src=\"1 3K9GIOVLNu0cRvQap_KaRg.png\" alt=\"Bag of words\">"
   ]
  },
  {
   "cell_type": "markdown",
   "id": "aa32f4f3",
   "metadata": {},
   "source": [
    "1. Bag of Words\n",
    "2. n-grams\n",
    "3. TF_IDF vector\n",
    "4. TF-TDF Transposition\n",
    "5. Count vector"
   ]
  },
  {
   "cell_type": "markdown",
   "id": "27dc9b1d",
   "metadata": {},
   "source": [
    "### Imports"
   ]
  },
  {
   "cell_type": "code",
   "execution_count": 1,
   "id": "9cf12a9d",
   "metadata": {},
   "outputs": [],
   "source": [
    "### -------------------\n",
    "### Importing libraries\n",
    "### -------------------\n",
    "import numpy as np\n",
    "import pandas as pd\n",
    "# import matplotlib.pyplot as plt\n",
    "# import seaborn as sns\n",
    "\n",
    "from nltk.tokenize import word_tokenize\n",
    "\n",
    "from sklearn.feature_extraction.text import CountVectorizer"
   ]
  },
  {
   "cell_type": "markdown",
   "id": "be6cec1f",
   "metadata": {},
   "source": [
    "### Input data"
   ]
  },
  {
   "cell_type": "code",
   "execution_count": 2,
   "id": "e2bf3b75",
   "metadata": {},
   "outputs": [],
   "source": [
    "### ----------\n",
    "### input data\n",
    "### ----------\n",
    "\n",
    "sent_1 = \"The quick brown fox jumps over the lazy dog\"\n",
    "\n",
    "sent_2 = \"The Cat chases the mouse and it squeaks loudly\""
   ]
  },
  {
   "cell_type": "code",
   "execution_count": 3,
   "id": "a9bbe667",
   "metadata": {},
   "outputs": [
    {
     "data": {
      "text/plain": [
       "['the', 'quick', 'brown', 'fox', 'jumps', 'over', 'the', 'lazy', 'dog']"
      ]
     },
     "execution_count": 3,
     "metadata": {},
     "output_type": "execute_result"
    }
   ],
   "source": [
    "sent1_lower=sent_1.lower()\n",
    "tokens1=word_tokenize(sent1_lower)\n",
    "tokens1"
   ]
  },
  {
   "cell_type": "code",
   "execution_count": 4,
   "id": "7f936c95",
   "metadata": {},
   "outputs": [],
   "source": [
    "dict1={}\n",
    "for i in tokens1:\n",
    "    dict1[i] = tokens1.count(i)"
   ]
  },
  {
   "cell_type": "code",
   "execution_count": 5,
   "id": "d6e0d2aa",
   "metadata": {},
   "outputs": [
    {
     "data": {
      "text/plain": [
       "['the', 'cat', 'chases', 'the', 'mouse', 'and', 'it', 'squeaks', 'loudly']"
      ]
     },
     "execution_count": 5,
     "metadata": {},
     "output_type": "execute_result"
    }
   ],
   "source": [
    "sent2_lower=sent_2.lower()\n",
    "tokens2=word_tokenize(sent2_lower)\n",
    "tokens2"
   ]
  },
  {
   "cell_type": "code",
   "execution_count": 6,
   "id": "40854fac",
   "metadata": {},
   "outputs": [],
   "source": [
    "dict2={}\n",
    "for i in tokens2:\n",
    "    dict2[i] = tokens2.count(i)"
   ]
  },
  {
   "cell_type": "code",
   "execution_count": 7,
   "id": "eaef0efc",
   "metadata": {},
   "outputs": [],
   "source": [
    "series1=pd.Series(dict1)\n",
    "\n",
    "series2=pd.Series(dict2)"
   ]
  },
  {
   "cell_type": "code",
   "execution_count": 8,
   "id": "38e57553",
   "metadata": {},
   "outputs": [
    {
     "data": {
      "text/html": [
       "<div>\n",
       "<style scoped>\n",
       "    .dataframe tbody tr th:only-of-type {\n",
       "        vertical-align: middle;\n",
       "    }\n",
       "\n",
       "    .dataframe tbody tr th {\n",
       "        vertical-align: top;\n",
       "    }\n",
       "\n",
       "    .dataframe thead th {\n",
       "        text-align: right;\n",
       "    }\n",
       "</style>\n",
       "<table border=\"1\" class=\"dataframe\">\n",
       "  <thead>\n",
       "    <tr style=\"text-align: right;\">\n",
       "      <th></th>\n",
       "      <th>the</th>\n",
       "      <th>quick</th>\n",
       "      <th>brown</th>\n",
       "      <th>fox</th>\n",
       "      <th>jumps</th>\n",
       "      <th>over</th>\n",
       "      <th>lazy</th>\n",
       "      <th>dog</th>\n",
       "      <th>cat</th>\n",
       "      <th>chases</th>\n",
       "      <th>mouse</th>\n",
       "      <th>and</th>\n",
       "      <th>it</th>\n",
       "      <th>squeaks</th>\n",
       "      <th>loudly</th>\n",
       "    </tr>\n",
       "  </thead>\n",
       "  <tbody>\n",
       "    <tr>\n",
       "      <th>0</th>\n",
       "      <td>2.0</td>\n",
       "      <td>1.0</td>\n",
       "      <td>1.0</td>\n",
       "      <td>1.0</td>\n",
       "      <td>1.0</td>\n",
       "      <td>1.0</td>\n",
       "      <td>1.0</td>\n",
       "      <td>1.0</td>\n",
       "      <td>0.0</td>\n",
       "      <td>0.0</td>\n",
       "      <td>0.0</td>\n",
       "      <td>0.0</td>\n",
       "      <td>0.0</td>\n",
       "      <td>0.0</td>\n",
       "      <td>0.0</td>\n",
       "    </tr>\n",
       "    <tr>\n",
       "      <th>1</th>\n",
       "      <td>2.0</td>\n",
       "      <td>0.0</td>\n",
       "      <td>0.0</td>\n",
       "      <td>0.0</td>\n",
       "      <td>0.0</td>\n",
       "      <td>0.0</td>\n",
       "      <td>0.0</td>\n",
       "      <td>0.0</td>\n",
       "      <td>1.0</td>\n",
       "      <td>1.0</td>\n",
       "      <td>1.0</td>\n",
       "      <td>1.0</td>\n",
       "      <td>1.0</td>\n",
       "      <td>1.0</td>\n",
       "      <td>1.0</td>\n",
       "    </tr>\n",
       "  </tbody>\n",
       "</table>\n",
       "</div>"
      ],
      "text/plain": [
       "   the  quick  brown  fox  jumps  over  lazy  dog  cat  chases  mouse  and  \\\n",
       "0  2.0    1.0    1.0  1.0    1.0   1.0   1.0  1.0  0.0     0.0    0.0  0.0   \n",
       "1  2.0    0.0    0.0  0.0    0.0   0.0   0.0  0.0  1.0     1.0    1.0  1.0   \n",
       "\n",
       "    it  squeaks  loudly  \n",
       "0  0.0      0.0     0.0  \n",
       "1  1.0      1.0     1.0  "
      ]
     },
     "execution_count": 8,
     "metadata": {},
     "output_type": "execute_result"
    }
   ],
   "source": [
    "# Converting to the DataFrame form\n",
    "\n",
    "final=pd.concat([series1,series2],axis=1,ignore_index=True)\n",
    "\n",
    "final.fillna(0,inplace=True)\n",
    "\n",
    "final.T"
   ]
  },
  {
   "cell_type": "markdown",
   "id": "33cabe7f",
   "metadata": {},
   "source": [
    "\n",
    "## Bag of Words using Library function\n"
   ]
  },
  {
   "cell_type": "code",
   "execution_count": 9,
   "id": "c54bf00e",
   "metadata": {},
   "outputs": [],
   "source": [
    "# Initializing the Count Vectorizer\n",
    "\n",
    "cv = CountVectorizer()"
   ]
  },
  {
   "cell_type": "code",
   "execution_count": 10,
   "id": "56711d4c",
   "metadata": {},
   "outputs": [
    {
     "data": {
      "text/plain": [
       "<2x15 sparse matrix of type '<class 'numpy.int64'>'\n",
       "\twith 16 stored elements in Compressed Sparse Row format>"
      ]
     },
     "execution_count": 10,
     "metadata": {},
     "output_type": "execute_result"
    }
   ],
   "source": [
    "# Fitting the model data to the data\n",
    "\n",
    "vect_data = cv.fit_transform([sent_1, sent_2])\n",
    "\n",
    "vect_data"
   ]
  },
  {
   "cell_type": "code",
   "execution_count": 11,
   "id": "2da9b312",
   "metadata": {},
   "outputs": [],
   "source": [
    "# Printing the vector of the data\n",
    "\n",
    "sentence = vect_data.toarray()"
   ]
  },
  {
   "cell_type": "code",
   "execution_count": 12,
   "id": "9efa69e6",
   "metadata": {},
   "outputs": [],
   "source": [
    "# Printing the feature names, saved in the CountVectorizer()\n",
    "\n",
    "words = cv.get_feature_names_out()"
   ]
  },
  {
   "cell_type": "code",
   "execution_count": 13,
   "id": "a7bb841c",
   "metadata": {},
   "outputs": [
    {
     "data": {
      "text/html": [
       "<div>\n",
       "<style scoped>\n",
       "    .dataframe tbody tr th:only-of-type {\n",
       "        vertical-align: middle;\n",
       "    }\n",
       "\n",
       "    .dataframe tbody tr th {\n",
       "        vertical-align: top;\n",
       "    }\n",
       "\n",
       "    .dataframe thead th {\n",
       "        text-align: right;\n",
       "    }\n",
       "</style>\n",
       "<table border=\"1\" class=\"dataframe\">\n",
       "  <thead>\n",
       "    <tr style=\"text-align: right;\">\n",
       "      <th></th>\n",
       "      <th>Sentence 1</th>\n",
       "      <th>Sentence 2</th>\n",
       "    </tr>\n",
       "  </thead>\n",
       "  <tbody>\n",
       "    <tr>\n",
       "      <th>and</th>\n",
       "      <td>0</td>\n",
       "      <td>1</td>\n",
       "    </tr>\n",
       "    <tr>\n",
       "      <th>brown</th>\n",
       "      <td>1</td>\n",
       "      <td>0</td>\n",
       "    </tr>\n",
       "    <tr>\n",
       "      <th>cat</th>\n",
       "      <td>0</td>\n",
       "      <td>1</td>\n",
       "    </tr>\n",
       "    <tr>\n",
       "      <th>chases</th>\n",
       "      <td>0</td>\n",
       "      <td>1</td>\n",
       "    </tr>\n",
       "    <tr>\n",
       "      <th>dog</th>\n",
       "      <td>1</td>\n",
       "      <td>0</td>\n",
       "    </tr>\n",
       "    <tr>\n",
       "      <th>fox</th>\n",
       "      <td>1</td>\n",
       "      <td>0</td>\n",
       "    </tr>\n",
       "    <tr>\n",
       "      <th>it</th>\n",
       "      <td>0</td>\n",
       "      <td>1</td>\n",
       "    </tr>\n",
       "    <tr>\n",
       "      <th>jumps</th>\n",
       "      <td>1</td>\n",
       "      <td>0</td>\n",
       "    </tr>\n",
       "    <tr>\n",
       "      <th>lazy</th>\n",
       "      <td>1</td>\n",
       "      <td>0</td>\n",
       "    </tr>\n",
       "    <tr>\n",
       "      <th>loudly</th>\n",
       "      <td>0</td>\n",
       "      <td>1</td>\n",
       "    </tr>\n",
       "    <tr>\n",
       "      <th>mouse</th>\n",
       "      <td>0</td>\n",
       "      <td>1</td>\n",
       "    </tr>\n",
       "    <tr>\n",
       "      <th>over</th>\n",
       "      <td>1</td>\n",
       "      <td>0</td>\n",
       "    </tr>\n",
       "    <tr>\n",
       "      <th>quick</th>\n",
       "      <td>1</td>\n",
       "      <td>0</td>\n",
       "    </tr>\n",
       "    <tr>\n",
       "      <th>squeaks</th>\n",
       "      <td>0</td>\n",
       "      <td>1</td>\n",
       "    </tr>\n",
       "    <tr>\n",
       "      <th>the</th>\n",
       "      <td>2</td>\n",
       "      <td>2</td>\n",
       "    </tr>\n",
       "  </tbody>\n",
       "</table>\n",
       "</div>"
      ],
      "text/plain": [
       "         Sentence 1  Sentence 2\n",
       "and               0           1\n",
       "brown             1           0\n",
       "cat               0           1\n",
       "chases            0           1\n",
       "dog               1           0\n",
       "fox               1           0\n",
       "it                0           1\n",
       "jumps             1           0\n",
       "lazy              1           0\n",
       "loudly            0           1\n",
       "mouse             0           1\n",
       "over              1           0\n",
       "quick             1           0\n",
       "squeaks           0           1\n",
       "the               2           2"
      ]
     },
     "execution_count": 13,
     "metadata": {},
     "output_type": "execute_result"
    }
   ],
   "source": [
    "# Converting the data into the dataframe\n",
    "\n",
    "Bag_of_word = pd.DataFrame({'Sentence 1' : sentence[0],\n",
    "                             'Sentence 2' : sentence[1]},\n",
    "                            index=words\n",
    "                            )\n",
    "\n",
    "Bag_of_word"
   ]
  },
  {
   "cell_type": "markdown",
   "id": "6dae05ca",
   "metadata": {},
   "source": [
    "## Bag of words for 3 sentences"
   ]
  },
  {
   "cell_type": "code",
   "execution_count": 14,
   "id": "226e9dcb",
   "metadata": {},
   "outputs": [],
   "source": [
    "sent_3 = \"The lazy cat jumps over the quick dog\""
   ]
  },
  {
   "cell_type": "code",
   "execution_count": 15,
   "id": "fe3f7125",
   "metadata": {},
   "outputs": [
    {
     "data": {
      "text/plain": [
       "array([[0, 0, 1, 0, 1, 0, 0, 1, 1, 0, 0, 1, 1, 0, 2]])"
      ]
     },
     "execution_count": 15,
     "metadata": {},
     "output_type": "execute_result"
    }
   ],
   "source": [
    "# As CountVectorizer is already trained, we are performing .transform method\n",
    "\n",
    "vect_data_2 = cv.transform([sent_3]).toarray()\n",
    "\n",
    "vect_data_2"
   ]
  },
  {
   "cell_type": "markdown",
   "id": "11eab5f3",
   "metadata": {},
   "source": [
    "## Bag of words on the India.txt"
   ]
  },
  {
   "cell_type": "code",
   "execution_count": 32,
   "id": "82375900",
   "metadata": {},
   "outputs": [
    {
     "name": "stdout",
     "output_type": "stream",
     "text": [
      "4\n"
     ]
    }
   ],
   "source": [
    "# Retrieving the data from the text file\n",
    "\n",
    "with open ('india.txt','r') as fh:\n",
    "    \n",
    "    data = fh.readlines()\n",
    "\n",
    "print(len(data))"
   ]
  },
  {
   "cell_type": "code",
   "execution_count": 18,
   "id": "f8addba9",
   "metadata": {},
   "outputs": [],
   "source": [
    "# Iniitalizing the CountVectorizer\n",
    "\n",
    "cv_india = CountVectorizer()"
   ]
  },
  {
   "cell_type": "code",
   "execution_count": 29,
   "id": "ee18654c",
   "metadata": {},
   "outputs": [],
   "source": [
    "# vectorizing the data\n",
    "\n",
    "vect_data_india = cv_india.fit_transform(data)\n",
    "\n",
    "# Extracting the features names\n",
    "\n",
    "word = cv_india.get_feature_names_out()"
   ]
  },
  {
   "cell_type": "code",
   "execution_count": 27,
   "id": "d9bfb834",
   "metadata": {},
   "outputs": [
    {
     "data": {
      "text/html": [
       "<div>\n",
       "<style scoped>\n",
       "    .dataframe tbody tr th:only-of-type {\n",
       "        vertical-align: middle;\n",
       "    }\n",
       "\n",
       "    .dataframe tbody tr th {\n",
       "        vertical-align: top;\n",
       "    }\n",
       "\n",
       "    .dataframe thead th {\n",
       "        text-align: right;\n",
       "    }\n",
       "</style>\n",
       "<table border=\"1\" class=\"dataframe\">\n",
       "  <thead>\n",
       "    <tr style=\"text-align: right;\">\n",
       "      <th></th>\n",
       "      <th>1947</th>\n",
       "      <th>2023</th>\n",
       "      <th>and</th>\n",
       "      <th>andaman</th>\n",
       "      <th>arabian</th>\n",
       "      <th>area</th>\n",
       "      <th>as</th>\n",
       "      <th>asia</th>\n",
       "      <th>bangladesh</th>\n",
       "      <th>bay</th>\n",
       "      <th>...</th>\n",
       "      <th>southwest</th>\n",
       "      <th>sri</th>\n",
       "      <th>thailand</th>\n",
       "      <th>the</th>\n",
       "      <th>time</th>\n",
       "      <th>to</th>\n",
       "      <th>vicinity</th>\n",
       "      <th>west</th>\n",
       "      <th>with</th>\n",
       "      <th>world</th>\n",
       "    </tr>\n",
       "  </thead>\n",
       "  <tbody>\n",
       "    <tr>\n",
       "      <th>0</th>\n",
       "      <td>0</td>\n",
       "      <td>0</td>\n",
       "      <td>0</td>\n",
       "      <td>0</td>\n",
       "      <td>0</td>\n",
       "      <td>0</td>\n",
       "      <td>0</td>\n",
       "      <td>1</td>\n",
       "      <td>0</td>\n",
       "      <td>0</td>\n",
       "      <td>...</td>\n",
       "      <td>0</td>\n",
       "      <td>0</td>\n",
       "      <td>0</td>\n",
       "      <td>1</td>\n",
       "      <td>0</td>\n",
       "      <td>0</td>\n",
       "      <td>0</td>\n",
       "      <td>0</td>\n",
       "      <td>0</td>\n",
       "      <td>0</td>\n",
       "    </tr>\n",
       "    <tr>\n",
       "      <th>1</th>\n",
       "      <td>1</td>\n",
       "      <td>1</td>\n",
       "      <td>1</td>\n",
       "      <td>0</td>\n",
       "      <td>0</td>\n",
       "      <td>1</td>\n",
       "      <td>1</td>\n",
       "      <td>0</td>\n",
       "      <td>0</td>\n",
       "      <td>0</td>\n",
       "      <td>...</td>\n",
       "      <td>0</td>\n",
       "      <td>0</td>\n",
       "      <td>0</td>\n",
       "      <td>4</td>\n",
       "      <td>1</td>\n",
       "      <td>0</td>\n",
       "      <td>0</td>\n",
       "      <td>0</td>\n",
       "      <td>0</td>\n",
       "      <td>1</td>\n",
       "    </tr>\n",
       "    <tr>\n",
       "      <th>2</th>\n",
       "      <td>0</td>\n",
       "      <td>0</td>\n",
       "      <td>4</td>\n",
       "      <td>0</td>\n",
       "      <td>1</td>\n",
       "      <td>0</td>\n",
       "      <td>0</td>\n",
       "      <td>0</td>\n",
       "      <td>1</td>\n",
       "      <td>1</td>\n",
       "      <td>...</td>\n",
       "      <td>1</td>\n",
       "      <td>0</td>\n",
       "      <td>0</td>\n",
       "      <td>9</td>\n",
       "      <td>0</td>\n",
       "      <td>3</td>\n",
       "      <td>0</td>\n",
       "      <td>1</td>\n",
       "      <td>1</td>\n",
       "      <td>0</td>\n",
       "    </tr>\n",
       "    <tr>\n",
       "      <th>3</th>\n",
       "      <td>0</td>\n",
       "      <td>0</td>\n",
       "      <td>3</td>\n",
       "      <td>1</td>\n",
       "      <td>0</td>\n",
       "      <td>0</td>\n",
       "      <td>0</td>\n",
       "      <td>0</td>\n",
       "      <td>0</td>\n",
       "      <td>0</td>\n",
       "      <td>...</td>\n",
       "      <td>0</td>\n",
       "      <td>1</td>\n",
       "      <td>1</td>\n",
       "      <td>3</td>\n",
       "      <td>0</td>\n",
       "      <td>0</td>\n",
       "      <td>1</td>\n",
       "      <td>0</td>\n",
       "      <td>1</td>\n",
       "      <td>0</td>\n",
       "    </tr>\n",
       "  </tbody>\n",
       "</table>\n",
       "<p>4 rows × 64 columns</p>\n",
       "</div>"
      ],
      "text/plain": [
       "   1947  2023  and  andaman  arabian  area  as  asia  bangladesh  bay  ...  \\\n",
       "0     0     0    0        0        0     0   0     1           0    0  ...   \n",
       "1     1     1    1        0        0     1   1     0           0    0  ...   \n",
       "2     0     0    4        0        1     0   0     0           1    1  ...   \n",
       "3     0     0    3        1        0     0   0     0           0    0  ...   \n",
       "\n",
       "   southwest  sri  thailand  the  time  to  vicinity  west  with  world  \n",
       "0          0    0         0    1     0   0         0     0     0      0  \n",
       "1          0    0         0    4     1   0         0     0     0      1  \n",
       "2          1    0         0    9     0   3         0     1     1      0  \n",
       "3          0    1         1    3     0   0         1     0     1      0  \n",
       "\n",
       "[4 rows x 64 columns]"
      ]
     },
     "execution_count": 27,
     "metadata": {},
     "output_type": "execute_result"
    }
   ],
   "source": [
    "# Creating the DataFrame from the bag of words\n",
    "\n",
    "BOG_df = pd.DataFrame(vect_data_india.toarray(),\n",
    "                     columns = cv_india.get_feature_names_out())\n",
    "\n",
    "BOG_df"
   ]
  },
  {
   "cell_type": "code",
   "execution_count": null,
   "id": "64b7fdaf",
   "metadata": {},
   "outputs": [],
   "source": []
  }
 ],
 "metadata": {
  "kernelspec": {
   "display_name": "Python 3 (ipykernel)",
   "language": "python",
   "name": "python3"
  },
  "language_info": {
   "codemirror_mode": {
    "name": "ipython",
    "version": 3
   },
   "file_extension": ".py",
   "mimetype": "text/x-python",
   "name": "python",
   "nbconvert_exporter": "python",
   "pygments_lexer": "ipython3",
   "version": "3.11.5"
  }
 },
 "nbformat": 4,
 "nbformat_minor": 5
}
