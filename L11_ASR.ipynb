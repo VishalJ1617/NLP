{
 "cells": [
  {
   "cell_type": "markdown",
   "id": "9d708c98",
   "metadata": {},
   "source": [
    "Date : 22/12/2023"
   ]
  },
  {
   "cell_type": "markdown",
   "id": "a9d40b8d",
   "metadata": {},
   "source": [
    "## Automatic Speech Recognition"
   ]
  },
  {
   "cell_type": "markdown",
   "id": "f1fa8811",
   "metadata": {},
   "source": [
    "#### Install the package"
   ]
  },
  {
   "cell_type": "markdown",
   "id": "66a0c849",
   "metadata": {},
   "source": [
    "pip install SpeechRecognition PyAudio\n",
    "\n",
    "!pip install sounddevice"
   ]
  },
  {
   "cell_type": "markdown",
   "id": "5725b5b8",
   "metadata": {},
   "source": [
    "## Heading"
   ]
  },
  {
   "cell_type": "markdown",
   "id": "27dc9b1d",
   "metadata": {},
   "source": [
    "### Imports"
   ]
  },
  {
   "cell_type": "code",
   "execution_count": 10,
   "id": "9cf12a9d",
   "metadata": {},
   "outputs": [],
   "source": [
    "### -------------------\n",
    "### Importing libraries\n",
    "### -------------------\n",
    "\n",
    "# import pandas as pd\n",
    "# import numpy as np\n",
    "# import matplotlib.pyplot as plt\n",
    "# import seaborn as sns\n",
    "import speech_recognition as sr\n",
    "import sounddevice"
   ]
  },
  {
   "cell_type": "markdown",
   "id": "523f60ff",
   "metadata": {},
   "source": [
    "### Global variables"
   ]
  },
  {
   "cell_type": "markdown",
   "id": "be6cec1f",
   "metadata": {},
   "source": [
    "### Input data"
   ]
  },
  {
   "cell_type": "code",
   "execution_count": 3,
   "id": "e2bf3b75",
   "metadata": {},
   "outputs": [],
   "source": [
    "### ----------\n",
    "### input data\n",
    "### ----------\n",
    "r=sr.Recognizer()"
   ]
  },
  {
   "cell_type": "code",
   "execution_count": 11,
   "id": "a9bbe667",
   "metadata": {},
   "outputs": [
    {
     "name": "stdout",
     "output_type": "stream",
     "text": [
      "Speak:\n",
      "You said: hello there\n"
     ]
    }
   ],
   "source": [
    "with sr.Microphone() as source:\n",
    "    print('Speak:')\n",
    "    audio=r.listen(source)\n",
    "    print(\"You said:\",r.recognize_google(audio))"
   ]
  },
  {
   "cell_type": "code",
   "execution_count": 12,
   "id": "0c106f30",
   "metadata": {},
   "outputs": [
    {
     "name": "stdout",
     "output_type": "stream",
     "text": [
      "Speak:\n",
      "You said: Majnu Bhai Majnu Bhai\n"
     ]
    }
   ],
   "source": [
    "with sr.Microphone() as source:\n",
    "    print('Speak:')\n",
    "    audio=r.listen(source)\n",
    "    print(\"You said:\",r.recognize_google(audio))"
   ]
  },
  {
   "cell_type": "code",
   "execution_count": null,
   "id": "731a9f75",
   "metadata": {},
   "outputs": [],
   "source": []
  }
 ],
 "metadata": {
  "kernelspec": {
   "display_name": "Python 3 (ipykernel)",
   "language": "python",
   "name": "python3"
  },
  "language_info": {
   "codemirror_mode": {
    "name": "ipython",
    "version": 3
   },
   "file_extension": ".py",
   "mimetype": "text/x-python",
   "name": "python",
   "nbconvert_exporter": "python",
   "pygments_lexer": "ipython3",
   "version": "3.11.5"
  }
 },
 "nbformat": 4,
 "nbformat_minor": 5
}
