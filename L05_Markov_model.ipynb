{
 "cells": [
  {
   "cell_type": "markdown",
   "id": "9d708c98",
   "metadata": {},
   "source": [
    "Date : 13/12/2023"
   ]
  },
  {
   "cell_type": "markdown",
   "id": "5725b5b8",
   "metadata": {},
   "source": [
    "## Markov model"
   ]
  },
  {
   "cell_type": "markdown",
   "id": "27dc9b1d",
   "metadata": {},
   "source": [
    "### Imports"
   ]
  },
  {
   "cell_type": "code",
   "execution_count": 1,
   "id": "9cf12a9d",
   "metadata": {},
   "outputs": [],
   "source": [
    "### -------------------\n",
    "### Importing libraries\n",
    "### -------------------\n",
    "\n",
    "import random"
   ]
  },
  {
   "cell_type": "markdown",
   "id": "523f60ff",
   "metadata": {},
   "source": [
    "### Global variables"
   ]
  },
  {
   "cell_type": "markdown",
   "id": "be6cec1f",
   "metadata": {},
   "source": [
    "### Input data"
   ]
  },
  {
   "cell_type": "code",
   "execution_count": 10,
   "id": "e2bf3b75",
   "metadata": {},
   "outputs": [],
   "source": [
    "### ----------\n",
    "### Define state\n",
    "### ----------\n",
    "states=[\"Sunny\",\"Rainy\"]\n",
    "\n",
    "#Define Transition Matrix\n",
    "transition_matrix=[[0.7,0.3],[0.2,0.8]]\n",
    "\n",
    "#Define Initial State\n",
    "initial_state=\"Sunny\""
   ]
  },
  {
   "cell_type": "code",
   "execution_count": 11,
   "id": "a9bbe667",
   "metadata": {},
   "outputs": [
    {
     "name": "stdout",
     "output_type": "stream",
     "text": [
      "weather sequence: ['Sunny', 'Rainy', 'Rainy', 'Rainy', 'Rainy', 'Rainy', 'Rainy', 'Sunny', 'Sunny', 'Rainy', 'Rainy', 'Rainy', 'Rainy', 'Rainy', 'Rainy', 'Rainy', 'Rainy', 'Rainy', 'Rainy', 'Rainy', 'Rainy']\n"
     ]
    }
   ],
   "source": [
    "#Number of steps to simulate\n",
    "num_steps=20\n",
    "\n",
    "#Generate weather Sequence\n",
    "weather_sequence=[initial_state]\n",
    "for _ in range(num_steps):\n",
    "    current_state=weather_sequence[-1]\n",
    "    next_state_index=random.choices(range(len(states)),weights=transition_matrix[states.index(current_state)])[0]\n",
    "    next_state=states[next_state_index]\n",
    "    weather_sequence.append(next_state)\n",
    "    \n",
    "#print the generated weather sequence\n",
    "print(\"weather sequence:\",weather_sequence)"
   ]
  },
  {
   "cell_type": "code",
   "execution_count": 12,
   "id": "31970838",
   "metadata": {},
   "outputs": [],
   "source": [
    "### ----------\n",
    "### Define state\n",
    "### ----------\n",
    "states=[\"Sunny\",\"Rainy\",\"Cloudy\"]\n",
    "\n",
    "#Define Transition Matrix\n",
    "transition_matrix=[[0.6,0.2,0.2],[0.1,0.7,0.2],[0.2,0.2,0.6]]\n",
    "\n",
    "#Define Initial State\n",
    "initial_state=\"Sunny\""
   ]
  },
  {
   "cell_type": "code",
   "execution_count": 13,
   "id": "3e8b4563",
   "metadata": {},
   "outputs": [
    {
     "name": "stdout",
     "output_type": "stream",
     "text": [
      "weather sequence: ['Sunny', 'Sunny', 'Sunny', 'Rainy', 'Rainy', 'Rainy', 'Rainy', 'Rainy', 'Cloudy', 'Cloudy', 'Cloudy', 'Cloudy', 'Rainy', 'Rainy', 'Sunny', 'Sunny', 'Rainy', 'Rainy', 'Cloudy', 'Rainy', 'Rainy']\n"
     ]
    }
   ],
   "source": [
    "#Number of steps to simulate\n",
    "num_steps=20\n",
    "\n",
    "#Generate weather Sequence\n",
    "weather_sequence=[initial_state]\n",
    "for _ in range(num_steps):\n",
    "    current_state=weather_sequence[-1]\n",
    "    next_state_index=random.choices(range(len(states)),weights=transition_matrix[states.index(current_state)])[0]\n",
    "    next_state=states[next_state_index]\n",
    "    weather_sequence.append(next_state)\n",
    "    \n",
    "#print the generated weather sequence\n",
    "print(\"weather sequence:\",weather_sequence)"
   ]
  },
  {
   "cell_type": "code",
   "execution_count": null,
   "id": "8157c43d",
   "metadata": {},
   "outputs": [],
   "source": []
  }
 ],
 "metadata": {
  "kernelspec": {
   "display_name": "Python 3 (ipykernel)",
   "language": "python",
   "name": "python3"
  },
  "language_info": {
   "codemirror_mode": {
    "name": "ipython",
    "version": 3
   },
   "file_extension": ".py",
   "mimetype": "text/x-python",
   "name": "python",
   "nbconvert_exporter": "python",
   "pygments_lexer": "ipython3",
   "version": "3.11.5"
  }
 },
 "nbformat": 4,
 "nbformat_minor": 5
}
